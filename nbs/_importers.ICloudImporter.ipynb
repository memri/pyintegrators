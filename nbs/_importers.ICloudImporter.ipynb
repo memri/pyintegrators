{
 "cells": [
  {
   "cell_type": "code",
   "execution_count": null,
   "metadata": {},
   "outputs": [],
   "source": [
    "# default_exp importers.icloud"
   ]
  },
  {
   "cell_type": "code",
   "execution_count": null,
   "metadata": {},
   "outputs": [],
   "source": [
    "%load_ext autoreload\n",
    "%autoreload 2"
   ]
  },
  {
   "cell_type": "code",
   "execution_count": null,
   "metadata": {},
   "outputs": [],
   "source": [
    "from integrators.data.basic import *\n",
    "from integrators.indexers.facerecognition.photo import IPhoto, show_images\n",
    "from integrators.importers.importer import ImporterBase"
   ]
  },
  {
   "cell_type": "code",
   "execution_count": null,
   "metadata": {},
   "outputs": [],
   "source": [
    "from pyicloud import PyiCloudService\n",
    "import click\n",
    "from pathlib import Path"
   ]
  },
  {
   "cell_type": "markdown",
   "metadata": {},
   "source": [
    "# ICloudImporter"
   ]
  },
  {
   "cell_type": "code",
   "execution_count": null,
   "metadata": {},
   "outputs": [],
   "source": [
    "# export\n",
    "def select_device(api):\n",
    "    devices = api.trusted_devices\n",
    "    if devices is None: return None\n",
    "    if len(devices) > 1:\n",
    "        for i, device in enumerate(devices):\n",
    "            auth_str = device.get(f'deviceName', f\"SMS to {device.get('phoneNumber')}\")\n",
    "            print(f\"  {i}: {auth_str}\")\n",
    "\n",
    "        device = click.prompt('Which device would you like to use?', default=0)\n",
    "        device = devices[device]\n",
    "    else:\n",
    "        device = devices[0]\n",
    "    return device\n",
    "    \n",
    "\n",
    "def handle_2sa(api):\n",
    "    print(\"Two-step authentication required. Your trusted devices are:\")\n",
    "    \n",
    "    device = select_device(api)\n",
    "    if device is None: \n",
    "        print(\"no devices found, already logged in?\")\n",
    "        return\n",
    "    print(device)                 \n",
    "    if not api.send_verification_code(device):\n",
    "        print(\"Failed to send verification code, might be due to too many requests\")\n",
    "        assert False\n",
    "    code = click.prompt('Please enter validation code')\n",
    "    if not api.validate_verification_code(device, code):\n",
    "        print(\"Failed to verify verification code\")\n",
    "    else:\n",
    "        print(\"succes\")"
   ]
  },
  {
   "cell_type": "markdown",
   "metadata": {},
   "source": [
    "## Login"
   ]
  },
  {
   "cell_type": "code",
   "execution_count": null,
   "metadata": {},
   "outputs": [],
   "source": [
    "# export\n",
    "class ICloudImporter(ImporterBase):\n",
    "    DEFAULT_VERSION = 'original'\n",
    "    \n",
    "    def __init__(self, apple_id=None, password=None, *args, **kwargs):\n",
    "        self.api = PyiCloudService(apple_id, password)\n",
    "        super().__init__(*args, **kwargs)\n",
    "    \n",
    "    def get_images(self, n=None):\n",
    "        n = 1e9 if n is None else n\n",
    "        res = []\n",
    "        \n",
    "        for i, p in enumerate(self.api.photos.all):\n",
    "            if i > n: break\n",
    "            meta = p.versions.get(self.DEFAULT_VERSION, dict())\n",
    "            fname = meta.get('filename', '')\n",
    "            if str(Path(fname).suffix) not in [\".jpg\", \".JPG\", \".jpg\", \"PNG\"]: continue\n",
    "            print(fname)\n",
    "\n",
    "            photo = self.get_photo(p, meta=meta)\n",
    "            res.append(photo)\n",
    "        return res\n",
    "    \n",
    "    @classmethod\n",
    "    def get_photo(self, photo_obj, meta=None):\n",
    "        meta = dict() if meta is None else meta\n",
    "        print(meta.get(\"filename\", None))\n",
    "        res = photo_obj.download(self.DEFAULT_VERSION)\n",
    "        data = res.raw.read()\n",
    "        return IPhoto.from_bytes(data)"
   ]
  },
  {
   "cell_type": "code",
   "execution_count": null,
   "metadata": {},
   "outputs": [],
   "source": [
    "def get_credentials(file=MEMRI_DIR / \"credentials_icloud.txt\", manual=False):\n",
    "    # In CI, we are storing files in ~/.memri/credentials_icloud.txt\n",
    "    if file.exists() and not manual:\n",
    "        apple_id, password = read_file(MEMRI_DIR / \"credentials_icloud.txt\").splitlines()\n",
    "    else:\n",
    "        apple_id = click.prompt('Enter your apple id (this is not stored)')\n",
    "        password = click.prompt('Enter your password (this is not stored)')\n",
    "    return apple_id, password"
   ]
  },
  {
   "cell_type": "code",
   "execution_count": null,
   "metadata": {},
   "outputs": [],
   "source": [
    "apple_id, password = get_credentials(manual=True)"
   ]
  },
  {
   "cell_type": "code",
   "execution_count": null,
   "metadata": {},
   "outputs": [],
   "source": [
    "importer = ICloudImporter(apple_id=apple_id, password=password)\n",
    "handle_2sa(importer.api)"
   ]
  },
  {
   "cell_type": "markdown",
   "metadata": {},
   "source": [
    "## Run"
   ]
  },
  {
   "cell_type": "code",
   "execution_count": null,
   "metadata": {},
   "outputs": [],
   "source": [
    "photos = importer.get_images(n=10)"
   ]
  },
  {
   "cell_type": "code",
   "execution_count": null,
   "metadata": {},
   "outputs": [],
   "source": [
    "photos"
   ]
  },
  {
   "cell_type": "code",
   "execution_count": null,
   "metadata": {},
   "outputs": [],
   "source": [
    "show_images(photos)"
   ]
  },
  {
   "cell_type": "markdown",
   "metadata": {},
   "source": [
    "# Export -"
   ]
  },
  {
   "cell_type": "code",
   "execution_count": null,
   "metadata": {},
   "outputs": [],
   "source": [
    "# hide\n",
    "from nbdev.export import *\n",
    "notebook2script()"
   ]
  }
 ],
 "metadata": {
  "kernelspec": {
   "display_name": "Python 3",
   "language": "python",
   "name": "python3"
  }
 },
 "nbformat": 4,
 "nbformat_minor": 4
}

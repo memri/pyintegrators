{
 "cells": [
  {
   "cell_type": "code",
   "execution_count": null,
   "metadata": {},
   "outputs": [],
   "source": [
    "%load_ext autoreload\n",
    "%autoreload 2\n",
    "# default_exp indexers.notelist.notelist"
   ]
  },
  {
   "cell_type": "code",
   "execution_count": null,
   "metadata": {},
   "outputs": [],
   "source": [
    "# export\n",
    "from integrators.data.schema import *\n",
    "from integrators.indexers.notelist.util import *"
   ]
  },
  {
   "cell_type": "code",
   "execution_count": null,
   "metadata": {},
   "outputs": [],
   "source": [
    "# export\n",
    "TODO, TOWATCH, TOREAD, TOLISTEN, TOBUY, UNKOWN = \"todo\",\"towatch\", \"toread\", \"tolisten\", \"tobuy\", \"unknown\"\n",
    "LIST_CLASSES = [TODO, TOWATCH, TOREAD, TOLISTEN, TOBUY, UNKOWN]"
   ]
  },
  {
   "cell_type": "markdown",
   "metadata": {},
   "source": [
    "# Note\n",
    "A note is an html formatted piece of text"
   ]
  },
  {
   "cell_type": "code",
   "execution_count": null,
   "metadata": {},
   "outputs": [],
   "source": [
    "# export\n",
    "class INote(Note):\n",
    "    \n",
    "    def __repr__(self):\n",
    "        content = self.content[:50] + \" ...\" if len(self.content) > 20 else self.content\n",
    "        return f\"INote (#{self.uid}) {content}\"\n",
    "    \n",
    "    def show(self):\n",
    "        print(f\"INote (#{self.uid}) {self.content}\")\n"
   ]
  },
  {
   "cell_type": "markdown",
   "metadata": {},
   "source": [
    "# NoteLists\n",
    "\n",
    "A notelist object denotes a list contained in a written html note."
   ]
  },
  {
   "cell_type": "code",
   "execution_count": null,
   "metadata": {},
   "outputs": [],
   "source": [
    "# export    \n",
    "class INoteList(NoteList):\n",
    "    def __str__(self):\n",
    "        return str(self.content)\n",
    "\n",
    "    def infer_cat_from_title(self):\n",
    "        if self.title is None: return None\n",
    "        if contains(self.title, \"do\"): return TODO\n",
    "        if contains(self.title, \"read\"): return TOREAD\n",
    "        if contains(self.title, \"watch\"): return TOWATCH\n",
    "        if contains(self.title, \"listen\"): return TOLISTEN\n",
    "        if contains(self.title, \"buy\"): return TOBUY\n",
    "        else: return None\n",
    "\n",
    "    def get_items(self, remove_html_=False, skip_nested=True):\n",
    "\n",
    "        if self.itemSpan is not None:\n",
    "            return [str(self.note.content)[s.startIdx:s.endIdx] for s in self.itemSpan]\n",
    "\n",
    "        else:\n",
    "            return []\n",
    "\n",
    "    def __repr__(self):\n",
    "        cat_str = f\"({self.category})\" if self.category   is not None else \"\"\n",
    "        title = remove_html(self.title) if self.title is not None else \"Untitled\"\n",
    "        return f\"(INoteList) # {title} {cat_str}\\n{self.content}\\n\\n\"\n",
    "\n",
    "    def __eq__(self, other):\n",
    "        return self.uid == other.uid\n",
    "    "
   ]
  },
  {
   "cell_type": "markdown",
   "metadata": {},
   "source": [
    "## ULNoteList\n",
    "A ULNoteList is the most vanilla kind of list. It is a list of items encapsulated by \\<ul> \\</ul> tags."
   ]
  },
  {
   "cell_type": "code",
   "execution_count": null,
   "metadata": {},
   "outputs": [],
   "source": [
    "# export\n",
    "class ULNoteList(INoteList):\n",
    "    '''A <ul> </ul> list extracted from a note. '''\n",
    "    \n",
    "    def get_items(self, remove_html_=False, skip_nested=False):\n",
    "        \n",
    "        if self.content is None: return [self.textContent]\n",
    "\n",
    "        result = [i for i in get_toplevel_elements(str(self.content), \"li\")\n",
    "                  if len(i(\"ul\")) == 0]\n",
    "        \n",
    "        if remove_html_: result = [remove_html(str(x)) for x in result]\n",
    "        result = [str(x) for x in result if x != \"\"]\n",
    "        return result\n",
    "    \n",
    "    def __repr__(self):\n",
    "        items = \"\\n\".join(self.get_items(remove_html_=True))\n",
    "        cat_str = f\"({self.category})\" if self.category is not None else \"\"\n",
    "        title = remove_html(self.title) if self.title is not None else \"Untitled\"\n",
    "        return f\"ULNoteList # {title} {cat_str}\\n{items}\\n\\n\""
   ]
  },
  {
   "cell_type": "code",
   "execution_count": null,
   "metadata": {},
   "outputs": [
    {
     "data": {
      "text/plain": [
       "# Awesome title \n",
       "\n"
      ]
     },
     "execution_count": null,
     "metadata": {},
     "output_type": "execute_result"
    }
   ],
   "source": [
    "ULNoteList.from_data(title=\"Awesome title\", content=\"Awesome content\")"
   ]
  },
  {
   "cell_type": "markdown",
   "metadata": {},
   "source": [
    "## Span\n",
    "We use spans to specify a range within a piece of text. If we for instance have a piece of text \"Memri solves all your problems\" and a span with startIdx=6 and endIdx=16, it points to \"solves all\"."
   ]
  },
  {
   "cell_type": "code",
   "execution_count": null,
   "metadata": {},
   "outputs": [],
   "source": [
    "# export\n",
    "class ISpan(Span):\n",
    "    '''A span of an element in a piece of text'''\n",
    "    \n",
    "    def __eq__(self, other):\n",
    "        return self.startIdx == other.startIdx and self.endIdx == other.endIdx\n",
    "\n",
    "    def __repr__(self):\n",
    "        return f\"ISpan [{self.startIdx}, {self.endIdx}]\""
   ]
  },
  {
   "cell_type": "code",
   "execution_count": null,
   "metadata": {},
   "outputs": [],
   "source": [
    "# export\n",
    "def get_span(note, elem, parsed):\n",
    "    e_str = str(elem)\n",
    "    parsed_str = str(parsed)\n",
    "\n",
    "    begin = parsed_str.find(e_str)\n",
    "    end = begin + len(e_str)\n",
    "\n",
    "    return ISpan.from_data(startIdx=begin, endIdx=end)"
   ]
  },
  {
   "cell_type": "markdown",
   "metadata": {},
   "source": [
    "# Export -"
   ]
  },
  {
   "cell_type": "code",
   "execution_count": null,
   "metadata": {},
   "outputs": [
    {
     "name": "stdout",
     "output_type": "stream",
     "text": [
      "Converted basic.ipynb.\n",
      "Converted importers.EmailImporter.ipynb.\n",
      "Converted importers.Importer.ipynb.\n",
      "Converted importers.util.ipynb.\n",
      "Converted index.ipynb.\n",
      "Converted indexers.FaceRecognitionIndexer.ipynb.\n",
      "Converted indexers.FacerecognitionIndexer.Photo.ipynb.\n",
      "Converted indexers.GeoIndexer.ipynb.\n",
      "Converted indexers.NoteListIndexer.NoteList.ipynb.\n",
      "Converted indexers.NoteListIndexer.Parser.ipynb.\n",
      "Converted indexers.NoteListIndexer.ipynb.\n",
      "Converted indexers.NoteListIndexer.util.ipynb.\n",
      "Converted indexers.indexer.ipynb.\n",
      "Converted itembase.ipynb.\n",
      "Converted pod.client.ipynb.\n"
     ]
    }
   ],
   "source": [
    "# hide\n",
    "from nbdev.export import *\n",
    "notebook2script()"
   ]
  },
  {
   "cell_type": "code",
   "execution_count": null,
   "metadata": {},
   "outputs": [],
   "source": []
  }
 ],
 "metadata": {
  "kernelspec": {
   "display_name": "Python 3",
   "language": "python",
   "name": "python3"
  }
 },
 "nbformat": 4,
 "nbformat_minor": 4
}

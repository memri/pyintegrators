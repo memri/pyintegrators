{
 "cells": [
  {
   "cell_type": "code",
   "execution_count": null,
   "metadata": {},
   "outputs": [],
   "source": [
    "%load_ext autoreload\n",
    "%autoreload 2\n",
    "# default_exp indexers.geo.geo_indexer"
   ]
  },
  {
   "cell_type": "code",
   "execution_count": null,
   "metadata": {},
   "outputs": [],
   "source": [
    "# export\n",
    "from integrators.data.schema import *\n",
    "from integrators.data.itembase import *\n",
    "from integrators.pod.client import PodClient\n",
    "from integrators.indexers.indexer import IndexerBase, get_indexer_run_data\n",
    "from integrators.indexers import *\n",
    "import pycountry, requests\n",
    "import reverse_geocoder as rg"
   ]
  },
  {
   "cell_type": "markdown",
   "metadata": {},
   "source": [
    "# GeoIndexer"
   ]
  },
  {
   "cell_type": "code",
   "execution_count": null,
   "metadata": {},
   "outputs": [],
   "source": [
    "# export\n",
    "\n",
    "LOCATION_EDGE = \"hasLocation\"\n",
    "\n",
    "class GeoIndexer(IndexerBase):\n",
    "    \n",
    "    def __init__(self, *args, **kwargs):\n",
    "        super().__init__(*args, **kwargs)\n",
    "        \n",
    "    def latlong2citycountry(self, latlong):\n",
    "        geo_result = rg.search([latlong])[0]\n",
    "        city_name = geo_result[\"name\"]\n",
    "        country_name = pycountry.countries.get(alpha_2=geo_result[\"cc\"]).name\n",
    "        return city_name, country_name\n",
    "\n",
    "        \n",
    "    def get_country_by_name(self, api, name):\n",
    "        data = api.search_by_fields({\"_type\": \"Country\", \"name\": name})\n",
    "        if data == None or data == []: return None\n",
    "        else:\n",
    "            return data[0]\n",
    "            # props = data[0]\n",
    "            # return api.create_local(Node(props))\n",
    "        \n",
    "    def get_lat_long(self, item):\n",
    "        locations = item.location\n",
    "        if len(locations) != 1:\n",
    "            print(f\"skipping item {item}, found {len(locations)} locations\")\n",
    "            return None, True\n",
    "\n",
    "        latlong = locations[0].latitude, locations[0].longitude\n",
    "\n",
    "        if None in latlong:\n",
    "            print(f\"skipping item {item}, incomplete latlong\")\n",
    "            None, True\n",
    "\n",
    "        return latlong, False\n",
    "\n",
    "    def index(self, api, indexer_run):\n",
    "        items_expanded      = [d.expand(api) for d in get_indexer_run_data(api, indexer_run)]\n",
    "        items_with_location = [x for x in items_expanded\n",
    "         if any([loc.latitude is not None for loc in x.location])]\n",
    "\n",
    "        print(f\"{len(items_with_location)} items found to index\")\n",
    "\n",
    "        new_nodes = []\n",
    "        for n, item in enumerate(items_with_location):\n",
    "\n",
    "            latlong, skip = self.get_lat_long(item)\n",
    "            if skip: continue\n",
    "\n",
    "            # get geo info\n",
    "            city_name, country_name = self.latlong2citycountry(latlong)\n",
    "\n",
    "            # add information to indexer objects\n",
    "            item.city = city_name        \n",
    "            # item.add_property(\"city\", city_name)    \n",
    "            country = self.get_country_by_name(api, country_name)\n",
    "    \n",
    "            if country is None:\n",
    "                country = Country(name=country_name)\n",
    "                new_nodes.append(country)\n",
    "            \n",
    "            item.add_edge(\"country\", country)\n",
    "            # item.country=country/\n",
    "            # edge = Edge(item, country, \"country\", created=True)\n",
    "            # item.add_edge(edge)\n",
    "\n",
    "            progress = int(n+1 / len(items_with_location) * 100)\n",
    "\n",
    "            indexer_run.progress=progress\n",
    "            indexer_run.update(api, edges=False)\n",
    "\n",
    "            # indexer_run.set_progress(api, progress)\n",
    "\n",
    "        return items_with_location, new_nodes"
   ]
  },
  {
   "cell_type": "markdown",
   "metadata": {},
   "source": [
    "# create a toy dataset"
   ]
  },
  {
   "cell_type": "code",
   "execution_count": null,
   "metadata": {},
   "outputs": [],
   "source": [
    "client = PodClient()"
   ]
  },
  {
   "cell_type": "code",
   "execution_count": null,
   "metadata": {},
   "outputs": [],
   "source": [
    "node1 = Location.from_data(latitude=-37.81, longitude=144.96)\n",
    "node2 = Address.from_data()\n",
    "\n",
    "node2.add_edge(\"location\", node1)"
   ]
  },
  {
   "cell_type": "code",
   "execution_count": null,
   "metadata": {},
   "outputs": [],
   "source": [
    "indexer = Indexer.from_data(indexerClass=\"GeoIndexer\", name=\"GeoIndexer\")\n",
    "indexer_run = IndexerRun(progress=0, targetDataType=\"Address\")\n",
    "indexer_run.add_edge(\"indexer\", indexer)"
   ]
  },
  {
   "cell_type": "code",
   "execution_count": null,
   "metadata": {},
   "outputs": [
    {
     "name": "stdout",
     "output_type": "stream",
     "text": [
      "Converted basic.ipynb.\n",
      "Converted index.ipynb.\n",
      "Converted indexers.GeoIndexer.ipynb.\n",
      "Converted indexers.indexer.ipynb.\n",
      "Converted itembase.ipynb.\n",
      "Converted pod.client.ipynb.\n"
     ]
    }
   ],
   "source": [
    "# hide\n",
    "from nbdev.export import *\n",
    "notebook2script()"
   ]
  },
  {
   "cell_type": "code",
   "execution_count": null,
   "metadata": {},
   "outputs": [],
   "source": []
  }
 ],
 "metadata": {
  "kernelspec": {
   "display_name": "Python 3",
   "language": "python",
   "name": "python3"
  }
 },
 "nbformat": 4,
 "nbformat_minor": 4
}

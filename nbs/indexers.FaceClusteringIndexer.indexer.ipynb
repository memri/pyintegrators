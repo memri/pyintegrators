{
 "cells": [
  {
   "cell_type": "code",
   "execution_count": null,
   "metadata": {},
   "outputs": [],
   "source": [
    "%load_ext autoreload\n",
    "%autoreload 2\n",
    "# default_exp indexers.faceclustering.indexer"
   ]
  },
  {
   "cell_type": "code",
   "execution_count": null,
   "metadata": {},
   "outputs": [],
   "source": [
    "# export\n",
    "from pyintegrators.indexers.faceclustering.models import *\n",
    "from pyintegrators.indexers.faceclustering.utils import *\n",
    "from pyintegrators.indexers.facerecognition.photo import *\n",
    "from pyintegrators.indexers.indexer import *\n",
    "from pyintegrators.data.basic import *\n",
    "from pyintegrators.data.schema import *\n",
    "from pyintegrators.imports import *\n",
    "from pyintegrators.pod.client import PodClient, DEFAULT_POD_ADDRESS"
   ]
  },
  {
   "cell_type": "code",
   "execution_count": null,
   "metadata": {},
   "outputs": [],
   "source": [
    "# export\n",
    "from mmcv.runner import load_checkpoint\n",
    "from collections import Counter\n",
    "import cv2\n",
    "import ipdb\n",
    "import torch"
   ]
  },
  {
   "cell_type": "markdown",
   "metadata": {},
   "source": [
    "# Face Clustering "
   ]
  },
  {
   "cell_type": "code",
   "execution_count": null,
   "metadata": {},
   "outputs": [],
   "source": [
    "# export\n",
    "class FaceClusteringIndexer(IndexerBase):\n",
    "    \"\"\"Clusters faces on photos.\"\"\"\n",
    "    \n",
    "    def __init__(self, *args, **kwargs):\n",
    "        self.private = [\"clustering_model\"]\n",
    "        self.clustering_model = FaceClusteringModel()\n",
    "        super().__init__(*args, **kwargs)\n",
    "        \n",
    "    def get_data(self, client, indexer_run):\n",
    "        photos = [d.expand(client) for d in get_indexer_run_data(client, indexer_run)]\n",
    "        for p in photos: client._load_photo_data(p, size=640)\n",
    "        photos = [p for p in photos if p.data is not None]\n",
    "        return IndexerData(photos=photos)\n",
    "    \n",
    "    def create_cluster_items(self, crop_photos, pred_labels, min_cluster_size=2):\n",
    "        c2p = {c: Person(firstName=\"unknown person\") for c in set(pred_labels)\n",
    "               if list(pred_labels).count(c) >= min_cluster_size }\n",
    "        \n",
    "        for photo, clust in zip(crop_photos, pred_labels):\n",
    "            if clust in c2p:\n",
    "                person = c2p[clust]\n",
    "                person.add_edge(\"occurence\", photo)\n",
    "        people = list(c2p.values())\n",
    "        return people\n",
    "    \n",
    "    def index(self, data, *args, **kwargs):\n",
    "        photos = data.photos\n",
    "        print(f\"Indexing {len(photos)} photos\")\n",
    "        crop_photos, cluster_labels = self.clustering_model.run(photos)\n",
    "        files = [c.file[0] for c in crop_photos]\n",
    "        people = self.create_cluster_items(crop_photos, cluster_labels)\n",
    "        return crop_photos + people + files\n",
    "        "
   ]
  },
  {
   "cell_type": "code",
   "execution_count": null,
   "metadata": {},
   "outputs": [],
   "source": [
    "test_registration(FaceClusteringIndexer)"
   ]
  },
  {
   "cell_type": "markdown",
   "metadata": {},
   "source": [
    "## Toy dataset"
   ]
  },
  {
   "cell_type": "markdown",
   "metadata": {},
   "source": [
    "You can test the model on your favorite images, we use 2 images from the modern family tv show as input and run the indexer. As per usual, you can run the indexer by calling indexer.index()."
   ]
  },
  {
   "cell_type": "code",
   "execution_count": null,
   "metadata": {},
   "outputs": [
    {
     "name": "stdout",
     "output_type": "stream",
     "text": [
      "[32, 16, 8] {'32': {'SCALES': (32, 16), 'BASE_SIZE': 16, 'RATIOS': (1.0,), 'ALLOWED_BORDER': 9999}, '16': {'SCALES': (8, 4), 'BASE_SIZE': 16, 'RATIOS': (1.0,), 'ALLOWED_BORDER': 9999}, '8': {'SCALES': (2, 1), 'BASE_SIZE': 16, 'RATIOS': (1.0,), 'ALLOWED_BORDER': 9999}}\n",
      "use_landmarks True\n",
      "Indexing 2 photos\n"
     ]
    },
    {
     "data": {
      "text/html": [
       "\n",
       "    <div>\n",
       "        <style>\n",
       "            /* Turns off some styling */\n",
       "            progress {\n",
       "                /* gets rid of default border in Firefox and Opera. */\n",
       "                border: none;\n",
       "                /* Needs to be in here for Safari polyfill so background images work as expected. */\n",
       "                background-size: auto;\n",
       "            }\n",
       "            .progress-bar-interrupted, .progress-bar-interrupted::-webkit-progress-bar {\n",
       "                background: #F44336;\n",
       "            }\n",
       "        </style>\n",
       "      <progress value='2' class='' max='2' style='width:300px; height:20px; vertical-align: middle;'></progress>\n",
       "      100.00% [2/2 00:01<00:00]\n",
       "    </div>\n",
       "    "
      ],
      "text/plain": [
       "<IPython.core.display.HTML object>"
      ]
     },
     "metadata": {},
     "output_type": "display_data"
    },
    {
     "data": {
      "text/html": [
       "\n",
       "    <div>\n",
       "        <style>\n",
       "            /* Turns off some styling */\n",
       "            progress {\n",
       "                /* gets rid of default border in Firefox and Opera. */\n",
       "                border: none;\n",
       "                /* Needs to be in here for Safari polyfill so background images work as expected. */\n",
       "                background-size: auto;\n",
       "            }\n",
       "            .progress-bar-interrupted, .progress-bar-interrupted::-webkit-progress-bar {\n",
       "                background: #F44336;\n",
       "            }\n",
       "        </style>\n",
       "      <progress value='22' class='' max='22' style='width:300px; height:20px; vertical-align: middle;'></progress>\n",
       "      100.00% [22/22 00:03<00:00]\n",
       "    </div>\n",
       "    "
      ],
      "text/plain": [
       "<IPython.core.display.HTML object>"
      ]
     },
     "metadata": {},
     "output_type": "display_data"
    }
   ],
   "source": [
    "data_dir = PYI_TESTDATA / \"photos\" / \"faceclustering\"\n",
    "photos = [IPhoto.from_path(path=x, size=640) for x in data_dir.ls() if str(x).endswith(\"jpg\")]\n",
    "data   = IndexerData(photos=photos)\n",
    "cluster_indexer = FaceClusteringIndexer()\n",
    "items = cluster_indexer.index(data)"
   ]
  },
  {
   "cell_type": "markdown",
   "metadata": {},
   "source": [
    "## Inspecting the output"
   ]
  },
  {
   "cell_type": "markdown",
   "metadata": {},
   "source": [
    "This generates a few data items for you, from various types. It creates photos and their files, which correspond to the crops of the faces and it creates Person items for the people in the crops. "
   ]
  },
  {
   "cell_type": "code",
   "execution_count": null,
   "metadata": {},
   "outputs": [
    {
     "data": {
      "text/plain": [
       "{integrators.data.schema.File,\n",
       " integrators.data.schema.Person,\n",
       " integrators.indexers.facerecognition.photo.IPhoto}"
      ]
     },
     "execution_count": null,
     "metadata": {},
     "output_type": "execute_result"
    }
   ],
   "source": [
    "set([type(i) for i in items])"
   ]
  },
  {
   "cell_type": "markdown",
   "metadata": {},
   "source": [
    "The Person and Photo items are connected with an edge, called \"occurence\", you can inspect them as follows:"
   ]
  },
  {
   "cell_type": "code",
   "execution_count": null,
   "metadata": {},
   "outputs": [
    {
     "name": "stdout",
     "output_type": "stream",
     "text": [
      "7\n"
     ]
    }
   ],
   "source": [
    "people = [x for x in items if isinstance(x, Person) and len(x.occurence) >=1]\n",
    "print(len(people))"
   ]
  },
  {
   "cell_type": "markdown",
   "metadata": {},
   "source": [
    "## Simluate run from pod"
   ]
  },
  {
   "cell_type": "markdown",
   "metadata": {},
   "source": [
    "You can also test the full pipelines as if you are running it from the pod. You can do that as follows."
   ]
  },
  {
   "cell_type": "code",
   "execution_count": null,
   "metadata": {},
   "outputs": [],
   "source": [
    "# hide\n",
    "# TODO: move this to separate file"
   ]
  },
  {
   "cell_type": "code",
   "execution_count": null,
   "metadata": {},
   "outputs": [],
   "source": [
    "client = PodClient()"
   ]
  },
  {
   "cell_type": "code",
   "execution_count": null,
   "metadata": {},
   "outputs": [],
   "source": [
    "data_dir = PYI_TESTDATA / \"photos\" / \"faceclustering\"\n",
    "photos = [IPhoto.from_path(path=x, size=640) for x in data_dir.ls() if str(x).endswith(\"jpg\")]\n",
    "indexer = Indexer.from_data(indexerClass=\"FaceClusteringIndexer\", name=\"FaceClustering\")\n",
    "indexer_run = IndexerRun.from_data(progress=0, targetDataType=\"Photo\")\n",
    "\n",
    "for x in [indexer, indexer_run] + photos : client.create(x)\n",
    "assert client.create_edge(Edge(indexer_run, indexer, \"indexer\"))"
   ]
  },
  {
   "cell_type": "code",
   "execution_count": null,
   "metadata": {},
   "outputs": [
    {
     "name": "stdout",
     "output_type": "stream",
     "text": [
      "[32, 16, 8] {'32': {'SCALES': (32, 16), 'BASE_SIZE': 16, 'RATIOS': (1.0,), 'ALLOWED_BORDER': 9999}, '16': {'SCALES': (8, 4), 'BASE_SIZE': 16, 'RATIOS': (1.0,), 'ALLOWED_BORDER': 9999}, '8': {'SCALES': (2, 1), 'BASE_SIZE': 16, 'RATIOS': (1.0,), 'ALLOWED_BORDER': 9999}}\n",
      "use_landmarks True\n",
      "Indexing 2 photos\n"
     ]
    },
    {
     "data": {
      "text/html": [
       "\n",
       "    <div>\n",
       "        <style>\n",
       "            /* Turns off some styling */\n",
       "            progress {\n",
       "                /* gets rid of default border in Firefox and Opera. */\n",
       "                border: none;\n",
       "                /* Needs to be in here for Safari polyfill so background images work as expected. */\n",
       "                background-size: auto;\n",
       "            }\n",
       "            .progress-bar-interrupted, .progress-bar-interrupted::-webkit-progress-bar {\n",
       "                background: #F44336;\n",
       "            }\n",
       "        </style>\n",
       "      <progress value='2' class='' max='2' style='width:300px; height:20px; vertical-align: middle;'></progress>\n",
       "      100.00% [2/2 00:01<00:00]\n",
       "    </div>\n",
       "    "
      ],
      "text/plain": [
       "<IPython.core.display.HTML object>"
      ]
     },
     "metadata": {},
     "output_type": "display_data"
    },
    {
     "data": {
      "text/html": [
       "\n",
       "    <div>\n",
       "        <style>\n",
       "            /* Turns off some styling */\n",
       "            progress {\n",
       "                /* gets rid of default border in Firefox and Opera. */\n",
       "                border: none;\n",
       "                /* Needs to be in here for Safari polyfill so background images work as expected. */\n",
       "                background-size: auto;\n",
       "            }\n",
       "            .progress-bar-interrupted, .progress-bar-interrupted::-webkit-progress-bar {\n",
       "                background: #F44336;\n",
       "            }\n",
       "        </style>\n",
       "      <progress value='22' class='' max='22' style='width:300px; height:20px; vertical-align: middle;'></progress>\n",
       "      100.00% [22/22 00:03<00:00]\n",
       "    </div>\n",
       "    "
      ],
      "text/plain": [
       "<IPython.core.display.HTML object>"
      ]
     },
     "metadata": {},
     "output_type": "display_data"
    },
    {
     "name": "stdout",
     "output_type": "stream",
     "text": [
      "creating IPhoto (#None)\n",
      "creating IPhoto (#None)\n",
      "creating IPhoto (#None)\n",
      "creating IPhoto (#None)\n",
      "creating IPhoto (#None)\n",
      "creating IPhoto (#None)\n",
      "creating IPhoto (#None)\n",
      "creating IPhoto (#None)\n",
      "creating IPhoto (#None)\n",
      "creating IPhoto (#None)\n",
      "creating IPhoto (#None)\n",
      "creating IPhoto (#None)\n",
      "creating IPhoto (#None)\n",
      "creating IPhoto (#None)\n",
      "creating IPhoto (#None)\n",
      "creating IPhoto (#None)\n",
      "creating IPhoto (#None)\n",
      "creating IPhoto (#None)\n",
      "creating IPhoto (#None)\n",
      "creating IPhoto (#None)\n",
      "creating IPhoto (#None)\n",
      "creating IPhoto (#None)\n",
      "creating Person (#None)\n",
      "creating Person (#None)\n",
      "creating Person (#None)\n",
      "creating Person (#None)\n",
      "creating Person (#None)\n",
      "creating Person (#None)\n",
      "creating Person (#None)\n",
      "updating File (#7)\n",
      "updating File (#9)\n",
      "updating File (#11)\n",
      "updating File (#13)\n",
      "updating File (#15)\n",
      "updating File (#17)\n",
      "updating File (#19)\n",
      "updating File (#21)\n",
      "updating File (#23)\n",
      "updating File (#25)\n",
      "updating File (#27)\n",
      "updating File (#29)\n",
      "updating File (#31)\n",
      "updating File (#33)\n",
      "updating File (#35)\n",
      "updating File (#37)\n",
      "updating File (#39)\n",
      "updating File (#41)\n",
      "updating File (#43)\n",
      "updating File (#45)\n",
      "updating File (#47)\n",
      "updating File (#49)\n",
      "uploading photo\n",
      "<Response [409]> b'File already exists'\n",
      "uploading photo\n",
      "<Response [409]> b'File already exists'\n",
      "uploading photo\n",
      "<Response [409]> b'File already exists'\n",
      "uploading photo\n",
      "<Response [409]> b'File already exists'\n",
      "uploading photo\n",
      "<Response [409]> b'File already exists'\n",
      "uploading photo\n",
      "<Response [409]> b'File already exists'\n",
      "uploading photo\n",
      "<Response [409]> b'File already exists'\n",
      "uploading photo\n",
      "<Response [409]> b'File already exists'\n",
      "uploading photo\n",
      "<Response [409]> b'File already exists'\n",
      "uploading photo\n",
      "<Response [409]> b'File already exists'\n",
      "uploading photo\n",
      "<Response [409]> b'File already exists'\n",
      "uploading photo\n",
      "<Response [409]> b'File already exists'\n",
      "uploading photo\n",
      "<Response [409]> b'File already exists'\n",
      "uploading photo\n",
      "<Response [409]> b'File already exists'\n",
      "uploading photo\n",
      "<Response [409]> b'File already exists'\n",
      "uploading photo\n",
      "<Response [409]> b'File already exists'\n",
      "uploading photo\n",
      "<Response [409]> b'File already exists'\n",
      "uploading photo\n",
      "<Response [409]> b'File already exists'\n",
      "uploading photo\n",
      "<Response [409]> b'File already exists'\n",
      "uploading photo\n",
      "<Response [409]> b'File already exists'\n",
      "uploading photo\n",
      "<Response [409]> b'File already exists'\n",
      "uploading photo\n",
      "<Response [409]> b'File already exists'\n",
      "updating IPhoto (#8)\n",
      "updating IPhoto (#10)\n",
      "updating IPhoto (#12)\n",
      "updating IPhoto (#14)\n",
      "updating IPhoto (#16)\n",
      "updating IPhoto (#18)\n",
      "updating IPhoto (#20)\n",
      "updating IPhoto (#22)\n",
      "updating IPhoto (#24)\n",
      "updating IPhoto (#26)\n",
      "updating IPhoto (#28)\n",
      "updating IPhoto (#30)\n",
      "updating IPhoto (#32)\n",
      "updating IPhoto (#34)\n",
      "updating IPhoto (#36)\n",
      "updating IPhoto (#38)\n",
      "updating IPhoto (#40)\n",
      "updating IPhoto (#42)\n",
      "updating IPhoto (#44)\n",
      "updating IPhoto (#46)\n",
      "updating IPhoto (#48)\n",
      "updating IPhoto (#50)\n",
      "updating Person (#51)\n",
      "updating Person (#52)\n",
      "updating Person (#53)\n",
      "updating Person (#54)\n",
      "updating Person (#55)\n",
      "updating Person (#56)\n",
      "updating Person (#57)\n",
      "updating File (#7)\n",
      "updating File (#9)\n",
      "updating File (#11)\n",
      "updating File (#13)\n",
      "updating File (#15)\n",
      "updating File (#17)\n",
      "updating File (#19)\n",
      "updating File (#21)\n",
      "updating File (#23)\n",
      "updating File (#25)\n",
      "updating File (#27)\n",
      "updating File (#29)\n",
      "updating File (#31)\n",
      "updating File (#33)\n",
      "updating File (#35)\n",
      "updating File (#37)\n",
      "updating File (#39)\n",
      "updating File (#41)\n",
      "updating File (#43)\n",
      "updating File (#45)\n",
      "updating File (#47)\n",
      "updating File (#49)\n"
     ]
    }
   ],
   "source": [
    "# hide_output\n",
    "run_integrator(pod_full_address=DEFAULT_POD_ADDRESS,\n",
    "               integrator_run_uid=indexer_run.uid,\n",
    "               database_key=client.database_key,\n",
    "               owner_key=client.owner_key)"
   ]
  },
  {
   "cell_type": "code",
   "execution_count": null,
   "metadata": {},
   "outputs": [
    {
     "name": "stdout",
     "output_type": "stream",
     "text": [
      "[32, 16, 8] {'32': {'SCALES': (32, 16), 'BASE_SIZE': 16, 'RATIOS': (1.0,), 'ALLOWED_BORDER': 9999}, '16': {'SCALES': (8, 4), 'BASE_SIZE': 16, 'RATIOS': (1.0,), 'ALLOWED_BORDER': 9999}, '8': {'SCALES': (2, 1), 'BASE_SIZE': 16, 'RATIOS': (1.0,), 'ALLOWED_BORDER': 9999}}\n",
      "use_landmarks True\n"
     ]
    }
   ],
   "source": [
    "client.delete_all()"
   ]
  },
  {
   "cell_type": "markdown",
   "metadata": {},
   "source": [
    "# Export -"
   ]
  },
  {
   "cell_type": "code",
   "execution_count": null,
   "metadata": {},
   "outputs": [
    {
     "name": "stdout",
     "output_type": "stream",
     "text": [
      "Converted basic.ipynb.\n",
      "Converted importers.EmailImporter.ipynb.\n",
      "Converted importers.Importer.ipynb.\n",
      "Converted importers.util.ipynb.\n",
      "Converted index.ipynb.\n",
      "Converted indexers.FaceClusteringIndexer.Models.ipynb.\n",
      "Converted indexers.FaceClusteringIndexer.Utils.ipynb.\n",
      "Converted indexers.FaceClusteringIndexer.indexer.ipynb.\n",
      "Converted indexers.FaceRecognitionModel.ipynb.\n",
      "Converted indexers.FacerecognitionIndexer.Photo.ipynb.\n",
      "Converted indexers.GeoIndexer.ipynb.\n",
      "Converted indexers.NoteListIndexer.NoteList.ipynb.\n",
      "Converted indexers.NoteListIndexer.Parser.ipynb.\n",
      "Converted indexers.NoteListIndexer.ipynb.\n",
      "Converted indexers.NoteListIndexer.util.ipynb.\n",
      "Converted indexers.indexer.ipynb.\n",
      "Converted itembase.ipynb.\n",
      "Converted pod.client.ipynb.\n"
     ]
    }
   ],
   "source": [
    "# hide\n",
    "from nbdev.export import *\n",
    "notebook2script()"
   ]
  },
  {
   "cell_type": "code",
   "execution_count": null,
   "metadata": {},
   "outputs": [],
   "source": []
  }
 ],
 "metadata": {
  "kernelspec": {
   "display_name": "Python 3",
   "language": "python",
   "name": "python3"
  }
 },
 "nbformat": 4,
 "nbformat_minor": 4
}

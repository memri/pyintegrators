{
 "cells": [
  {
   "cell_type": "code",
   "execution_count": null,
   "metadata": {},
   "outputs": [],
   "source": [
    "%load_ext autoreload\n",
    "%autoreload 2\n",
    "# default_exp indexers.indexer"
   ]
  },
  {
   "cell_type": "code",
   "execution_count": null,
   "metadata": {},
   "outputs": [],
   "source": [
    "# export\n",
    "from integrators.data.schema import Indexer"
   ]
  },
  {
   "cell_type": "markdown",
   "metadata": {},
   "source": [
    "# Indexer"
   ]
  },
  {
   "cell_type": "code",
   "execution_count": null,
   "metadata": {},
   "outputs": [],
   "source": [
    "# export\n",
    "class IndexerBase(Indexer):\n",
    "    def __init__(self, *args, **kwargs):\n",
    "        super().__init__(*args, **kwargs)\n",
    "    \n",
    "    def populate(self, api, updated_items, new_nodes, edges=False):\n",
    "        for item in new_nodes:\n",
    "            item.update(api, edges=False)\n",
    "        if edges:\n",
    "            for item in new_nodes:\n",
    "                item.update_edges(api)\n",
    "\n",
    "        for item in updated_items:\n",
    "            item.update(api)\n",
    "\n",
    "\n",
    "class IndexerRun(Item):\n",
    "    def __init__(self, *args, **kwargs):\n",
    "        super().__init__(*args, **kwargs)\n",
    "\n",
    "    def get_data(self, api):\n",
    "        if self.targetDataType is None:\n",
    "            print(\"No targetDataType defined\")\n",
    "            return None\n",
    "\n",
    "        # get all items with the specified type\n",
    "        else:\n",
    "            return api.search_by_fields({\"_type\": self.targetDataType})\n",
    "\n",
    "#     def set_progress(self, api, progress):\n",
    "#         self.set_property(\"progress\", progress)\n",
    "#         self.update(api, edges=False)"
   ]
  },
  {
   "cell_type": "code",
   "execution_count": null,
   "metadata": {},
   "outputs": [
    {
     "data": {
      "text/plain": [
       "IndexerBase (#885001)"
      ]
     },
     "execution_count": null,
     "metadata": {},
     "output_type": "execute_result"
    }
   ],
   "source": [
    "IndexerBase.from_data(name=\"example_indexer\")"
   ]
  },
  {
   "cell_type": "code",
   "execution_count": null,
   "metadata": {},
   "outputs": [],
   "source": []
  }
 ],
 "metadata": {
  "kernelspec": {
   "display_name": "Python 3",
   "language": "python",
   "name": "python3"
  }
 },
 "nbformat": 4,
 "nbformat_minor": 4
}

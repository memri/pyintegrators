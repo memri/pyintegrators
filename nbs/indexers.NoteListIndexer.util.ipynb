{
 "cells": [
  {
   "cell_type": "code",
   "execution_count": null,
   "metadata": {},
   "outputs": [],
   "source": [
    "%load_ext autoreload\n",
    "%autoreload 2\n",
    "# default_exp indexers.notelist.util"
   ]
  },
  {
   "cell_type": "code",
   "execution_count": null,
   "metadata": {},
   "outputs": [],
   "source": [
    "# export\n",
    "import re\n",
    "import bs4"
   ]
  },
  {
   "cell_type": "markdown",
   "metadata": {},
   "source": [
    "# Util"
   ]
  },
  {
   "cell_type": "code",
   "execution_count": null,
   "metadata": {},
   "outputs": [],
   "source": [
    "# export\n",
    "HTML_LINEBREAK_REGEX = \"<br[^<]*/>\"\n",
    "\n",
    "def get_toplevel_elements(str_, element, parsed=None):\n",
    "    if parsed is None:\n",
    "        parsed = bs4.BeautifulSoup(str_, \"html.parser\")\n",
    "\n",
    "    skip, result = [], []\n",
    "\n",
    "    for l in parsed(element):\n",
    "        if str(l) not in skip:\n",
    "            result.append(l)\n",
    "\n",
    "        skip += [str(l_nested) for l_nested in l(element)]\n",
    "    return result\n",
    "\n",
    "def remove_html(str_):\n",
    "    return re.sub('<[^<]+?>', '', str_)\n",
    "\n",
    "def remove_prefix_chars(s, chars):\n",
    "    while s[0] in chars: s = s[1:]\n",
    "    return s\n",
    "\n",
    "def is_newline(str_):\n",
    "    res = re.search(HTML_LINEBREAK_REGEX, str_, re.IGNORECASE)\n",
    "    if res is None: return False\n",
    "    if res.group() == str_: return True\n",
    "    else: return False\n",
    "\n",
    "def is_newline_div(div):\n",
    "    c = div.contents\n",
    "    if len(c) == 0: return False\n",
    "    elif len(c) == 1 and is_newline(str(c[0])): return True\n",
    "    else: return False\n",
    "\n",
    "def div_is_unstructured_list_title(div):\n",
    "    p = \"read\"\n",
    "    title_regex = f\"(?<!<li>){p}|(?<!<li>)buy\"\n",
    "\n",
    "    match = re.search(title_regex, str(div), re.IGNORECASE)\n",
    "    if match is None: return False\n",
    "    \n",
    "    cleaned_div = remove_html(str(div))    \n",
    "    cleaned_title = remove_html(match.group()) if match is not None else None\n",
    "\n",
    "    # the title should be the bulk of the div\n",
    "    if len(cleaned_title) > len(cleaned_div) - 2:\n",
    "        return True\n",
    "    else:\n",
    "        return False\n",
    "\n",
    "def find_till_double_br(divs):\n",
    "    end_idx = 0\n",
    "    for i, s in enumerate(divs):\n",
    "        end_idx = i\n",
    "        if i == len(divs)-1:\n",
    "            break\n",
    "        if is_newline(str(divs[i])) and is_newline(str(divs[i+1])):\n",
    "#             print(\"FOUND \", successors[:i])\n",
    "            break\n",
    "    return divs[:end_idx]\n",
    "\n",
    "def get_children(elem):\n",
    "    \"\"\"Fetches children of an element, put combines children when they are style element like <strong>example</strong>\"\"\"\n",
    "    res = []\n",
    "    inc_str = \"\"\n",
    "    \n",
    "    for c in elem.children:\n",
    "        c = str(c)\n",
    "        inc_str += c\n",
    "        \n",
    "        if not(c.startswith(\"<strong>\") | c.startswith(\"<em>\") | c.startswith(\"<u>\")):\n",
    "            res.append(inc_str)\n",
    "            inc_str = \"\"\n",
    "    return res\n",
    "\n",
    "def contains(str_, pat):\n",
    "    '''case insensitive match'''\n",
    "    return re.search(pat, str_, re.IGNORECASE) is not None\n",
    "    "
   ]
  },
  {
   "cell_type": "markdown",
   "metadata": {},
   "source": [
    "# Export -"
   ]
  },
  {
   "cell_type": "code",
   "execution_count": null,
   "metadata": {},
   "outputs": [
    {
     "name": "stdout",
     "output_type": "stream",
     "text": [
      "Converted basic.ipynb.\n",
      "Converted index.ipynb.\n",
      "Converted indexers.GeoIndexer.ipynb.\n",
      "Converted indexers.NoteListIndexer.NoteList.ipynb.\n",
      "Converted indexers.NoteListIndexer.Parser.ipynb.\n",
      "Converted indexers.NoteListIndexer.ipynb.\n",
      "Converted indexers.NoteListIndexer.util.ipynb.\n",
      "Converted indexers.indexer.ipynb.\n",
      "Converted itembase.ipynb.\n",
      "Converted pod.client.ipynb.\n"
     ]
    }
   ],
   "source": [
    "# hide\n",
    "from nbdev.export import *\n",
    "notebook2script()"
   ]
  }
 ],
 "metadata": {
  "kernelspec": {
   "display_name": "Python 3",
   "language": "python",
   "name": "python3"
  }
 },
 "nbformat": 4,
 "nbformat_minor": 4
}

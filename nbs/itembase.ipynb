{
 "cells": [
  {
   "cell_type": "code",
   "execution_count": null,
   "metadata": {},
   "outputs": [],
   "source": [
    "%load_ext autoreload\n",
    "%autoreload 2\n",
    "# default_exp data.itembase"
   ]
  },
  {
   "cell_type": "markdown",
   "metadata": {},
   "source": [
    "# Itembase"
   ]
  },
  {
   "cell_type": "code",
   "execution_count": null,
   "metadata": {},
   "outputs": [],
   "source": [
    "# export\n",
    "# hide\n",
    "from integrators.imports import *\n",
    "\n",
    "ALL_EDGES = \"allEdges\"\n",
    "SOURCE, TARGET, TYPE, EDGE_TYPE, LABEL, SEQUENCE = \"_source\", \"_target\", \"_type\", \"_type\", \"label\", \"sequence\""
   ]
  },
  {
   "cell_type": "code",
   "execution_count": null,
   "metadata": {},
   "outputs": [],
   "source": [
    "#hide\n",
    "from nbdev.showdoc import *"
   ]
  },
  {
   "cell_type": "code",
   "execution_count": null,
   "metadata": {},
   "outputs": [],
   "source": [
    "# export\n",
    "# hide\n",
    "class DB():\n",
    "    def __init__(self):\n",
    "        self.nodes = dict()\n",
    "\n",
    "    def add(self, node):\n",
    "        uid = node.uid\n",
    "        if uid in self.nodes:\n",
    "            print(f\"Error trying to add node, but node with with UID: {uid} is already in database\")\n",
    "        self.nodes[uid] = node\n",
    "\n",
    "    def get(self, uid):\n",
    "        res = self.nodes.get(uid, None)\n",
    "        return res\n",
    "\n",
    "    def contains(node):\n",
    "        uid = node.get_property(\"uid\")\n",
    "        return uid in self.nodes\n",
    "\n",
    "    def create(self, node):        \n",
    "        existing = self.get(node.properties.get(\"uid\", None))\n",
    "\n",
    "        if existing is not None:\n",
    "            if not existing._expanded:\n",
    "                existing.edges = node.edges\n",
    "                existing._expanded = node.edges is not None\n",
    "            return existing\n",
    "        else:\n",
    "            self.add(node)\n",
    "            return node\n",
    "        \n",
    "def parse_base_item_json(json):\n",
    "    uid = json.get(\"uid\", None)\n",
    "    dateAccessed = json.get(\"dateAccessed\", None)\n",
    "    dateCreated = json.get(\"dateCreated\", None)\n",
    "    dateModified = json.get(\"dateModified\", None)\n",
    "    deleted = json.get(\"deleted\", None)\n",
    "    externalId = json.get(\"externalId\", None)\n",
    "    itemDescription = json.get(\"itemDescription\", None)\n",
    "    starred = json.get(\"starred\", None)\n",
    "    version = json.get(\"version\", None)\n",
    "\n",
    "    return uid, dateAccessed, dateCreated, dateModified, deleted, externalId, itemDescription, starred, version, None, None"
   ]
  },
  {
   "cell_type": "code",
   "execution_count": null,
   "metadata": {},
   "outputs": [],
   "source": [
    "# export\n",
    "class Edge():\n",
    "    \"\"\"Makes a link between two `ItemBase` Items\"\"\"\n",
    "    def __init__(self, source, target, _type, label=None, sequence=None, created=False, reverse=True):\n",
    "        self.source   = source\n",
    "        self.target   = target\n",
    "        self._type    = _type\n",
    "        self.label    = label\n",
    "        self.sequence = sequence\n",
    "        self.created  = created\n",
    "        self.reverse  = reverse\n",
    "\n",
    "    @classmethod\n",
    "    def from_json(cls, json):\n",
    "        from .schema import get_constructor\n",
    "        # we only set the target here\n",
    "        _type = json[EDGE_TYPE]\n",
    "        json_target = json[TARGET]\n",
    "        target_type = json_target[\"_type\"]\n",
    "        indexer_class = json_target.get(\"indexerClass\", None)\n",
    "        target_constructor = get_constructor(target_type, indexer_class)\n",
    "        target = target_constructor.from_json(json_target)\n",
    "        return cls(source=None, target=target, _type=_type)\n",
    "\n",
    "    def __repr__(self):\n",
    "        return f\"{self.source} --{self._type}-> {self.target}\"\n",
    "    \n",
    "    def update(self, api):\n",
    "        if self.created:\n",
    "            api.create_edges([self])\n",
    "\n",
    "    def __eq__(self, other):\n",
    "        return self.source is other.source and self.target is other.target \\\n",
    "         and self._type == other._type\n",
    "\n",
    "    def traverse(self, start):\n",
    "        \"\"\"traverse an edge starting from the source to the target or vice versa.\"\"\"\n",
    "        if start == self.source:\n",
    "            return self.target\n",
    "        elif start == self.target:\n",
    "            return self.source\n",
    "        else:\n",
    "            raise ValueError "
   ]
  },
  {
   "cell_type": "code",
   "execution_count": null,
   "metadata": {},
   "outputs": [
    {
     "data": {
      "text/markdown": [
       "<h4 id=\"Edge.traverse\" class=\"doc_header\"><code>Edge.traverse</code><a href=\"__main__.py#L36\" class=\"source_link\" style=\"float:right\">[source]</a></h4>\n",
       "\n",
       "> <code>Edge.traverse</code>(**`start`**)\n",
       "\n",
       "traverse an edge starting from the source to the target or vice versa."
      ],
      "text/plain": [
       "<IPython.core.display.Markdown object>"
      ]
     },
     "metadata": {},
     "output_type": "display_data"
    }
   ],
   "source": [
    "show_doc(Edge.traverse)"
   ]
  },
  {
   "cell_type": "code",
   "execution_count": null,
   "metadata": {},
   "outputs": [],
   "source": [
    "# export\n",
    "\n",
    "class ItemBase():\n",
    "    \"\"\"Provides a base class for all items. All items in the schema inherit from this class, and it provides some\n",
    "    basic functionality for consistency and to enable easier usage.\"\"\"\n",
    "    global_db = DB()\n",
    "    \n",
    "    def __init__(self, uid=None):\n",
    "        self.uid=uid\n",
    "        self.add_to_db(self)\n",
    "    \n",
    "    @classmethod\n",
    "    def add_to_db(cls, node):\n",
    "        existing = cls.global_db.get(node.uid)\n",
    "        if existing is None and node.uid is not None:\n",
    "            cls.global_db.add(node)\n",
    "\n",
    "    def replace_self(self, other):\n",
    "        self.__dict__.update(other.__dict__)\n",
    "        \n",
    "    def __getattribute__(self, name):\n",
    "        val = object.__getattribute__(self, name)\n",
    "        if isinstance(val, Edge):\n",
    "            edge = val\n",
    "            return edge.traverse(start=self)\n",
    "        if isinstance(val, list) and len(val) > 0 and isinstance(val[0], Edge):\n",
    "            edges = val\n",
    "            return [edge.traverse(start=self) for edge in edges]\n",
    "        else:\n",
    "            return val\n",
    "\n",
    "    def add_edge(self, name, val):\n",
    "        \"\"\"Creates an edge of type name and makes it point to val\"\"\"\n",
    "        val = Edge(self, val, name, created=True)\n",
    "        if name not in self.__dict__:\n",
    "            raise NameError(f\"object {self} does not have edge with name {name}\")\n",
    "        existing = object.__getattribute__(self, name)\n",
    "        res = existing + [val]\n",
    "        self.__setattr__(name, res)\n",
    "\n",
    "    def is_expanded(self):\n",
    "        \"\"\"returns whether the node is expanded. An expanded node retrieved nodes that are \n",
    "        *directly* connected to it\n",
    "        from the pod, and stored their values via edges in the object.\"\"\"\n",
    "        return len(self.get_all_edges()) > 0\n",
    "\n",
    "    def get_edges(self, name):\n",
    "        return object.__getattribute__(self, name)\n",
    "    \n",
    "    def get_all_edges(self):\n",
    "        return [e for attr in self.__dict__.values() if self.attr_is_edge(attr) for e in attr]\n",
    "\n",
    "    def get_all_edge_names(self):\n",
    "        return [k for k,v in self.__dict__.items() if self.attr_is_edge(v)]\n",
    "    \n",
    "    def get_property_names(self):\n",
    "        return [k for k, v in self.__dict__.items() if not type(v) == list]\n",
    "\n",
    "    @staticmethod\n",
    "    def attr_is_edge(attr):\n",
    "        return isinstance(attr, list) and len(attr)>0 and isinstance(attr[0], Edge)\n",
    "\n",
    "    def update(self, api, edges=True, create_if_not_exists=True, skip_nodes=False):\n",
    "\n",
    "        if not self.exists(api):\n",
    "            print(f\"creating {self}\")\n",
    "            api.create(self)\n",
    "        else: \n",
    "            print(f\"updating {self}\")\n",
    "            api.update_item(self)\n",
    "\n",
    "        if edges:\n",
    "            for e in self.get_all_edges():\n",
    "                e.update(api)\n",
    "\n",
    "    def exists(self, api):\n",
    "        res = api.search_by_fields({\"uid\": self.uid})\n",
    "        if res is None: return False\n",
    "        return len(res) == 1\n",
    "\n",
    "    def expand(self, api):\n",
    "        \"\"\"Expands a node (retrieves all directly connected nodes ands adds to object).\"\"\"\n",
    "        self._expanded = True\n",
    "        res = api.get(self.uid, expanded=True)\n",
    "        for edge_name in res.get_all_edge_names():\n",
    "            edges = res.get_edges(edge_name)\n",
    "            for e in edges:\n",
    "                e.source = self\n",
    "            self.__setattr__(edge_name, edges)\n",
    "\n",
    "        # self.edges = res.edges\n",
    "        return self\n",
    "    \n",
    "    def __repr__(self):\n",
    "        uid = self.uid\n",
    "        _type = self.__class__.__name__\n",
    "        return f\"{_type} (#{uid})\"\n",
    "\n",
    "    @classmethod\n",
    "    def from_data(cls, *args, **kwargs):\n",
    "        edges = dict()\n",
    "        new_kwargs = dict()\n",
    "        for k, v in kwargs.items():\n",
    "            if isinstance(v, ItemBase):\n",
    "                edge = Edge(None, v, k)\n",
    "                edges[k] = edge\n",
    "                new_kwargs[k] = edge\n",
    "            else:\n",
    "                new_kwargs[k] = v\n",
    "            \n",
    "        res = cls(*args, **new_kwargs)\n",
    "        \n",
    "        for v in edges.values():\n",
    "            v.source = res\n",
    "        return res\n",
    "    \n",
    "    def inherit_funcs(self, other):\n",
    "        \"\"\"This function can be used to inherit new functionalities from a subclass. This is a patch to solve\n",
    "        the fact that python does provide extensions of classes that are defined in a different file that are\n",
    "        dynamic enough for our use case.\"\"\"\n",
    "        assert issubclass(other, self.__class__)\n",
    "        self.__class__ = other"
   ]
  },
  {
   "cell_type": "code",
   "execution_count": null,
   "metadata": {},
   "outputs": [
    {
     "data": {
      "text/markdown": [
       "<h4 id=\"ItemBase.add_edge\" class=\"doc_header\"><code>ItemBase.add_edge</code><a href=\"__main__.py#L32\" class=\"source_link\" style=\"float:right\">[source]</a></h4>\n",
       "\n",
       "> <code>ItemBase.add_edge</code>(**`name`**, **`val`**)\n",
       "\n",
       "Creates an edge of type name and makes it point to val"
      ],
      "text/plain": [
       "<IPython.core.display.Markdown object>"
      ]
     },
     "metadata": {},
     "output_type": "display_data"
    }
   ],
   "source": [
    "show_doc(ItemBase.add_edge)"
   ]
  },
  {
   "cell_type": "code",
   "execution_count": null,
   "metadata": {},
   "outputs": [
    {
     "data": {
      "text/markdown": [
       "<h4 id=\"ItemBase.is_expanded\" class=\"doc_header\"><code>ItemBase.is_expanded</code><a href=\"__main__.py#L41\" class=\"source_link\" style=\"float:right\">[source]</a></h4>\n",
       "\n",
       "> <code>ItemBase.is_expanded</code>()\n",
       "\n",
       "returns whether the node is expanded. An expanded node retrieved nodes that are *directly* connected to it\n",
       "from the pod, and stored their values via edges in the object."
      ],
      "text/plain": [
       "<IPython.core.display.Markdown object>"
      ]
     },
     "metadata": {},
     "output_type": "display_data"
    }
   ],
   "source": [
    "show_doc(ItemBase.is_expanded)"
   ]
  },
  {
   "cell_type": "code",
   "execution_count": null,
   "metadata": {},
   "outputs": [
    {
     "data": {
      "text/markdown": [
       "<h4 id=\"ItemBase.expand\" class=\"doc_header\"><code>ItemBase.expand</code><a href=\"__main__.py#L89\" class=\"source_link\" style=\"float:right\">[source]</a></h4>\n",
       "\n",
       "> <code>ItemBase.expand</code>(**`api`**)\n",
       "\n",
       "Expands a node (retrieves all directly connected nodes ands adds to object)."
      ],
      "text/plain": [
       "<IPython.core.display.Markdown object>"
      ]
     },
     "metadata": {},
     "output_type": "display_data"
    }
   ],
   "source": [
    "show_doc(ItemBase.expand)"
   ]
  },
  {
   "cell_type": "code",
   "execution_count": null,
   "metadata": {},
   "outputs": [
    {
     "data": {
      "text/markdown": [
       "<h4 id=\"ItemBase.inherit_funcs\" class=\"doc_header\"><code>ItemBase.inherit_funcs</code><a href=\"__main__.py#L125\" class=\"source_link\" style=\"float:right\">[source]</a></h4>\n",
       "\n",
       "> <code>ItemBase.inherit_funcs</code>(**`other`**)\n",
       "\n",
       "This function can be used to inherit new functionalities from a subclass. This is a patch to solve the fact\n",
       "that python does provide extensions of classes that are defined in a different file that are dynamic enough for\n",
       "our use case."
      ],
      "text/plain": [
       "<IPython.core.display.Markdown object>"
      ]
     },
     "metadata": {},
     "output_type": "display_data"
    }
   ],
   "source": [
    "show_doc(ItemBase.inherit_funcs)"
   ]
  },
  {
   "cell_type": "markdown",
   "metadata": {},
   "source": [
    "With the Item and Edge classes we can create an item and its surrounding graph. The schema is defined in schema.py, in general we want to use the from_data staticmethod to generate new items, because it ensures that edges are linked from both the source and the target object. Let's make an email item and create it in the pod."
   ]
  },
  {
   "cell_type": "code",
   "execution_count": null,
   "metadata": {},
   "outputs": [],
   "source": [
    "# hide\n",
    "from integrators.data.schema import *"
   ]
  },
  {
   "cell_type": "code",
   "execution_count": null,
   "metadata": {},
   "outputs": [],
   "source": [
    "item = EmailMessage.from_data(content=\"example content field\")"
   ]
  },
  {
   "cell_type": "markdown",
   "metadata": {},
   "source": [
    "# Export -"
   ]
  },
  {
   "cell_type": "code",
   "execution_count": null,
   "metadata": {},
   "outputs": [
    {
     "name": "stdout",
     "output_type": "stream",
     "text": [
      "Converted basic.ipynb.\n",
      "Converted index.ipynb.\n",
      "Converted indexers.GeoIndexer.ipynb.\n",
      "Converted indexers.NoteListIndexer.NoteList.ipynb.\n",
      "Converted indexers.NoteListIndexer.Parser.ipynb.\n",
      "Converted indexers.NoteListIndexer.util.ipynb.\n",
      "Converted indexers.indexer.ipynb.\n",
      "Converted itembase.ipynb.\n",
      "Converted pod.client.ipynb.\n"
     ]
    }
   ],
   "source": [
    "# hide\n",
    "from nbdev.export import *\n",
    "notebook2script()"
   ]
  },
  {
   "cell_type": "code",
   "execution_count": null,
   "metadata": {},
   "outputs": [],
   "source": []
  }
 ],
 "metadata": {
  "kernelspec": {
   "display_name": "Python 3",
   "language": "python",
   "name": "python3"
  }
 },
 "nbformat": 4,
 "nbformat_minor": 4
}

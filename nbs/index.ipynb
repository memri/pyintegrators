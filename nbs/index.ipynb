{
 "cells": [
  {
   "cell_type": "code",
   "execution_count": null,
   "metadata": {},
   "outputs": [],
   "source": [
    "# hide\n",
    "from integrators import *"
   ]
  },
  {
   "cell_type": "markdown",
   "metadata": {},
   "source": [
    "# pyintegrators\n",
    "> Integrators integrate your information in your Pod. They import data from external services (Gmail, WhatsApp, etc.), enrich data with indexers (face recognition, spam detection, etc.), and execute actions (sending messages, uploading files, etc.)."
   ]
  },
  {
   "cell_type": "markdown",
   "metadata": {},
   "source": [
    "\n",
    "# Overview\n",
    "\n",
    "Pyintegrators currently has the following integrators:"
   ]
  },
  {
   "cell_type": "code",
   "execution_count": null,
   "metadata": {},
   "outputs": [
    {
     "name": "stdout",
     "output_type": "stream",
     "text": [
      "testing importers.EmailImporter.ipynb\n",
      "testing indexers.FaceRecognitionIndexer.ipynb\n",
      "testing indexers.GeoIndexer.ipynb\n",
      "testing indexers.NoteListIndexer.ipynb\n"
     ]
    }
   ],
   "source": [
    "# hide\n",
    "from IPython.display import Markdown as md\n",
    "import integrators.integrator_registry\n",
    "from integrators.data.basic import *\n",
    "from integrators.imports import *\n",
    "from nbdev.cli import _test_one\n",
    "\n",
    "def get_notebook_from_cls(cls):\n",
    "    path = inspect.getfile(cls)\n",
    "    f_content = read_file(path)\n",
    "    file = re.search(\"(?<=File to edit: )[^\\s]*\", f_content).group()\n",
    "    return file[4:] # remove 'nbs/'\n",
    "\n",
    "txt_passing = '![Build passing](https://gitlab.memri.io/memri/pyintegrators/-/raw/prod/assets/build-passing.svg \"Build passing\")'\n",
    "txt_failing = '![Build failing](https://gitlab.memri.io/memri/pyintegrators/-/raw/prod/assets/build-failing.svg \"Build failing\")'\n",
    "\n",
    "table = f\"\"\"\n",
    "| Integrator | Description | Tests passing |\n",
    "|------------|-------------|---------------|\n",
    "\"\"\"\n",
    "\n",
    "for m in dir(integrators.integrator_registry):\n",
    "    if \"__\" not in m:\n",
    "        cls = getattr(integrators.integrator_registry, m)\n",
    "        nb = get_notebook_from_cls(cls)\n",
    "        test_succeeded = _test_one(nb, verbose=False)[0]\n",
    "        build_txt = txt_passing if test_succeeded else txt_failing\n",
    "        \n",
    "        table += f\"|`{cls.__name__}`|{cls.__doc__ if cls.__doc__ is not None else ''}| {build_txt}|\\n\""
   ]
  },
  {
   "cell_type": "code",
   "execution_count": null,
   "metadata": {},
   "outputs": [
    {
     "data": {
      "text/markdown": [
       "\n",
       "| Integrator | Description | Tests passing |\n",
       "|------------|-------------|---------------|\n",
       "|`EmailImporter`|Imports emails over imap.| ![Build passing](https://gitlab.memri.io/memri/pyintegrators/-/raw/prod/assets/build-passing.svg \"Build passing\")|\n",
       "|`FaceRecognitionIndexer`|Recognizes photos from faces.| ![Build passing](https://gitlab.memri.io/memri/pyintegrators/-/raw/prod/assets/build-passing.svg \"Build passing\")|\n",
       "|`GeoIndexer`|Adds Countries and Cities to items with a location.| ![Build passing](https://gitlab.memri.io/memri/pyintegrators/-/raw/prod/assets/build-passing.svg \"Build passing\")|\n",
       "|`NotesListIndexer`|Extracts lists from notes and categorizes them.| ![Build passing](https://gitlab.memri.io/memri/pyintegrators/-/raw/prod/assets/build-passing.svg \"Build passing\")|\n"
      ],
      "text/plain": [
       "<IPython.core.display.Markdown object>"
      ]
     },
     "execution_count": null,
     "metadata": {},
     "output_type": "execute_result"
    }
   ],
   "source": [
    "# hide_input\n",
    "md(table)"
   ]
  },
  {
   "cell_type": "markdown",
   "metadata": {},
   "source": [
    "\n",
    "\n",
    "Every integrator has its own documentation with usage examples. Memri integrators work like plugins, and they are really easy to write yourself. A good place to start would be to check out the `GeoIndexer`, a super simple integrator that shows how you can build your own."
   ]
  },
  {
   "cell_type": "markdown",
   "metadata": {},
   "source": [
    "Integrators for Memri have a single repository per language, this repository is the one for Python, but others exist for [Node.js](https://gitlab.memri.io/memri/nodeintegrators) and [Rust](https://gitlab.memri.io/memri/rustintegrators)."
   ]
  },
  {
   "cell_type": "markdown",
   "metadata": {},
   "source": [
    "# Development\n",
    "\n",
    "## Install\n",
    "To install the Python package:\n",
    "```bash\n",
    "pip install -e . \n",
    "```\n",
    "\n",
    "## nbdev\n",
    "This repository makes use of [nbdev](https://github.com/fastai/nbdev), which means all code, documentation and tests are written in [Jupyter Notebooks](https://jupyter.readthedocs.io/en/latest/install/notebook-classic.html). The notebooks are used to generate a Python package, Jekyll documentation and unit tests with nbdev commands.\n",
    "\n",
    "### nbdev tags\n",
    "In nbdev we can use cell tags to specify different usage of a cell. See the [nbdev documentation](https://nbdev.fast.ai/) for a all functionalities and tutorials. The most important tags are listed below.\n",
    "\n",
    "- Notebooks that start their name with an underscore, are ignored by nbdev completely\n",
    "- Add `#default_exp <packagename>.<modulename>` to the top of your notebook to define the Python module to export to\n",
    "- Add `#export` to the cells that define functions to include in the Python modules.\n",
    "- All cells without the `#export` tag, are tests by default\n",
    "- All cells are included in the documentation, unless you add the keyword `#hide`\n",
    "\n",
    "### nbdev CLI \n",
    "After developing your code in Notebooks, you can use the nbdev CLI:\n",
    "- `nbdev_build_lib` to convert the Notebooks to the library and tests \n",
    "- `nbdev_test_nbs` to run the tests\n",
    "- `nbdev_build_docs` to generate the docs\n",
    "- `nbdev_clean_nbs` to clean the Notebooks' metadata to prevent Git conflicts. *In practice you don't have to use this, as explained in the section below.*\n",
    "\n",
    "## Contributing\n",
    "As a first step, run `nbdev_install_git_hooks` in the terminal from your project folder. This will set up git hooks which will remove metadata from your notebooks when you commit (with `nbdev_clean_nbs`), greatly reducing the chance you have a conflict.\n",
    "\n",
    "Before you make a merge request, make sure that you ran `nbdev_build_lib` and check that the tests pass, or GitLab's CI won't pass."
   ]
  },
  {
   "cell_type": "markdown",
   "metadata": {},
   "source": [
    "# Deployment"
   ]
  },
  {
   "cell_type": "markdown",
   "metadata": {},
   "source": [
    "In order to use integrators from one of the front-end applications (e.g. iOS), you need to build a docker image with your integrator. Build it with:\n",
    "```bash\n",
    "./tools/build_docker.sh\n",
    "```"
   ]
  },
  {
   "cell_type": "markdown",
   "metadata": {},
   "source": [
    "We are planning to allow running a local script instead of a docker image during development. However, if you want to make your integrator available for public use, you will need to build a docker image. We can help you with that if you run into any problems, reach out at our [forum](http://discourse.memri.io)."
   ]
  },
  {
   "cell_type": "markdown",
   "metadata": {},
   "source": [
    "# Docs\n",
    "Find the online docs at [pyintegrators.docs.memri.io](https://pyintegrators.docs.memri.io/). The new documentation is automatically generated from the `prod`  branch.\n",
    "\n",
    "\n",
    "## Render documentation locally\n",
    "To inspect the documentation locally, you need to [install Jekyll](https://jekyllrb.com/docs/installation/).\n",
    "\n",
    "Build the documentation with:\n",
    "```bash\n",
    "cd docs\n",
    "gem update --system \n",
    "bundle install\n",
    "```\n",
    "\n",
    "Serve the documentation with:\n",
    "```bash\n",
    "bundle exec jekyll serve\n",
    "```"
   ]
  },
  {
   "cell_type": "code",
   "execution_count": null,
   "metadata": {},
   "outputs": [],
   "source": []
  }
 ],
 "metadata": {
  "kernelspec": {
   "display_name": "Python 3",
   "language": "python",
   "name": "python3"
  }
 },
 "nbformat": 4,
 "nbformat_minor": 2
}

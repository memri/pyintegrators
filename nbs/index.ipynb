{
 "cells": [
  {
   "cell_type": "code",
   "execution_count": null,
   "metadata": {},
   "outputs": [],
   "source": [
    "# hide\n",
    "from integrators import *"
   ]
  },
  {
   "cell_type": "markdown",
   "metadata": {},
   "source": [
    "# pyintegrators\n",
    "> Integrators integrate your information in your Pod. They import data from external services (Gmail, WhatsApp, etc.), enrich data with indexers (face recognition, spam detection, etc.), and execute actions (sending messages, uploading files, etc.)."
   ]
  },
  {
   "cell_type": "markdown",
   "metadata": {},
   "source": [
    "\n",
    "# Overview\n",
    "We start by listing the existing indexers and their functionalities, make sure to check out their pages for usage examples."
   ]
  },
  {
   "cell_type": "code",
   "execution_count": null,
   "metadata": {},
   "outputs": [
    {
     "name": "stdout",
     "output_type": "stream",
     "text": [
      "testing importers.EmailImporter.ipynb\n",
      "testing indexers.FaceClusteringIndexer.indexer.ipynb\n",
      "testing indexers.GeoIndexer.ipynb\n",
      "testing indexers.NoteListIndexer.ipynb\n"
     ]
    }
   ],
   "source": [
    "# hide\n",
    "from IPython.display import Markdown as md\n",
    "import integrators.integrator_registry\n",
    "from integrators.data.basic import *\n",
    "from integrators.imports import *\n",
    "from nbdev.test import _test_one\n",
    "\n",
    "def get_notebook_from_cls(cls):\n",
    "    path = inspect.getfile(cls)\n",
    "    f_content = read_file(path)\n",
    "    file = re.search(\"(?<=File to edit: )[^\\s]*\", f_content).group()\n",
    "    return file[4:] # remove 'nbs/'\n",
    "\n",
    "txt_passing = '![Build passing](https://gitlab.memri.io/memri/pyintegrators/-/raw/prod/assets/build-passing.svg \"Build passing\")'\n",
    "txt_failing = '![Build failing](https://gitlab.memri.io/memri/pyintegrators/-/raw/prod/assets/build-failing.svg \"Build failing\")'\n",
    "\n",
    "table = f\"\"\"\n",
    "| Integrator | Description | Tests passing |\n",
    "|------------|-------------|---------------|\n",
    "\"\"\"\n",
    "\n",
    "for m in dir(integrators.integrator_registry):\n",
    "    if \"__\" not in m:\n",
    "        cls = getattr(integrators.integrator_registry, m)\n",
    "        nb = get_notebook_from_cls(cls)\n",
    "        test_succeeded = _test_one(nb, verbose=False)[0]\n",
    "        build_txt = txt_passing if test_succeeded else txt_failing\n",
    "        \n",
    "        table += f\"|`{cls.__name__}`|{cls.__doc__ if cls.__doc__ is not None else ''}| {build_txt}|\\n\""
   ]
  },
  {
   "cell_type": "code",
   "execution_count": null,
   "metadata": {},
   "outputs": [
    {
     "data": {
      "text/markdown": [
       "\n",
       "| Integrator | Description | Tests passing |\n",
       "|------------|-------------|---------------|\n",
       "|`EmailImporter`|Imports emails over imap| ![Build passing](https://gitlab.memri.io/memri/pyintegrators/-/raw/prod/assets/build-passing.svg \"Build passing\")|\n",
       "|`FaceClusteringIndexer`|| ![Build passing](https://gitlab.memri.io/memri/pyintegrators/-/raw/prod/assets/build-passing.svg \"Build passing\")|\n",
       "|`GeoIndexer`|Adds Countries and Cities to items with a location.| ![Build passing](https://gitlab.memri.io/memri/pyintegrators/-/raw/prod/assets/build-passing.svg \"Build passing\")|\n",
       "|`NotesListIndexer`|Extracts lists from notes and categorizes them.| ![Build passing](https://gitlab.memri.io/memri/pyintegrators/-/raw/prod/assets/build-passing.svg \"Build passing\")|\n"
      ],
      "text/plain": [
       "<IPython.core.display.Markdown object>"
      ]
     },
     "execution_count": null,
     "metadata": {},
     "output_type": "execute_result"
    }
   ],
   "source": [
    "# hide_input\n",
    "md(table)"
   ]
  },
  {
   "cell_type": "markdown",
   "metadata": {},
   "source": [
    "Integrators for Memri have a single repository per language, this repository is the one for Python, but others exist for [Node.js](https://gitlab.memri.io/memri/nodeintegrators) and [Rust](https://gitlab.memri.io/memri/rustintegrators). This repository makes use of [nbdev](https://github.com/fastai/nbdev), which means all code, documentation and tests are made in Jupyter Notebooks and exported to a Python package, a Jekyll documentation and unit tests."
   ]
  },
  {
   "cell_type": "markdown",
   "metadata": {},
   "source": [
    "## Using Docker \n",
    "Integrators are invoked by the Pod by launching a Docker container. To build the images for these containers, run:\n",
    "```bash\n",
    "docker build -t memri-pyintegrators .\n",
    "```"
   ]
  },
  {
   "cell_type": "markdown",
   "metadata": {},
   "source": [
    "## Local build\n",
    "### Install\n",
    "To install the Python package:\n",
    "```bash\n",
    "pip install -e . \n",
    "```\n",
    "\n",
    "If you want to contribute, you have to clean the Jupyter Notebooks every time before you push code to prevent conflicts \n",
    "in the Notebooks' metadata. A script to do so can be installed using:\n",
    "```bash\n",
    "nbdev_install_git_hooks\n",
    "```\n",
    "\n",
    "### Jupyter Notebooks\n",
    "The Python integrators are written in nbdev. With nbdev, you write all code in \n",
    "[Jupyter Notebooks](https://jupyter.readthedocs.io/en/latest/install/notebook-classic.html), and generate the library, documentation and tests using the nbdev CLI. \n",
    "\n",
    "### nbdev\n",
    "With nbdev we create the code in Notebooks, where we specify the use off cells using special tags. See the [nbdev documentation](https://nbdev.fast.ai/) for a all functionalities and tutorials, the most important tags are listed below.\n",
    "\n",
    "#### nbdev tags\n",
    "- Notebooks that start their name with an underscore, are ignored by nbdev completely\n",
    "- Add `#default_exp <packagename>.<modulename>` to the top of your notebook to define the Python module to export to\n",
    "- Add `#export` to the cells that define functions to include in the Python modules.\n",
    "- All cells without the `#export` tag, are tests by default\n",
    "- All cells are included in the documentation, unless you add the keyword `#hide`\n",
    "\n",
    "#### nbdev CLI \n",
    "After developing your code in Notebooks, you can use the nbdev CLI:\n",
    "- `nbdev_build_lib` to convert the Notebooks to the library and tests \n",
    "- `nbdev_test_nbs` to run the tests\n",
    "- `nbdev_build_docs` to generate the docs\n",
    "- `nbdev_clean_nbs` to clean the Notebooks' metadata to prevent Git conflicts\n",
    "\n",
    "### Contributing\n",
    "Before you make a merge request, make sure that you used all the nbdev commands specified above, or GitLab's CI won't pass."
   ]
  },
  {
   "cell_type": "markdown",
   "metadata": {},
   "source": [
    "## Docs\n",
    "Find the online docs at [pyintegrators.docs.memri.io](https://pyintegrators.docs.memri.io/).\n",
    "\n",
    "### Render documentation locally\n",
    "New documentation will be deployed automatically when a new version is released to the `prod`  branch. To inspect the documentation beforehand, you can run it local machine by [installing Jekyll](https://jekyllrb.com/docs/installation/).\n",
    "\n",
    "To build the documentation:\n",
    "```bash\n",
    "cd docs\n",
    "gem update --system \n",
    "bundle install\n",
    "```\n",
    "\n",
    "To serve the documentation:\n",
    "```bash\n",
    "bundle exec jekyll serve\n",
    "```"
   ]
  }
 ],
 "metadata": {
  "kernelspec": {
   "display_name": "Python 3",
   "language": "python",
   "name": "python3"
  }
 },
 "nbformat": 4,
 "nbformat_minor": 2
}

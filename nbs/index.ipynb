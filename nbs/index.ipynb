{
 "cells": [
  {
   "cell_type": "code",
   "execution_count": null,
   "metadata": {},
   "outputs": [],
   "source": [
    "# hide\n",
    "from integrators import *"
   ]
  },
  {
   "cell_type": "markdown",
   "metadata": {},
   "source": [
    "# pyintegrators\n",
    "\n",
    "> Integrators connect the information in your Pod. They <b>import your data from external services</b> using <i>Importers</i> (Gmail, WhatsApp, etc.), <b>connect new data to the existing data</b> using <i>indexers</i> (face recognition, spam detection, object detection), and <b>execute actions</b> (sending messages, uploading files)."
   ]
  },
  {
   "cell_type": "markdown",
   "metadata": {},
   "source": [
    "[![Gitlab pipeline status (self-hosted)](https://img.shields.io/gitlab/pipeline/memri/pyintegrators/dev?gitlab_url=https%3A%2F%2Fgitlab.memri.io)](https://gitlab.memri.io/memri/pyintegrators/-/pipelines/latest)\n",
    "[![GitHub last commit](https://img.shields.io/github/last-commit/memri/pyintegrators)](https://gitlab.memri.io/memri/pyintegrators/-/commits/dev)\n",
    "[![Discourse status](https://img.shields.io/discourse/status?logo=Discourse&server=https%3A%2F%2Fdiscourse.memri.io)](https://discourse.memri.io) \n",
    "[![Twitter URL](https://img.shields.io/twitter/url?label=%40YourMemri&logo=twitter&style=plastic&url=https%3A%2F%2Ftwitter.com%2FYourMemri)](https://twitter.com/YourMemri)"
   ]
  },
  {
   "cell_type": "markdown",
   "metadata": {},
   "source": [
    "Integrators for Memri have a single repository per language, this is the repository for Python integrators. Memri also has [Node.js integrators](https://gitlab.memri.io/memri/nodeintegrators). This repository is built with [nbdev](https://github.com/fastai/nbdev), which means that the repo structure has a few differences compared to a standard python repo. The documentation for this repo is hosted on [https://pyintegrators.memri.io/integrators/](https://pyintegrators.memri.io/integrators/)."
   ]
  },
  {
   "cell_type": "markdown",
   "metadata": {},
   "source": [
    "# Installing\n",
    "Pyintegrators can be installed for two purposes: 1) For local development we recommend to install using pip 2) For deployment we recommend to install using docker. **Currently, the only way to call integrators from the [memri](https://gitlab.memri.io/memri/browser-application) [clients](https://gitlab.memri.io/memri/ios-application)  is using docker, this will change soon.**"
   ]
  },
  {
   "cell_type": "markdown",
   "metadata": {},
   "source": [
    "## Install with pip\n",
    "To install the Python package, and correctly setup nbdev for development run:\n",
    "```bash\n",
    "pip install -e . && nbdev_install_git_hooks\n",
    "```\n",
    "The last command configures git to automatically cleans metadata from your notebooks before a commit."
   ]
  },
  {
   "cell_type": "markdown",
   "metadata": {},
   "source": [
    "## Install with Docker \n",
    "The normal flow to run an integrator is from the client, by calling the [pods](https://gitlab.memri.io/memri/pod) `run_integrator` api. Subsequently, the Integrator is invoked by the Pod by launching a Docker container. To build the image for this container, run:\n",
    "```bash\n",
    "docker build -t memri-pyintegrators .\n",
    "```"
   ]
  },
  {
   "cell_type": "markdown",
   "metadata": {},
   "source": [
    "## Overview\n",
    "Pyintegrators currently provides the following integrators. Make sure to check out the documentation for tutorials and usage instructions."
   ]
  },
  {
   "cell_type": "code",
   "execution_count": null,
   "metadata": {},
   "outputs": [
    {
     "name": "stdout",
     "output_type": "stream",
     "text": [
      "testing importers.EmailImporter.ipynb\n",
      "testing indexers.FaceClusteringIndexer.indexer.ipynb\n",
      "testing indexers.GeoIndexer.ipynb\n",
      "testing indexers.NoteListIndexer.ipynb\n"
     ]
    }
   ],
   "source": [
    "# hide\n",
    "from IPython.display import Markdown as md\n",
    "import integrators.integrator_registry\n",
    "from integrators.data.basic import *\n",
    "from integrators.imports import *\n",
    "from nbdev.test import _test_one\n",
    "\n",
    "def get_notebook_from_cls(cls):\n",
    "    path = inspect.getfile(cls)\n",
    "    f_content = read_file(path)\n",
    "    file = re.search(\"(?<=File to edit: )[^\\s]*\", f_content).group()\n",
    "    return file[4:] # remove 'nbs/'\n",
    "\n",
    "txt_passing = '![Build passing](https://gitlab.memri.io/memri/pyintegrators/-/raw/prod/assets/build-passing.svg \"Build passing\")'\n",
    "txt_failing = '![Build failing](https://gitlab.memri.io/memri/pyintegrators/-/raw/prod/assets/build-failing.svg \"Build failing\")'\n",
    "\n",
    "table = f\"\"\"\n",
    "| Integrator | Description | Tests passing |\n",
    "|------------|-------------|---------------|\n",
    "\"\"\"\n",
    "\n",
    "for m in dir(integrators.integrator_registry):\n",
    "    if \"__\" not in m:\n",
    "        cls = getattr(integrators.integrator_registry, m)\n",
    "        nb = get_notebook_from_cls(cls)\n",
    "        test_succeeded = _test_one(nb, verbose=False)[0]\n",
    "        build_txt = txt_passing if test_succeeded else txt_failing\n",
    "        \n",
    "        table += f\"|`{cls.__name__}`|{cls.__doc__ if cls.__doc__ is not None else ''}| {build_txt}|\\n\""
   ]
  },
  {
   "cell_type": "code",
   "execution_count": null,
   "metadata": {},
   "outputs": [
    {
     "data": {
      "text/markdown": [
       "\n",
       "| Integrator | Description | Tests passing |\n",
       "|------------|-------------|---------------|\n",
       "|`EmailImporter`|Imports emails over imap.| ![Build passing](https://gitlab.memri.io/memri/pyintegrators/-/raw/prod/assets/build-passing.svg \"Build passing\")|\n",
       "|`FaceClusteringIndexer`|Clusters faces on photos.| ![Build passing](https://gitlab.memri.io/memri/pyintegrators/-/raw/prod/assets/build-passing.svg \"Build passing\")|\n",
       "|`GeoIndexer`|Adds Countries and Cities to items with a location.| ![Build passing](https://gitlab.memri.io/memri/pyintegrators/-/raw/prod/assets/build-passing.svg \"Build passing\")|\n",
       "|`NotesListIndexer`|Extracts lists from notes and categorizes them.| ![Build passing](https://gitlab.memri.io/memri/pyintegrators/-/raw/prod/assets/build-passing.svg \"Build passing\")|\n"
      ],
      "text/plain": [
       "<IPython.core.display.Markdown object>"
      ]
     },
     "execution_count": null,
     "metadata": {},
     "output_type": "execute_result"
    }
   ],
   "source": [
    "# hide_input\n",
    "md(table)"
   ]
  },
  {
   "cell_type": "markdown",
   "metadata": {},
   "source": [
    "## Nbdev & Jupyter Notebooks\n",
    "The Python integrators are written in [nbdev](https://nbdev.fast.ai/) ([video](https://www.youtube.com/watch?v=9Q6sLbz37gk&t=1301s)). With nbdev, it is encouraged to write code in \n",
    "[Jupyter Notebooks](https://jupyter.readthedocs.io/en/latest/install/notebook-classic.html). Nbdev syncs all the notebooks in `/nbs` with the python code in `/integrators`. Tests are written side by side with the code in the notebooks, and documentation is automatically generated from the code and markdown in the notebooks and exported into the `/docs` folder. Check out the [nbdev quickstart](wiki/nbdev_quickstart.md) for an introduction, **watch the video linked above**, or see the [nbdev documentation](https://nbdev.fast.ai/) for a all functionalities and tutorials."
   ]
  },
  {
   "cell_type": "markdown",
   "metadata": {},
   "source": [
    "### Contributing\n",
    "When you make a merge request, make sure that you used all the nbdev commands specified in the [quickstart](wiki/nbdev_quickstart.md)."
   ]
  },
  {
   "cell_type": "markdown",
   "metadata": {},
   "source": [
    "## Render documentation locally\n",
    "New documentation will be deployed automatically when a new version is released to the `prod`  branch. To inspect the documentation beforehand, you can run it local machine by [installing Jekyll](https://jekyllrb.com/docs/installation/).\n",
    "\n",
    "To build the documentation:\n",
    "```bash\n",
    "cd docs\n",
    "gem update --system \n",
    "bundle install\n",
    "```\n",
    "\n",
    "To serve the documentation:\n",
    "```bash\n",
    "bundle exec jekyll serve\n",
    "```"
   ]
  },
  {
   "cell_type": "code",
   "execution_count": null,
   "metadata": {},
   "outputs": [],
   "source": []
  }
 ],
 "metadata": {
  "kernelspec": {
   "display_name": "Python 3",
   "language": "python",
   "name": "python3"
  }
 },
 "nbformat": 4,
 "nbformat_minor": 2
}

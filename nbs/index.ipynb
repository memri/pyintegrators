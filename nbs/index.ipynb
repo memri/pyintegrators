{
 "cells": [
  {
   "cell_type": "code",
   "execution_count": null,
   "metadata": {},
   "outputs": [],
   "source": [
    "# hide\n",
    "from integrators import *"
   ]
  },
  {
   "cell_type": "markdown",
   "metadata": {},
   "source": [
    "# Integrators\n",
    "\n",
    "> Integrators integrate your information in the pod. They import your data from external services (gmail, whatsapp, icloud, facebook etc.), enrich your data with indexers (face recognition, spam detection, duplicate photo detection), and execute actions (sending mails, automatically share selected photo's with your family)."
   ]
  },
  {
   "cell_type": "markdown",
   "metadata": {},
   "source": [
    "Integrators for memri have a single repo per language, this repo the one for python, but other repo's exist for [node](https://gitlab.memri.io/memri/nodeintegrators) and in the future for rust. This repo is build with [nbdev](https://github.com/fastai/nbdev) and therefore all code/documentation/tests are written in one place as jupyter notebooks and exported to a python-package/jekyll-website/unit-tests."
   ]
  },
  {
   "cell_type": "markdown",
   "metadata": {},
   "source": [
    "## Install"
   ]
  },
  {
   "cell_type": "markdown",
   "metadata": {},
   "source": [
    "`pip install -e integrators`\n",
    "\n",
    "`nbdev_install_git_hooks`"
   ]
  },
  {
   "cell_type": "markdown",
   "metadata": {},
   "source": [
    "This last command clears your notebooks of unnecessary metadata"
   ]
  },
  {
   "cell_type": "markdown",
   "metadata": {},
   "source": [
    "## How to develop with nbdev"
   ]
  },
  {
   "cell_type": "markdown",
   "metadata": {},
   "source": [
    "The [nbdev website](https://github.com/fastai/nbdev) obviously contains great docs that will help you understand how to develop with it. If you don't want to read that, the most important things to get you started are:\n",
    "\n",
    "- Add `#export` flags to the cells that define the functions you want to include in your python modules.\n",
    "- Add `#default_exp <packagename>.<modulename>` to the top of your notebook to define the python module to export to.\n",
    "\n",
    "When you are done writing your code in notebooks, call `nbdev_build_lib` to convert the notebooks to code and tests."
   ]
  },
  {
   "cell_type": "markdown",
   "metadata": {},
   "source": [
    "### Run tests"
   ]
  },
  {
   "cell_type": "markdown",
   "metadata": {},
   "source": [
    "Every cell without the `#export` flag will be a test. So make sure that the code in notebooks runs fast and without errors. You can run all tests by calling.\n",
    "\n",
    "`nbdev_test_nbs`"
   ]
  },
  {
   "cell_type": "markdown",
   "metadata": {},
   "source": [
    "## Docs"
   ]
  },
  {
   "cell_type": "markdown",
   "metadata": {},
   "source": [
    "If you want to hide certain functionality in the docs, you can use the `# hide` flag in the top of a cell"
   ]
  },
  {
   "cell_type": "markdown",
   "metadata": {},
   "source": [
    "### Render docs locally"
   ]
  },
  {
   "cell_type": "markdown",
   "metadata": {},
   "source": [
    "First install Jekyll:\n",
    "\n",
    "`gem install bundler jekyll`\n",
    "\n",
    "`bundle install`\n",
    "\n",
    "Then, run the Jekyll server:\n",
    "\n",
    "`cd docs`\n",
    "\n",
    "`bundle exec jekyll serve`"
   ]
  }
 ],
 "metadata": {
  "kernelspec": {
   "display_name": "Python 3",
   "language": "python",
   "name": "python3"
  }
 },
 "nbformat": 4,
 "nbformat_minor": 2
}

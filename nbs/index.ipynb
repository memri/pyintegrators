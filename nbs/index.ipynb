{
 "cells": [
  {
   "cell_type": "code",
   "execution_count": null,
   "metadata": {},
   "outputs": [],
   "source": [
    "# hide\n",
    "from integrators import *"
   ]
  },
  {
   "cell_type": "markdown",
   "metadata": {},
   "source": [
    "# Integrators\n",
    "\n",
    "> Integrators integrate your information in the pod. They import your data from external services (gmail, whatsapp, icloud, facebook etc.), enrich your data with indexers (face recognition, spam detection, duplicate photo detection), and execute actions (sending mails, automatically share selected photo's with your family)."
   ]
  },
  {
   "cell_type": "code",
   "execution_count": null,
   "metadata": {},
   "outputs": [
    {
     "name": "stdout",
     "output_type": "stream",
     "text": [
      "testing indexers.FaceRecognitionIndexer.ipynb\n",
      "testing indexers.GeoIndexer.ipynb\n",
      "testing indexers.NoteListIndexer.ipynb\n"
     ]
    }
   ],
   "source": [
    "# hide\n",
    "from IPython.display import Markdown as md\n",
    "import integrators.integrator_registry\n",
    "from integrators.data.basic import *\n",
    "from integrators.imports import *\n",
    "from nbdev.cli import _test_one\n",
    "\n",
    "def get_notebook_from_cls(cls):\n",
    "    path = inspect.getfile(cls)\n",
    "    f_content = read_file(path)\n",
    "    file = re.search(\"(?<=File to edit: )[^\\s]*\", f_content).group()\n",
    "    return file[4:] # remove 'nbs/'\n",
    "\n",
    "txt_passing = '![alt text](https://gitlab.memri.io/memri/pyintegrators/-/raw/face-indexer/assets/build-passing.svg \"Logo Title Text 1\")'\n",
    "txt_failing = '![alt text](https://gitlab.memri.io/memri/pyintegrators/-/raw/face-indexer/assets/build-failing.svg \"Logo Title Text 1\")'\n",
    "\n",
    "table = f\"\"\"\n",
    "| Integrator | Description | Tests passing |\n",
    "|------------|-------------|---------------|\n",
    "\"\"\"\n",
    "\n",
    "for m in dir(integrators.integrator_registry):\n",
    "    if \"__\" not in m:\n",
    "        cls = getattr(integrators.integrator_registry, m)\n",
    "        nb = get_notebook_from_cls(cls)\n",
    "        test_succeeded = _test_one(nb, verbose=False)[0]\n",
    "        build_txt = txt_passing if test_succeeded else txt_failing\n",
    "        \n",
    "        table += f\"|`{cls.__name__}`|{cls.__doc__ if cls.__doc__ is not None else ''}| {build_txt}|\\n\""
   ]
  },
  {
   "cell_type": "code",
   "execution_count": null,
   "metadata": {},
   "outputs": [
    {
     "data": {
      "text/markdown": [
       "\n",
       "| Integrator | Description | Tests passing |\n",
       "|------------|-------------|---------------|\n",
       "|`FaceRecognitionIndexer`|Recognizes photos from faces.| ![alt text](https://gitlab.memri.io/memri/pyintegrators/-/raw/face-indexer/assets/build-passing.svg \"Logo Title Text 1\")|\n",
       "|`GeoIndexer`|Adds Countries and Cities to items with a location.| ![alt text](https://gitlab.memri.io/memri/pyintegrators/-/raw/face-indexer/assets/build-passing.svg \"Logo Title Text 1\")|\n",
       "|`NotesListIndexer`|Extracts lists from notes and categorizes them.| ![alt text](https://gitlab.memri.io/memri/pyintegrators/-/raw/face-indexer/assets/build-passing.svg \"Logo Title Text 1\")|\n"
      ],
      "text/plain": [
       "<IPython.core.display.Markdown object>"
      ]
     },
     "execution_count": null,
     "metadata": {},
     "output_type": "execute_result"
    }
   ],
   "source": [
    "# hide_input\n",
    "md(table)"
   ]
  },
  {
   "cell_type": "markdown",
   "metadata": {},
   "source": [
    "Integrators for memri have a single repo per language, this repo is the one for python, but other repo's exist for [node](https://gitlab.memri.io/memri/nodeintegrators) and we are planning to create one for rust. This repo is built with [nbdev](https://github.com/fastai/nbdev) and therefore all code/documentation/tests are written in one place as jupyter notebooks and exported to a python-package/jekyll-website/unit-tests."
   ]
  },
  {
   "cell_type": "markdown",
   "metadata": {},
   "source": [
    "## Install"
   ]
  },
  {
   "cell_type": "markdown",
   "metadata": {},
   "source": [
    "```\n",
    "pip install -e integrators\n",
    "nbdev_install_git_hooks\n",
    "```"
   ]
  },
  {
   "cell_type": "markdown",
   "metadata": {},
   "source": [
    "This last command clears your notebooks of unnecessary metadata when making a commit."
   ]
  },
  {
   "cell_type": "markdown",
   "metadata": {},
   "source": [
    "## Build"
   ]
  },
  {
   "cell_type": "markdown",
   "metadata": {},
   "source": [
    "To enable calling integrators from the [pod](https://gitlab.memri.io/memri/pod) the integrator docker containers needs to be built. *You can skip this if you are developing an indexer locally and you don't want to integrate with the pod yet.* To build, run:"
   ]
  },
  {
   "cell_type": "markdown",
   "metadata": {},
   "source": [
    "```\n",
    "./examples/build.sh\n",
    "```"
   ]
  },
  {
   "cell_type": "markdown",
   "metadata": {},
   "source": [
    "Now, the pod is able to find the integrator container when calling it."
   ]
  },
  {
   "cell_type": "markdown",
   "metadata": {},
   "source": [
    "## How to develop with nbdev"
   ]
  },
  {
   "cell_type": "markdown",
   "metadata": {},
   "source": [
    "The python integrators are written in nbdev. With nbdev, you use jupyter notebooks as a single source of truth, and generate the library, documentation and tests from the notebooks. The [nbdev website](https://github.com/fastai/nbdev) contains great documentation that will help you understand how to develop with it. If you don't want to read that, the most important things to get you started are:\n",
    "\n",
    "- Add `#export` flags to the cells that define the functions you want to include in your python modules.\n",
    "- Add `#default_exp <packagename>.<modulename>` to the top of your notebook to define the python module to export to.\n",
    "- All cell's that are not exported are tests by default\n",
    "\n",
    "When you are done writing your code in notebooks, call `nbdev_build_lib` to convert the notebooks to code and tests. Call `nbdev_build_docs` to generate the docs."
   ]
  },
  {
   "cell_type": "markdown",
   "metadata": {},
   "source": [
    "### Run tests"
   ]
  },
  {
   "cell_type": "markdown",
   "metadata": {},
   "source": [
    "Every cell without the `#export` flag will be a test. So make sure that the code in notebooks runs fast and without errors. You can run all tests by calling.\n",
    "\n",
    "```\n",
    "nbdev_test_nbs\n",
    "```"
   ]
  },
  {
   "cell_type": "markdown",
   "metadata": {},
   "source": [
    "## Docs"
   ]
  },
  {
   "cell_type": "markdown",
   "metadata": {},
   "source": [
    "If you want to hide certain functionality in the docs, you can use the `#hide` flag in the top of a cell"
   ]
  },
  {
   "cell_type": "markdown",
   "metadata": {},
   "source": [
    "### Render docs locally"
   ]
  },
  {
   "cell_type": "markdown",
   "metadata": {},
   "source": [
    "Often you might want to check your docs locally before deploying them. To do so, first install Jekyll:\n",
    "\n",
    "```\n",
    "gem install bundler jekyll\n",
    "bundle install\n",
    "```\n",
    "\n",
    "\n",
    "Then, run the Jekyll server:\n",
    "\n",
    "```\n",
    "cd docs\n",
    "bundle exec jekyll serve\n",
    "```\n",
    "And thats it!"
   ]
  }
 ],
 "metadata": {
  "kernelspec": {
   "display_name": "Python 3",
   "language": "python",
   "name": "python3"
  }
 },
 "nbformat": 4,
 "nbformat_minor": 2
}

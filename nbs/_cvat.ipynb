{
 "cells": [
  {
   "cell_type": "code",
   "execution_count": null,
   "metadata": {},
   "outputs": [],
   "source": [
    "%load_ext autoreload\n",
    "%autoreload 2"
   ]
  },
  {
   "cell_type": "code",
   "execution_count": null,
   "metadata": {},
   "outputs": [],
   "source": [
    "from integrators.pod.client import PodClient\n",
    "from integrators.data.basic import *\n",
    "from integrators.importers.email import EmailImporter, DEFAULT_GMAIL_HOST\n",
    "from integrators.importers.util import *\n",
    "from integrators.imports import *\n",
    "from integrators.data.schema import *\n",
    "from io import BufferedReader, BytesIO\n",
    "from time import sleep\n",
    "\n",
    "import os\n",
    "import signal\n",
    "import subprocess\n",
    "import requests\n",
    "import time\n",
    "\n",
    "from selenium.webdriver import Chrome, ChromeOptions\n",
    "from webdriver_manager.chrome import ChromeDriverManager"
   ]
  },
  {
   "cell_type": "markdown",
   "metadata": {},
   "source": [
    "# Login"
   ]
  },
  {
   "cell_type": "code",
   "execution_count": null,
   "metadata": {},
   "outputs": [],
   "source": [
    "class CVATClient():\n",
    "    \n",
    "    def __init__(self, username=\"admin\", password=\"admin\", url=\"http://localhost\", port=8080):\n",
    "        self.base_url = f\"{url}:{port}/api/v1\"\n",
    "        self.username=username\n",
    "        self.password=password\n",
    "        self.session = requests.Session()\n",
    "        token = self.login(username, password)\n",
    "        self.session.headers.update({\"Authorization\": f\"Token {token}\",\n",
    "                                     \"Accept\": \"application/json\"})\n",
    "\n",
    "    def login(self, username, password):\n",
    "        data = {\"username\": username, \"password\": password}\n",
    "        res = self.session.post(f\"{self.base_url}/auth/login\", json=data)\n",
    "        res.raise_for_status()\n",
    "        return res.json()[\"key\"]\n",
    "    \n",
    "    def create_task(self, labels):\n",
    "        \"\"\"creates task by defining labels\"\"\"\n",
    "        res = self.session.post(f\"{self.base_url}/tasks\", json=labels)\n",
    "        res.raise_for_status()\n",
    "        return res.json()[\"id\"]\n",
    "    \n",
    "    def assert_upload_succes(self, task_id):\n",
    "        res = self.session.get(f\"{self.base_url}/tasks/{task_id}/data/meta\")\n",
    "        assert len(res.json()[\"frames\"]) > 0 \n",
    "        \n",
    "    def get_job(self, task_id):\n",
    "        res = self.session.get(f\"{self.base_url}/tasks/{task_id}/jobs\")\n",
    "        res.raise_for_status()\n",
    "        return res.json()[0][\"id\"]\n",
    "        \n",
    "    \n",
    "    def upload_data(self, task_id, file_buffers):\n",
    "        \"\"\"filebuffers of photos\"\"\"\n",
    "        files = {f\"client_files[{i}]\": f for i, f in enumerate(file_buffers)}\n",
    "        res = self.session.post(f\"{self.base_url}/tasks/{task_id}/data\",\n",
    "                           files=files,\n",
    "                           data={\"image_quality\": 70})\n",
    "        res.raise_for_status()\n",
    "        sleep(1)\n",
    "        self.assert_upload_succes(task_id)\n",
    "        # uploading data for a task automatically creates a \"job\", which we need to start annotating\n",
    "        # so we fetch it here and return\n",
    "        return self.get_job(task_id)\n",
    "    "
   ]
  },
  {
   "cell_type": "code",
   "execution_count": null,
   "metadata": {},
   "outputs": [],
   "source": [
    "c_client = CVATClient()"
   ]
  },
  {
   "cell_type": "markdown",
   "metadata": {},
   "source": [
    "# Define labels & Create project"
   ]
  },
  {
   "cell_type": "code",
   "execution_count": null,
   "metadata": {},
   "outputs": [],
   "source": [
    "labels = {\"name\":\"test\",\n",
    "          \"labels\":[{\"name\":\"label1\", \"attributes\": []},\n",
    "                    {\"name\":\"label2\", \"attributes\": [], \"color\":\"#7c0e99\"}]}"
   ]
  },
  {
   "cell_type": "code",
   "execution_count": null,
   "metadata": {},
   "outputs": [],
   "source": [
    "task_id = c_client.create_task(labels)"
   ]
  },
  {
   "cell_type": "markdown",
   "metadata": {},
   "source": [
    "# Add data"
   ]
  },
  {
   "cell_type": "markdown",
   "metadata": {},
   "source": [
    "When we add data, we automatically generate a job. We need this job id to go to the right url"
   ]
  },
  {
   "cell_type": "code",
   "execution_count": null,
   "metadata": {},
   "outputs": [],
   "source": [
    "folder = PYI_TESTDATA / \"photos\" / \"facerecognition\"\n",
    "paths = [folder / \"ellen1.png\", folder / \"celebs.jpg\"]\n",
    "file_buffers = [open(p, \"rb\") for p in paths]\n",
    "job_id = c_client.upload_data(task_id, file_buffers)"
   ]
  },
  {
   "cell_type": "markdown",
   "metadata": {},
   "source": [
    "## Open labeling"
   ]
  },
  {
   "cell_type": "code",
   "execution_count": null,
   "metadata": {},
   "outputs": [
    {
     "name": "stderr",
     "output_type": "stream",
     "text": [
      "[WDM] - Current google-chrome version is 88.0.4324\n",
      "[WDM] - Get LATEST driver version for 88.0.4324\n"
     ]
    },
    {
     "name": "stdout",
     "output_type": "stream",
     "text": [
      " \n"
     ]
    },
    {
     "name": "stderr",
     "output_type": "stream",
     "text": [
      "[WDM] - Get LATEST driver version for 88.0.4324\n",
      "[WDM] - Trying to download new driver from http://chromedriver.storage.googleapis.com/88.0.4324.96/chromedriver_mac64.zip\n",
      "[WDM] - Driver has been saved in cache [/Users/koen/.wdm/drivers/chromedriver/mac64/88.0.4324.96]\n"
     ]
    }
   ],
   "source": [
    "options = ChromeOptions()\n",
    "options.add_argument(\"--kiosk\")\n",
    "driver = Chrome(ChromeDriverManager().install())\n",
    "driver.maximize_window()\n",
    "driver.get(f\"http://localhost:8080\")\n",
    "username = driver.find_element_by_id(\"username\")\n",
    "pas = driver.find_element_by_id(\"password\")\n",
    "button = driver.find_element_by_class_name(\"login-form-button\")\n",
    "username.send_keys(\"admin\")\n",
    "pas.send_keys(\"admin\")\n",
    "button.click()\n",
    "sleep(1)\n",
    "driver.get(f\"http://localhost:8080/tasks/{task_id}/jobs/{job_id}\")"
   ]
  },
  {
   "cell_type": "markdown",
   "metadata": {},
   "source": [
    "## Apendix"
   ]
  },
  {
   "cell_type": "code",
   "execution_count": null,
   "metadata": {},
   "outputs": [],
   "source": [
    "# def generate_image_file(filename, size=(100, 50)):\n",
    "#     f = BytesIO()\n",
    "#     image = Image.new('RGB', size=size)\n",
    "#     image.save(f, 'jpeg')\n",
    "#     f.name = filename\n",
    "#     f.seek(0)\n",
    "#     return f"
   ]
  },
  {
   "cell_type": "code",
   "execution_count": null,
   "metadata": {},
   "outputs": [],
   "source": [
    "# import zipfile\n",
    "# from PIL import Image"
   ]
  },
  {
   "cell_type": "code",
   "execution_count": null,
   "metadata": {},
   "outputs": [],
   "source": [
    "# paths = \"test.jpg\"\n",
    "# f = BytesIO()\n",
    "# with zipfile.ZipFile(f, 'w') as archive:\n",
    "#     for path in paths:\n",
    "#         archive.writestr(path, generate_image_file(path).getvalue())\n",
    "# f.name = 'images.zip'\n",
    "# f.seek(0)\n",
    "\n",
    "# files= {'client_files[0]': f}"
   ]
  },
  {
   "cell_type": "code",
   "execution_count": null,
   "metadata": {},
   "outputs": [],
   "source": [
    "base_url = \"http://localhost:8080/api/v1\""
   ]
  },
  {
   "cell_type": "code",
   "execution_count": null,
   "metadata": {},
   "outputs": [],
   "source": [
    "session = requests.Session()\n",
    "data = {\"username\": \"admin\", \"password\": \"admin\"}\n",
    "res = session.post(f\"{base_url}/auth/login\", json=data)\n",
    "res.raise_for_status()\n",
    "token =  res.json()[\"key\"]\n",
    "session.headers.update({\"Authorization\": f\"Token {token}\",\n",
    "                             \"Accept\": \"application/json\"})"
   ]
  },
  {
   "cell_type": "code",
   "execution_count": null,
   "metadata": {},
   "outputs": [],
   "source": [
    "res = session.post(f\"{base_url}/tasks\", json=labels)\n",
    "res.raise_for_status()\n",
    "task_id = res.json()[\"id\"]"
   ]
  },
  {
   "cell_type": "code",
   "execution_count": null,
   "metadata": {},
   "outputs": [
    {
     "data": {
      "text/plain": [
       "51"
      ]
     },
     "execution_count": null,
     "metadata": {},
     "output_type": "execute_result"
    }
   ],
   "source": [
    "task_id"
   ]
  },
  {
   "cell_type": "code",
   "execution_count": null,
   "metadata": {},
   "outputs": [],
   "source": [
    "folder = PYI_TESTDATA / \"photos\" / \"facerecognition\""
   ]
  },
  {
   "cell_type": "code",
   "execution_count": null,
   "metadata": {},
   "outputs": [],
   "source": [
    "paths = [folder / \"ellen1.png\", folder / \"celebs.jpg\"]\n",
    "files = {f\"client_files[{i}]\": open(p, \"rb\") for i, p in enumerate(paths)}\n",
    "# files = {\"client_files[0]\": open(folder / \"ellen1.png\", \"rb\")}\n",
    "res = session.post(f\"{base_url}/tasks/{task_id}/data\",\n",
    "                   files=files,\n",
    "                   data={\"image_quality\": 70})"
   ]
  },
  {
   "cell_type": "code",
   "execution_count": null,
   "metadata": {},
   "outputs": [],
   "source": [
    "res = session.get(f\"{base_url}/tasks/{52}/data/meta\")\n"
   ]
  },
  {
   "cell_type": "code",
   "execution_count": null,
   "metadata": {},
   "outputs": [
    {
     "data": {
      "text/plain": [
       "[{'width': 1920, 'height': 1080, 'name': 'celebs.jpg'},\n",
       " {'width': 112, 'height': 112, 'name': 'ellen1.png'}]"
      ]
     },
     "execution_count": null,
     "metadata": {},
     "output_type": "execute_result"
    }
   ],
   "source": [
    "res.json()[\"frames\"]"
   ]
  },
  {
   "cell_type": "code",
   "execution_count": null,
   "metadata": {},
   "outputs": [],
   "source": [
    "res = c_client.session.get(f\"{base_url}/tasks/{52}/data/meta\")"
   ]
  }
 ],
 "metadata": {
  "kernelspec": {
   "display_name": "Python 3",
   "language": "python",
   "name": "python3"
  }
 },
 "nbformat": 4,
 "nbformat_minor": 4
}

{
 "cells": [
  {
   "cell_type": "code",
   "execution_count": null,
   "metadata": {},
   "outputs": [],
   "source": [
    "%load_ext autoreload\n",
    "%autoreload 2\n",
    "# default_exp importers.gmail"
   ]
  },
  {
   "cell_type": "code",
   "execution_count": null,
   "metadata": {},
   "outputs": [],
   "source": [
    "# export\n",
    "import imaplib, email\n",
    "from integrators.data.schema import Account, EmailMessage, MessageChannel\n",
    "from integrators.pod.client import PodClient\n",
    "from email import policy\n",
    "from email.utils import getaddresses\n",
    "from integrators.imports import *"
   ]
  },
  {
   "cell_type": "code",
   "execution_count": null,
   "metadata": {},
   "outputs": [],
   "source": [
    "x = Path(\"~\")"
   ]
  },
  {
   "cell_type": "code",
   "execution_count": null,
   "metadata": {},
   "outputs": [
    {
     "data": {
      "text/plain": [
       "PosixPath('/Users/koen')"
      ]
     },
     "execution_count": null,
     "metadata": {},
     "output_type": "execute_result"
    }
   ],
   "source": [
    "Path.home()"
   ]
  },
  {
   "cell_type": "code",
   "execution_count": null,
   "metadata": {},
   "outputs": [
    {
     "data": {
      "text/plain": [
       "PosixPath('/Users/koen/workspace/pyintegrators/nbs/~')"
      ]
     },
     "execution_count": null,
     "metadata": {},
     "output_type": "execute_result"
    }
   ],
   "source": [
    "x.resolve()"
   ]
  },
  {
   "cell_type": "markdown",
   "metadata": {},
   "source": [
    "# Email importer"
   ]
  },
  {
   "cell_type": "markdown",
   "metadata": {},
   "source": [
    "This is an email importer, it imports your emails from an email server using SMTP. It was tested on gmail, but should work for most SMTP-servers. _The recommended usage for Gmail is to enable two-factor authentication. In this case, make sure you allow [SMTP-connections](https://www.gmass.co/blog/gmail-smtp/) and have enabled an application password (explained in the same link):_"
   ]
  },
  {
   "cell_type": "markdown",
   "metadata": {},
   "source": [
    "## ImapClient\n",
    "\n",
    "This importer communicates with email providers over imap. We created a convenience class around pythons imaplib that lets you list your mailboxes, retriev your mails and get their content."
   ]
  },
  {
   "cell_type": "code",
   "execution_count": null,
   "metadata": {},
   "outputs": [],
   "source": [
    "# export\n",
    "DEFAULT_GMAIL_HOST = 'imap.gmail.com'\n",
    "DEFAULT_GMAIL_INBOX = '\"[Gmail]/All Mail\"' # Note the double quotes here\n",
    "DEFAULT_PORT = 993\n",
    "\n",
    "class IMAPClient():\n",
    "    \n",
    "    def __init__(self, username, app_pw, host=DEFAULT_GMAIL_HOST, port=DEFAULT_PORT, inbox=DEFAULT_GMAIL_INBOX):   \n",
    "        assert username is not None and app_pw is not None\n",
    "        self.client = imaplib.IMAP4_SSL(host, port=port)\n",
    "        self.client.login(username, app_pw)\n",
    "        self.client.select(inbox) # connect to inbox.\n",
    "        \n",
    "    def list_mailboxes(self):\n",
    "        return self.client.list()\n",
    "    \n",
    "    def get_all_mail_uids(self):\n",
    "        result, data = self.client.uid('search', None, \"ALL\") # search and return uids instead\n",
    "        return data[0].split()\n",
    "    \n",
    "    def get_mail(self, uid):\n",
    "        if self.client.host == DEFAULT_GMAIL_HOST:\n",
    "            # Use Google's threading method, in which every thread has an ID\n",
    "            result, (data, _) = self.client.uid('fetch', uid, '(RFC822 X-GM-THRID)')\n",
    "            thread_id = data[0].decode(\"utf-8\").split(\" \")[2]\n",
    "            raw_email = data[1]\n",
    "            return (raw_email, thread_id)\n",
    "        else:\n",
    "            # Threading not yet implemented for IMAP threading\n",
    "            result, (data, _) = self.client.uid('fetch', uid, '(RFC822)')\n",
    "            raw_email = data[1]\n",
    "            return (raw_email, None)\n",
    "\n",
    "def part_to_str(part):\n",
    "    bytes_ = part.get_payload(decode=True)\n",
    "    charset = part.get_content_charset('iso-8859-1')\n",
    "    chars = bytes_.decode(charset, 'replace')\n",
    "    return chars\n",
    "\n",
    "def _get_all_parts(part):\n",
    "    payload = part.get_payload()\n",
    "    if isinstance(payload, list):\n",
    "        return [x for p in payload for x in _get_all_parts(p)]\n",
    "    else:\n",
    "        return [part]"
   ]
  },
  {
   "cell_type": "markdown",
   "metadata": {},
   "source": [
    "## Utils"
   ]
  },
  {
   "cell_type": "code",
   "execution_count": null,
   "metadata": {},
   "outputs": [],
   "source": [
    "# export\n",
    "\n",
    "# TODO: should probably become a general utility function\n",
    "def get_unique_accounts(all_mails):\n",
    "    all_accounts = {}\n",
    "    for email_item in all_mails:\n",
    "        for edge in email_item.get_all_edges():\n",
    "            account = edge.traverse(email_item)\n",
    "            if not account.externalId in all_accounts:\n",
    "                all_accounts[account.externalId] = account\n",
    "\n",
    "    for email_item in all_mails:\n",
    "        for edge in email_item.get_all_edges():\n",
    "            edge.target = all_accounts[edge.target.externalId]\n",
    "            \n",
    "    return list(all_accounts.values())\n",
    "\n",
    "# TODO: should probably become a general utility function\n",
    "def get_g_attr(item, name, data_type, default_value=None):\n",
    "    first_or_default = next((att for att in item.genericAttribute if att.name == name), None)\n",
    "    if first_or_default == None:\n",
    "        return default_value\n",
    "    else:\n",
    "        if data_type == 'int':\n",
    "            return first_or_default.intValue\n",
    "        elif data_type == 'bool':\n",
    "            return first_or_default.boolValue\n",
    "        elif data_type == 'float':\n",
    "            return first_or_default.floatValue\n",
    "        elif data_type == 'string':\n",
    "            return first_or_default.stringValue\n",
    "        elif data_type == 'datetime':\n",
    "            return first_or_default.stringValue\n",
    "        else:\n",
    "            raise Exception(f\"datatype {data_type} is not supported\")"
   ]
  },
  {
   "cell_type": "markdown",
   "metadata": {},
   "source": [
    "## EmailImporter"
   ]
  },
  {
   "cell_type": "code",
   "execution_count": null,
   "metadata": {},
   "outputs": [],
   "source": [
    "# export\n",
    "\n",
    "from integrators.data.schema import *\n",
    "from integrators.imports import *\n",
    "from integrators.indexers.indexer import ImporterBase, test_registration\n",
    "\n",
    "class GmailImporter(ImporterBase):        \n",
    "    def __init__(self, *args, **kwargs):\n",
    "        super().__init__(*args, **kwargs)\n",
    "        self.imap_client = None\n",
    "       \n",
    "    def get_data(self, client, indexer_run):\n",
    "        print('this function is a workaround (this Importer is an Indexer temporarily)')\n",
    "        \n",
    "    def set_imap_client(self, importer_run):\n",
    "        imap_host = get_g_attr(importer_run, 'host', 'string', DEFAULT_GMAIL_HOST)\n",
    "        port = get_g_attr(importer_run, 'port', 'int', DEFAULT_PORT)\n",
    "        assert imap_host is not None and port is not None\n",
    "        print(f'Using, HOST: {imap_host}, PORT: {port}')\n",
    "        \n",
    "        self.imap_client = IMAPClient(username=importer_run.username, \n",
    "                                     app_pw=importer_run.password, \n",
    "                                     host=imap_host,\n",
    "                                     port=993)\n",
    "    \n",
    "    @staticmethod\n",
    "    def get_timestamp_from_message(message):\n",
    "        date = message[\"date\"]\n",
    "        parsed_time = email.utils.parsedate(date)\n",
    "        dt = email.utils.parsedate_to_datetime(date)\n",
    "        timestamp = int(dt.timestamp() * 1000)\n",
    "\n",
    "        return timestamp\n",
    "    \n",
    "    @staticmethod\n",
    "    def get_accounts(message, field):\n",
    "        addresses = getaddresses(message.get_all(field, []))\n",
    "        return [Account(externalId=address) for name, address in addresses]\n",
    "    \n",
    "    @staticmethod\n",
    "    def get_content(message):\n",
    "        maintype = message.get_content_maintype()\n",
    "        if maintype == 'multipart':\n",
    "\n",
    "            parts = _get_all_parts(message)\n",
    "            res = None\n",
    "            html_parts = [part_to_str(part) for part in parts if part.get_content_type() == \"text/html\"]\n",
    "            if len(html_parts) > 0:\n",
    "                if len(html_parts) > 1:\n",
    "                    error_msg = \"\\n AND \\n\".join(html_parts)\n",
    "                    print(f\"WARNING: FOUND MULTIPLE HTML PARTS IN ONE MESSAGE {error_msg}\")\n",
    "                return html_parts[0]\n",
    "            else:\n",
    "                return parts[0].get_payload()\n",
    "\n",
    "        elif maintype == 'text':\n",
    "            return message.get_payload()\n",
    "        \n",
    "    @staticmethod    \n",
    "    def get_attachments(message): return list(message.iter_attachments())\n",
    "        \n",
    "    def create_item_from_mail(self, mail, thread_id=None):\n",
    "        \"\"\"Creates a schema-item from an existing mail\"\"\"\n",
    "        message = email.message_from_bytes(mail, policy=policy.SMTP)\n",
    "\n",
    "        message_id, subject = message[\"message-id\"], message[\"subject\"]\n",
    "        timestamp = self.get_timestamp_from_message(message)\n",
    "\n",
    "        content = self.get_content(message)\n",
    "        attachments = self.get_attachments(message)   \n",
    "\n",
    "        email_item = EmailMessage(externalId=message_id, subject=subject, dateSent=timestamp, content=content)\n",
    "\n",
    "        for a in self.get_accounts(message, 'from'): email_item.add_edge('sender', a)\n",
    "        for a in self.get_accounts(message, 'to'): email_item.add_edge('receiver', a)\n",
    "        for a in self.get_accounts(message, 'reply-to'): email_item.add_edge('replyTo', a)\n",
    "\n",
    "        if thread_id != None:\n",
    "            email_item.add_edge('messageChannel', MessageChannel(externalId=thread_id))\n",
    "\n",
    "        return email_item\n",
    "\n",
    "    def get_mails(self, gmail_ids, stop_at=1e9):\n",
    "        all_mails = []\n",
    "\n",
    "        # Download files\n",
    "        for i, gmail_id in enumerate(gmail_ids):\n",
    "            if i >= stop_at:\n",
    "                print(f\"stopped early at {stop_at}\")\n",
    "                break\n",
    "\n",
    "            mail, thread_id = self.imap_client.get_mail(gmail_id)\n",
    "\n",
    "            item = self.create_item_from_mail(mail, thread_id=thread_id)\n",
    "            all_mails.append(item)\n",
    "\n",
    "        return all_mails\n",
    "        \n",
    "    def run(self, importer_run, pod_client=None):    \n",
    "        self.set_imap_client(importer_run)\n",
    "        \n",
    "        stop_early_at = get_g_attr(importer_run, 'max_number', 'int', 10)\n",
    "        print(f'MAX_ITEMS: {stop_early_at}')\n",
    "        \n",
    "        gmail_ids = self.imap_client.get_all_mail_uids()\n",
    "        all_mails = self.get_mails(gmail_ids, stop_early_at)\n",
    "\n",
    "        # TODO: create better way to do this\n",
    "        all_accounts = get_unique_accounts(all_mails)\n",
    "\n",
    "        # Create all email and account items\n",
    "        for item in all_mails + all_accounts: pod_client.create(item)\n",
    "\n",
    "        # Create all edges from emails to accounts/messageThreads\n",
    "        for email_item in all_mails: pod_client.create_edges(email_item.get_all_edges())\n",
    "        print(f\"Finished running {self}\")"
   ]
  },
  {
   "cell_type": "markdown",
   "metadata": {},
   "source": [
    "The email importer has the following parameters\n",
    "\n",
    "- **username** Your email address\n",
    "- **password** Your email password. In case you're using gmail, use your application password\n",
    "- _generic attributes_\n",
    "- **host** The URL of the host (defaults to imap.gmail.com)\n",
    "- **port** The port of the server (defaults to 993 for gmail)\n",
    "- **max_number** Max number of emails to download. Leave unset for unlimited"
   ]
  },
  {
   "cell_type": "markdown",
   "metadata": {},
   "source": [
    "## Tests"
   ]
  },
  {
   "cell_type": "markdown",
   "metadata": {},
   "source": [
    "### Download all mails from your account"
   ]
  },
  {
   "cell_type": "code",
   "execution_count": null,
   "metadata": {},
   "outputs": [
    {
     "name": "stdout",
     "output_type": "stream",
     "text": [
      "Using, HOST: imap.gmail.com, PORT: 993\n",
      "MAX_ITEMS: 10\n",
      "stopped early at 10\n"
     ]
    }
   ],
   "source": [
    "# %nbdev_slow_test\n",
    "# This cell is meant to be able to test the importer locally\n",
    "\n",
    "# Store your credentials in this file:\n",
    "file = open('/tmp/credentials_gmail.txt','r')\n",
    "imap_user = file.readline().strip('\\n')\n",
    "imap_pw = file.readline().strip('\\n')\n",
    "\n",
    "pod_client = PodClient()\n",
    "pod_client.delete_all()\n",
    "\n",
    "importer_run = ImporterRun.from_data(progress=0, username=imap_user, password=imap_pw)\n",
    "importer = Importer.from_data()\n",
    "host_item = GenericAttribute(name='host', stringValue=DEFAULT_GMAIL_HOST)\n",
    "port_item = GenericAttribute(name='port', intValue=993)\n",
    "max_number_item = GenericAttribute(name='max_number', intValue=10)\n",
    "importer_run.add_edge('genericAttribute', host_item)\n",
    "importer_run.add_edge('genericAttribute', port_item)\n",
    "importer_run.add_edge('genericAttribute', max_number_item)\n",
    "importer_run.add_edge('importer', importer)\n",
    "\n",
    "importer_temp = GmailImporter.from_data()\n",
    "importer_temp.run(importer_run=importer_run, pod_client=pod_client)"
   ]
  },
  {
   "cell_type": "markdown",
   "metadata": {},
   "source": [
    "### Parsing"
   ]
  },
  {
   "cell_type": "code",
   "execution_count": null,
   "metadata": {},
   "outputs": [],
   "source": [
    "test = b\"\"\"\\\n",
    "Message-id: 1234\\r\n",
    "From: user1 <a@gmail.com>\\r\n",
    "To: user1 <b@gmail.com>\\r\n",
    "Reply-to: user1 <c@gmail.com>\\r\n",
    "Subject: the subject\\r\n",
    "Date: Mon, 04 May 2020 00:37:44 -0700\\r\n",
    "\n",
    "This is content\"\"\"\n",
    "\n",
    "gmail_importer = GmailImporter()\n",
    "mail_item = gmail_importer.create_item_from_mail(test, 'message_channel_id')\n",
    "\n",
    "assert mail_item.externalId == '1234'\n",
    "assert mail_item.sender[0].externalId == 'a@gmail.com'\n",
    "assert mail_item.receiver[0].externalId == 'b@gmail.com'\n",
    "assert mail_item.replyTo[0].externalId == 'c@gmail.com'\n",
    "assert mail_item.subject == 'the subject'\n",
    "assert mail_item.content == 'This is content'\n",
    "assert mail_item.dateSent == gmail_importer.get_timestamp_from_message(email.message_from_bytes(test))\n",
    "assert mail_item.messageChannel[0].externalId == 'message_channel_id'"
   ]
  },
  {
   "cell_type": "markdown",
   "metadata": {},
   "source": [
    "### Attachments"
   ]
  },
  {
   "cell_type": "code",
   "execution_count": null,
   "metadata": {},
   "outputs": [],
   "source": [
    "# Test attachment parsing (basic support)\n",
    "gmail_importer = GmailImporter()\n",
    "message = email.message.EmailMessage()\n",
    "message.set_content('aa')\n",
    "message.add_attachment(b'bb', maintype='image', subtype='jpeg', filename='sample.jpg')\n",
    "message.add_attachment(b'cc', maintype='image', subtype='jpeg', filename='sample2.jpg')\n",
    "content = gmail_importer.get_content(message)\n",
    "attachments = gmail_importer.get_attachments(message)\n",
    "\n",
    "assert content == 'aa\\n'\n",
    "assert attachments[0].get_content() == b'bb'\n",
    "assert attachments[1].get_content() == b'cc'"
   ]
  },
  {
   "cell_type": "markdown",
   "metadata": {},
   "source": [
    "### Calling the importer from the pod"
   ]
  },
  {
   "cell_type": "code",
   "execution_count": null,
   "metadata": {},
   "outputs": [
    {
     "name": "stderr",
     "output_type": "stream",
     "text": [
      "UsageError: Line magic function `%nbdev_slow_test` not found.\n"
     ]
    }
   ],
   "source": [
    "%nbdev_slow_test\n",
    "\n",
    "# This cell is meant to be able to call the importer locally (simulating the front-end)\n",
    "\n",
    "pod_client = PodClient(url='http://0.0.0.0:3030')\n",
    "pod_client.create(importer_run)\n",
    "pod_client.create(importer)\n",
    "pod_client.create(host_item)\n",
    "pod_client.create(port_item)\n",
    "pod_client.create(max_number_item)\n",
    "pod_client.create_edges(importer_run.get_all_edges())\n",
    "\n",
    "json = {\n",
    "            'databaseKey':pod_client.database_key,\n",
    "            'payload':{\n",
    "                 'uid':importer_run.uid,\n",
    "                 'servicePayload': {\n",
    "                     'databaseKey':pod_client.database_key,\n",
    "                     'ownerKey':pod_client.owner_key\n",
    "                 }\n",
    "            }\n",
    "       }\n",
    "print(importer_run.uid)\n",
    "print(requests.post(f'http://0.0.0.0:3030/v2/{pod_client.owner_key}/run_importer',\n",
    "                   json=json).content)"
   ]
  }
 ],
 "metadata": {
  "kernelspec": {
   "display_name": "Python 3",
   "language": "python",
   "name": "python3"
  }
 },
 "nbformat": 4,
 "nbformat_minor": 4
}

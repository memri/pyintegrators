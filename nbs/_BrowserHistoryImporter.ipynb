{
 "cells": [
  {
   "cell_type": "code",
   "execution_count": null,
   "metadata": {},
   "outputs": [
    {
     "name": "stdout",
     "output_type": "stream",
     "text": [
      "The autoreload extension is already loaded. To reload it, use:\n",
      "  %reload_ext autoreload\n"
     ]
    }
   ],
   "source": [
    "%load_ext autoreload\n",
    "%autoreload 2"
   ]
  },
  {
   "cell_type": "code",
   "execution_count": null,
   "metadata": {},
   "outputs": [],
   "source": [
    "import sqlite3\n",
    "import sys\n",
    "from pathlib import Path"
   ]
  },
  {
   "cell_type": "code",
   "execution_count": null,
   "metadata": {},
   "outputs": [],
   "source": [
    "CHROME_QUERY  = \"\"\"SELECT url, title, datetime((last_visit_time/1000000)-11644473600, 'unixepoch', 'localtime') \n",
    "                   AS last_visit_time FROM urls ORDER BY last_visit_time DESC\"\"\"\n",
    "\n",
    "FIREFOX_QUERY = \"\"\"SELECT url, title, datetime((visit_date/1000000), 'unixepoch', 'localtime') AS visit_date \n",
    "                   FROM moz_places INNER JOIN moz_historyvisits on moz_historyvisits.place_id = moz_places.id ORDER BY visit_date DESC\"\"\"\n",
    "\n",
    "SAFARI_QUERY  = \"\"\"SELECT url, title, datetime(visit_time + 978307200, 'unixepoch', 'localtime') \n",
    "                   FROM history_visits INNER JOIN history_items ON history_items.id = history_visits.history_item ORDER BY visit_time DESC\"\"\"\n"
   ]
  },
  {
   "cell_type": "code",
   "execution_count": null,
   "metadata": {},
   "outputs": [],
   "source": [
    "OSX, WINDOWS, LINUX = [\"darwin\"], [\"cygwin\", \"win32\"], [\"linux\", \"linux2\"]\n",
    "HOME = Path.home()\n",
    "\n",
    "class Importer():\n",
    "    def __init__(self): pass\n",
    "\n",
    "    def read_db(self, path, query):\n",
    "        conn   = sqlite3.connect(str(path))\n",
    "        cursor = conn.cursor()\n",
    "        cursor.execute(query)\n",
    "        query_result = cursor.fetchall()\n",
    "        cursor.close()\n",
    "        conn.close()\n",
    "        return query_result"
   ]
  },
  {
   "cell_type": "code",
   "execution_count": null,
   "metadata": {},
   "outputs": [],
   "source": [
    "CHROME_OSX     = HOME / \"Library\" / \"Application Support\" / \"Google\" / \"Chrome\" / \"Default\" / \"History\"\n",
    "CHROME_WINDOWS = HOME / \"AppData\" / \"Local\" / \"Google\" / \"Chrome\" / \"User Data\" / \"Default\" / \"History\"\n",
    "CHROME_LINUX   = HOME / \".config\" / \"google-chrome\" / \"Default\" / \"History\"\n",
    "\n",
    "class ChromeImporter(Importer):\n",
    "    \n",
    "    def __init__(self):\n",
    "        super().__init__()\n",
    "          \n",
    "    def get_path():\n",
    "        if sys.platform   in OSX    : return CHROME_OSX \n",
    "        elif sys.platform in WINDOWS: return CHROME_WINDOWS\n",
    "        elif sys.platform in LINUX:   return CHROME_LINUX\n",
    "        \n",
    "    def get_data(self):\n",
    "        return read_db(self.get_path(), CHROME_QUERY)"
   ]
  },
  {
   "cell_type": "code",
   "execution_count": null,
   "metadata": {},
   "outputs": [],
   "source": [
    "FIREFOX_OSX     = HOME / \"Library\" / \"Application Support\" / \"Firefox\" / \"Profiles\"\n",
    "FIREFOX_WINDOWS = HOME / \"AppData\" / \"Roaming\" / \"Mozilla\" / \"Firefox\" / \"Profiles\"\n",
    "FIREFOX_LINUX   = HOME / \".mozilla\" / \"firefox\"\n",
    "\n",
    "class FireFoxImporter(Importer):\n",
    "    def __init__(self):\n",
    "        super().__init__()\n",
    "        \n",
    "    def get_path(self):\n",
    "        if sys.platform in OSX:       abs_path = FIREFOX_OSX\n",
    "        elif sys.platform in WINDOWS: abs_path = FIREFOX_WINDOWS\n",
    "        elif sys.platform in LINUX:   abs_path = FIREFOX_LINUX\n",
    "        return find_firefox_path(abs_path)\n",
    "    \n",
    "    def find_firefox_path(self, abs_firefox_path):\n",
    "        # searches for a directory that ends \".default\"\n",
    "        for path in abs_firefox_path.ls():\n",
    "            if str(path).find(\".default\") > 0: return path / \"places.sqlite\"\n",
    "            \n",
    "    def get_data(self):\n",
    "        return read_db(self.get_path(), FIREFOX_QUERY)"
   ]
  },
  {
   "cell_type": "code",
   "execution_count": null,
   "metadata": {},
   "outputs": [],
   "source": [
    "SAFARI_OSX = HOME / \"Library\" / \"Safari\" / \"History.db\"\n",
    "\n",
    "class SafariImporter(Importer):\n",
    "    \n",
    "    def __init__(self):\n",
    "        super().__init__()\n",
    "    \n",
    "    def get_path(self):\n",
    "        if sys.platform in OSX: return SAFARI_OSX\n",
    "        else:\n",
    "            print(\"Safari only supported on mac\")\n",
    "            return None\n",
    "        \n",
    "    def get_data(self):\n",
    "        if not sys.platform in OSX:\n",
    "            print(\"Safari only supported on mac\")\n",
    "            return []\n",
    "        return read_db(self.get_path(), SAFARI_QUERY)"
   ]
  },
  {
   "cell_type": "code",
   "execution_count": null,
   "metadata": {},
   "outputs": [],
   "source": [
    "BRAVE_OSX     = HOME / \"Library\" / \"Application Support\" / \"BraveSoftware\" / \"Brave-Browser\" / \"Default\" / \"History\"\n",
    "BRAVE_WINDOWS = HOME / \"AppData\" / \"Local\" / \"BraveSoftware\" / \"Brave-Browser\" / \"User Data\" / \"Default\" / \"History\"\n",
    "BRAVE_LINUX   = HOME / \".config\" / \"BraveSoftware\" / \"Brave-Browser\" / \"Default\" / \"History\"\n",
    "\n",
    "class BraveImporter(Importer):\n",
    "    \n",
    "    def __init__(self):\n",
    "        super().__init__()\n",
    "          \n",
    "    def get_path(self):\n",
    "        if sys.platform   in OSX:     return BRAVE_OSX\n",
    "        elif sys.platform in WINDOWS: return BRAVE_WINDOWS\n",
    "        elif sys.platform in LINUX:   return BRAVE_LINUX\n",
    "        \n",
    "    def get_data(self):\n",
    "        return self.read_db(self.get_path(), CHROME_QUERY)"
   ]
  },
  {
   "cell_type": "code",
   "execution_count": null,
   "metadata": {},
   "outputs": [],
   "source": [
    "class URLVisit():\n",
    "    \n",
    "    def __init__(self, url, title, time):\n",
    "        self.url=url\n",
    "        self.title=title\n",
    "        self.time=time\n",
    "        \n",
    "    def __repr__(self):\n",
    "        return f\"\\nURLVisit\\nurl: {self.url}\\ntitle:{self.title}\\ntime:{self.time}\\n\""
   ]
  },
  {
   "cell_type": "code",
   "execution_count": null,
   "metadata": {},
   "outputs": [],
   "source": [
    "importer = BraveImporter()"
   ]
  },
  {
   "cell_type": "code",
   "execution_count": null,
   "metadata": {},
   "outputs": [],
   "source": [
    "history = [URLVisit(url, title, time) for url, title, time in importer.get_data()]"
   ]
  },
  {
   "cell_type": "code",
   "execution_count": null,
   "metadata": {},
   "outputs": [
    {
     "name": "stdout",
     "output_type": "stream",
     "text": [
      "[\n",
      "URLVisit\n",
      "url: https://github.com/googleapis/google-api-python-client/raw/master/docs/oauth-server.md\n",
      "title:\n",
      "time:2020-12-21 12:11:24\n",
      ", \n",
      "URLVisit\n",
      "url: https://raw.githubusercontent.com/googleapis/google-api-python-client/master/docs/oauth-server.md\n",
      "title:\n",
      "time:2020-12-21 12:11:24\n",
      ", \n",
      "URLVisit\n",
      "url: https://developers.google.com/accounts/docs/OAuth2ServiceAccount\n",
      "title:Using OAuth 2.0 for Server to Server Applications  |  Google Identity\n",
      "time:2020-12-21 12:09:59\n",
      ", \n",
      "URLVisit\n",
      "url: https://tools.ietf.org/html/rfc6749\n",
      "title:RFC 6749 - The OAuth 2.0 Authorization Framework\n",
      "time:2020-12-21 12:07:24\n",
      ", \n",
      "URLVisit\n",
      "url: https://github.com/googleapis/google-api-python-client/blob/master/docs/pagination.md\n",
      "title:google-api-python-client/pagination.md at master · googleapis/google-api-python-client\n",
      "time:2020-12-21 12:06:21\n",
      "]\n"
     ]
    }
   ],
   "source": [
    "print(history[100:105])"
   ]
  },
  {
   "cell_type": "code",
   "execution_count": null,
   "metadata": {},
   "outputs": [],
   "source": []
  }
 ],
 "metadata": {
  "kernelspec": {
   "display_name": "Python 3",
   "language": "python",
   "name": "python3"
  }
 },
 "nbformat": 4,
 "nbformat_minor": 4
}

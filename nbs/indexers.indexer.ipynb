{
 "cells": [
  {
   "cell_type": "code",
   "execution_count": null,
   "metadata": {},
   "outputs": [],
   "source": [
    "%load_ext autoreload\n",
    "%autoreload 2\n",
    "# default_exp indexers.indexer"
   ]
  },
  {
   "cell_type": "code",
   "execution_count": null,
   "metadata": {},
   "outputs": [],
   "source": [
    "# export\n",
    "from integrators.data.schema import *\n",
    "from integrators.pod.client import PodClient, DEFAULT_POD_ADDRESS\n",
    "from integrators.imports import *"
   ]
  },
  {
   "cell_type": "code",
   "execution_count": null,
   "metadata": {},
   "outputs": [],
   "source": [
    "# hide\n",
    "from nbdev.showdoc import *"
   ]
  },
  {
   "cell_type": "markdown",
   "metadata": {},
   "source": [
    "# Indexer"
   ]
  },
  {
   "cell_type": "code",
   "execution_count": null,
   "metadata": {},
   "outputs": [],
   "source": [
    "# export\n",
    "POD_FULL_ADDRESS_ENV    = 'POD_FULL_ADDRESS'\n",
    "RUN_UID_ENV             = 'RUN_UID'\n",
    "POD_SERVICE_PAYLOAD_ENV = 'POD_SERVICE_PAYLOAD'\n",
    "DATABASE_KEY_ENV        = 'databaseKey'\n",
    "OWNER_KEY_ENV           = 'ownerKey'\n",
    "\n",
    "\n",
    "class IndexerBase(Indexer):\n",
    "\n",
    "    def __init__(self, indexerClass=None, *args, **kwargs):\n",
    "        if indexerClass is None: indexerClass=self.__class__.__name__\n",
    "        super().__init__(indexerClass=indexerClass, *args, **kwargs)    \n",
    "    \n",
    "    def populate(self, client, items, edges=False):\n",
    "        new_items = [x for x in items if x.uid is None]\n",
    "        updated_items = [x for x in items if x.uid is not None]\n",
    "        \n",
    "        for item in new_items:\n",
    "            item.update(client, edges=False)\n",
    "        \n",
    "        new_photos = [x for x in new_items if isinstance(x, Photo)]\n",
    "\n",
    "        for x in new_photos:\n",
    "            print(\"uploading photo\")\n",
    "            client.upload_photo(x.data)\n",
    "            \n",
    "        for item in updated_items:\n",
    "            item.update(client, edges=False)\n",
    "            \n",
    "        if edges:\n",
    "            for item in new_items + updated_items:\n",
    "                item.update(client, edges=True)\n",
    "                \n",
    "    def run(self, indexer_run, client):\n",
    "        data = self.get_data(client, indexer_run)\n",
    "        items = self.index(data, indexer_run, client)\n",
    "        self.populate(client, items, edges=True)\n",
    "    \n",
    "class IndexerData():\n",
    "    def __init__(self, **kwargs):\n",
    "        for k, v in kwargs.items():\n",
    "            self.__setattr__(k, v)\n",
    "        \n",
    "    def __repr__(self):\n",
    "        return f\"IndexerData \\n{self.__dict__}\"\n",
    "        \n",
    "            \n",
    "def get_indexer_run_data(client, indexer_run):\n",
    "    if indexer_run.targetDataType is None:\n",
    "        raise NotImplementedError\n",
    "    else:\n",
    "        return client.search_by_fields({\"_type\": indexer_run.targetDataType})\n",
    "    \n",
    "def test_registration(integrator):\n",
    "    \"\"\"Check whether an integrator is registred. Registration is necessary to be able to load the right indexer\n",
    "    when retrieving it from the database.\"\"\"\n",
    "    import integrators.integrator_registry as registry\n",
    "    assert integrator.__name__ in dir(registry), f\"Add {integrator.__name__} to integrators/integrator_registry.py\""
   ]
  },
  {
   "cell_type": "markdown",
   "metadata": {},
   "source": [
    "# Running your own indexer"
   ]
  },
  {
   "cell_type": "markdown",
   "metadata": {},
   "source": [
    "When we run an indexer we have four steps. 1) Get the indexer and indexer run based on the run uid. 2) run the indexer 3) populate the graph with the new information. To mock that, first we create a client and add some toy data."
   ]
  },
  {
   "cell_type": "code",
   "execution_count": null,
   "metadata": {},
   "outputs": [],
   "source": [
    "# hide\n",
    "# export\n",
    "    \n",
    "def run_importer(importer_run, client):\n",
    "    from integrators.integrator_registry import EmailImporter\n",
    "    \n",
    "    importer = importer_run.importer[0]\n",
    "    # data = indexer.get_data(client, indexer_run)\n",
    "    temp_importer = EmailImporter()\n",
    "    temp_importer.run(importer_run, client)\n",
    "    # indexer.populate(client, updated_items, new_items)\n",
    "\n",
    "def run_integrator_from_run_uid(run_uid, client):\n",
    "    run = client.get(run_uid)\n",
    "    \n",
    "    if isinstance(run, IndexerRun):\n",
    "        indexer = run.indexer[0]\n",
    "        indexer.run(run, client)\n",
    "    elif isinstance(run, ImporterRun):\n",
    "        run_importer(run, client)\n",
    "    else:\n",
    "        raise NotImplementedError(f\"Cannot execute item of type {run}\")"
   ]
  },
  {
   "cell_type": "code",
   "execution_count": null,
   "metadata": {},
   "outputs": [],
   "source": [
    "# export\n",
    "\n",
    "def run_integrator(environ=None, pod_full_address=None, integrator_run_uid=None, database_key=None, owner_key=None,\n",
    "                   verbose=False):\n",
    "    \"\"\"Runs an integrator, you can either provide the run settings as parameters to this function (for local testing)\n",
    "    or via environment variables (this is how the pod communicates with integrators).\"\"\"\n",
    "    params = [pod_full_address, integrator_run_uid, database_key, owner_key]\n",
    "    \n",
    "    if all([p is None for p in params]):\n",
    "        try:\n",
    "            print(\"Reading run parameters from environment variables\")\n",
    "            pod_full_address    = environ.get(POD_FULL_ADDRESS_ENV, DEFAULT_POD_ADDRESS)\n",
    "            integrator_run_uid  = int(environ[RUN_UID_ENV])\n",
    "            pod_service_payload = json.loads(environ[POD_SERVICE_PAYLOAD_ENV])\n",
    "            \n",
    "            database_key = pod_service_payload[DATABASE_KEY_ENV]\n",
    "            owner_key    = pod_service_payload[OWNER_KEY_ENV]\n",
    "            \n",
    "        except KeyError as e:\n",
    "            print(f\"Environmentvariable {e} not found, exiting\")\n",
    "            return\n",
    "    else:\n",
    "        assert not (None in params), \\\n",
    "            f\"Defined some params to run indexer, but not all. Missing {[p for p in params if p is None]}\"\n",
    "    if verbose:\n",
    "        for name, val in [(\"pod_full_address\", pod_full_address), (\"integrator_run_uid\", integrator_run_uid),\n",
    "                  (\"database_key\", database_key), (\"owner_key\", owner_key)]:\n",
    "            print(f\"{name}={val}\")\n",
    "        \n",
    "    client = PodClient(url=pod_full_address, database_key=database_key, owner_key=owner_key)\n",
    "    run_integrator_from_run_uid(integrator_run_uid, client)\n",
    "    "
   ]
  },
  {
   "cell_type": "code",
   "execution_count": null,
   "metadata": {},
   "outputs": [
    {
     "data": {
      "text/markdown": [
       "<h4 id=\"run_integrator\" class=\"doc_header\"><code>run_integrator</code><a href=\"__main__.py#L3\" class=\"source_link\" style=\"float:right\">[source]</a></h4>\n",
       "\n",
       "> <code>run_integrator</code>(**`environ`**=*`None`*, **`pod_full_address`**=*`None`*, **`integrator_run_uid`**=*`None`*, **`database_key`**=*`None`*, **`owner_key`**=*`None`*, **`verbose`**=*`False`*)\n",
       "\n",
       "Runs an integrator, you can either provide the run settings as parameters to this function (for local testing)\n",
       "or via environment variables (this is how the pod communicates with integrators)."
      ],
      "text/plain": [
       "<IPython.core.display.Markdown object>"
      ]
     },
     "metadata": {},
     "output_type": "display_data"
    }
   ],
   "source": [
    "show_doc(run_integrator)"
   ]
  },
  {
   "cell_type": "code",
   "execution_count": null,
   "metadata": {},
   "outputs": [],
   "source": [
    "from integrators.indexers.geo.geo_indexer import GeoIndexer\n",
    "\n",
    "client = PodClient()\n",
    "\n",
    "def create_toy_dataset(client):\n",
    "    location = Location.from_data(latitude=-37.81, longitude=144.96)\n",
    "    address = Address.from_data()\n",
    "    indexer = Indexer.from_data(indexerClass=\"GeoIndexer\", name=\"GeoIndexer\")\n",
    "    indexer_run = IndexerRun.from_data(progress=0, targetDataType=\"Address\")\n",
    "    \n",
    "    for x in [location, address, indexer, indexer_run]: client.create(x)\n",
    "    assert client.create_edge(Edge(indexer_run, indexer, \"indexer\"))\n",
    "    assert client.create_edge(Edge(location, address, \"location\"))\n",
    "    return indexer, indexer_run, location, address"
   ]
  },
  {
   "cell_type": "markdown",
   "metadata": {},
   "source": [
    "## Running an indexer by providing environment variables"
   ]
  },
  {
   "cell_type": "code",
   "execution_count": null,
   "metadata": {},
   "outputs": [],
   "source": [
    "# export\n",
    "def generate_test_env(client, indexer_run):\n",
    "    payload = json.dumps({DATABASE_KEY_ENV: client.database_key, OWNER_KEY_ENV: client.owner_key})\n",
    "              \n",
    "    return {POD_FULL_ADDRESS_ENV: DEFAULT_POD_ADDRESS,\n",
    "            RUN_UID_ENV: indexer_run.uid,\n",
    "            POD_SERVICE_PAYLOAD_ENV: payload}"
   ]
  },
  {
   "cell_type": "code",
   "execution_count": null,
   "metadata": {},
   "outputs": [],
   "source": [
    "indexer, indexer_run, location, address = create_toy_dataset(client)"
   ]
  },
  {
   "cell_type": "code",
   "execution_count": null,
   "metadata": {},
   "outputs": [
    {
     "name": "stdout",
     "output_type": "stream",
     "text": [
      "Reading run parameters from environment variables\n",
      "1 items found to index\n",
      "indexing 1 items\n",
      "Loading formatted geocoded file...\n",
      "updating IndexerRun (#4)\n",
      "creating Country (#None)\n",
      "updating Address (#2)\n",
      "updating Country (#5)\n",
      "updating Address (#2)\n"
     ]
    }
   ],
   "source": [
    "run_integrator(environ=generate_test_env(client, indexer_run))"
   ]
  },
  {
   "cell_type": "code",
   "execution_count": null,
   "metadata": {},
   "outputs": [],
   "source": [
    "client.delete_all()"
   ]
  },
  {
   "cell_type": "markdown",
   "metadata": {},
   "source": [
    "## Run"
   ]
  },
  {
   "cell_type": "markdown",
   "metadata": {},
   "source": [
    "Now we start with the setting we would normally have: some memri client makes a call to the pod to execute an indexer run. Lets start by getting the indexer and the indexer run."
   ]
  },
  {
   "cell_type": "code",
   "execution_count": null,
   "metadata": {},
   "outputs": [
    {
     "data": {
      "text/plain": [
       "9"
      ]
     },
     "execution_count": null,
     "metadata": {},
     "output_type": "execute_result"
    }
   ],
   "source": [
    "indexer, indexer_run, location, address = create_toy_dataset(client)\n",
    "uid = indexer_run.uid; uid"
   ]
  },
  {
   "cell_type": "code",
   "execution_count": null,
   "metadata": {},
   "outputs": [
    {
     "data": {
      "text/plain": [
       "GeoIndexer (#8)"
      ]
     },
     "execution_count": null,
     "metadata": {},
     "output_type": "execute_result"
    }
   ],
   "source": [
    "indexer_run = client.get(uid)\n",
    "indexer = indexer_run.indexer[0]\n",
    "indexer"
   ]
  },
  {
   "cell_type": "markdown",
   "metadata": {},
   "source": [
    "Next, we retrieve the data, which was specified in the client by the `targetDataType`."
   ]
  },
  {
   "cell_type": "code",
   "execution_count": null,
   "metadata": {},
   "outputs": [
    {
     "name": "stdout",
     "output_type": "stream",
     "text": [
      "1 items found to index\n"
     ]
    },
    {
     "data": {
      "text/plain": [
       "IndexerData \n",
       "{'items_with_location': [Address (#7)]}"
      ]
     },
     "execution_count": null,
     "metadata": {},
     "output_type": "execute_result"
    }
   ],
   "source": [
    "data = indexer.get_data(client, indexer_run)\n",
    "data"
   ]
  },
  {
   "cell_type": "code",
   "execution_count": null,
   "metadata": {},
   "outputs": [
    {
     "name": "stdout",
     "output_type": "stream",
     "text": [
      "indexing 1 items\n",
      "updating IndexerRun (#9)\n"
     ]
    }
   ],
   "source": [
    "output_items = indexer.index(data, indexer_run, client)"
   ]
  },
  {
   "cell_type": "code",
   "execution_count": null,
   "metadata": {},
   "outputs": [
    {
     "name": "stdout",
     "output_type": "stream",
     "text": [
      "creating Country (#None)\n",
      "updating Address (#7)\n"
     ]
    }
   ],
   "source": [
    "indexer.populate(client, output_items)"
   ]
  },
  {
   "cell_type": "code",
   "execution_count": null,
   "metadata": {},
   "outputs": [],
   "source": [
    "client.delete_all()"
   ]
  },
  {
   "cell_type": "markdown",
   "metadata": {},
   "source": [
    "# Running the full Indexer pipeline"
   ]
  },
  {
   "cell_type": "markdown",
   "metadata": {},
   "source": [
    "## Running an indexer by providing parameters as variables"
   ]
  },
  {
   "cell_type": "code",
   "execution_count": null,
   "metadata": {},
   "outputs": [
    {
     "name": "stdout",
     "output_type": "stream",
     "text": [
      "1 items found to index\n",
      "indexing 1 items\n",
      "updating IndexerRun (#14)\n",
      "creating Country (#None)\n",
      "updating Address (#12)\n",
      "updating Country (#15)\n",
      "updating Address (#12)\n"
     ]
    }
   ],
   "source": [
    "indexer, indexer_run, location, address = create_toy_dataset(client)\n",
    "run_integrator(pod_full_address=DEFAULT_POD_ADDRESS,\n",
    "               integrator_run_uid=indexer_run.uid,\n",
    "               database_key=client.database_key,\n",
    "               owner_key=client.owner_key)\n",
    "\n",
    "client.delete_all()"
   ]
  },
  {
   "cell_type": "markdown",
   "metadata": {},
   "source": [
    "## Registration"
   ]
  },
  {
   "cell_type": "markdown",
   "metadata": {},
   "source": [
    "All indexers need to be registred before they can be ran. We can test our registration as follows"
   ]
  },
  {
   "cell_type": "code",
   "execution_count": null,
   "metadata": {},
   "outputs": [],
   "source": [
    "test_registration(GeoIndexer)"
   ]
  },
  {
   "cell_type": "markdown",
   "metadata": {},
   "source": [
    "> Important: Note that before running an indexer, it needs to be registered. We can do this by importing the file in `integrators.indexer_registry.py`."
   ]
  },
  {
   "cell_type": "markdown",
   "metadata": {},
   "source": [
    "# Export -"
   ]
  },
  {
   "cell_type": "code",
   "execution_count": null,
   "metadata": {},
   "outputs": [
    {
     "name": "stdout",
     "output_type": "stream",
     "text": [
      "Converted basic.ipynb.\n",
      "Converted importers.EmailImporter.ipynb.\n",
      "Converted importers.Importer.ipynb.\n",
      "Converted importers.util.ipynb.\n",
      "Converted index.ipynb.\n",
      "Converted indexers.FaceClusteringIndexer.Models.ipynb.\n",
      "Converted indexers.FaceClusteringIndexer.Utils.ipynb.\n",
      "Converted indexers.FaceClusteringIndexer.indexer.ipynb.\n",
      "Converted indexers.FaceRecognitionIndexer.ipynb.\n",
      "Converted indexers.FacerecognitionIndexer.Photo.ipynb.\n",
      "Converted indexers.GeoIndexer.ipynb.\n",
      "Converted indexers.NoteListIndexer.NoteList.ipynb.\n",
      "Converted indexers.NoteListIndexer.Parser.ipynb.\n",
      "Converted indexers.NoteListIndexer.ipynb.\n",
      "Converted indexers.NoteListIndexer.util.ipynb.\n",
      "Converted indexers.indexer.ipynb.\n",
      "Converted itembase.ipynb.\n",
      "Converted pod.client.ipynb.\n"
     ]
    }
   ],
   "source": [
    "# hide\n",
    "from nbdev.export import *\n",
    "notebook2script()"
   ]
  },
  {
   "cell_type": "code",
   "execution_count": null,
   "metadata": {},
   "outputs": [],
   "source": []
  }
 ],
 "metadata": {
  "kernelspec": {
   "display_name": "Python 3",
   "language": "python",
   "name": "python3"
  }
 },
 "nbformat": 4,
 "nbformat_minor": 4
}

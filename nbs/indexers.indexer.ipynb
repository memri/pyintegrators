{
 "cells": [
  {
   "cell_type": "code",
   "execution_count": null,
   "metadata": {},
   "outputs": [],
   "source": [
    "%load_ext autoreload\n",
    "%autoreload 2\n",
    "# default_exp indexers.indexer"
   ]
  },
  {
   "cell_type": "code",
   "execution_count": null,
   "metadata": {},
   "outputs": [],
   "source": [
    "# export\n",
    "from integrators.data.schema import *\n",
    "from integrators.pod.client import PodClient"
   ]
  },
  {
   "cell_type": "markdown",
   "metadata": {},
   "source": [
    "# Indexer"
   ]
  },
  {
   "cell_type": "code",
   "execution_count": null,
   "metadata": {},
   "outputs": [],
   "source": [
    "# export\n",
    "class IndexerBase(Indexer):\n",
    "\n",
    "    def __init__(self, indexerClass=None, *args, **kwargs):\n",
    "        if indexerClass is None: indexerClass=self.__class__.__name__\n",
    "        super().__init__(indexerClass=indexerClass, *args, **kwargs)    \n",
    "    \n",
    "    def populate(self, api, updated_items, new_nodes, edges=False):\n",
    "        for item in new_nodes:\n",
    "            item.update(api, edges=False)\n",
    "        if edges:\n",
    "            for item in new_nodes:\n",
    "                item.update_edges(api)\n",
    "\n",
    "        for item in updated_items:\n",
    "            item.update(api)\n",
    "    \n",
    "class IndexerData():\n",
    "    def __init__(self, **kwargs):\n",
    "        for k, v in kwargs.items():\n",
    "            self.__setattr__(k, v)\n",
    "        \n",
    "    def __repr__(self):\n",
    "        return f\"IndexerData \\n{self.__dict__}\"\n",
    "        \n",
    "            \n",
    "def get_indexer_run_data(client, indexer_run):\n",
    "    if indexer_run.targetDataType is None:\n",
    "        print(\"No targetDataType defined\")\n",
    "        return None\n",
    "\n",
    "    # get all items with the specified type\n",
    "    else:\n",
    "        return client.search_by_fields({\"_type\": indexer_run.targetDataType})\n",
    "    \n",
    "def test_registration(integrator):\n",
    "    \"\"\"Check whether an integrator is registred. Registration is necessary to be able to load the right indexer\n",
    "    when retrieving it from the database.\"\"\"\n",
    "    import integrators.integrator_registry as registry\n",
    "    assert integrator.__name__ in dir(registry)"
   ]
  },
  {
   "cell_type": "markdown",
   "metadata": {},
   "source": [
    "# Running your own indexer"
   ]
  },
  {
   "cell_type": "markdown",
   "metadata": {},
   "source": [
    "When we run an indexer we have four steps. 1) Get the indexer and indexer run based on the run uid. 2) run the indexer 3) populate the graph with the new information. To mock that, first we create a client and add some toy data."
   ]
  },
  {
   "cell_type": "code",
   "execution_count": null,
   "metadata": {},
   "outputs": [],
   "source": [
    "from integrators.indexers.geo.geo_indexer import GeoIndexer\n",
    "\n",
    "client = PodClient()\n",
    "\n",
    "location = Location.from_data(latitude=-37.81, longitude=144.96)\n",
    "address = Address.from_data()\n",
    "indexer = Indexer.from_data(indexerClass=\"GeoIndexer\", name=\"GeoIndexer\")\n",
    "indexer_run = IndexerRun.from_data(progress=0, targetDataType=\"Address\")\n",
    "\n",
    "for x in [location, address, indexer, indexer_run]: client.create(x)"
   ]
  },
  {
   "cell_type": "code",
   "execution_count": null,
   "metadata": {},
   "outputs": [],
   "source": [
    "edge_success = client.create_edge(Edge(indexer_run, indexer, \"indexer\"))\n",
    "edge_success2 = client.create_edge(Edge(location, address, \"location\"))\n",
    "\n",
    "assert edge_success and edge_success2"
   ]
  },
  {
   "cell_type": "markdown",
   "metadata": {},
   "source": [
    "Before we can move on, we need to make sure that our indexer is registred. This hold for any integrator that we create."
   ]
  },
  {
   "cell_type": "markdown",
   "metadata": {},
   "source": [
    "> Important: Note that before running an indexer, it needs to be registered. We can do this by importing the file in `integrators.indexer_registry.py`."
   ]
  },
  {
   "cell_type": "code",
   "execution_count": null,
   "metadata": {},
   "outputs": [],
   "source": [
    "test_registration(GeoIndexer)"
   ]
  },
  {
   "cell_type": "markdown",
   "metadata": {},
   "source": [
    "Now we start with the setting we would normally have: some memri client makes a call to the pod to execute an indexer run. Lets start by getting the indexer and the indexer run."
   ]
  },
  {
   "cell_type": "code",
   "execution_count": null,
   "metadata": {},
   "outputs": [],
   "source": [
    "indexer_run = client.get(indexer_run.uid)\n",
    "indexer = indexer_run.indexer[0]"
   ]
  },
  {
   "cell_type": "markdown",
   "metadata": {},
   "source": [
    "Next, we retrieve the data, which was specified in the client by the `targetDataType`."
   ]
  },
  {
   "cell_type": "code",
   "execution_count": null,
   "metadata": {},
   "outputs": [
    {
     "name": "stdout",
     "output_type": "stream",
     "text": [
      "1 items found to index\n"
     ]
    }
   ],
   "source": [
    "data = indexer.get_data(client, indexer_run)"
   ]
  },
  {
   "cell_type": "code",
   "execution_count": null,
   "metadata": {},
   "outputs": [
    {
     "data": {
      "text/plain": [
       "IndexerData \n",
       "{'items_with_location': [Address (#2)]}"
      ]
     },
     "execution_count": null,
     "metadata": {},
     "output_type": "execute_result"
    }
   ],
   "source": [
    "data"
   ]
  },
  {
   "cell_type": "code",
   "execution_count": null,
   "metadata": {},
   "outputs": [
    {
     "name": "stdout",
     "output_type": "stream",
     "text": [
      "indexing 1 items\n",
      "Loading formatted geocoded file...\n",
      "updating IndexerRun (#4)\n"
     ]
    }
   ],
   "source": [
    "updated_items, new_items = indexer.index(data, indexer_run, client)"
   ]
  },
  {
   "cell_type": "code",
   "execution_count": null,
   "metadata": {},
   "outputs": [
    {
     "name": "stdout",
     "output_type": "stream",
     "text": [
      "creating Country (#None)\n",
      "updating Address (#2)\n"
     ]
    }
   ],
   "source": [
    "indexer.populate(client, updated_items, new_items)"
   ]
  },
  {
   "cell_type": "markdown",
   "metadata": {},
   "source": [
    "# One function to call an indexer"
   ]
  },
  {
   "cell_type": "code",
   "execution_count": null,
   "metadata": {},
   "outputs": [],
   "source": [
    "def run_indexer_from_run_uid(run_uid):\n",
    "    indexer_run = client.get(run_uid)\n",
    "    indexer = indexer_run.indexer[0]\n",
    "    data = indexer.get_data(client, indexer_run)\n",
    "    updated_items, new_items = indexer.index(data, indexer_run, client)\n",
    "    indexer.populate(client, updated_items, new_items)"
   ]
  },
  {
   "cell_type": "code",
   "execution_count": null,
   "metadata": {},
   "outputs": [
    {
     "name": "stdout",
     "output_type": "stream",
     "text": [
      "1 items found to index\n",
      "indexing 1 items\n",
      "updating IndexerRun (#4)\n",
      "updating Address (#2)\n",
      "400 Edge already exists\n",
      "400 Edge already exists\n"
     ]
    }
   ],
   "source": [
    "run_indexer_from_run_uid(indexer_run.uid)"
   ]
  },
  {
   "cell_type": "markdown",
   "metadata": {},
   "source": [
    "# Export -"
   ]
  },
  {
   "cell_type": "code",
   "execution_count": null,
   "metadata": {},
   "outputs": [
    {
     "name": "stdout",
     "output_type": "stream",
     "text": [
      "Converted basic.ipynb.\n",
      "Converted index.ipynb.\n",
      "Converted indexers.GeoIndexer.ipynb.\n",
      "Converted indexers.NoteListIndexer.NoteList.ipynb.\n",
      "Converted indexers.NoteListIndexer.Parser.ipynb.\n",
      "Converted indexers.NoteListIndexer.ipynb.\n",
      "Converted indexers.NoteListIndexer.util.ipynb.\n",
      "Converted indexers.indexer.ipynb.\n",
      "Converted itembase.ipynb.\n",
      "Converted pod.client.ipynb.\n"
     ]
    }
   ],
   "source": [
    "# hide\n",
    "from nbdev.export import *\n",
    "notebook2script()"
   ]
  },
  {
   "cell_type": "code",
   "execution_count": null,
   "metadata": {},
   "outputs": [],
   "source": []
  }
 ],
 "metadata": {
  "kernelspec": {
   "display_name": "Python 3",
   "language": "python",
   "name": "python3"
  }
 },
 "nbformat": 4,
 "nbformat_minor": 4
}

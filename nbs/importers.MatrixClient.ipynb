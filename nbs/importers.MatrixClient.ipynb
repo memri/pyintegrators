{
 "cells": [
  {
   "cell_type": "code",
   "execution_count": null,
   "metadata": {},
   "outputs": [],
   "source": [
    "%load_ext autoreload\n",
    "%autoreload 2\n",
    "# default_exp importers.matrix"
   ]
  },
  {
   "cell_type": "code",
   "execution_count": null,
   "metadata": {},
   "outputs": [],
   "source": [
    "# export\n",
    "from hashlib import sha256\n",
    "from integrators.data.schema import *\n",
    "from integrators.imports import *\n",
    "from nbdev.showdoc import show_doc\n",
    "import docker\n",
    "import time"
   ]
  },
  {
   "cell_type": "markdown",
   "metadata": {},
   "source": [
    "# Matrix\n",
    "\n",
    "This class is responsible for the installation of [Matrix homeserver Synapser](https://github.com/matrix-org/synapse), including generating the configuration files and uploading them to the Pod, running a Matrix homeserver instance and registrating with it to get an access token."
   ]
  },
  {
   "cell_type": "code",
   "execution_count": null,
   "metadata": {},
   "outputs": [],
   "source": [
    "# export\n",
    "class Matrix:\n",
    "    \n",
    "    def __init__(self, url, hostname, user, data_dir, client, my_uid, my_gid):\n",
    "        self.url = url # Matrix url\n",
    "        self.hostname = hostname # Matrix hostname\n",
    "        self.user = user # Matrix username\n",
    "        self.dir = data_dir # the directory for configuration files\n",
    "        self.client = client # docker client\n",
    "        self.my_uid = my_uid # non-root user uid\n",
    "        self.my_gid = my_gid # non-root user gid\n",
    "        \n",
    "        assert self.url is not None\n",
    "        assert self.hostname is not None\n",
    "        assert self.user is not None\n",
    "        assert self.dir is not None\n",
    "        assert self.my_uid is not None\n",
    "        assert self.my_gid is not None\n",
    "        assert self.client is not None\n",
    "        \n",
    "    def config_matrix(self):        \n",
    "        \"\"\"Generate and update configuration files\"\"\"\n",
    "        # generate files\n",
    "        self.client.containers.run(\n",
    "            \"matrixdotorg/synapse:latest\",\n",
    "            auto_remove=True,\n",
    "            command=\"generate\",\n",
    "            detach=True, \n",
    "            volumes={self.dir: {'bind': '/data', 'mode': 'rw'}},\n",
    "            environment=[f\"UID={self.my_uid}\", f\"GID={self.my_gid}\", f\"SYNAPSE_SERVER_NAME={self.hostname}\", \"SYNAPSE_REPORT_STATS=no\"],\n",
    "        )\n",
    "        while not os.path.exists(f\"{self.dir}/homeserver.yaml\"):\n",
    "            time.sleep(5)\n",
    "        \n",
    "        # configure files\n",
    "        find_replace = {\n",
    "            \"#enable_registration: false\": \"enable_registration: true\",\n",
    "            \"#app_service_config_files:\": \"app_service_config_files:\",\n",
    "            \"#  - app_service_1.yaml\": \"  - /data/registration.yaml\"\n",
    "        }\n",
    "        with open(f\"{self.dir}/homeserver.yaml\") as fin:\n",
    "            with open(f\"{self.dir}/homeserver-bak.yaml\", 'w') as fout:\n",
    "                for line in fin:\n",
    "                    for key in find_replace:\n",
    "                        if key in line:\n",
    "                            line = line.replace(key, find_replace[key])\n",
    "                    fout.write(line)  \n",
    "                    \n",
    "        os.remove(f\"{self.dir}/homeserver.yaml\")\n",
    "        os.rename(f\"{self.dir}/homeserver-bak.yaml\", f\"{self.dir}/homeserver.yaml\")   \n",
    "        \n",
    "    def run_matrix(self, networkname):\n",
    "        \"\"\"Run Matrix homeserver\"\"\"\n",
    "        self.client.containers.run(\n",
    "            \"matrixdotorg/synapse:latest\", \n",
    "            detach=True, \n",
    "            network=networkname,\n",
    "            restart_policy={'Name': 'on-failure'},\n",
    "            ports={'8008': '8008'},\n",
    "            volumes={self.dir: {'bind': '/data', 'mode': 'rw'}},\n",
    "            environment=[f\"UID={self.my_uid}\", f\"GID={self.my_gid}\"],\n",
    "            name=self.hostname\n",
    "        )\n",
    "        time.sleep(5)\n",
    "        \n",
    "    def upload_configs(self, pod_client):\n",
    "        \"\"\"Upload config files to the Pod, can be used for re-installation\"\"\"\n",
    "        matrix_network = Network(externalId=self.hostname, name=\"Matrix\")\n",
    "        pod_client.create(matrix_network)\n",
    "        \n",
    "        os.chdir(self.dir)\n",
    "        for filename in os.listdir(os.getcwd()):\n",
    "            with open(filename,\"rb\") as f:\n",
    "                data = f.read() # read entire file as bytes\n",
    "                readable_hash = sha256(data).hexdigest()\n",
    "                file = File(externalId=filename, sha256=readable_hash)\n",
    "                pod_client.create(file)\n",
    "                pod_client.upload_file(data)\n",
    "                matrix_network.add_edge(\"resource\", file) \n",
    "                f.close()     \n",
    "        pod_client.create_edges(matrix_network.get_all_edges())      \n",
    "        \n",
    "    def register_user(self, password, pod_client):\n",
    "        \"\"\"Register an account with Matrix, store the username and token in the Pod\"\"\"\n",
    "        body = {\"username\": self.user, \"password\": password, \"auth\": {\"type\":\"m.login.dummy\"}}\n",
    "        result = requests.post(f\"{self.url}/_matrix/client/r0/register\", json=body)\n",
    "        json = result.json()\n",
    "        user_id = json[\"user_id\"]\n",
    "        token = json[\"access_token\"]\n",
    "        matrix_acc = Account(externalId=self.user, importJson=token, displayName=user_id, service=\"matrix\")\n",
    "        pod_client.create(matrix_acc)"
   ]
  },
  {
   "cell_type": "code",
   "execution_count": null,
   "metadata": {},
   "outputs": [
    {
     "data": {
      "text/markdown": [
       "<h4 id=\"Matrix.config_matrix\" class=\"doc_header\"><code>Matrix.config_matrix</code><a href=\"__main__.py#L21\" class=\"source_link\" style=\"float:right\">[source]</a></h4>\n",
       "\n",
       "> <code>Matrix.config_matrix</code>()\n",
       "\n",
       "Generate and update configuration files"
      ],
      "text/plain": [
       "<IPython.core.display.Markdown object>"
      ]
     },
     "metadata": {},
     "output_type": "display_data"
    }
   ],
   "source": [
    "show_doc(Matrix.config_matrix)"
   ]
  },
  {
   "cell_type": "code",
   "execution_count": null,
   "metadata": {},
   "outputs": [
    {
     "data": {
      "text/markdown": [
       "<h4 id=\"Matrix.run_matrix\" class=\"doc_header\"><code>Matrix.run_matrix</code><a href=\"__main__.py#L52\" class=\"source_link\" style=\"float:right\">[source]</a></h4>\n",
       "\n",
       "> <code>Matrix.run_matrix</code>(**`networkname`**)\n",
       "\n",
       "Run Matrix homeserver"
      ],
      "text/plain": [
       "<IPython.core.display.Markdown object>"
      ]
     },
     "metadata": {},
     "output_type": "display_data"
    }
   ],
   "source": [
    "show_doc(Matrix.run_matrix)"
   ]
  },
  {
   "cell_type": "code",
   "execution_count": null,
   "metadata": {},
   "outputs": [
    {
     "data": {
      "text/markdown": [
       "<h4 id=\"Matrix.upload_configs\" class=\"doc_header\"><code>Matrix.upload_configs</code><a href=\"__main__.py#L66\" class=\"source_link\" style=\"float:right\">[source]</a></h4>\n",
       "\n",
       "> <code>Matrix.upload_configs</code>(**`pod_client`**)\n",
       "\n",
       "Upload config files to the Pod, can be used for re-installation"
      ],
      "text/plain": [
       "<IPython.core.display.Markdown object>"
      ]
     },
     "metadata": {},
     "output_type": "display_data"
    }
   ],
   "source": [
    "show_doc(Matrix.upload_configs)"
   ]
  },
  {
   "cell_type": "code",
   "execution_count": null,
   "metadata": {},
   "outputs": [
    {
     "data": {
      "text/markdown": [
       "<h4 id=\"Matrix.register_user\" class=\"doc_header\"><code>Matrix.register_user</code><a href=\"__main__.py#L83\" class=\"source_link\" style=\"float:right\">[source]</a></h4>\n",
       "\n",
       "> <code>Matrix.register_user</code>(**`password`**, **`pod_client`**)\n",
       "\n",
       "Register an account with Matrix, store the username and token in the Pod"
      ],
      "text/plain": [
       "<IPython.core.display.Markdown object>"
      ]
     },
     "metadata": {},
     "output_type": "display_data"
    }
   ],
   "source": [
    "show_doc(Matrix.register_user)"
   ]
  },
  {
   "cell_type": "markdown",
   "metadata": {},
   "source": [
    "## MatrixClient\n",
    "\n",
    "This class is responsible for the interactions with Matrix's [Client-Server API](https://matrix.org/docs/spec/client_server/r0.6.1), such as fetching the information about WhatsApp contacts, chats and most recent messages."
   ]
  },
  {
   "cell_type": "code",
   "execution_count": null,
   "metadata": {},
   "outputs": [],
   "source": [
    "# export\n",
    "class MatrixClient:\n",
    "    \n",
    "    def __init__(self, url, token):\n",
    "        self.url = url # Matrix url\n",
    "        self.token = token # token of Matrix account\n",
    "        \n",
    "        assert self.url is not None\n",
    "        assert self.token is not None        \n",
    "        \n",
    "    def get_joined_rooms(self):\n",
    "        \"\"\"List all rooms the user joined\"\"\"\n",
    "        try:\n",
    "            result = requests.get(f\"{self.url}/_matrix/client/r0/joined_rooms?access_token={self.token}\")\n",
    "            if result.status_code != 200:\n",
    "                print(result, result.content)\n",
    "                return False\n",
    "            else:\n",
    "                json = result.json()\n",
    "                res = json[\"joined_rooms\"] # only rooms with \"joined\" status\n",
    "                return res\n",
    "        except requests.exceptions.RequestException as e:\n",
    "            print(e)\n",
    "            return None    \n",
    "    \n",
    "    def get_joined_members(self, room_id):\n",
    "        \"\"\"List all joined members in a room\"\"\"\n",
    "        try:\n",
    "            result = requests.get(f\"{self.url}/_matrix/client/r0/rooms/{room_id}/joined_members?access_token={self.token}\")\n",
    "            if result.status_code != 200:\n",
    "                print(result, result.content)\n",
    "                return False\n",
    "            else:\n",
    "                json = result.json()\n",
    "                res = json[\"joined\"] \n",
    "                return res\n",
    "        except requests.exceptions.RequestException as e:\n",
    "            print(e)\n",
    "            return None          \n",
    "        \n",
    "    def send_messages(self, room_id, body):\n",
    "        \"\"\"Send a message to a joined room\"\"\"\n",
    "        try:\n",
    "            result = requests.post(f\"{self.url}/_matrix/client/r0/rooms/{room_id}/send/m.room.message?access_token={self.token}\", json=body)\n",
    "            if result.status_code != 200:\n",
    "                print(result, result.content)\n",
    "                return None\n",
    "            else:\n",
    "                json = result.json()\n",
    "                event_id = json[\"event_id\"] \n",
    "                return event_id\n",
    "        except requests.exceptions.RequestException as e:\n",
    "            print(e)\n",
    "            return None\n",
    "            \n",
    "    def get_event_context(self, room_id, event_id):\n",
    "        \"\"\"Fetch events after a certain event\"\"\"\n",
    "        try:\n",
    "            # limit to context event is set to 1\n",
    "            result = requests.get(f\"{self.url}/_matrix/client/r0/rooms/{room_id}/context/{event_id}?limit=1&access_token={self.token}\")\n",
    "            if result.status_code != 200:\n",
    "                print(result, result.content)\n",
    "                return None\n",
    "            else:\n",
    "                json = result.json()\n",
    "                res = json[\"events_after\"] # only show events after the specific event\n",
    "                return res\n",
    "        except requests.exceptions.RequestException as e:\n",
    "            print(e)\n",
    "            return None    \n",
    "        \n",
    "    def sync_events(self, next_batch):\n",
    "        \"\"\"Fetch all events in a room in a batch\"\"\"\n",
    "        try:\n",
    "            result = requests.get(f\"{self.url}/_matrix/client/r0/sync?since={next_batch}&access_token={self.token}\")\n",
    "            if result.status_code != 200:\n",
    "                print(result, result.content)\n",
    "                return None\n",
    "            else:\n",
    "                json = result.json()\n",
    "                return json\n",
    "        except requests.exceptions.RequestException as e:\n",
    "            print(e)\n",
    "            return None\n",
    "        \n",
    "    def get_profile(self, user_id):\n",
    "        \"\"\"Fetch profile of a specific user\"\"\"\n",
    "        try:\n",
    "            result = requests.get(f\"{self.url}/_matrix/client/r0/profile/{user_id}\")\n",
    "            if result.status_code != 200:\n",
    "                print(result, result.content)\n",
    "                return None\n",
    "            else:\n",
    "                json = result.json() \n",
    "                return json\n",
    "        except requests.exceptions.RequestException as e:\n",
    "            print(e)\n",
    "            return None\n",
    "        \n",
    "    def get_room_state(self, room_id):\n",
    "        \"\"\"Fetch status of a room\"\"\"\n",
    "        try:\n",
    "            result = requests.get(f\"{self.url}/_matrix/client/r0/rooms/{room_id}/state?access_token={self.token}\")\n",
    "            if result.status_code != 200:\n",
    "                print(result, result.content)\n",
    "                return None\n",
    "            else:\n",
    "                json = result.json()\n",
    "                return json\n",
    "        except requests.exceptions.RequestException as e:\n",
    "            print(e)\n",
    "            return None\n",
    "        \n",
    "    def download_file(self, uri):\n",
    "        \"\"\"Download media files\"\"\"\n",
    "        try:\n",
    "            result = requests.get(f\"{self.url}/_matrix/media/r0/download/{HOSTNAME}/{uri}\")\n",
    "            if result.status_code != 200:\n",
    "                print(result, result.content)\n",
    "                return None\n",
    "            else:\n",
    "                file = result.content\n",
    "                return file\n",
    "        except requests.exceptions.RequestException as e:\n",
    "            print(e)\n",
    "            return None"
   ]
  },
  {
   "cell_type": "code",
   "execution_count": null,
   "metadata": {},
   "outputs": [
    {
     "data": {
      "text/markdown": [
       "<h4 id=\"MatrixClient.get_joined_rooms\" class=\"doc_header\"><code>MatrixClient.get_joined_rooms</code><a href=\"__main__.py#L11\" class=\"source_link\" style=\"float:right\">[source]</a></h4>\n",
       "\n",
       "> <code>MatrixClient.get_joined_rooms</code>()\n",
       "\n",
       "List all rooms the user joined"
      ],
      "text/plain": [
       "<IPython.core.display.Markdown object>"
      ]
     },
     "metadata": {},
     "output_type": "display_data"
    }
   ],
   "source": [
    "show_doc(MatrixClient.get_joined_rooms)"
   ]
  },
  {
   "cell_type": "code",
   "execution_count": null,
   "metadata": {},
   "outputs": [
    {
     "data": {
      "text/markdown": [
       "<h4 id=\"MatrixClient.get_joined_members\" class=\"doc_header\"><code>MatrixClient.get_joined_members</code><a href=\"__main__.py#L26\" class=\"source_link\" style=\"float:right\">[source]</a></h4>\n",
       "\n",
       "> <code>MatrixClient.get_joined_members</code>(**`room_id`**)\n",
       "\n",
       "List all joined members in a room"
      ],
      "text/plain": [
       "<IPython.core.display.Markdown object>"
      ]
     },
     "metadata": {},
     "output_type": "display_data"
    }
   ],
   "source": [
    "show_doc(MatrixClient.get_joined_members)"
   ]
  },
  {
   "cell_type": "code",
   "execution_count": null,
   "metadata": {},
   "outputs": [
    {
     "data": {
      "text/markdown": [
       "<h4 id=\"MatrixClient.send_messages\" class=\"doc_header\"><code>MatrixClient.send_messages</code><a href=\"__main__.py#L41\" class=\"source_link\" style=\"float:right\">[source]</a></h4>\n",
       "\n",
       "> <code>MatrixClient.send_messages</code>(**`room_id`**, **`body`**)\n",
       "\n",
       "Send a message to a joined room"
      ],
      "text/plain": [
       "<IPython.core.display.Markdown object>"
      ]
     },
     "metadata": {},
     "output_type": "display_data"
    }
   ],
   "source": [
    "show_doc(MatrixClient.send_messages)"
   ]
  },
  {
   "cell_type": "code",
   "execution_count": null,
   "metadata": {},
   "outputs": [
    {
     "data": {
      "text/markdown": [
       "<h4 id=\"MatrixClient.get_event_context\" class=\"doc_header\"><code>MatrixClient.get_event_context</code><a href=\"__main__.py#L56\" class=\"source_link\" style=\"float:right\">[source]</a></h4>\n",
       "\n",
       "> <code>MatrixClient.get_event_context</code>(**`room_id`**, **`event_id`**)\n",
       "\n",
       "Fetch events after a certain event"
      ],
      "text/plain": [
       "<IPython.core.display.Markdown object>"
      ]
     },
     "metadata": {},
     "output_type": "display_data"
    }
   ],
   "source": [
    "show_doc(MatrixClient.get_event_context)"
   ]
  },
  {
   "cell_type": "code",
   "execution_count": null,
   "metadata": {},
   "outputs": [
    {
     "data": {
      "text/markdown": [
       "<h4 id=\"MatrixClient.sync_events\" class=\"doc_header\"><code>MatrixClient.sync_events</code><a href=\"__main__.py#L72\" class=\"source_link\" style=\"float:right\">[source]</a></h4>\n",
       "\n",
       "> <code>MatrixClient.sync_events</code>(**`next_batch`**)\n",
       "\n",
       "Fetch all events in a room in a batch"
      ],
      "text/plain": [
       "<IPython.core.display.Markdown object>"
      ]
     },
     "metadata": {},
     "output_type": "display_data"
    }
   ],
   "source": [
    "show_doc(MatrixClient.sync_events)"
   ]
  },
  {
   "cell_type": "code",
   "execution_count": null,
   "metadata": {},
   "outputs": [
    {
     "data": {
      "text/markdown": [
       "<h4 id=\"MatrixClient.get_profile\" class=\"doc_header\"><code>MatrixClient.get_profile</code><a href=\"__main__.py#L86\" class=\"source_link\" style=\"float:right\">[source]</a></h4>\n",
       "\n",
       "> <code>MatrixClient.get_profile</code>(**`user_id`**)\n",
       "\n",
       "Fetch profile of a specific user"
      ],
      "text/plain": [
       "<IPython.core.display.Markdown object>"
      ]
     },
     "metadata": {},
     "output_type": "display_data"
    }
   ],
   "source": [
    "show_doc(MatrixClient.get_profile)"
   ]
  },
  {
   "cell_type": "code",
   "execution_count": null,
   "metadata": {},
   "outputs": [
    {
     "data": {
      "text/markdown": [
       "<h4 id=\"MatrixClient.get_room_state\" class=\"doc_header\"><code>MatrixClient.get_room_state</code><a href=\"__main__.py#L100\" class=\"source_link\" style=\"float:right\">[source]</a></h4>\n",
       "\n",
       "> <code>MatrixClient.get_room_state</code>(**`room_id`**)\n",
       "\n",
       "Fetch status of a room"
      ],
      "text/plain": [
       "<IPython.core.display.Markdown object>"
      ]
     },
     "metadata": {},
     "output_type": "display_data"
    }
   ],
   "source": [
    "show_doc(MatrixClient.get_room_state)"
   ]
  },
  {
   "cell_type": "code",
   "execution_count": null,
   "metadata": {},
   "outputs": [
    {
     "data": {
      "text/markdown": [
       "<h4 id=\"MatrixClient.download_file\" class=\"doc_header\"><code>MatrixClient.download_file</code><a href=\"__main__.py#L114\" class=\"source_link\" style=\"float:right\">[source]</a></h4>\n",
       "\n",
       "> <code>MatrixClient.download_file</code>(**`uri`**)\n",
       "\n",
       "Download media files"
      ],
      "text/plain": [
       "<IPython.core.display.Markdown object>"
      ]
     },
     "metadata": {},
     "output_type": "display_data"
    }
   ],
   "source": [
    "show_doc(MatrixClient.download_file)"
   ]
  },
  {
   "cell_type": "code",
   "execution_count": null,
   "metadata": {},
   "outputs": [
    {
     "name": "stdout",
     "output_type": "stream",
     "text": [
      "Converted basic.ipynb.\n",
      "Converted importers.EmailImporter.ipynb.\n",
      "Converted importers.Importer.ipynb.\n",
      "Converted importers.MatrixClient.ipynb.\n",
      "Converted importers.WhatsAppImporter.ipynb.\n",
      "Converted importers.util.ipynb.\n",
      "Converted index.ipynb.\n",
      "Converted indexers.FaceRecognitionIndexer.ipynb.\n",
      "Converted indexers.FacerecognitionIndexer.Photo.ipynb.\n",
      "Converted indexers.GeoIndexer.ipynb.\n",
      "Converted indexers.NoteListIndexer.NoteList.ipynb.\n",
      "Converted indexers.NoteListIndexer.Parser.ipynb.\n",
      "Converted indexers.NoteListIndexer.ipynb.\n",
      "Converted indexers.NoteListIndexer.util.ipynb.\n",
      "Converted indexers.indexer.ipynb.\n",
      "Converted itembase.ipynb.\n",
      "Converted pod.client.ipynb.\n"
     ]
    }
   ],
   "source": [
    "# hide\n",
    "from nbdev.export import *\n",
    "notebook2script()"
   ]
  },
  {
   "cell_type": "code",
   "execution_count": null,
   "metadata": {},
   "outputs": [],
   "source": []
  },
  {
   "cell_type": "code",
   "execution_count": null,
   "metadata": {},
   "outputs": [],
   "source": []
  },
  {
   "cell_type": "code",
   "execution_count": null,
   "metadata": {},
   "outputs": [],
   "source": []
  }
 ],
 "metadata": {
  "kernelspec": {
   "display_name": "Python 3",
   "language": "python",
   "name": "python3"
  }
 },
 "nbformat": 4,
 "nbformat_minor": 4
}

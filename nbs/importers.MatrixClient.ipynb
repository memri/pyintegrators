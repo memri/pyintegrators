{
 "cells": [
  {
   "cell_type": "code",
   "execution_count": null,
   "metadata": {},
   "outputs": [],
   "source": [
    "%load_ext autoreload\n",
    "%autoreload 2\n",
    "# default_exp importers.matrix"
   ]
  },
  {
   "cell_type": "code",
   "execution_count": null,
   "metadata": {},
   "outputs": [],
   "source": [
    "# export\n",
    "from integrators.imports import *\n",
    "from nbdev.showdoc import show_doc"
   ]
  },
  {
   "cell_type": "markdown",
   "metadata": {},
   "source": [
    "## MatrixClient\n",
    "\n",
    "This class is responsible for the interactions with Matrix's [Client-Server API](https://matrix.org/docs/spec/client_server/r0.6.1), such as fetching the information about WhatsApp contacts, chats and most recent messages."
   ]
  },
  {
   "cell_type": "code",
   "execution_count": null,
   "metadata": {},
   "outputs": [],
   "source": [
    "# export\n",
    "class MatrixClient:\n",
    "    \n",
    "    def __init__(self, url, username, token):\n",
    "        self.url = url # Matrix url\n",
    "        self.username = username # username of Matrix account\n",
    "        self.token = token # token of Matrix account\n",
    "        \n",
    "        assert self.url is not None\n",
    "        assert self.username is not None\n",
    "        assert self.token is not None\n",
    "        \n",
    "    def get_joined_rooms(self):\n",
    "        \"\"\"List all rooms the user joined\"\"\"\n",
    "        try:\n",
    "            result = requests.get(f\"{self.url}/_matrix/client/r0/joined_rooms?access_token={self.token}\")\n",
    "            if result.status_code != 200:\n",
    "                print(result, result.content)\n",
    "                return False\n",
    "            else:\n",
    "                json = result.json()\n",
    "                res = json[\"joined_rooms\"] # only rooms with \"joined\" status\n",
    "                return res\n",
    "        except requests.exceptions.RequestException as e:\n",
    "            print(e)\n",
    "            return None    \n",
    "    \n",
    "    def get_joined_members(self, room_id):\n",
    "        \"\"\"List all joined members in a room\"\"\"\n",
    "        try:\n",
    "            result = requests.get(f\"{self.url}/_matrix/client/r0/rooms/{room_id}/joined_members?access_token={self.token}\")\n",
    "            if result.status_code != 200:\n",
    "                print(result, result.content)\n",
    "                return False\n",
    "            else:\n",
    "                json = result.json()\n",
    "                res = json[\"joined\"] # only members with \"joined\" status\n",
    "                return res\n",
    "        except requests.exceptions.RequestException as e:\n",
    "            print(e)\n",
    "            return None          \n",
    "        \n",
    "    def send_messages(self, room_id, body):\n",
    "        \"\"\"Send a message to a joined room\"\"\"\n",
    "        try:\n",
    "            result = requests.post(f\"{self.url}/_matrix/client/r0/rooms/{room_id}/send/m.room.message?access_token={self.token}\", json=body)\n",
    "            if result.status_code != 200:\n",
    "                print(result, result.content)\n",
    "                return None\n",
    "            else:\n",
    "                json = result.json()\n",
    "                event_id = json[\"event_id\"] \n",
    "                return event_id\n",
    "        except requests.exceptions.RequestException as e:\n",
    "            print(e)\n",
    "            return None\n",
    "            \n",
    "    def get_event_context(self, room_id, event_id):\n",
    "        \"\"\"Fetch events after a certain event\"\"\"\n",
    "        try:\n",
    "            # limit to context event is set to 1\n",
    "            result = requests.get(f\"{self.url}/_matrix/client/r0/rooms/{room_id}/context/{event_id}?limit=1&access_token={self.token}\")\n",
    "            if result.status_code != 200:\n",
    "                print(result, result.content)\n",
    "                return None\n",
    "            else:\n",
    "                json = result.json()\n",
    "                res = json[\"events_after\"] # only show events after the specific event\n",
    "                return res\n",
    "        except requests.exceptions.RequestException as e:\n",
    "            print(e)\n",
    "            return None    \n",
    "        \n",
    "    def sync_events(self, next_batch):\n",
    "        \"\"\"Fetch all events in a room in a batch\"\"\"\n",
    "        try:\n",
    "            result = requests.get(f\"{self.url}/_matrix/client/r0/sync?since={next_batch}&access_token={self.token}\")\n",
    "            if result.status_code != 200:\n",
    "                print(result, result.content)\n",
    "                return None\n",
    "            else:\n",
    "                json = result.json()\n",
    "                return json\n",
    "        except requests.exceptions.RequestException as e:\n",
    "            print(e)\n",
    "            return None\n",
    "        \n",
    "    def get_profile(self, user_id):\n",
    "        \"\"\"Fetch profile of a specific user\"\"\"\n",
    "        try:\n",
    "            result = requests.get(f\"{self.url}/_matrix/client/r0/profile/{user_id}\")\n",
    "            if result.status_code != 200:\n",
    "                print(result, result.content)\n",
    "                return None\n",
    "            else:\n",
    "                json = result.json() \n",
    "                return json\n",
    "        except requests.exceptions.RequestException as e:\n",
    "            print(e)\n",
    "            return None\n",
    "        \n",
    "    def get_room_state(self, room_id):\n",
    "        \"\"\"Fetch status of a room\"\"\"\n",
    "        try:\n",
    "            result = requests.get(f\"{self.url}/_matrix/client/r0/rooms/{room_id}/state?access_token={self.token}\")\n",
    "            if result.status_code != 200:\n",
    "                print(result, result.content)\n",
    "                return None\n",
    "            else:\n",
    "                json = result.json()\n",
    "                return json\n",
    "        except requests.exceptions.RequestException as e:\n",
    "            print(e)\n",
    "            return None\n",
    "        \n",
    "    def download_file(self, uri):\n",
    "        \"\"\"Download media files\"\"\"\n",
    "        try:\n",
    "            result = requests.get(f\"{self.url}/_matrix/media/r0/download/{HOSTNAME}/{uri}\")\n",
    "            if result.status_code != 200:\n",
    "                print(result, result.content)\n",
    "                return None\n",
    "            else:\n",
    "                file = result.content\n",
    "                return file\n",
    "        except requests.exceptions.RequestException as e:\n",
    "            print(e)\n",
    "            return None"
   ]
  },
  {
   "cell_type": "code",
   "execution_count": null,
   "metadata": {},
   "outputs": [],
   "source": [
    "show_doc(MatrixClient.get_joined_rooms)"
   ]
  },
  {
   "cell_type": "code",
   "execution_count": null,
   "metadata": {},
   "outputs": [],
   "source": [
    "show_doc(MatrixClient.get_joined_members)"
   ]
  },
  {
   "cell_type": "code",
   "execution_count": null,
   "metadata": {},
   "outputs": [],
   "source": [
    "show_doc(MatrixClient.send_messages)"
   ]
  },
  {
   "cell_type": "code",
   "execution_count": null,
   "metadata": {},
   "outputs": [],
   "source": [
    "show_doc(MatrixClient.get_event_context)"
   ]
  },
  {
   "cell_type": "code",
   "execution_count": null,
   "metadata": {},
   "outputs": [],
   "source": [
    "show_doc(MatrixClient.sync_events)"
   ]
  },
  {
   "cell_type": "code",
   "execution_count": null,
   "metadata": {},
   "outputs": [],
   "source": [
    "show_doc(MatrixClient.get_profile)"
   ]
  },
  {
   "cell_type": "code",
   "execution_count": null,
   "metadata": {},
   "outputs": [],
   "source": [
    "show_doc(MatrixClient.get_room_state)"
   ]
  },
  {
   "cell_type": "code",
   "execution_count": null,
   "metadata": {},
   "outputs": [],
   "source": [
    "show_doc(MatrixClient.download_file)"
   ]
  },
  {
   "cell_type": "code",
   "execution_count": null,
   "metadata": {},
   "outputs": [],
   "source": [
    "# hide\n",
    "from nbdev.export import *\n",
    "notebook2script()"
   ]
  },
  {
   "cell_type": "code",
   "execution_count": null,
   "metadata": {},
   "outputs": [],
   "source": []
  },
  {
   "cell_type": "code",
   "execution_count": null,
   "metadata": {},
   "outputs": [],
   "source": []
  },
  {
   "cell_type": "code",
   "execution_count": null,
   "metadata": {},
   "outputs": [],
   "source": []
  }
 ],
 "metadata": {
  "kernelspec": {
   "display_name": "Python 3",
   "language": "python",
   "name": "python3"
  }
 },
 "nbformat": 4,
 "nbformat_minor": 4
}

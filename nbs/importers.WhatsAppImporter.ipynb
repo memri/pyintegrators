{
 "cells": [
  {
   "cell_type": "code",
   "execution_count": null,
   "metadata": {},
   "outputs": [],
   "source": [
    "%load_ext autoreload\n",
    "%autoreload 2\n",
    "# default_exp importers.whatsapp"
   ]
  },
  {
   "cell_type": "code",
   "execution_count": null,
   "metadata": {},
   "outputs": [],
   "source": [
    "# export\n",
    "from hashlib import sha256\n",
    "from integrators.data.schema import *\n",
    "from integrators.imports import *\n",
    "from integrators.importers.importer import ImporterBase\n",
    "from integrators.importers.matrix import *\n",
    "from integrators.pod.client import PodClient\n",
    "from nbdev.showdoc import show_doc\n",
    "import docker\n",
    "import string\n",
    "import subprocess\n",
    "import sys\n",
    "import time"
   ]
  },
  {
   "cell_type": "code",
   "execution_count": null,
   "metadata": {},
   "outputs": [],
   "source": [
    "# export\n",
    "\n",
    "# TODO: remove after it is included in the util \n",
    "def get_g_attr(item, name, data_type, default_value=None):\n",
    "    # hide\n",
    "    first_or_default = next((att for att in item.genericAttribute if att.name == name), None)\n",
    "    if first_or_default == None:\n",
    "        return default_value\n",
    "    else:\n",
    "        if data_type == 'int':\n",
    "            return first_or_default.intValue\n",
    "        elif data_type == 'bool':\n",
    "            return first_or_default.boolValue\n",
    "        elif data_type == 'float':\n",
    "            return first_or_default.floatValue\n",
    "        elif data_type == 'string':\n",
    "            return first_or_default.stringValue\n",
    "        elif data_type == 'datetime':\n",
    "            return first_or_default.stringValue\n",
    "        else:\n",
    "            raise Exception(f\"datatype {data_type} is not supported\")\n",
    "             \n",
    "def get_random_alphanumeric_string(length):\n",
    "    letters_and_digits = string.ascii_letters + string.digits\n",
    "    result_str = ''.join((random.choice(letters_and_digits) for i in range(length)))\n",
    "    return result_str"
   ]
  },
  {
   "cell_type": "markdown",
   "metadata": {},
   "source": [
    "# WhatsApp Importer"
   ]
  },
  {
   "cell_type": "markdown",
   "metadata": {},
   "source": [
    "This importer fetches your WhatsApp data such as contacts, chats and messages (including media files) from the WhatsApp server via a toolset of Matrix homeserver + service bridges. It contains two major components: (1) MatrixClient for communication with the Matrix homeserver via its Client-Server API, and (2) WhatsAppImporter for handling the logic of fetching data from WhatsApp server and creating data items/edges to be uploaded to the Pod. "
   ]
  },
  {
   "cell_type": "markdown",
   "metadata": {},
   "source": [
    "Before the importer can start fetching data, the toolset of [Matrix homeserver Synapse](https://github.com/matrix-org/synapse) + [WhatsApp bridge](https://github.com/tulir/mautrix-whatsapp) need to be set up in advance. A Matrix user should be created, the username and token of the created user will be used to authenticate with Matrix homeserver. Additionally, a third-party web client for Matrix is needed (e.g., [Riot/Element](https://app.element.io/)) for now, in order to use the bridge and authenticate with WhatsApp server. "
   ]
  },
  {
   "cell_type": "markdown",
   "metadata": {},
   "source": [
    "**Note that the authentication with WhatsApp server relies on WhatsApp web feature, meaning that you need to scan the QR code with the WhatsApp mobile app.** \n",
    "\n",
    "**To invite the bridge bot to a Matrix room and authenticate with WhatsApp web:**\n",
    "* Open in a web browser the Matrix client [Element](https://app.element.io/#/login), change the homeserver URL to your own URL used for homeserver installation (e.g. *http://localhost:8008* for a local installation).\n",
    "* Use the username and password for registration to login.\n",
    "* Create a new private group chat, remember to **disable** end-to-end encryption for this room (as it does not work yet for bridge bots).\n",
    "* Invite bridge bot to the room by sending the message<br/> `/invite @whatsappbot:$your_homeserver_domain`\n",
    "* Send a message to login `login`\n",
    "* Use the WhatsApp web on your phone app to scan the shown QR code for authentication.\n",
    "* **Accept all invitations** to the rooms once logged in."
   ]
  },
  {
   "cell_type": "markdown",
   "metadata": {},
   "source": [
    "## MautrixWhatsapp\n",
    "\n",
    "This class is used for setting up the Mautrix-WhatsApp bridge, including generating configuration files and launching the bridge."
   ]
  },
  {
   "cell_type": "code",
   "execution_count": null,
   "metadata": {},
   "outputs": [],
   "source": [
    "# export\n",
    "class MautrixWhatsapp:\n",
    "    \n",
    "    def __init__(self, hostname, bridge, user, data_dir, client, my_uid, my_gid):\n",
    "        self.hostname = hostname # Matrix homeserver hostname\n",
    "        self.bridge = bridge # bridge domain\n",
    "        self.user = user # matrix username\n",
    "        self.dir = data_dir # directory for configuration files\n",
    "        self.client = client # docker client\n",
    "        self.my_uid = my_uid # non-root user uid\n",
    "        self.my_gid = my_gid # non-root user gid\n",
    "        \n",
    "        assert self.hostname is not None\n",
    "        assert self.bridge is not None\n",
    "        assert self.user is not None\n",
    "        assert self.dir is not None\n",
    "        assert self.client is not None\n",
    "        assert self.my_uid is not None\n",
    "        assert self.my_gid is not None\n",
    "\n",
    "    def config_whatsapp_bridge(self):      \n",
    "        \"\"\"Generate config files for whatsapp bridge\"\"\"\n",
    "        AS_TOKEN = get_random_alphanumeric_string(64)\n",
    "        HS_TOKEN = get_random_alphanumeric_string(64)\n",
    "        SENDER_L = get_random_alphanumeric_string(32)\n",
    "\n",
    "        find_replace = {\n",
    "            \"localhost\": f\"{self.bridge}\",\n",
    "            \"example.com\": f\"{self.hostname}\",\n",
    "            \"as_token:\": f\"as_token: {AS_TOKEN}\",\n",
    "            \"hs_token:\": f\"hs_token: {HS_TOKEN}\",\n",
    "        }\n",
    "        with open('../examples/whatsapp_bridge/example-config.yaml') as fin:\n",
    "            with open(f\"{self.dir}/config.yaml\", 'w') as fout:\n",
    "                for line in fin:\n",
    "                    for key in find_replace:\n",
    "                        if key in line:\n",
    "                            line = line.replace(key, find_replace[key])\n",
    "                    fout.write(line)\n",
    "        find_replace = {\n",
    "            \"localhost\": f\"{self.hostname}\",\n",
    "            \"example.com\": f\"{self.bridge}\",\n",
    "            \"as_token:\": f\"as_token: {AS_TOKEN}\",\n",
    "            \"hs_token:\": f\"hs_token: {HS_TOKEN}\",\n",
    "            \"sender_localpart:\": f\"sender_localpart: {SENDER_L}\"\n",
    "        }\n",
    "        with open('../examples/whatsapp_bridge/example-registration.yaml') as fin:\n",
    "            with open(f\"{self.dir}/registration.yaml\", 'w') as fout:\n",
    "                for line in fin:\n",
    "                    for key in find_replace:\n",
    "                        if key in line:\n",
    "                            line = line.replace(key, find_replace[key])\n",
    "                    fout.write(line)\n",
    "                    \n",
    "    def run_bridge(self, networkname):\n",
    "        \"\"\"Launch whatsapp bridge\"\"\"\n",
    "        self.client.containers.run(\n",
    "            \"dock.mau.dev/tulir/mautrix-whatsapp:latest\", \n",
    "            detach=True, \n",
    "            network=networkname,\n",
    "            restart_policy={'Name': 'on-failure'},\n",
    "            ports={'29318': '29318'},\n",
    "            volumes={self.dir: {'bind': '/data', 'mode': 'rw'}},\n",
    "            environment=[f\"UID={self.my_uid}\", f\"GID={self.my_gid}\"],\n",
    "            name=self.bridge\n",
    "        )      \n",
    "        time.sleep(3)"
   ]
  },
  {
   "cell_type": "code",
   "execution_count": null,
   "metadata": {},
   "outputs": [
    {
     "data": {
      "text/markdown": [
       "<h4 id=\"MautrixWhatsapp.config_whatsapp_bridge\" class=\"doc_header\"><code>MautrixWhatsapp.config_whatsapp_bridge</code><a href=\"__main__.py#L21\" class=\"source_link\" style=\"float:right\">[source]</a></h4>\n",
       "\n",
       "> <code>MautrixWhatsapp.config_whatsapp_bridge</code>()\n",
       "\n",
       "Generate config files for whatsapp bridge"
      ],
      "text/plain": [
       "<IPython.core.display.Markdown object>"
      ]
     },
     "metadata": {},
     "output_type": "display_data"
    }
   ],
   "source": [
    "show_doc(MautrixWhatsapp.config_whatsapp_bridge)"
   ]
  },
  {
   "cell_type": "code",
   "execution_count": null,
   "metadata": {},
   "outputs": [
    {
     "data": {
      "text/markdown": [
       "<h4 id=\"MautrixWhatsapp.run_bridge\" class=\"doc_header\"><code>MautrixWhatsapp.run_bridge</code><a href=\"__main__.py#L55\" class=\"source_link\" style=\"float:right\">[source]</a></h4>\n",
       "\n",
       "> <code>MautrixWhatsapp.run_bridge</code>(**`networkname`**)\n",
       "\n",
       "Launch whatsapp bridge"
      ],
      "text/plain": [
       "<IPython.core.display.Markdown object>"
      ]
     },
     "metadata": {},
     "output_type": "display_data"
    }
   ],
   "source": [
    "show_doc(MautrixWhatsapp.run_bridge)"
   ]
  },
  {
   "cell_type": "markdown",
   "metadata": {},
   "source": [
    "## WhatsAppImporter\n",
    "\n",
    "This class provides methods to the frontend for calling the methods in the MatrixClient class. It also handles the processing of the fetched data, and creates data items to be uploaded to the Pod."
   ]
  },
  {
   "cell_type": "markdown",
   "metadata": {},
   "source": [
    "WhatsAppImporter takes the following parameters:\n",
    "\n",
    "* **matrix**: Matrix instance\n",
    "* **matrix_client**: MatrixClient instance\n",
    "* **hostname**: Hostname of Matrix homeserver \n",
    "* **matrix_address**: URL of Matrix homeserver\n",
    "* **prefix_service**: Prefix of Matrix username, indicating the service\n",
    "* **bot_name**: Name of whatsappbot\n",
    "* **username**: Registered Matrix username\n",
    "* **password**: Password of registered Matrix user\n",
    "* **dir**: Directory to store configuration and database files\n",
    "* **matrix_acc**: Matrix account for registered user\n",
    "* **matrix_token**: Token associated with Matrix user"
   ]
  },
  {
   "cell_type": "code",
   "execution_count": null,
   "metadata": {},
   "outputs": [],
   "source": [
    "# export\n",
    "class WhatsAppImporter(ImporterBase):\n",
    "    \n",
    "    def __init__(self, *args, **kwargs):\n",
    "        super().__init__(*args, **kwargs)\n",
    "        self.matrix = None \n",
    "        self.matrix_client = None \n",
    "        self.hostname = None \n",
    "        self.matrix_address = None \n",
    "        self.prefix_service = None \n",
    "        self.bot_name = None \n",
    "        self.username = None \n",
    "        self.password = None \n",
    "        self.dir = None \n",
    "        self.matrix_acc = None \n",
    "        self.matrix_token = None \n",
    "        self.acc_idx = {} # helper dict for contacts\n",
    "        self.msgchan_idx = {} # helper dict for chats\n",
    "        self.msg_idx = {} # helper dict for messages\n",
    "        \n",
    "    def set_matrix_client(self, pod_client, importer_run):\n",
    "        \"\"\"Set Matrix client instance and other parameters from importer_run\"\"\"\n",
    "        self.hostname = get_g_attr(importer_run, 'host', 'string', None)\n",
    "        self.bridgename = get_g_attr(importer_run, 'bridge', 'string', None)\n",
    "        self.matrix_address = get_g_attr(importer_run, 'address', 'string', None)\n",
    "        self.prefix_service = get_g_attr(importer_run, 'prefix', 'string', None)\n",
    "        self.bot_name = get_g_attr(importer_run, 'bot', 'string', None)\n",
    "        self.username = importer_run.username\n",
    "        self.password = importer_run.password\n",
    "        self.dir = f\"{os.getcwd()}/../{self.username}_matrix_data\"\n",
    "        \n",
    "        assert self.hostname is not None \n",
    "        assert self.matrix_address is not None \n",
    "        assert self.prefix_service is not None \n",
    "        assert self.bot_name is not None\n",
    "        \n",
    "        # create docker network bridge\n",
    "        client = docker.from_env()\n",
    "        network_name = 'matrix-net'\n",
    "        if not client.networks.list(network_name):\n",
    "            client.networks.create(network_name, driver='bridge') \n",
    "        \n",
    "        # configure WhatsApp bridge        \n",
    "        if not os.path.exists(self.dir):\n",
    "            os.makedirs(self.dir)\n",
    "        self.mautrix = MautrixWhatsapp(self.hostname, self.bridgename, self.username, self.dir, client, os.getuid(), os.getgid())\n",
    "        self.mautrix.config_whatsapp_bridge()\n",
    "        \n",
    "        # check if matrix is already running\n",
    "        if not client.containers.list(filters={'name': self.hostname}): # matrix is NOT running\n",
    "            matrix_item = pod_client.search_by_fields({\"externalId\": self.hostname})\n",
    "            self.matrix = Matrix(self.matrix_address, self.hostname, self.username, self.dir, client, os.getuid(), os.getgid())\n",
    "            if len(matrix_item) == 0:\n",
    "                self.matrix.config_matrix()\n",
    "                self.matrix.upload_configs(pod_client)\n",
    "            else:\n",
    "                # TODO: find a way to download files\n",
    "                print(\"Need to download config files\")\n",
    "\n",
    "            # run matrix and register\n",
    "            self.matrix.run_matrix(network_name)\n",
    "            self.matrix.register_user(self.password, pod_client)\n",
    "            \n",
    "        # retreave matrix account and token\n",
    "        items = pod_client.search_by_fields({\"externalId\": self.username})\n",
    "        account_item = items[0]\n",
    "        self.matrix_acc = account_item.displayName\n",
    "        self.matrix_token = account_item.importJson\n",
    "        \n",
    "        # run whatsapp bridge\n",
    "        self.mautrix.run_bridge(network_name)\n",
    "            \n",
    "        # create MatrixClient\n",
    "        self.matrix_client = MatrixClient(self.matrix_address, self.matrix_token)\n",
    "    \n",
    "    def get_receivers(self, room):\n",
    "        \"\"\"Fetch message receivers of a room\"\"\"\n",
    "        joined_members = self.matrix_client.get_joined_members(room)\n",
    "        joined_members = list(joined_members.keys())\n",
    "        if self.username in joined_members: # except the Matrix user\n",
    "            joined_members.remove(self.username) \n",
    "        # get associated Account item for each user\n",
    "        receivers = [self.acc_idx[m] for m in joined_members] \n",
    "        return receivers\n",
    "    \n",
    "    def get_bot_room_id(self, joined_rooms):\n",
    "        \"\"\"Get room_id of whatsappbot joined room\"\"\"\n",
    "        for room in joined_rooms:\n",
    "            joined_members = self.matrix_client.get_joined_members(room)\n",
    "            # the room shared with whatsappbot has 2 members \n",
    "            if len(joined_members) == 2 and self.bot_name in joined_members:\n",
    "                return room\n",
    "        \n",
    "    def bot_list_contacts(self, room_id):\n",
    "        \"\"\"Create and send a messge, asking whatsappbot to list all contacts\"\"\"\n",
    "        body = {\"msgtype\":\"m.text\", \"body\":\"list contacts\"}\n",
    "        event_id = self.matrix_client.send_messages(room_id, body)\n",
    "        return event_id\n",
    "\n",
    "    def get_contacts(self, all_rooms):\n",
    "        \"\"\"Fetch a list of contacts from whatsappbot's response\"\"\"\n",
    "        room_id = self.get_bot_room_id(all_rooms)\n",
    "        event_id = self.bot_list_contacts(room_id)\n",
    "        time.sleep(2) # wait for whatsappbot's reply\n",
    "        contact_list = self.matrix_client.get_event_context(room_id, event_id)\n",
    "        contacts = contact_list[0][\"content\"][\"body\"].split(\"\\n\")        \n",
    "        numbers = [self.get_phone_number(c) for c in contacts]\n",
    "        numbers = [x for x in numbers if x is not None]\n",
    "        users = [f\"{self.prefix_service}{n}:{self.hostname}\" for n in numbers]\n",
    "        return users\n",
    "    \n",
    "    @staticmethod\n",
    "    def get_phone_number(contact):\n",
    "        \"\"\"Get phone number from contact information\"\"\"\n",
    "        if not contact.startswith((\"#\", \"* /\")):\n",
    "            parts = contact.split(' - ')\n",
    "            if len(parts) >= 2:\n",
    "                phone_number = parts[1][1:-1]\n",
    "                return phone_number       \n",
    "            \n",
    "    def create_account(self, user_id):\n",
    "        \"\"\"Create Account item for each user_id\"\"\"\n",
    "        profile = self.matrix_client.get_profile(user_id)\n",
    "        avatar_url = None\n",
    "        if \"avatar_url\" in profile:\n",
    "            avatar_url = profile[\"avatar_url\"]\n",
    "        account = Account(externalId=user_id, displayName=profile[\"displayname\"], avatarUrl=avatar_url, service=\"whatsapp\")\n",
    "        return account\n",
    "\n",
    "    def create_message_channel(self, room_id, member_accounts):\n",
    "        \"\"\"Create MessageChannel item for each room, link with Account items\"\"\"\n",
    "        room_state = self.matrix_client.get_room_state(room_id)\n",
    "        room_name = None\n",
    "        room_topic = None\n",
    "        for s in room_state:\n",
    "            if s[\"type\"] == \"m.room.name\":\n",
    "                room_name = s[\"content\"][\"name\"]\n",
    "            if s[\"type\"] == \"m.room.topic\":\n",
    "                room_topic == s[\"content\"][\"topic\"]\n",
    "        message_channel = MessageChannel(externalId=room_id, name=room_name, topic=room_topic)\n",
    "        for m in member_accounts:\n",
    "            message_channel.add_edge(\"receiver\", m) # link with Account\n",
    "        return message_channel\n",
    "    \n",
    "    def create_message(self, event, room):         \n",
    "        \"\"\"Create Message item for each event, link with MessageChannel and Account\"\"\"\n",
    "        message = Message(externalId=event[\"event_id\"], importJson=json.dumps(event[\"content\"]), service=\"whatsapp\")\n",
    "        if not event[\"sender\"] in self.acc_idx:\n",
    "            account = self.create_account(event[\"sender\"])\n",
    "            self.acc_idx[event[\"sender\"]] = account\n",
    "            pod_client.create(account)\n",
    "        message.add_edge(\"messageChannel\", self.msgchan_idx[room]) # link with MessageChannel\n",
    "        message.add_edge(\"sender\", self.acc_idx[event[\"sender\"]]) # link with Account\n",
    "        \n",
    "        # Link with Message to create a thread\n",
    "#         if \"m.relates_to\" in event[\"content\"]:\n",
    "#             message.add_edge(\"replyTo\", self.msg_idx[event[\"content\"][\"m.relates_to\"][\"m.in_reply_to\"][\"event_id\"]]) \n",
    "\n",
    "        # Create media item and link with Message\n",
    "#         if \"info\" in event[\"content\"]:\n",
    "#             media = self.create_media(event[\"content\"])\n",
    "#             pod_client.create(media)\n",
    "\n",
    "#             if event[\"content\"][\"msgtype\"] == \"m.video\":\n",
    "#                 message.add_edge(\"video\", media)\n",
    "#             elif event[\"content\"][\"msgtype\"] == \"m.image\":\n",
    "#                 message.add_edge(\"photo\", media)\n",
    "#             elif event[\"content\"][\"msgtype\"] == \"m.audio\":\n",
    "#                 message.add_edge(\"audio\", media)\n",
    "#             elif event[\"content\"][\"msgtype\"] == \"m.file\":\n",
    "#                 message.add_edge(\"document\", media)\n",
    "        return message\n",
    "    \n",
    "    def create_media(self, content):\n",
    "        \"\"\"Create media item in different types, link with File\"\"\"\n",
    "        uri = content[\"url\"].split('/')[3]\n",
    "        binaries = self.matrix_client.download_file(uri)\n",
    "        sha_file = sha256(binaries).hexdigest()\n",
    "        # Create File item\n",
    "        file = File(externalId=content[\"body\"], sha256=sha_file)\n",
    "        pod_client.create(file)\n",
    "        pod_client.upload_file(binaries)\n",
    "\n",
    "        if content[\"msgtype\"] == \"m.image\":\n",
    "            photo = Photo(externalId=content[\"url\"])\n",
    "            photo.add_edge(\"file\", file)\n",
    "            return photo\n",
    "        elif content[\"msgtype\"] == \"m.video\":\n",
    "            video = Video(externalId=content[\"url\"], duration=content[\"info\"][\"duration\"])\n",
    "            video.add_edge(\"file\", file)\n",
    "            return video\n",
    "        elif content[\"msgtype\"] == \"m.audio\":\n",
    "            audio = Audio(externalId=content[\"url\"], duration=content[\"info\"][\"duration\"])\n",
    "            audio.add_edge(\"file\", file)\n",
    "            return audio\n",
    "        elif content[\"msgtype\"] == \"m.file\":\n",
    "            document = Document(externalId=content[\"url\"], size=content[\"info\"][\"size\"])\n",
    "            document.add_edge(\"file\", file)\n",
    "            return document\n",
    "        \n",
    "    def import_all_accounts(self, all_rooms, users):\n",
    "        \"\"\"Import all created Account items to Pod\"\"\"       \n",
    "        for r in all_rooms:\n",
    "            joined_members = self.matrix_client.get_joined_members(r)\n",
    "            for m in joined_members:\n",
    "                if not m in users:\n",
    "                    users.append(m) # add whatsappbot, user \n",
    "        for n in users:\n",
    "            if not n in self.acc_idx:\n",
    "                account = self.create_account(n)\n",
    "                self.acc_idx[n] = account\n",
    "                pod_client.create(account) # upload to Pod   \n",
    "    \n",
    "    def import_all_messagechannels(self, all_rooms):\n",
    "        \"\"\"Import all created MessageChannel items to Pod\"\"\"\n",
    "        for r in all_rooms:\n",
    "            if not r in self.msgchan_idx:\n",
    "                member_accounts = self.get_receivers(r)\n",
    "                message_channel = self.create_message_channel(r, member_accounts)\n",
    "                self.msgchan_idx[r] = message_channel \n",
    "                pod_client.create(message_channel) # upload to Pod       \n",
    "                pod_client.create_edges(message_channel.get_all_edges())\n",
    "    \n",
    "    def import_all_messages(self, next_batch):\n",
    "        \"\"\"Import all created Message items to Pod\"\"\"\n",
    "        sync_events = self.matrix_client.sync_events(next_batch)\n",
    "        # messages from joined rooms \n",
    "        joined_rooms = sync_events[\"rooms\"][\"join\"]\n",
    "        for r in joined_rooms:\n",
    "            room_events = sync_events[\"rooms\"][\"join\"][r][\"timeline\"][\"events\"]\n",
    "            for e in room_events:\n",
    "                if not e[\"event_id\"] in self.msg_idx:\n",
    "                    message = self.create_message(e, r)\n",
    "                    self.msg_idx[e[\"event_id\"]] = message\n",
    "                    pod_client.create(message) # upload to Pod\n",
    "                    pod_client.create_edges(message.get_all_edges())\n",
    "        return sync_events[\"next_batch\"]\n",
    "                \n",
    "    def run(self, importer_run, pod_client=None, verbose=True):\n",
    "        \"\"\"This is the main function of WhatsAppImporter, which runs based on the information of importer_run.\"\"\"\n",
    "        self.set_matrix_client(pod_client, importer_run)\n",
    "        self.update_run_status(pod_client, importer_run, \"running\")\n",
    "        \n",
    "        all_rooms = self.matrix_client.get_joined_rooms()\n",
    "        notified = False\n",
    "        while not len(all_rooms) > 1: # wait for web authentication \n",
    "            if not notified:\n",
    "                self.update_run_status(pod_client, importer_run, \"waiting for web authentication\")\n",
    "                print(f\"Please login to {self.matrix_address} with username {self.username} and password {self.password}, and invite {self.bot_name} to a new room.\")\n",
    "                notified = True\n",
    "            time.sleep(10)\n",
    "            all_rooms = self.matrix_client.get_joined_rooms()\n",
    "            \n",
    "        users = self.get_contacts(all_rooms)\n",
    "        next_batch = \"s9_7_0_1_1_1\"\n",
    "        \n",
    "        while True: # polling for new contacts, chats and messages    \n",
    "            all_rooms = self.matrix_client.get_joined_rooms()       \n",
    "            \n",
    "            self.update_progress_message(pod_client, importer_run, \"importing contacts\", verbose=verbose)\n",
    "            self.import_all_accounts(all_rooms, users) \n",
    "            \n",
    "            self.update_progress_message(pod_client, importer_run, \"importing chats\", verbose=verbose)\n",
    "            self.import_all_messagechannels(all_rooms)\n",
    "\n",
    "            self.update_progress_message(pod_client, importer_run, \"importing messages\", verbose=verbose)\n",
    "            next_batch = self.import_all_messages(next_batch)\n",
    "\n",
    "            self.update_run_status(pod_client, importer_run, \"polling\")\n",
    "            time.sleep(2)"
   ]
  },
  {
   "cell_type": "code",
   "execution_count": null,
   "metadata": {},
   "outputs": [
    {
     "data": {
      "text/markdown": [
       "<h4 id=\"WhatsAppImporter.create_account\" class=\"doc_header\"><code>WhatsAppImporter.create_account</code><a href=\"__main__.py#L70\" class=\"source_link\" style=\"float:right\">[source]</a></h4>\n",
       "\n",
       "> <code>WhatsAppImporter.create_account</code>(**`user_id`**)\n",
       "\n",
       "Create Account item for each user_id"
      ],
      "text/plain": [
       "<IPython.core.display.Markdown object>"
      ]
     },
     "metadata": {},
     "output_type": "display_data"
    }
   ],
   "source": [
    "show_doc(WhatsAppImporter.create_account)"
   ]
  },
  {
   "cell_type": "code",
   "execution_count": null,
   "metadata": {},
   "outputs": [
    {
     "data": {
      "text/markdown": [
       "<h4 id=\"WhatsAppImporter.create_message_channel\" class=\"doc_header\"><code>WhatsAppImporter.create_message_channel</code><a href=\"__main__.py#L79\" class=\"source_link\" style=\"float:right\">[source]</a></h4>\n",
       "\n",
       "> <code>WhatsAppImporter.create_message_channel</code>(**`room_id`**, **`member_accounts`**)\n",
       "\n",
       "Create MessageChannel item for each room, link with Account items"
      ],
      "text/plain": [
       "<IPython.core.display.Markdown object>"
      ]
     },
     "metadata": {},
     "output_type": "display_data"
    }
   ],
   "source": [
    "show_doc(WhatsAppImporter.create_message_channel)"
   ]
  },
  {
   "cell_type": "code",
   "execution_count": null,
   "metadata": {},
   "outputs": [
    {
     "data": {
      "text/markdown": [
       "<h4 id=\"WhatsAppImporter.create_message\" class=\"doc_header\"><code>WhatsAppImporter.create_message</code><a href=\"__main__.py#L94\" class=\"source_link\" style=\"float:right\">[source]</a></h4>\n",
       "\n",
       "> <code>WhatsAppImporter.create_message</code>(**`event`**, **`room`**)\n",
       "\n",
       "Create Message item for each event, link with MessageChannel and Account"
      ],
      "text/plain": [
       "<IPython.core.display.Markdown object>"
      ]
     },
     "metadata": {},
     "output_type": "display_data"
    }
   ],
   "source": [
    "show_doc(WhatsAppImporter.create_message)"
   ]
  },
  {
   "cell_type": "code",
   "execution_count": null,
   "metadata": {},
   "outputs": [
    {
     "data": {
      "text/markdown": [
       "<h4 id=\"WhatsAppImporter.create_media\" class=\"doc_header\"><code>WhatsAppImporter.create_media</code><a href=\"__main__.py#L120\" class=\"source_link\" style=\"float:right\">[source]</a></h4>\n",
       "\n",
       "> <code>WhatsAppImporter.create_media</code>(**`content`**)\n",
       "\n",
       "Create media item in different types, link with File"
      ],
      "text/plain": [
       "<IPython.core.display.Markdown object>"
      ]
     },
     "metadata": {},
     "output_type": "display_data"
    }
   ],
   "source": [
    "show_doc(WhatsAppImporter.create_media)"
   ]
  },
  {
   "cell_type": "code",
   "execution_count": null,
   "metadata": {},
   "outputs": [
    {
     "data": {
      "text/markdown": [
       "<h4 id=\"WhatsAppImporter.get_all_accounts\" class=\"doc_header\"><code>WhatsAppImporter.get_all_accounts</code><a href=\"__main__.py#L147\" class=\"source_link\" style=\"float:right\">[source]</a></h4>\n",
       "\n",
       "> <code>WhatsAppImporter.get_all_accounts</code>(**`all_rooms`**)\n",
       "\n",
       "Fetch all created Account items"
      ],
      "text/plain": [
       "<IPython.core.display.Markdown object>"
      ]
     },
     "metadata": {},
     "output_type": "display_data"
    }
   ],
   "source": [
    "show_doc(WhatsAppImporter.import_all_accounts)"
   ]
  },
  {
   "cell_type": "code",
   "execution_count": null,
   "metadata": {},
   "outputs": [
    {
     "data": {
      "text/markdown": [
       "<h4 id=\"WhatsAppImporter.get_all_messagechannels\" class=\"doc_header\"><code>WhatsAppImporter.get_all_messagechannels</code><a href=\"__main__.py#L169\" class=\"source_link\" style=\"float:right\">[source]</a></h4>\n",
       "\n",
       "> <code>WhatsAppImporter.get_all_messagechannels</code>(**`all_rooms`**)\n",
       "\n",
       "Fetch all created MessageChannel items, upload to Pod"
      ],
      "text/plain": [
       "<IPython.core.display.Markdown object>"
      ]
     },
     "metadata": {},
     "output_type": "display_data"
    }
   ],
   "source": [
    "show_doc(WhatsAppImporter.import_all_messagechannels)"
   ]
  },
  {
   "cell_type": "code",
   "execution_count": null,
   "metadata": {},
   "outputs": [
    {
     "data": {
      "text/markdown": [
       "<h4 id=\"WhatsAppImporter.get_all_messages\" class=\"doc_header\"><code>WhatsAppImporter.get_all_messages</code><a href=\"__main__.py#L183\" class=\"source_link\" style=\"float:right\">[source]</a></h4>\n",
       "\n",
       "> <code>WhatsAppImporter.get_all_messages</code>()\n",
       "\n",
       "Fetch all created Message items, upload to Pod"
      ],
      "text/plain": [
       "<IPython.core.display.Markdown object>"
      ]
     },
     "metadata": {},
     "output_type": "display_data"
    }
   ],
   "source": [
    "show_doc(WhatsAppImporter.import_all_messages)"
   ]
  },
  {
   "cell_type": "code",
   "execution_count": null,
   "metadata": {},
   "outputs": [
    {
     "data": {
      "text/markdown": [
       "<h4 id=\"WhatsAppImporter.run\" class=\"doc_header\"><code>WhatsAppImporter.run</code><a href=\"__main__.py#L198\" class=\"source_link\" style=\"float:right\">[source]</a></h4>\n",
       "\n",
       "> <code>WhatsAppImporter.run</code>(**`importer_run`**, **`pod_client`**=*`None`*, **`verbose`**=*`True`*)\n",
       "\n",
       "This is the main function of WhatsAppImporter, which runs based on the information of importer_run."
      ],
      "text/plain": [
       "<IPython.core.display.Markdown object>"
      ]
     },
     "metadata": {},
     "output_type": "display_data"
    }
   ],
   "source": [
    "show_doc(WhatsAppImporter.run)"
   ]
  },
  {
   "cell_type": "markdown",
   "metadata": {},
   "source": [
    "# Tests"
   ]
  },
  {
   "cell_type": "markdown",
   "metadata": {},
   "source": [
    "## Without Matrix homeserver+bridge\n",
    "\n",
    "Create MessageChannel and Message items, add edge in between, upload to Pod."
   ]
  },
  {
   "cell_type": "code",
   "execution_count": null,
   "metadata": {},
   "outputs": [],
   "source": [
    "# slow\n",
    "DB_KEY = \"2DD29CA851E7B56E4697B0E1F08507293D761A05CE4D1B628663F411A8086D99\"\n",
    "OWNER_KEY = \"2DD29CA851E7B56E4697B0E1F08507293D761A05CE4D1B628663F411A8086D99\"\n",
    "\n",
    "pod_client = PodClient(database_key=DB_KEY, owner_key=OWNER_KEY)\n",
    "pod_client.delete_all()\n",
    "\n",
    "message_channel = MessageChannel(externalId=\"!scbkDPfWMZqpqyjnsS:synapse\", name=\"Test\", topic=\"Private chat\")\n",
    "pod_client.create(message_channel)\n",
    "\n",
    "event = {'type': 'm.room.message', 'sender': '@foo:synapse', 'content': {'msgtype': 'm.text', 'body': 'list contacts'}, 'origin_server_ts': 1606235079767, 'unsigned': {'age': 59529472}, 'event_id': '$biXu9En8lvI7gxfV1O6_4SxgBtI6HpcTMr6oZtEJSz4'}\n",
    "message = Message(externalId=event[\"event_id\"], importJson=json.dumps(event[\"content\"]), service=\"whatsapp\")\n",
    "message.add_edge(\"messageChannel\", message_channel)\n",
    "pod_client.create(message)\n",
    "pod_client.create_edges(message.get_all_edges())\n",
    "\n",
    "assert pod_client.external_id_exists(message_channel) == True\n",
    "assert pod_client.external_id_exists(message) == True\n",
    "\n",
    "pod_client.delete_all()"
   ]
  },
  {
   "cell_type": "markdown",
   "metadata": {},
   "source": [
    "## With Matrix homeserver+bridge\n",
    "\n",
    "**Require to first register with Matrix, update username and token.**\n",
    "\n",
    "Import contacts, chats and messages and upload to Pod."
   ]
  },
  {
   "cell_type": "code",
   "execution_count": null,
   "metadata": {},
   "outputs": [],
   "source": [
    "# slow\n",
    "DB_KEY = \"2DD29CA851E7B56E4697B0E1F08507293D761A05CE4D1B628663F411A8086D99\"\n",
    "OWNER_KEY = \"2DD29CA851E7B56E4697B0E1F08507293D761A05CE4D1B628663F411A8086D99\"\n",
    "USERNAME = OWNER_KEY[0:10]\n",
    "PASSWORD = get_random_alphanumeric_string(10)\n",
    "HOSTNAME = f\"{USERNAME}-synapse\"\n",
    "BRIDGENAME = f\"{USERNAME}-mautrix-whatsapp\"\n",
    "DEFAULT_MATRIX_ADDRESS = \"http://localhost:8008\"\n",
    "PREFIX_SERVICE = \"@whatsapp_\"\n",
    "BOT_NAME = f\"@whatsappbot:{HOSTNAME}\"\n",
    "\n",
    "\n",
    "pod_client = PodClient(database_key=DB_KEY, owner_key=OWNER_KEY)\n",
    "\n",
    "whatsapp_importer = WhatsAppImporter(name=\"whatsapp\")\n",
    "pod_client.create(whatsapp_importer)\n",
    "\n",
    "ga_host = GenericAttribute(name='host', stringValue=HOSTNAME)\n",
    "ga_bridge = GenericAttribute(name='bridge', stringValue=BRIDGENAME)\n",
    "ga_address = GenericAttribute(name='address', stringValue=DEFAULT_MATRIX_ADDRESS)\n",
    "ga_prefix = GenericAttribute(name='prefix', stringValue=PREFIX_SERVICE)\n",
    "ga_bot = GenericAttribute(name='bot', stringValue=BOT_NAME)\n",
    "pod_client.create(ga_host)\n",
    "pod_client.create(ga_bridge)\n",
    "pod_client.create(ga_address)\n",
    "pod_client.create(ga_prefix)\n",
    "pod_client.create(ga_bot)\n",
    "\n",
    "importer_run = ImporterRun(progress=0, username=USERNAME, password=PASSWORD, repository=\"memri-pyintegrator\")\n",
    "importer_run.add_edge('genericAttribute', ga_host)\n",
    "importer_run.add_edge('genericAttribute', ga_bridge)\n",
    "importer_run.add_edge('genericAttribute', ga_address)\n",
    "importer_run.add_edge('genericAttribute', ga_prefix)\n",
    "importer_run.add_edge('genericAttribute', ga_bot)\n",
    "importer_run.add_edge('importer', whatsapp_importer)\n",
    "pod_client.create(importer_run)\n",
    "pod_client.create_edges(importer_run.get_all_edges())\n",
    "\n",
    "whatsapp_importer.run(importer_run=importer_run, pod_client=pod_client)"
   ]
  },
  {
   "cell_type": "markdown",
   "metadata": {},
   "source": [
    "## Call run_importer interface of the Pod\n"
   ]
  },
  {
   "cell_type": "code",
   "execution_count": null,
   "metadata": {},
   "outputs": [],
   "source": [
    "# slow\n",
    "DB_KEY = \"2DD29CA851E7B56E4697B0E1F08507293D761A05CE4D1B628663F411A8086D99\"\n",
    "OWNER_KEY = \"2DD29CA851E7B56E4697B0E1F08507293D761A05CE4D1B628663F411A8086D99\"\n",
    "\n",
    "pod_client = PodClient(database_key=DB_KEY, owner_key=OWNER_KEY)\n",
    "\n",
    "\n",
    "query = {\n",
    "            'databaseKey':pod_client.database_key,\n",
    "            'payload':{\n",
    "                 'uid':importer_run.uid,\n",
    "                 'servicePayload': {\n",
    "                     'databaseKey':pod_client.database_key,\n",
    "                     'ownerKey':pod_client.owner_key\n",
    "                  },\n",
    "            }\n",
    "       }\n",
    "\n",
    "print(importer_run.uid)\n",
    "print(requests.post(f'http://0.0.0.0:3030/v2/{pod_client.owner_key}/run_importer',\n",
    "                   json=query).content)"
   ]
  },
  {
   "cell_type": "code",
   "execution_count": null,
   "metadata": {},
   "outputs": [],
   "source": [
    "# hide\n",
    "# TODO: test for media upload"
   ]
  },
  {
   "cell_type": "code",
   "execution_count": null,
   "metadata": {},
   "outputs": [
    {
     "name": "stdout",
     "output_type": "stream",
     "text": [
      "Converted basic.ipynb.\n",
      "Converted importers.EmailImporter.ipynb.\n",
      "Converted importers.Importer.ipynb.\n",
      "Converted importers.MatrixClient.ipynb.\n",
      "Converted importers.WhatsAppImporter.ipynb.\n",
      "Converted importers.util.ipynb.\n",
      "Converted index.ipynb.\n",
      "Converted indexers.FaceRecognitionIndexer.ipynb.\n",
      "Converted indexers.FacerecognitionIndexer.Photo.ipynb.\n",
      "Converted indexers.GeoIndexer.ipynb.\n",
      "Converted indexers.NoteListIndexer.NoteList.ipynb.\n",
      "Converted indexers.NoteListIndexer.Parser.ipynb.\n",
      "Converted indexers.NoteListIndexer.ipynb.\n",
      "Converted indexers.NoteListIndexer.util.ipynb.\n",
      "Converted indexers.indexer.ipynb.\n",
      "Converted itembase.ipynb.\n",
      "Converted pod.client.ipynb.\n"
     ]
    }
   ],
   "source": [
    "# hide\n",
    "from nbdev.export import *\n",
    "notebook2script()"
   ]
  },
  {
   "cell_type": "code",
   "execution_count": null,
   "metadata": {},
   "outputs": [],
   "source": []
  }
 ],
 "metadata": {
  "kernelspec": {
   "display_name": "Python 3",
   "language": "python",
   "name": "python3"
  }
 },
 "nbformat": 4,
 "nbformat_minor": 4
}

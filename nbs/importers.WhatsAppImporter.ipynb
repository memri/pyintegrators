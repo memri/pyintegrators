{
 "cells": [
  {
   "cell_type": "code",
   "execution_count": null,
   "metadata": {},
   "outputs": [],
   "source": [
    "%load_ext autoreload\n",
    "%autoreload 2\n",
    "# default_exp importers.whatsapp"
   ]
  },
  {
   "cell_type": "code",
   "execution_count": null,
   "metadata": {},
   "outputs": [],
   "source": [
    "from integrators.data.schema import Account, MessageChannel, Message\n",
    "from integrators.imports import *\n",
    "import time"
   ]
  },
  {
   "cell_type": "code",
   "execution_count": null,
   "metadata": {},
   "outputs": [],
   "source": [
    "DEFAULT_MATRIX_ADDRESS = \"http://localhost:8008\"\n",
    "HOSTNAME = \"synapse\"\n",
    "USERNAME = \"foo\"\n",
    "PREFIX_SERVICE = \"@whatsapp_\"\n",
    "MATRIX_USERNAME = f\"@{USERNAME}:{HOSTNAME}\"\n",
    "MATRIX_TOKEN = \"MDAxNWxvY2F0aW9uIHN5bmFwc2UKMDAxM2lkZW50aWZpZXIga2V5CjAwMTBjaWQgZ2VuID0gMQowMDFmY2lkIHVzZXJfaWQgPSBAZm9vOnN5bmFwc2UKMDAxNmNpZCB0eXBlID0gYWNjZXNzCjAwMjFjaWQgbm9uY2UgPSAmQHZkbkV2aEdGO0Jsb1NzCjAwMmZzaWduYXR1cmUgAzxgSUYL8xLSwUpbPa3-bHpCD8GnI5mkAVzbOOJufjQK\"\n",
    "BOT_NAME = f\"@whatsappbot:{HOSTNAME}\"\n",
    "\n",
    "class MatrixClient:\n",
    "    def __init__(self):\n",
    "        self.url = DEFAULT_MATRIX_ADDRESS\n",
    "        self.username = MATRIX_USERNAME\n",
    "        self.token = MATRIX_TOKEN\n",
    "        \n",
    "    def get_joined_rooms(self):\n",
    "        try:\n",
    "            result = requests.get(f\"{self.url}/_matrix/client/r0/joined_rooms?access_token={self.token}\")\n",
    "            if result.status_code != 200:\n",
    "                print(result, result.content)\n",
    "                return False\n",
    "            else:\n",
    "                json = result.json()\n",
    "                res = json[\"joined_rooms\"]\n",
    "                return res\n",
    "        except requests.exceptions.RequestException as e:\n",
    "            print(e)\n",
    "            return None    \n",
    "    \n",
    "    def get_joined_members(self, room_id):\n",
    "        try:\n",
    "            result = requests.get(f\"{self.url}/_matrix/client/r0/rooms/{room_id}/joined_members?access_token={self.token}\")\n",
    "            if result.status_code != 200:\n",
    "                print(result, result.content)\n",
    "                return False\n",
    "            else:\n",
    "                json = result.json()\n",
    "                res = json[\"joined\"]\n",
    "                return res\n",
    "        except requests.exceptions.RequestException as e:\n",
    "            print(e)\n",
    "            return None          \n",
    "        \n",
    "    def send_messages(self, room_id, body):\n",
    "        try:\n",
    "            result = requests.post(f\"{self.url}/_matrix/client/r0/rooms/{room_id}/send/m.room.message?access_token={self.token}\", json=body)\n",
    "            if result.status_code != 200:\n",
    "                print(result, result.content)\n",
    "                return None\n",
    "            else:\n",
    "                json = result.json()\n",
    "                event_id = json[\"event_id\"]\n",
    "                return event_id\n",
    "        except requests.exceptions.RequestException as e:\n",
    "            print(e)\n",
    "            return None\n",
    "            \n",
    "    def get_event_context(self, room_id, event_id):\n",
    "        try:\n",
    "            result = requests.get(f\"{self.url}/_matrix/client/r0/rooms/{room_id}/context/{event_id}?limit=1&access_token={self.token}\")\n",
    "            if result.status_code != 200:\n",
    "                print(result, result.content)\n",
    "                return None\n",
    "            else:\n",
    "                json = result.json()\n",
    "                res = json[\"events_after\"]\n",
    "                return res\n",
    "        except requests.exceptions.RequestException as e:\n",
    "            print(e)\n",
    "            return None    \n",
    "        \n",
    "    def sync_events(self, next_batch):\n",
    "        try:\n",
    "            result = requests.get(f\"{self.url}/_matrix/client/r0/sync?since={next_batch}&access_token={self.token}\")\n",
    "            if result.status_code != 200:\n",
    "                print(result, result.content)\n",
    "                return None\n",
    "            else:\n",
    "                json = result.json()\n",
    "                return json\n",
    "        except requests.exceptions.RequestException as e:\n",
    "            print(e)\n",
    "            return None\n",
    "        \n",
    "    def get_profile(self, user_id):\n",
    "        try:\n",
    "            result = requests.get(f\"{self.url}/_matrix/client/r0/profile/{user_id}\")\n",
    "            if result.status_code != 200:\n",
    "                print(result, result.content)\n",
    "                return None\n",
    "            else:\n",
    "                json = result.json()\n",
    "                return json\n",
    "        except requests.exceptions.RequestException as e:\n",
    "            print(e)\n",
    "            return None\n",
    "        \n",
    "    def get_room_state(self, room_id):\n",
    "        try:\n",
    "            result = requests.get(f\"{self.url}/_matrix/client/r0/rooms/{room_id}/state?access_token={self.token}\")\n",
    "            if result.status_code != 200:\n",
    "                print(result, result.content)\n",
    "                return None\n",
    "            else:\n",
    "                json = result.json()\n",
    "                return json\n",
    "        except requests.exceptions.RequestException as e:\n",
    "            print(e)\n",
    "            return None"
   ]
  },
  {
   "cell_type": "code",
   "execution_count": null,
   "metadata": {},
   "outputs": [],
   "source": [
    "class WhatsAppImporter:\n",
    "    def __init__(self, *args, **kwargs):\n",
    "        super().__init__(*args, **kwargs)\n",
    "        self.matrix_client = None\n",
    "        \n",
    "    def set_matrix_client(self):\n",
    "        self.matrix_client = MatrixClient()\n",
    "        \n",
    "    def get_joined_rooms(self):\n",
    "        joined_rooms = self.matrix_client.get_joined_rooms()\n",
    "        return joined_rooms\n",
    "    \n",
    "    def get_receivers(self, room):\n",
    "        joined_members = self.matrix_client.get_joined_members(room)\n",
    "        receivers = list(joined_members.keys())\n",
    "        receivers.remove(MATRIX_USERNAME)\n",
    "        return receivers\n",
    "    \n",
    "    def get_bot_room_id(self, joined_rooms):\n",
    "        for room in joined_rooms:\n",
    "            joined_members = self.get_joined_members(room)\n",
    "            if len(joined_members) == 2 and BOT_NAME in joined_members:\n",
    "                return room\n",
    "        \n",
    "    def bot_list_contacts(self, room_id):\n",
    "        body = {\"msgtype\":\"m.text\", \"body\":\"list contacts\"}\n",
    "        event_id = self.matrix_client.send_messages(room_id, body)\n",
    "        return event_id\n",
    "\n",
    "    def get_contacts(self, room_id, event_id):\n",
    "        contacts = self.matrix_client.get_event_context(room_id, event_id)\n",
    "        return contacts\n",
    "    \n",
    "    def sync_events(self, next_batch):\n",
    "        events = self.matrix_client.sync_events(next_batch)\n",
    "        return events\n",
    "    \n",
    "    def get_room_events(self, events):\n",
    "        room_events = events[\"timeline\"][\"events\"]\n",
    "        return room_events\n",
    "    \n",
    "    def get_phone_number(self, contact):\n",
    "        if not contact.startswith((\"#\", \"* /\")):\n",
    "            parts = contact.split(' - ')\n",
    "            if len(parts) >= 2:\n",
    "                phone_number = parts[1][1:-1]\n",
    "                return phone_number\n",
    "            \n",
    "    def create_account(self, phone_number):\n",
    "        if phone_number is not None:\n",
    "            user_id = f\"{PREFIX_SERVICE}{phone_number}:{HOSTNAME}\"\n",
    "            profile = self.matrix_client.get_profile(user_id)\n",
    "            account = Account(externalId=user_id, displayName=profile[\"displayname\"])\n",
    "            return account\n",
    "\n",
    "    def create_message_channel(self, room_id):\n",
    "        room_state = self.matrix_client.get_room_state(room_id)\n",
    "        room_name = None\n",
    "        room_topic = None\n",
    "        for s in room_state:\n",
    "            if s[\"type\"] == \"m.room.name\":\n",
    "                room_name = s[\"content\"][\"name\"]\n",
    "            if s[\"type\"] == \"m.room.topic\":\n",
    "                room_topic == s[\"content\"][\"topic\"]\n",
    "        message_channel = MessageChannel(externalId=room_id, name=room_name, topic=room_topic)\n",
    "        return message_channel\n",
    "    \n",
    "    def create_message(self, event):  \n",
    "        sender = event[\"sender\"]         \n",
    "        message = Message(externalId=event[\"event_id\"], importJson=event[\"content\"])\n",
    "        return message\n",
    "\n",
    "#         msgtype = y[\"content\"][\"msgtype\"]\n",
    "#         if msgtype == \"m.text\":\n",
    "#             print(y)\n",
    "#             elif msgtype == \"m.image\":\n",
    "#                 print(y[\"content\"][\"url\"])"
   ]
  },
  {
   "cell_type": "code",
   "execution_count": null,
   "metadata": {},
   "outputs": [],
   "source": [
    "whatsapp_importer = WhatsAppImporter()\n",
    "whatsapp_importer.set_matrix_client()"
   ]
  },
  {
   "cell_type": "code",
   "execution_count": null,
   "metadata": {},
   "outputs": [],
   "source": [
    "all_rooms = whatsapp_importer.get_joined_rooms()"
   ]
  },
  {
   "cell_type": "code",
   "execution_count": null,
   "metadata": {},
   "outputs": [
    {
     "ename": "AttributeError",
     "evalue": "'WhatsAppImporter' object has no attribute 'get_joined_members'",
     "output_type": "error",
     "traceback": [
      "\u001b[0;31m---------------------------------------------------------------------------\u001b[0m",
      "\u001b[0;31mAttributeError\u001b[0m                            Traceback (most recent call last)",
      "\u001b[0;32m<ipython-input-7-e91dbff7f252>\u001b[0m in \u001b[0;36m<module>\u001b[0;34m\u001b[0m\n\u001b[0;32m----> 1\u001b[0;31m \u001b[0mroom_id\u001b[0m \u001b[0;34m=\u001b[0m \u001b[0mwhatsapp_importer\u001b[0m\u001b[0;34m.\u001b[0m\u001b[0mget_bot_room_id\u001b[0m\u001b[0;34m(\u001b[0m\u001b[0mall_rooms\u001b[0m\u001b[0;34m)\u001b[0m\u001b[0;34m\u001b[0m\u001b[0;34m\u001b[0m\u001b[0m\n\u001b[0m\u001b[1;32m      2\u001b[0m \u001b[0mevent_id\u001b[0m \u001b[0;34m=\u001b[0m \u001b[0mwhatsapp_importer\u001b[0m\u001b[0;34m.\u001b[0m\u001b[0mbot_list_contacts\u001b[0m\u001b[0;34m(\u001b[0m\u001b[0mroom_id\u001b[0m\u001b[0;34m)\u001b[0m\u001b[0;34m\u001b[0m\u001b[0;34m\u001b[0m\u001b[0m\n\u001b[1;32m      3\u001b[0m \u001b[0mtime\u001b[0m\u001b[0;34m.\u001b[0m\u001b[0msleep\u001b[0m\u001b[0;34m(\u001b[0m\u001b[0;36m1\u001b[0m\u001b[0;34m)\u001b[0m\u001b[0;34m\u001b[0m\u001b[0;34m\u001b[0m\u001b[0m\n\u001b[1;32m      4\u001b[0m \u001b[0mcontact_list\u001b[0m \u001b[0;34m=\u001b[0m \u001b[0mwhatsapp_importer\u001b[0m\u001b[0;34m.\u001b[0m\u001b[0mget_contacts\u001b[0m\u001b[0;34m(\u001b[0m\u001b[0mroom_id\u001b[0m\u001b[0;34m,\u001b[0m \u001b[0mevent_id\u001b[0m\u001b[0;34m)\u001b[0m\u001b[0;34m\u001b[0m\u001b[0;34m\u001b[0m\u001b[0m\n",
      "\u001b[0;32m<ipython-input-4-420906ecbdcd>\u001b[0m in \u001b[0;36mget_bot_room_id\u001b[0;34m(self, joined_rooms)\u001b[0m\n\u001b[1;32m     19\u001b[0m     \u001b[0;32mdef\u001b[0m \u001b[0mget_bot_room_id\u001b[0m\u001b[0;34m(\u001b[0m\u001b[0mself\u001b[0m\u001b[0;34m,\u001b[0m \u001b[0mjoined_rooms\u001b[0m\u001b[0;34m)\u001b[0m\u001b[0;34m:\u001b[0m\u001b[0;34m\u001b[0m\u001b[0;34m\u001b[0m\u001b[0m\n\u001b[1;32m     20\u001b[0m         \u001b[0;32mfor\u001b[0m \u001b[0mroom\u001b[0m \u001b[0;32min\u001b[0m \u001b[0mjoined_rooms\u001b[0m\u001b[0;34m:\u001b[0m\u001b[0;34m\u001b[0m\u001b[0;34m\u001b[0m\u001b[0m\n\u001b[0;32m---> 21\u001b[0;31m             \u001b[0mjoined_members\u001b[0m \u001b[0;34m=\u001b[0m \u001b[0mself\u001b[0m\u001b[0;34m.\u001b[0m\u001b[0mget_joined_members\u001b[0m\u001b[0;34m(\u001b[0m\u001b[0mroom\u001b[0m\u001b[0;34m)\u001b[0m\u001b[0;34m\u001b[0m\u001b[0;34m\u001b[0m\u001b[0m\n\u001b[0m\u001b[1;32m     22\u001b[0m             \u001b[0;32mif\u001b[0m \u001b[0mlen\u001b[0m\u001b[0;34m(\u001b[0m\u001b[0mjoined_members\u001b[0m\u001b[0;34m)\u001b[0m \u001b[0;34m==\u001b[0m \u001b[0;36m2\u001b[0m \u001b[0;32mand\u001b[0m \u001b[0mBOT_NAME\u001b[0m \u001b[0;32min\u001b[0m \u001b[0mjoined_members\u001b[0m\u001b[0;34m:\u001b[0m\u001b[0;34m\u001b[0m\u001b[0;34m\u001b[0m\u001b[0m\n\u001b[1;32m     23\u001b[0m                 \u001b[0;32mreturn\u001b[0m \u001b[0mroom\u001b[0m\u001b[0;34m\u001b[0m\u001b[0;34m\u001b[0m\u001b[0m\n",
      "\u001b[0;31mAttributeError\u001b[0m: 'WhatsAppImporter' object has no attribute 'get_joined_members'"
     ]
    }
   ],
   "source": [
    "room_id = whatsapp_importer.get_bot_room_id(all_rooms)\n",
    "event_id = whatsapp_importer.bot_list_contacts(room_id)\n",
    "time.sleep(1)\n",
    "contact_list = whatsapp_importer.get_contacts(room_id, event_id)"
   ]
  },
  {
   "cell_type": "code",
   "execution_count": null,
   "metadata": {},
   "outputs": [
    {
     "name": "stdout",
     "output_type": "stream",
     "text": [
      "[Account (#None), Account (#None), Account (#None), Account (#None), Account (#None), Account (#None), Account (#None), Account (#None), Account (#None), Account (#None), Account (#None), Account (#None), Account (#None), Account (#None), Account (#None), Account (#None), Account (#None), Account (#None), Account (#None), Account (#None), Account (#None), Account (#None), Account (#None), Account (#None), Account (#None)]\n"
     ]
    }
   ],
   "source": [
    "contacts = contact_list[0][\"content\"][\"body\"].split(\"\\n\")\n",
    "numbers = [whatsapp_importer.get_phone_number(c) for c in contacts]\n",
    "numbers = [x for x in numbers if x is not None]\n",
    "accounts = [whatsapp_importer.create_account(n) for n in numbers]"
   ]
  },
  {
   "cell_type": "code",
   "execution_count": null,
   "metadata": {},
   "outputs": [
    {
     "name": "stdout",
     "output_type": "stream",
     "text": [
      "[['@whatsappbot:synapse', '@whatsapp_4915225664238:synapse', '@whatsapp_491705332146:synapse'], ['@whatsapp_4915257154739:synapse'], ['@whatsappbot:synapse'], ['@whatsappbot:synapse', '@whatsapp_491705332146:synapse', '@whatsapp_4915257154739:synapse', '@whatsapp_4915225664238:synapse'], ['@whatsapp_491705332146:synapse'], ['@whatsappbot:synapse', '@whatsapp_491705332146:synapse', '@whatsapp_4915225664238:synapse'], ['@whatsappbot:synapse', '@whatsapp_491707710390:synapse', '@whatsapp_4917623209480:synapse']]\n"
     ]
    }
   ],
   "source": [
    "members = [whatsapp_importer.get_receivers(r) for r in all_rooms]\n",
    "message_channels = [whatsapp_importer.create_message_channel(r) for r in all_rooms]"
   ]
  },
  {
   "cell_type": "code",
   "execution_count": null,
   "metadata": {},
   "outputs": [
    {
     "name": "stdout",
     "output_type": "stream",
     "text": [
      "[Message (#None), Message (#None), Message (#None), Message (#None), Message (#None), Message (#None), Message (#None), Message (#None), Message (#None), Message (#None)]\n",
      "[Message (#None), Message (#None), Message (#None), Message (#None), Message (#None), Message (#None), Message (#None), Message (#None), Message (#None), Message (#None)]\n",
      "[Message (#None), Message (#None), Message (#None), Message (#None), Message (#None), Message (#None), Message (#None), Message (#None), Message (#None), Message (#None)]\n",
      "[Message (#None), Message (#None), Message (#None), Message (#None), Message (#None), Message (#None), Message (#None), Message (#None), Message (#None), Message (#None)]\n",
      "[Message (#None), Message (#None), Message (#None), Message (#None), Message (#None), Message (#None), Message (#None), Message (#None), Message (#None), Message (#None)]\n",
      "[Message (#None), Message (#None), Message (#None), Message (#None), Message (#None), Message (#None), Message (#None), Message (#None), Message (#None), Message (#None)]\n",
      "[Message (#None), Message (#None), Message (#None), Message (#None), Message (#None), Message (#None), Message (#None), Message (#None), Message (#None), Message (#None)]\n"
     ]
    }
   ],
   "source": [
    "batch = \"s9_7_0_1_1_1\"\n",
    "sync_events = whatsapp_importer.sync_events(batch)\n",
    "# next_batch = events[\"next_batch\"]\n",
    "joined_rooms = events[\"rooms\"][\"join\"]\n",
    "for r in joined_rooms:\n",
    "    room_events = whatsapp_importer.get_room_events(sync_events[\"rooms\"][\"join\"][r])\n",
    "    messages = [whatsapp_importer.create_message(e) for e in room_events]\n",
    "    "
   ]
  },
  {
   "cell_type": "code",
   "execution_count": null,
   "metadata": {},
   "outputs": [],
   "source": []
  },
  {
   "cell_type": "code",
   "execution_count": null,
   "metadata": {},
   "outputs": [],
   "source": []
  }
 ],
 "metadata": {
  "kernelspec": {
   "display_name": "Python 3",
   "language": "python",
   "name": "python3"
  }
 },
 "nbformat": 4,
 "nbformat_minor": 4
}

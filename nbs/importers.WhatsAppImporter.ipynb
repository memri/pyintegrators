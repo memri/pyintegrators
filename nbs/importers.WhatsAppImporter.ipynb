{
 "cells": [
  {
   "cell_type": "code",
   "execution_count": null,
   "metadata": {},
   "outputs": [],
   "source": [
    "%load_ext autoreload\n",
    "%autoreload 2\n",
    "# default_exp importers.whatsapp"
   ]
  },
  {
   "cell_type": "code",
   "execution_count": null,
   "metadata": {},
   "outputs": [],
   "source": [
    "# export\n",
    "from hashlib import sha256\n",
    "from integrators.data.schema import *\n",
    "from integrators.imports import *\n",
    "from integrators.importers.importer import ImporterBase\n",
    "from integrators.pod.client import PodClient\n",
    "from nbdev.showdoc import show_doc\n",
    "import json\n",
    "import time"
   ]
  },
  {
   "cell_type": "markdown",
   "metadata": {},
   "source": [
    "# WhatsApp Importer"
   ]
  },
  {
   "cell_type": "markdown",
   "metadata": {},
   "source": [
    "This importer fetches your WhatsApp data such as contacts, chats and messages (including media files) from the WhatsApp server via a toolset of Matrix homeserver + service bridges. It contains two major components: (1) MatrixClient for communication with the Matrix homeserver via its Client-Server API, and (2) WhatsAppImporter for handling the logic of fetching data from WhatsApp server and creating data items/edges to be uploaded to the Pod. "
   ]
  },
  {
   "cell_type": "markdown",
   "metadata": {},
   "source": [
    "Before the importer can start fetching data, the toolset of [Matrix homeserver Synapse](https://github.com/matrix-org/synapse) + [WhatsApp bridge](https://github.com/tulir/mautrix-whatsapp) should be set up in advance, and a Matrix user should be created, the username and token of the created user will be used to authenticate with Matrix homeserver. Additionally, a third-party web client for Matrix is needed (e.g., [Riot/Element](https://app.element.io/)) for now, in order to use the bridge and authenticate with WhatsApp server. "
   ]
  },
  {
   "cell_type": "markdown",
   "metadata": {},
   "source": [
    "**Note that the authentication with WhatsApp server relies on WhatsApp web feature, meaning that you need to scan the QR code with the WhatsApp mobile app.** \n",
    "\n",
    "TODO: link to doc how to sign in, add bridge and authenticate"
   ]
  },
  {
   "cell_type": "markdown",
   "metadata": {},
   "source": [
    "## MatrixClient\n",
    "\n",
    "This class is responsible for the interactions with Matrix's [Client-Server API](https://matrix.org/docs/spec/client_server/r0.6.1), such as fetching the information about WhatsApp contacts, chats and most recent messages."
   ]
  },
  {
   "cell_type": "code",
   "execution_count": null,
   "metadata": {},
   "outputs": [],
   "source": [
    "# export\n",
    "class MatrixClient:\n",
    "    \n",
    "    def __init__(self, url, username, token):\n",
    "        self.url = url # Matrix url\n",
    "        self.username = username # username of Matrix account\n",
    "        self.token = token # token of Matrix account\n",
    "        \n",
    "        assert self.url is not None\n",
    "        assert self.username is not None\n",
    "        assert self.token is not None\n",
    "        \n",
    "    def get_joined_rooms(self):\n",
    "        \"\"\"List all rooms the user joined\"\"\"\n",
    "        try:\n",
    "            result = requests.get(f\"{self.url}/_matrix/client/r0/joined_rooms?access_token={self.token}\")\n",
    "            if result.status_code != 200:\n",
    "                print(result, result.content)\n",
    "                return False\n",
    "            else:\n",
    "                json = result.json()\n",
    "                res = json[\"joined_rooms\"] # only rooms with \"joined\" status\n",
    "                return res\n",
    "        except requests.exceptions.RequestException as e:\n",
    "            print(e)\n",
    "            return None    \n",
    "    \n",
    "    def get_joined_members(self, room_id):\n",
    "        \"\"\"List all joined members in a room\"\"\"\n",
    "        try:\n",
    "            result = requests.get(f\"{self.url}/_matrix/client/r0/rooms/{room_id}/joined_members?access_token={self.token}\")\n",
    "            if result.status_code != 200:\n",
    "                print(result, result.content)\n",
    "                return False\n",
    "            else:\n",
    "                json = result.json()\n",
    "                res = json[\"joined\"] # only members with \"joined\" status\n",
    "                return res\n",
    "        except requests.exceptions.RequestException as e:\n",
    "            print(e)\n",
    "            return None          \n",
    "        \n",
    "    def send_messages(self, room_id, body):\n",
    "        \"\"\"Send a message to a joined room\"\"\"\n",
    "        try:\n",
    "            result = requests.post(f\"{self.url}/_matrix/client/r0/rooms/{room_id}/send/m.room.message?access_token={self.token}\", json=body)\n",
    "            if result.status_code != 200:\n",
    "                print(result, result.content)\n",
    "                return None\n",
    "            else:\n",
    "                json = result.json()\n",
    "                event_id = json[\"event_id\"] \n",
    "                return event_id\n",
    "        except requests.exceptions.RequestException as e:\n",
    "            print(e)\n",
    "            return None\n",
    "            \n",
    "    def get_event_context(self, room_id, event_id):\n",
    "        \"\"\"Fetch events after a certain event\"\"\"\n",
    "        try:\n",
    "            # limit to context event is set to 1\n",
    "            result = requests.get(f\"{self.url}/_matrix/client/r0/rooms/{room_id}/context/{event_id}?limit=1&access_token={self.token}\")\n",
    "            if result.status_code != 200:\n",
    "                print(result, result.content)\n",
    "                return None\n",
    "            else:\n",
    "                json = result.json()\n",
    "                res = json[\"events_after\"] # only show events after the specific event\n",
    "                return res\n",
    "        except requests.exceptions.RequestException as e:\n",
    "            print(e)\n",
    "            return None    \n",
    "        \n",
    "    def sync_events(self, next_batch):\n",
    "        \"\"\"Fetch all events in a room in a batch\"\"\"\n",
    "        try:\n",
    "            result = requests.get(f\"{self.url}/_matrix/client/r0/sync?since={next_batch}&access_token={self.token}\")\n",
    "            if result.status_code != 200:\n",
    "                print(result, result.content)\n",
    "                return None\n",
    "            else:\n",
    "                json = result.json()\n",
    "                return json\n",
    "        except requests.exceptions.RequestException as e:\n",
    "            print(e)\n",
    "            return None\n",
    "        \n",
    "    def get_profile(self, user_id):\n",
    "        \"\"\"Fetch profile of a specific user\"\"\"\n",
    "        try:\n",
    "            result = requests.get(f\"{self.url}/_matrix/client/r0/profile/{user_id}\")\n",
    "            if result.status_code != 200:\n",
    "                print(result, result.content)\n",
    "                return None\n",
    "            else:\n",
    "                json = result.json() \n",
    "                return json\n",
    "        except requests.exceptions.RequestException as e:\n",
    "            print(e)\n",
    "            return None\n",
    "        \n",
    "    def get_room_state(self, room_id):\n",
    "        \"\"\"Fetch status of a room\"\"\"\n",
    "        try:\n",
    "            result = requests.get(f\"{self.url}/_matrix/client/r0/rooms/{room_id}/state?access_token={self.token}\")\n",
    "            if result.status_code != 200:\n",
    "                print(result, result.content)\n",
    "                return None\n",
    "            else:\n",
    "                json = result.json()\n",
    "                return json\n",
    "        except requests.exceptions.RequestException as e:\n",
    "            print(e)\n",
    "            return None\n",
    "        \n",
    "    def download_file(self, uri):\n",
    "        \"\"\"Download media files\"\"\"\n",
    "        try:\n",
    "            result = requests.get(f\"{self.url}/_matrix/media/r0/download/{HOSTNAME}/{uri}\")\n",
    "            if result.status_code != 200:\n",
    "                print(result, result.content)\n",
    "                return None\n",
    "            else:\n",
    "                file = result.content\n",
    "                return file\n",
    "        except requests.exceptions.RequestException as e:\n",
    "            print(e)\n",
    "            return None\n",
    "    "
   ]
  },
  {
   "cell_type": "code",
   "execution_count": null,
   "metadata": {},
   "outputs": [
    {
     "data": {
      "text/markdown": [
       "<h4 id=\"MatrixClient.get_joined_rooms\" class=\"doc_header\"><code>MatrixClient.get_joined_rooms</code><a href=\"__main__.py#L12\" class=\"source_link\" style=\"float:right\">[source]</a></h4>\n",
       "\n",
       "> <code>MatrixClient.get_joined_rooms</code>()\n",
       "\n",
       "List all rooms the user joined"
      ],
      "text/plain": [
       "<IPython.core.display.Markdown object>"
      ]
     },
     "metadata": {},
     "output_type": "display_data"
    }
   ],
   "source": [
    "show_doc(MatrixClient.get_joined_rooms)"
   ]
  },
  {
   "cell_type": "code",
   "execution_count": null,
   "metadata": {},
   "outputs": [
    {
     "data": {
      "text/markdown": [
       "<h4 id=\"MatrixClient.get_joined_members\" class=\"doc_header\"><code>MatrixClient.get_joined_members</code><a href=\"__main__.py#L27\" class=\"source_link\" style=\"float:right\">[source]</a></h4>\n",
       "\n",
       "> <code>MatrixClient.get_joined_members</code>(**`room_id`**)\n",
       "\n",
       "List all joined members in a room"
      ],
      "text/plain": [
       "<IPython.core.display.Markdown object>"
      ]
     },
     "metadata": {},
     "output_type": "display_data"
    }
   ],
   "source": [
    "show_doc(MatrixClient.get_joined_members)"
   ]
  },
  {
   "cell_type": "code",
   "execution_count": null,
   "metadata": {},
   "outputs": [
    {
     "data": {
      "text/markdown": [
       "<h4 id=\"MatrixClient.send_messages\" class=\"doc_header\"><code>MatrixClient.send_messages</code><a href=\"__main__.py#L42\" class=\"source_link\" style=\"float:right\">[source]</a></h4>\n",
       "\n",
       "> <code>MatrixClient.send_messages</code>(**`room_id`**, **`body`**)\n",
       "\n",
       "Send a message to a joined room"
      ],
      "text/plain": [
       "<IPython.core.display.Markdown object>"
      ]
     },
     "metadata": {},
     "output_type": "display_data"
    }
   ],
   "source": [
    "show_doc(MatrixClient.send_messages)"
   ]
  },
  {
   "cell_type": "code",
   "execution_count": null,
   "metadata": {},
   "outputs": [
    {
     "data": {
      "text/markdown": [
       "<h4 id=\"MatrixClient.get_event_context\" class=\"doc_header\"><code>MatrixClient.get_event_context</code><a href=\"__main__.py#L57\" class=\"source_link\" style=\"float:right\">[source]</a></h4>\n",
       "\n",
       "> <code>MatrixClient.get_event_context</code>(**`room_id`**, **`event_id`**)\n",
       "\n",
       "Fetch events after a certain event"
      ],
      "text/plain": [
       "<IPython.core.display.Markdown object>"
      ]
     },
     "metadata": {},
     "output_type": "display_data"
    }
   ],
   "source": [
    "show_doc(MatrixClient.get_event_context)"
   ]
  },
  {
   "cell_type": "code",
   "execution_count": null,
   "metadata": {},
   "outputs": [
    {
     "data": {
      "text/markdown": [
       "<h4 id=\"MatrixClient.sync_events\" class=\"doc_header\"><code>MatrixClient.sync_events</code><a href=\"__main__.py#L73\" class=\"source_link\" style=\"float:right\">[source]</a></h4>\n",
       "\n",
       "> <code>MatrixClient.sync_events</code>(**`next_batch`**)\n",
       "\n",
       "Fetch all events in a room in a batch"
      ],
      "text/plain": [
       "<IPython.core.display.Markdown object>"
      ]
     },
     "metadata": {},
     "output_type": "display_data"
    }
   ],
   "source": [
    "show_doc(MatrixClient.sync_events)"
   ]
  },
  {
   "cell_type": "code",
   "execution_count": null,
   "metadata": {},
   "outputs": [
    {
     "data": {
      "text/markdown": [
       "<h4 id=\"MatrixClient.get_profile\" class=\"doc_header\"><code>MatrixClient.get_profile</code><a href=\"__main__.py#L87\" class=\"source_link\" style=\"float:right\">[source]</a></h4>\n",
       "\n",
       "> <code>MatrixClient.get_profile</code>(**`user_id`**)\n",
       "\n",
       "Fetch profile of a specific user"
      ],
      "text/plain": [
       "<IPython.core.display.Markdown object>"
      ]
     },
     "metadata": {},
     "output_type": "display_data"
    }
   ],
   "source": [
    "show_doc(MatrixClient.get_profile)"
   ]
  },
  {
   "cell_type": "code",
   "execution_count": null,
   "metadata": {},
   "outputs": [
    {
     "data": {
      "text/markdown": [
       "<h4 id=\"MatrixClient.get_room_state\" class=\"doc_header\"><code>MatrixClient.get_room_state</code><a href=\"__main__.py#L101\" class=\"source_link\" style=\"float:right\">[source]</a></h4>\n",
       "\n",
       "> <code>MatrixClient.get_room_state</code>(**`room_id`**)\n",
       "\n",
       "Fetch status of a room"
      ],
      "text/plain": [
       "<IPython.core.display.Markdown object>"
      ]
     },
     "metadata": {},
     "output_type": "display_data"
    }
   ],
   "source": [
    "show_doc(MatrixClient.get_room_state)"
   ]
  },
  {
   "cell_type": "code",
   "execution_count": null,
   "metadata": {},
   "outputs": [
    {
     "data": {
      "text/markdown": [
       "<h4 id=\"MatrixClient.download_file\" class=\"doc_header\"><code>MatrixClient.download_file</code><a href=\"__main__.py#L115\" class=\"source_link\" style=\"float:right\">[source]</a></h4>\n",
       "\n",
       "> <code>MatrixClient.download_file</code>(**`uri`**)\n",
       "\n",
       "Download media files"
      ],
      "text/plain": [
       "<IPython.core.display.Markdown object>"
      ]
     },
     "metadata": {},
     "output_type": "display_data"
    }
   ],
   "source": [
    "show_doc(MatrixClient.download_file)"
   ]
  },
  {
   "cell_type": "code",
   "execution_count": null,
   "metadata": {},
   "outputs": [],
   "source": [
    "# export\n",
    "\n",
    "# TODO: remove after it is included in the util \n",
    "def get_g_attr(item, name, data_type, default_value=None):\n",
    "    # hide\n",
    "    first_or_default = next((att for att in item.genericAttribute if att.name == name), None)\n",
    "    if first_or_default == None:\n",
    "        return default_value\n",
    "    else:\n",
    "        if data_type == 'int':\n",
    "            return first_or_default.intValue\n",
    "        elif data_type == 'bool':\n",
    "            return first_or_default.boolValue\n",
    "        elif data_type == 'float':\n",
    "            return first_or_default.floatValue\n",
    "        elif data_type == 'string':\n",
    "            return first_or_default.stringValue\n",
    "        elif data_type == 'datetime':\n",
    "            return first_or_default.stringValue\n",
    "        else:\n",
    "            raise Exception(f\"datatype {data_type} is not supported\")\n",
    "               "
   ]
  },
  {
   "cell_type": "markdown",
   "metadata": {},
   "source": [
    "## WhatsAppImporter\n",
    "\n",
    "This class provides methods to the frontend for calling the methods in the MatrixClient class. It also handles the processing of the fetched data, and creates data items to be uploaded to the Pod."
   ]
  },
  {
   "cell_type": "markdown",
   "metadata": {},
   "source": [
    "WhatsAppImporter takes the following parameters:\n",
    "\n",
    "* **hostname**: Hostname of Matrix homeserver \n",
    "* **matrix_address**: URL of Matrix homeserver\n",
    "* **prefix_service**: Prefix of Matrix username, indicating the service\n",
    "* **bot_name**: Name of whatsappbot\n",
    "* **username**: Registered Matrix username\n",
    "* **token**: Token associated with Matrix username"
   ]
  },
  {
   "cell_type": "code",
   "execution_count": null,
   "metadata": {},
   "outputs": [],
   "source": [
    "# export\n",
    "class WhatsAppImporter(ImporterBase):\n",
    "    \n",
    "    def __init__(self, *args, **kwargs):\n",
    "        super().__init__(*args, **kwargs)\n",
    "        self.matrix_client = None\n",
    "        self.hostname = None\n",
    "        self.matrix_address = None\n",
    "        self.prefix_service = None\n",
    "        self.bot_name = None\n",
    "        self.username = None\n",
    "        self.token = None\n",
    "        self.acc_idx = {}\n",
    "        self.msgchan_idx = {}\n",
    "        self.msg_idx = {}\n",
    "        \n",
    "    def set_matrix_client(self, importer_run):\n",
    "        \"\"\"Set Matrix client instance and other parameters from importer_run\"\"\"\n",
    "        self.hostname = get_g_attr(importer_run, 'host', 'string', None)\n",
    "        self.matrix_address = get_g_attr(importer_run, 'address', 'string', None)\n",
    "        self.prefix_service = get_g_attr(importer_run, 'prefix', 'string', None)\n",
    "        self.bot_name = get_g_attr(importer_run, 'bot', 'string', None)\n",
    "        self.username = importer_run.username\n",
    "        self.token = importer_run.password\n",
    "        \n",
    "        assert self.hostname is not None \n",
    "        assert self.matrix_address is not None \n",
    "        assert self.prefix_service is not None \n",
    "        assert self.bot_name is not None\n",
    "        \n",
    "        self.matrix_client = MatrixClient(self.matrix_address, self.username, self.token)\n",
    "    \n",
    "    def get_receivers(self, room):\n",
    "        \"\"\"Fetch message receivers of a room\"\"\"\n",
    "        joined_members = self.matrix_client.get_joined_members(room)\n",
    "        joined_members = list(joined_members.keys())\n",
    "        joined_members.remove(self.username) # except the Matrix user\n",
    "        # get associated Account item for each user\n",
    "        receivers = [self.acc_idx[m] for m in joined_members] \n",
    "        return receivers\n",
    "    \n",
    "    def get_bot_room_id(self, joined_rooms):\n",
    "        \"\"\"Get room_id of whatsappbot joined room\"\"\"\n",
    "        for room in joined_rooms:\n",
    "            joined_members = self.matrix_client.get_joined_members(room)\n",
    "            # the room shared with whatsappbot has 2 members \n",
    "            if len(joined_members) == 2 and self.bot_name in joined_members:\n",
    "                return room\n",
    "        \n",
    "    def bot_list_contacts(self, room_id):\n",
    "        \"\"\"Create and send a messge, asking whatsappbot to list all contacts\"\"\"\n",
    "        body = {\"msgtype\":\"m.text\", \"body\":\"list contacts\"}\n",
    "        event_id = self.matrix_client.send_messages(room_id, body)\n",
    "        return event_id\n",
    "\n",
    "    def get_contacts(self, all_rooms):\n",
    "        \"\"\"Fetch a list of contacts from whatsappbot's response\"\"\"\n",
    "        room_id = self.get_bot_room_id(all_rooms)\n",
    "        event_id = self.bot_list_contacts(room_id)\n",
    "        time.sleep(1) # wait for whatsappbot's reply\n",
    "        contact_list = self.matrix_client.get_event_context(room_id, event_id)\n",
    "        contacts = contact_list[0][\"content\"][\"body\"].split(\"\\n\")        \n",
    "        numbers = [self.get_phone_number(c) for c in contacts]\n",
    "        numbers = [x for x in numbers if x is not None]\n",
    "        users = [f\"{self.prefix_service}{n}:{self.hostname}\" for n in numbers]\n",
    "        return users\n",
    "    \n",
    "    @staticmethod\n",
    "    def get_phone_number(contact):\n",
    "        \"\"\"Get phone number from contact information\"\"\"\n",
    "        if not contact.startswith((\"#\", \"* /\")):\n",
    "            parts = contact.split(' - ')\n",
    "            if len(parts) >= 2:\n",
    "                phone_number = parts[1][1:-1]\n",
    "                return phone_number       \n",
    "            \n",
    "    def create_account(self, user_id):\n",
    "        \"\"\"Create Account item for each user_id\"\"\"\n",
    "        profile = self.matrix_client.get_profile(user_id)\n",
    "        avatar_url = None\n",
    "        if \"avatar_url\" in profile:\n",
    "            avatar_url = profile[\"avatar_url\"]\n",
    "        account = Account(externalId=user_id, displayName=profile[\"displayname\"], avatarUrl=avatar_url, service=\"whatsapp\")\n",
    "        self.acc_idx[user_id] = account \n",
    "        return account\n",
    "\n",
    "    def create_message_channel(self, room_id, member_accounts):\n",
    "        \"\"\"Create MessageChannel item for each room, link with Account items\"\"\"\n",
    "        room_state = self.matrix_client.get_room_state(room_id)\n",
    "        room_name = None\n",
    "        room_topic = None\n",
    "        for s in room_state:\n",
    "            if s[\"type\"] == \"m.room.name\":\n",
    "                room_name = s[\"content\"][\"name\"]\n",
    "            if s[\"type\"] == \"m.room.topic\":\n",
    "                room_topic == s[\"content\"][\"topic\"]\n",
    "        message_channel = MessageChannel(externalId=room_id, name=room_name, topic=room_topic)\n",
    "        self.msgchan_idx[room_id] = message_channel \n",
    "        for m in member_accounts:\n",
    "            message_channel.add_edge(\"receiver\", m) # link with Account\n",
    "        return message_channel\n",
    "    \n",
    "    def create_message(self, event, room):         \n",
    "        \"\"\"Create Message item for each event, link with MessageChannel and Account\"\"\"\n",
    "        message = Message(externalId=event[\"event_id\"], importJson=json.dumps(event[\"content\"]), service=\"whatsapp\")\n",
    "        self.msg_idx[event[\"event_id\"]] = message\n",
    "        message.add_edge(\"messageChannel\", self.msgchan_idx[room]) # link with MessageChannel\n",
    "        message.add_edge(\"sender\", self.acc_idx[event[\"sender\"]]) # link with Account\n",
    "        \n",
    "        # Link with Message to create a thread\n",
    "#         if \"m.relates_to\" in event[\"content\"]:\n",
    "#             message.add_edge(\"replyTo\", self.msg_idx[event[\"content\"][\"m.relates_to\"][\"m.in_reply_to\"][\"event_id\"]]) \n",
    "\n",
    "        # Create media item and link with Message\n",
    "#         if \"info\" in event[\"content\"]:\n",
    "#             media = self.create_media(event[\"content\"])\n",
    "#             pod_client.create(media)\n",
    "\n",
    "#             if event[\"content\"][\"msgtype\"] == \"m.video\":\n",
    "#                 message.add_edge(\"video\", media)\n",
    "#             elif event[\"content\"][\"msgtype\"] == \"m.image\":\n",
    "#                 message.add_edge(\"photo\", media)\n",
    "#             elif event[\"content\"][\"msgtype\"] == \"m.audio\":\n",
    "#                 message.add_edge(\"audio\", media)\n",
    "#             elif event[\"content\"][\"msgtype\"] == \"m.file\":\n",
    "#                 message.add_edge(\"document\", media)\n",
    "        return message\n",
    "    \n",
    "    def create_media(self, content):\n",
    "        \"\"\"Create media item in different types, link with File\"\"\"\n",
    "        uri = content[\"url\"].split('/')[3]\n",
    "        binaries = self.matrix_client.download_file(uri)\n",
    "        sha_file = sha256(binaries).hexdigest()\n",
    "        # Create File item\n",
    "        file = File(externalId=content[\"body\"], sha256=sha_file)\n",
    "        pod_client.create(file)\n",
    "        # TODO: upload file\n",
    "\n",
    "        if content[\"msgtype\"] == \"m.image\":\n",
    "            photo = Photo(externalId=content[\"url\"])\n",
    "            photo.add_edge(\"file\", file)\n",
    "            return photo\n",
    "        elif content[\"msgtype\"] == \"m.video\":\n",
    "            video = Video(externalId=content[\"url\"], duration=content[\"info\"][\"duration\"])\n",
    "            video.add_edge(\"file\", file)\n",
    "            return video\n",
    "        elif content[\"msgtype\"] == \"m.audio\":\n",
    "            audio = Audio(externalId=content[\"url\"], duration=content[\"info\"][\"duration\"])\n",
    "            audio.add_edge(\"file\", file)\n",
    "            return audio\n",
    "        elif content[\"msgtype\"] == \"m.file\":\n",
    "            document = Document(externalId=content[\"url\"], size=content[\"info\"][\"size\"])\n",
    "            document.add_edge(\"file\", file)\n",
    "            return document\n",
    "        \n",
    "    def import_all_accounts(self, all_rooms, users):\n",
    "        \"\"\"Import all created Account items to Pod\"\"\"       \n",
    "        for r in all_rooms:\n",
    "            joined_members = self.matrix_client.get_joined_members(r)\n",
    "            for m in joined_members:\n",
    "                if not m in users:\n",
    "                    users.append(m) # add whatsappbot, user \n",
    "        for n in users:\n",
    "            if not n in self.acc_idx:\n",
    "                account = self.create_account(n)\n",
    "                pod_client.create(account) # upload to Pod   \n",
    "    \n",
    "    def import_all_messagechannels(self, all_rooms):\n",
    "        \"\"\"Import all created MessageChannel items to Pod\"\"\"\n",
    "        for r in all_rooms:\n",
    "            if not r in self.msgchan_idx:\n",
    "                member_accounts = self.get_receivers(r)\n",
    "                message_channel = self.create_message_channel(r, member_accounts)\n",
    "                pod_client.create(message_channel) # upload to Pod       \n",
    "                pod_client.create_edges(message_channel.get_all_edges())\n",
    "    \n",
    "    def import_all_messages(self, next_batch):\n",
    "        \"\"\"Import all created Message items to Pod\"\"\"\n",
    "        sync_events = self.matrix_client.sync_events(next_batch)\n",
    "        joined_rooms = sync_events[\"rooms\"][\"join\"]\n",
    "        for r in joined_rooms:\n",
    "            room_events = sync_events[\"rooms\"][\"join\"][r][\"timeline\"][\"events\"]\n",
    "            for e in room_events:\n",
    "                if not e[\"event_id\"] in self.msg_idx:\n",
    "                    message = self.create_message(e, r)\n",
    "                    pod_client.create(message) # upload to Pod\n",
    "                    pod_client.create_edges(message.get_all_edges())\n",
    "        return sync_events[\"next_batch\"]\n",
    "                \n",
    "    def run(self, importer_run, pod_client=None, verbose=True):\n",
    "        \"\"\"This is the main function of WhatsAppImporter, which runs based on the information of importer_run.\"\"\"\n",
    "        self.set_matrix_client(importer_run)\n",
    "        self.update_run_status(pod_client, importer_run, \"running\")\n",
    "        \n",
    "        all_rooms = self.matrix_client.get_joined_rooms()\n",
    "        users = self.get_contacts(all_rooms)\n",
    "        next_batch = \"s9_7_0_1_1_1\"\n",
    "        \n",
    "        while True: # polling for new contacts, chats and messages    \n",
    "            all_rooms = self.matrix_client.get_joined_rooms()       \n",
    "            \n",
    "            self.update_progress_message(pod_client, importer_run, \"importing contacts\", verbose=verbose)\n",
    "            self.import_all_accounts(all_rooms, users) \n",
    "            \n",
    "            self.update_progress_message(pod_client, importer_run, \"importing chats\", verbose=verbose)\n",
    "            self.import_all_messagechannels(all_rooms)\n",
    "\n",
    "            self.update_progress_message(pod_client, importer_run, \"importing messages\", verbose=verbose)\n",
    "            next_batch = self.import_all_messages(next_batch)\n",
    "\n",
    "            self.update_run_status(pod_client, importer_run, \"polling\")\n",
    "            time.sleep(2)"
   ]
  },
  {
   "cell_type": "code",
   "execution_count": null,
   "metadata": {},
   "outputs": [
    {
     "data": {
      "text/markdown": [
       "<h4 id=\"WhatsAppImporter.create_account\" class=\"doc_header\"><code>WhatsAppImporter.create_account</code><a href=\"__main__.py#L70\" class=\"source_link\" style=\"float:right\">[source]</a></h4>\n",
       "\n",
       "> <code>WhatsAppImporter.create_account</code>(**`user_id`**)\n",
       "\n",
       "Create Account item for each user_id"
      ],
      "text/plain": [
       "<IPython.core.display.Markdown object>"
      ]
     },
     "metadata": {},
     "output_type": "display_data"
    }
   ],
   "source": [
    "show_doc(WhatsAppImporter.create_account)"
   ]
  },
  {
   "cell_type": "code",
   "execution_count": null,
   "metadata": {},
   "outputs": [
    {
     "data": {
      "text/markdown": [
       "<h4 id=\"WhatsAppImporter.create_message_channel\" class=\"doc_header\"><code>WhatsAppImporter.create_message_channel</code><a href=\"__main__.py#L79\" class=\"source_link\" style=\"float:right\">[source]</a></h4>\n",
       "\n",
       "> <code>WhatsAppImporter.create_message_channel</code>(**`room_id`**, **`member_accounts`**)\n",
       "\n",
       "Create MessageChannel item for each room, link with Account items"
      ],
      "text/plain": [
       "<IPython.core.display.Markdown object>"
      ]
     },
     "metadata": {},
     "output_type": "display_data"
    }
   ],
   "source": [
    "show_doc(WhatsAppImporter.create_message_channel)"
   ]
  },
  {
   "cell_type": "code",
   "execution_count": null,
   "metadata": {},
   "outputs": [
    {
     "data": {
      "text/markdown": [
       "<h4 id=\"WhatsAppImporter.create_message\" class=\"doc_header\"><code>WhatsAppImporter.create_message</code><a href=\"__main__.py#L94\" class=\"source_link\" style=\"float:right\">[source]</a></h4>\n",
       "\n",
       "> <code>WhatsAppImporter.create_message</code>(**`event`**, **`room`**)\n",
       "\n",
       "Create Message item for each event, link with MessageChannel and Account"
      ],
      "text/plain": [
       "<IPython.core.display.Markdown object>"
      ]
     },
     "metadata": {},
     "output_type": "display_data"
    }
   ],
   "source": [
    "show_doc(WhatsAppImporter.create_message)"
   ]
  },
  {
   "cell_type": "code",
   "execution_count": null,
   "metadata": {},
   "outputs": [
    {
     "data": {
      "text/markdown": [
       "<h4 id=\"WhatsAppImporter.create_media\" class=\"doc_header\"><code>WhatsAppImporter.create_media</code><a href=\"__main__.py#L120\" class=\"source_link\" style=\"float:right\">[source]</a></h4>\n",
       "\n",
       "> <code>WhatsAppImporter.create_media</code>(**`content`**)\n",
       "\n",
       "Create media item in different types, link with File"
      ],
      "text/plain": [
       "<IPython.core.display.Markdown object>"
      ]
     },
     "metadata": {},
     "output_type": "display_data"
    }
   ],
   "source": [
    "show_doc(WhatsAppImporter.create_media)"
   ]
  },
  {
   "cell_type": "code",
   "execution_count": null,
   "metadata": {},
   "outputs": [
    {
     "data": {
      "text/markdown": [
       "<h4 id=\"WhatsAppImporter.get_all_accounts\" class=\"doc_header\"><code>WhatsAppImporter.get_all_accounts</code><a href=\"__main__.py#L147\" class=\"source_link\" style=\"float:right\">[source]</a></h4>\n",
       "\n",
       "> <code>WhatsAppImporter.get_all_accounts</code>(**`all_rooms`**)\n",
       "\n",
       "Fetch all created Account items"
      ],
      "text/plain": [
       "<IPython.core.display.Markdown object>"
      ]
     },
     "metadata": {},
     "output_type": "display_data"
    }
   ],
   "source": [
    "show_doc(WhatsAppImporter.get_all_accounts)"
   ]
  },
  {
   "cell_type": "code",
   "execution_count": null,
   "metadata": {},
   "outputs": [
    {
     "data": {
      "text/markdown": [
       "<h4 id=\"WhatsAppImporter.get_all_messagechannels\" class=\"doc_header\"><code>WhatsAppImporter.get_all_messagechannels</code><a href=\"__main__.py#L169\" class=\"source_link\" style=\"float:right\">[source]</a></h4>\n",
       "\n",
       "> <code>WhatsAppImporter.get_all_messagechannels</code>(**`all_rooms`**)\n",
       "\n",
       "Fetch all created MessageChannel items, upload to Pod"
      ],
      "text/plain": [
       "<IPython.core.display.Markdown object>"
      ]
     },
     "metadata": {},
     "output_type": "display_data"
    }
   ],
   "source": [
    "show_doc(WhatsAppImporter.get_all_messagechannels)"
   ]
  },
  {
   "cell_type": "code",
   "execution_count": null,
   "metadata": {},
   "outputs": [
    {
     "data": {
      "text/markdown": [
       "<h4 id=\"WhatsAppImporter.get_all_messages\" class=\"doc_header\"><code>WhatsAppImporter.get_all_messages</code><a href=\"__main__.py#L183\" class=\"source_link\" style=\"float:right\">[source]</a></h4>\n",
       "\n",
       "> <code>WhatsAppImporter.get_all_messages</code>()\n",
       "\n",
       "Fetch all created Message items, upload to Pod"
      ],
      "text/plain": [
       "<IPython.core.display.Markdown object>"
      ]
     },
     "metadata": {},
     "output_type": "display_data"
    }
   ],
   "source": [
    "show_doc(WhatsAppImporter.get_all_messages)"
   ]
  },
  {
   "cell_type": "code",
   "execution_count": null,
   "metadata": {},
   "outputs": [
    {
     "data": {
      "text/markdown": [
       "<h4 id=\"WhatsAppImporter.run\" class=\"doc_header\"><code>WhatsAppImporter.run</code><a href=\"__main__.py#L198\" class=\"source_link\" style=\"float:right\">[source]</a></h4>\n",
       "\n",
       "> <code>WhatsAppImporter.run</code>(**`importer_run`**, **`pod_client`**=*`None`*, **`verbose`**=*`True`*)\n",
       "\n",
       "This is the main function of WhatsAppImporter, which runs based on the information of importer_run."
      ],
      "text/plain": [
       "<IPython.core.display.Markdown object>"
      ]
     },
     "metadata": {},
     "output_type": "display_data"
    }
   ],
   "source": [
    "show_doc(WhatsAppImporter.run)"
   ]
  },
  {
   "cell_type": "markdown",
   "metadata": {},
   "source": [
    "# Tests"
   ]
  },
  {
   "cell_type": "markdown",
   "metadata": {},
   "source": [
    "## Without Matrix homeserver+bridge\n",
    "\n",
    "Create MessageChannel and Message items, add edge in between, upload to Pod."
   ]
  },
  {
   "cell_type": "code",
   "execution_count": null,
   "metadata": {},
   "outputs": [],
   "source": [
    "# slow\n",
    "DB_KEY = \"2DD29CA851E7B56E4697B0E1F08507293D761A05CE4D1B628663F411A8086D99\"\n",
    "OWNER_KEY = \"2DD29CA851E7B56E4697B0E1F08507293D761A05CE4D1B628663F411A8086D99\"\n",
    "\n",
    "pod_client = PodClient(database_key=DB_KEY, owner_key=OWNER_KEY)\n",
    "pod_client.delete_all()\n",
    "\n",
    "message_channel = MessageChannel(externalId=\"!scbkDPfWMZqpqyjnsS:synapse\", name=\"Test\", topic=\"Private chat\")\n",
    "pod_client.create(message_channel)\n",
    "\n",
    "event = {'type': 'm.room.message', 'sender': '@foo:synapse', 'content': {'msgtype': 'm.text', 'body': 'list contacts'}, 'origin_server_ts': 1606235079767, 'unsigned': {'age': 59529472}, 'event_id': '$biXu9En8lvI7gxfV1O6_4SxgBtI6HpcTMr6oZtEJSz4'}\n",
    "message = Message(externalId=event[\"event_id\"], importJson=json.dumps(event[\"content\"]), service=\"whatsapp\")\n",
    "message.add_edge(\"messageChannel\", message_channel)\n",
    "pod_client.create(message)\n",
    "pod_client.create_edges(message.get_all_edges())\n",
    "\n",
    "assert pod_client.external_id_exists(message_channel) == True\n",
    "assert pod_client.external_id_exists(message) == True\n",
    "\n",
    "pod_client.delete_all()"
   ]
  },
  {
   "cell_type": "markdown",
   "metadata": {},
   "source": [
    "## With Matrix homeserver+bridge\n",
    "\n",
    "**Require to first register with Matrix, update username and token.**\n",
    "\n",
    "Import contacts, chats and messages and upload to Pod."
   ]
  },
  {
   "cell_type": "code",
   "execution_count": null,
   "metadata": {},
   "outputs": [],
   "source": [
    "# slow\n",
    "DEFAULT_MATRIX_ADDRESS = \"http://localhost:8008\"\n",
    "HOSTNAME = \"synapse\"\n",
    "USERNAME = \"foo\"\n",
    "PREFIX_SERVICE = \"@whatsapp_\"\n",
    "MATRIX_USERNAME = f\"@{USERNAME}:{HOSTNAME}\"\n",
    "MATRIX_TOKEN = \"MDAxNWxvY2F0aW9uIHN5bmFwc2UKMDAxM2lkZW50aWZpZXIga2V5CjAwMTBjaWQgZ2VuID0gMQowMDFmY2lkIHVzZXJfaWQgPSBAZm9vOnN5bmFwc2UKMDAxNmNpZCB0eXBlID0gYWNjZXNzCjAwMjFjaWQgbm9uY2UgPSAmQHZkbkV2aEdGO0Jsb1NzCjAwMmZzaWduYXR1cmUgAzxgSUYL8xLSwUpbPa3-bHpCD8GnI5mkAVzbOOJufjQK\"\n",
    "BOT_NAME = f\"@whatsappbot:{HOSTNAME}\"\n",
    "DB_KEY = \"2DD29CA851E7B56E4697B0E1F08507293D761A05CE4D1B628663F411A8086D99\"\n",
    "OWNER_KEY = \"2DD29CA851E7B56E4697B0E1F08507293D761A05CE4D1B628663F411A8086D99\"\n",
    "\n",
    "pod_client = PodClient(database_key=DB_KEY, owner_key=OWNER_KEY)\n",
    "pod_client.delete_all()\n",
    "\n",
    "whatsapp_importer = WhatsAppImporter()\n",
    "pod_client.create(whatsapp_importer)\n",
    "\n",
    "ga_host = GenericAttribute(name='host', stringValue=HOSTNAME)\n",
    "ga_address = GenericAttribute(name='address', stringValue=DEFAULT_MATRIX_ADDRESS)\n",
    "ga_prefix = GenericAttribute(name='prefix', stringValue=PREFIX_SERVICE)\n",
    "ga_bot = GenericAttribute(name='bot', stringValue=BOT_NAME)\n",
    "pod_client.create(ga_host)\n",
    "pod_client.create(ga_address)\n",
    "pod_client.create(ga_prefix)\n",
    "pod_client.create(ga_bot)\n",
    "\n",
    "importer_run = ImporterRun(progress=0, username=MATRIX_USERNAME, password=MATRIX_TOKEN, repository=\"memri-pyintegrator\")\n",
    "importer_run.add_edge('genericAttribute', ga_host)\n",
    "importer_run.add_edge('genericAttribute', ga_address)\n",
    "importer_run.add_edge('genericAttribute', ga_prefix)\n",
    "importer_run.add_edge('genericAttribute', ga_bot)\n",
    "importer_run.add_edge('importer', whatsapp_importer)\n",
    "pod_client.create(importer_run)\n",
    "pod_client.create_edges(importer_run.get_all_edges())\n",
    "\n",
    "whatsapp_importer.run(importer_run=importer_run, pod_client=pod_client)"
   ]
  },
  {
   "cell_type": "markdown",
   "metadata": {},
   "source": [
    "## Call run_importer interface of the Pod\n"
   ]
  },
  {
   "cell_type": "code",
   "execution_count": null,
   "metadata": {},
   "outputs": [],
   "source": [
    "# slow\n",
    "DB_KEY = \"2DD29CA851E7B56E4697B0E1F08507293D761A05CE4D1B628663F411A8086D99\"\n",
    "OWNER_KEY = \"2DD29CA851E7B56E4697B0E1F08507293D761A05CE4D1B628663F411A8086D99\"\n",
    "\n",
    "pod_client = PodClient(database_key=DB_KEY, owner_key=OWNER_KEY)\n",
    "\n",
    "\n",
    "query = {\n",
    "            'databaseKey':pod_client.database_key,\n",
    "            'payload':{\n",
    "                 'uid':importer_run.uid,\n",
    "                 'servicePayload': {\n",
    "                     'databaseKey':pod_client.database_key,\n",
    "                     'ownerKey':pod_client.owner_key\n",
    "                  },\n",
    "            }\n",
    "       }\n",
    "\n",
    "print(importer_run.uid)\n",
    "print(requests.post(f'http://0.0.0.0:3030/v2/{pod_client.owner_key}/run_importer',\n",
    "                   json=query).content)"
   ]
  },
  {
   "cell_type": "code",
   "execution_count": null,
   "metadata": {},
   "outputs": [],
   "source": [
    "# hide\n",
    "# TODO: test for media upload"
   ]
  },
  {
   "cell_type": "code",
   "execution_count": null,
   "metadata": {},
   "outputs": [
    {
     "name": "stdout",
     "output_type": "stream",
     "text": [
      "Converted basic.ipynb.\n",
      "Converted importers.EmailImporter.ipynb.\n",
      "Converted importers.Importer.ipynb.\n",
      "Converted importers.WhatsAppImporter.ipynb.\n",
      "Converted importers.util.ipynb.\n",
      "Converted index.ipynb.\n",
      "Converted indexers.FaceRecognitionIndexer.ipynb.\n",
      "Converted indexers.FacerecognitionIndexer.Photo.ipynb.\n",
      "Converted indexers.GeoIndexer.ipynb.\n",
      "Converted indexers.NoteListIndexer.NoteList.ipynb.\n",
      "Converted indexers.NoteListIndexer.Parser.ipynb.\n",
      "Converted indexers.NoteListIndexer.ipynb.\n",
      "Converted indexers.NoteListIndexer.util.ipynb.\n",
      "Converted indexers.indexer.ipynb.\n",
      "Converted itembase.ipynb.\n",
      "Converted pod.client.ipynb.\n"
     ]
    }
   ],
   "source": [
    "# hide\n",
    "from nbdev.export import *\n",
    "notebook2script()"
   ]
  },
  {
   "cell_type": "code",
   "execution_count": null,
   "metadata": {},
   "outputs": [],
   "source": []
  }
 ],
 "metadata": {
  "kernelspec": {
   "display_name": "Python 3",
   "language": "python",
   "name": "python3"
  }
 },
 "nbformat": 4,
 "nbformat_minor": 4
}

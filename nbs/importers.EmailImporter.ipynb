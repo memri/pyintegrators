{
 "cells": [
  {
   "cell_type": "code",
   "execution_count": null,
   "metadata": {},
   "outputs": [],
   "source": [
    "%load_ext autoreload\n",
    "%autoreload 2\n",
    "# default_exp importers.email"
   ]
  },
  {
   "cell_type": "code",
   "execution_count": null,
   "metadata": {},
   "outputs": [],
   "source": [
    "# export\n",
    "import imaplib, email, math\n",
    "from integrators.data.schema import Account, EmailMessage, MessageChannel\n",
    "from integrators.pod.client import PodClient\n",
    "from integrators.importers.util import *\n",
    "from integrators.data.basic import *\n",
    "from email import policy\n",
    "from email.utils import getaddresses\n",
    "from integrators.imports import *\n",
    "from nbdev.showdoc import show_doc"
   ]
  },
  {
   "cell_type": "markdown",
   "metadata": {},
   "source": [
    "# Email importer"
   ]
  },
  {
   "cell_type": "markdown",
   "metadata": {},
   "source": [
    "This importers fetches your emails and accounts over IMAP, it uses the python built-in imap client and some convenience functions for easier usage, batching and importing to the pod. This importer requires you to login with your email address and an app password. It is tested on gmail, but should work for other IMAP-servers. "
   ]
  },
  {
   "cell_type": "markdown",
   "metadata": {},
   "source": [
    "> Note: **The recommended usage for Gmail is to enable two-factor authentication. In this case, make sure you allow [SMTP-connections](https://www.gmass.co/blog/gmail-smtp/) and set an application password (explained in the same link)**"
   ]
  },
  {
   "cell_type": "markdown",
   "metadata": {},
   "source": [
    "## ImapClient\n",
    "\n",
    "The `EmailImporter` communicates with email providers over imap. We created a convenience class around pythons imaplib , called the `ImapClient` that lets you list your mailboxes, retriev your mails and get their content."
   ]
  },
  {
   "cell_type": "code",
   "execution_count": null,
   "metadata": {},
   "outputs": [],
   "source": [
    "# export\n",
    "DEFAULT_GMAIL_HOST = 'imap.gmail.com'\n",
    "DEFAULT_GMAIL_INBOX = '\"[Gmail]/All Mail\"' # Note the double quotes here\n",
    "DEFAULT_PORT = 993\n",
    "\n",
    "class IMAPClient():\n",
    "    \n",
    "    def __init__(self, username, app_pw, host=DEFAULT_GMAIL_HOST, port=DEFAULT_PORT, inbox=DEFAULT_GMAIL_INBOX):\n",
    "        assert username is not None and app_pw is not None\n",
    "        self.client = imaplib.IMAP4_SSL(host, port=port)\n",
    "        self.client.login(username, app_pw)\n",
    "        self.client.select(inbox) # connect to inbox.\n",
    "        \n",
    "    def list_mailboxes(self):\n",
    "        \"\"\"Lists all available mailboxes\"\"\"\n",
    "        return self.client.list()\n",
    "    \n",
    "    def get_all_mail_uids(self):\n",
    "        \"\"\"retrieves all mail uids from the selected mailbox\"\"\"\n",
    "        result, data = self.client.uid('search', None, \"ALL\") # search and return uids instead\n",
    "        return data[0].split()\n",
    "    \n",
    "    def get_mails(self, uids):\n",
    "        return [self.get_mail(uid) for uid in uids]\n",
    "    \n",
    "    def get_mail(self, uid):\n",
    "        \"\"\"Fetches a mail given a uid, returns (raw_mail, thread_id)\"\"\"\n",
    "        if self.client.host == DEFAULT_GMAIL_HOST:\n",
    "            # Use Google's threading method, in which every thread has an ID\n",
    "            result, (data, _) = self.client.uid('fetch', uid, '(RFC822 X-GM-THRID)')\n",
    "            thread_id = data[0].decode(\"utf-8\").split(\" \")[2]\n",
    "            raw_email = data[1]\n",
    "            return (raw_email, thread_id)\n",
    "        else:\n",
    "            # Threading not yet implemented for IMAP threading\n",
    "            result, (data, _) = self.client.uid('fetch', uid, '(RFC822)')\n",
    "            raw_email = data[1]\n",
    "            return (raw_email, None)\n",
    "\n",
    "def part_to_str(part):\n",
    "    # hide\n",
    "    bytes_ = part.get_payload(decode=True)\n",
    "    charset = part.get_content_charset('iso-8859-1')\n",
    "    chars = bytes_.decode(charset, 'replace')\n",
    "    return chars\n",
    "\n",
    "def _get_all_parts(part):\n",
    "    # hide\n",
    "    payload = part.get_payload()\n",
    "    if isinstance(payload, list):\n",
    "        return [x for p in payload for x in _get_all_parts(p)]\n",
    "    else:\n",
    "        return [part]"
   ]
  },
  {
   "cell_type": "code",
   "execution_count": null,
   "metadata": {},
   "outputs": [
    {
     "data": {
      "text/markdown": [
       "<h2 id=\"IMAPClient\" class=\"doc_header\"><code>class</code> <code>IMAPClient</code><a href=\"\" class=\"source_link\" style=\"float:right\">[source]</a></h2>\n",
       "\n",
       "> <code>IMAPClient</code>(**`username`**, **`app_pw`**, **`host`**=*`'imap.gmail.com'`*, **`port`**=*`993`*, **`inbox`**=*`'\"[Gmail]/All Mail\"'`*)\n",
       "\n"
      ],
      "text/plain": [
       "<IPython.core.display.Markdown object>"
      ]
     },
     "metadata": {},
     "output_type": "display_data"
    }
   ],
   "source": [
    "show_doc(IMAPClient)"
   ]
  },
  {
   "cell_type": "code",
   "execution_count": null,
   "metadata": {},
   "outputs": [
    {
     "data": {
      "text/markdown": [
       "<h4 id=\"IMAPClient.list_mailboxes\" class=\"doc_header\"><code>IMAPClient.list_mailboxes</code><a href=\"__main__.py#L14\" class=\"source_link\" style=\"float:right\">[source]</a></h4>\n",
       "\n",
       "> <code>IMAPClient.list_mailboxes</code>()\n",
       "\n",
       "Lists all available mailboxes"
      ],
      "text/plain": [
       "<IPython.core.display.Markdown object>"
      ]
     },
     "metadata": {},
     "output_type": "display_data"
    }
   ],
   "source": [
    "show_doc(IMAPClient.list_mailboxes)"
   ]
  },
  {
   "cell_type": "code",
   "execution_count": null,
   "metadata": {},
   "outputs": [
    {
     "data": {
      "text/markdown": [
       "<h4 id=\"IMAPClient.get_all_mail_uids\" class=\"doc_header\"><code>IMAPClient.get_all_mail_uids</code><a href=\"__main__.py#L18\" class=\"source_link\" style=\"float:right\">[source]</a></h4>\n",
       "\n",
       "> <code>IMAPClient.get_all_mail_uids</code>()\n",
       "\n",
       "retrieves all mail uids from the selected mailbox"
      ],
      "text/plain": [
       "<IPython.core.display.Markdown object>"
      ]
     },
     "metadata": {},
     "output_type": "display_data"
    }
   ],
   "source": [
    "show_doc(IMAPClient.get_all_mail_uids)"
   ]
  },
  {
   "cell_type": "code",
   "execution_count": null,
   "metadata": {},
   "outputs": [
    {
     "data": {
      "text/markdown": [
       "<h4 id=\"IMAPClient.get_mail\" class=\"doc_header\"><code>IMAPClient.get_mail</code><a href=\"__main__.py#L26\" class=\"source_link\" style=\"float:right\">[source]</a></h4>\n",
       "\n",
       "> <code>IMAPClient.get_mail</code>(**`uid`**)\n",
       "\n",
       "Fetches a mail given a uid, returns (raw_mail, thread_id)"
      ],
      "text/plain": [
       "<IPython.core.display.Markdown object>"
      ]
     },
     "metadata": {},
     "output_type": "display_data"
    }
   ],
   "source": [
    "show_doc(IMAPClient.get_mail)"
   ]
  },
  {
   "cell_type": "code",
   "execution_count": null,
   "metadata": {},
   "outputs": [],
   "source": [
    "# export\n",
    "\n",
    "# TODO: should probably become a general utility function\n",
    "def get_unique_accounts(all_mails):\n",
    "    # hide\n",
    "    all_accounts = {}\n",
    "    for email_item in all_mails:\n",
    "        for edge in email_item.get_all_edges():\n",
    "            account = edge.traverse(email_item)\n",
    "            if not account.externalId in all_accounts:\n",
    "                all_accounts[account.externalId] = account\n",
    "\n",
    "    for email_item in all_mails:\n",
    "        for edge in email_item.get_all_edges():\n",
    "            edge.target = all_accounts[edge.target.externalId]\n",
    "            \n",
    "    return list(all_accounts.values())\n",
    "\n",
    "# TODO: should probably become a general utility function\n",
    "def get_g_attr(item, name, data_type, default_value=None):\n",
    "    # hide\n",
    "    first_or_default = next((att for att in item.genericAttribute if att.name == name), None)\n",
    "    if first_or_default == None:\n",
    "        return default_value\n",
    "    else:\n",
    "        if data_type == 'int':\n",
    "            return first_or_default.intValue\n",
    "        elif data_type == 'bool':\n",
    "            return first_or_default.boolValue\n",
    "        elif data_type == 'float':\n",
    "            return first_or_default.floatValue\n",
    "        elif data_type == 'string':\n",
    "            return first_or_default.stringValue\n",
    "        elif data_type == 'datetime':\n",
    "            return first_or_default.stringValue\n",
    "        else:\n",
    "            raise Exception(f\"datatype {data_type} is not supported\")"
   ]
  },
  {
   "cell_type": "markdown",
   "metadata": {},
   "source": [
    "## EmailImporter"
   ]
  },
  {
   "cell_type": "code",
   "execution_count": null,
   "metadata": {},
   "outputs": [],
   "source": [
    "# export\n",
    "from integrators.data.schema import *\n",
    "from integrators.imports import *\n",
    "from integrators.indexers.indexer import test_registration\n",
    "from integrators.importers.importer import ImporterBase\n",
    "\n",
    "\n",
    "class EmailImporter(ImporterBase): \n",
    "    \"\"\"Imports emails over imap.\"\"\"\n",
    "    def __init__(self, *args, **kwargs):\n",
    "        self.private = [\"imap_client\"]\n",
    "        super().__init__(*args, **kwargs)\n",
    "        self.imap_client = None\n",
    "       \n",
    "    def get_data(self, client, indexer_run):\n",
    "        print('this function is a workaround (this Importer is an Indexer temporarily)')\n",
    "        \n",
    "    def set_imap_client(self, importer_run):\n",
    "        imap_host = get_g_attr(importer_run, 'host', 'string', DEFAULT_GMAIL_HOST)\n",
    "        port = get_g_attr(importer_run, 'port', 'int', DEFAULT_PORT)\n",
    "        assert imap_host is not None and port is not None\n",
    "        print(f'Using, HOST: {imap_host}, PORT: {port}')\n",
    "        \n",
    "        self.imap_client = IMAPClient(username=importer_run.username, \n",
    "                                     app_pw=importer_run.password, \n",
    "                                     host=imap_host,\n",
    "                                     port=993)\n",
    "    \n",
    "    @staticmethod\n",
    "    def get_timestamp_from_message(message):\n",
    "        date = message[\"date\"]\n",
    "        parsed_time = email.utils.parsedate(date)\n",
    "        dt = email.utils.parsedate_to_datetime(date)\n",
    "        timestamp = int(dt.timestamp() * 1000)\n",
    "\n",
    "        return timestamp\n",
    "    \n",
    "    @staticmethod\n",
    "    def get_accounts(message, field):\n",
    "        addresses = getaddresses(message.get_all(field, []))\n",
    "        return [Account(externalId=address) for name, address in addresses]\n",
    "    \n",
    "    @staticmethod\n",
    "    def get_content(message):\n",
    "        \"\"\"Extracts content from a python email message\"\"\"\n",
    "        maintype = message.get_content_maintype()\n",
    "        if maintype == 'multipart':\n",
    "\n",
    "            parts = _get_all_parts(message)\n",
    "            res = None\n",
    "            html_parts = [part_to_str(part) for part in parts if part.get_content_type() == \"text/html\"]\n",
    "            if len(html_parts) > 0:\n",
    "                if len(html_parts) > 1:\n",
    "                    error_msg = \"\\n AND \\n\".join(html_parts)\n",
    "                    print(f\"WARNING: FOUND MULTIPLE HTML PARTS IN ONE MESSAGE {error_msg}\")\n",
    "                return html_parts[0]\n",
    "            else:\n",
    "                return parts[0].get_payload()\n",
    "\n",
    "        elif maintype == 'text':\n",
    "            return message.get_payload()\n",
    "        \n",
    "    @staticmethod    \n",
    "    def get_attachments(message): return list(message.iter_attachments())\n",
    "        \n",
    "    def create_item_from_mail(self, mail, thread_id=None):\n",
    "        \"\"\"Creates a schema-item from an existing mail\"\"\"\n",
    "        message = email.message_from_bytes(mail, policy=policy.SMTP)\n",
    "\n",
    "        message_id, subject = message[\"message-id\"], message[\"subject\"]\n",
    "        timestamp = self.get_timestamp_from_message(message)\n",
    "\n",
    "        content = self.get_content(message)\n",
    "        attachments = self.get_attachments(message)   \n",
    "\n",
    "        email_item = EmailMessage(externalId=message_id, subject=subject, dateSent=timestamp, content=content)\n",
    "\n",
    "        for a in self.get_accounts(message, 'from'): email_item.add_edge('sender', a)\n",
    "        for a in self.get_accounts(message, 'to'): email_item.add_edge('receiver', a)\n",
    "        for a in self.get_accounts(message, 'reply-to'): email_item.add_edge('replyTo', a)\n",
    "\n",
    "        if thread_id != None:\n",
    "            email_item.add_edge('messageChannel', MessageChannel(externalId=thread_id))\n",
    "\n",
    "        return email_item          \n",
    "                \n",
    "    def get_mails(self, mail_ids, batch_size=5, importer_run=None, verbose=True, pod_client=None):\n",
    "        \"\"\"Gets mails from a list of mail uids. You can pass an importer run and podclient\n",
    "        to update the progress of the process\"\"\"\n",
    "        mails = []\n",
    "        n_batches = math.ceil(len(mail_ids) / batch_size)\n",
    "        \n",
    "        for i, batch_ids in enumerate(batch(mail_ids, n=batch_size)):\n",
    "\n",
    "            for mail, thread_id in self.imap_client.get_mails(mail_ids):\n",
    "                item = self.create_item_from_mail(mail, thread_id=thread_id)\n",
    "                if pod_client is not None:\n",
    "                    if not pod_client.external_id_exists(item):\n",
    "                        pod_client.create(item)                    \n",
    "                        mails.append(item)\n",
    "                else:\n",
    "                    mails.append(item)\n",
    "                \n",
    "            progress = (i + 1) / n_batches * 1.0\n",
    "            self.update_progress(pod_client, importer_run, progress, total=len(mail_ids))                \n",
    "\n",
    "        return mails\n",
    "        \n",
    "    def run(self, importer_run, pod_client=None, verbose=True):\n",
    "        \"\"\"This is the main function of the Email importer. It runs the importer given information\n",
    "        provided in the importer run. if you pass a pod client it will add the new items to the graph.\"\"\"\n",
    "        self.set_imap_client(importer_run)\n",
    "        self.update_run_status(pod_client, importer_run, \"running\")\n",
    "        \n",
    "        stop_early_at = get_g_attr(importer_run, 'max_number', 'int', 10)\n",
    "        \n",
    "        self.update_progress_message(pod_client, importer_run, \"downloading emails\", verbose=verbose)\n",
    "        mail_ids = self.imap_client.get_all_mail_uids()\n",
    "        all_mails = self.get_mails(mail_ids[:int(stop_early_at)],\n",
    "                                   importer_run=importer_run,\n",
    "                                   pod_client=pod_client)\n",
    "                \n",
    "        # TODO: create better way to do this\n",
    "        self.update_progress_message(pod_client, importer_run, \"merging duplicate items\", verbose=verbose)\n",
    "        all_accounts = get_unique_accounts(all_mails)\n",
    "\n",
    "        self.update_progress_message(pod_client, importer_run, \"creating accounts\", verbose=verbose)\n",
    "        for item in all_accounts: pod_client.create(item)\n",
    "\n",
    "        self.update_progress_message(pod_client, importer_run, \"creating threads\", verbose=verbose)\n",
    "        for email_item in all_mails: pod_client.create_edges(email_item.get_all_edges())\n",
    "            \n",
    "        print(f\"Finished running {self}\")\n",
    "        \n",
    "        self.update_run_status(pod_client, importer_run, \"done\")\n"
   ]
  },
  {
   "cell_type": "markdown",
   "metadata": {},
   "source": [
    "The email importer has the following parameters\n",
    "\n",
    "- **username** Your email address\n",
    "- **password** Your email password. In case you're using gmail, use your application password\n",
    "- _generic attributes_\n",
    "- **host** The URL of the host (defaults to imap.gmail.com)\n",
    "- **port** The port of the server (defaults to 993 for gmail)\n",
    "- **max_number** Max number of emails to download. Leave unset for unlimited"
   ]
  },
  {
   "cell_type": "code",
   "execution_count": null,
   "metadata": {},
   "outputs": [
    {
     "data": {
      "text/markdown": [
       "<h4 id=\"EmailImporter.get_content\" class=\"doc_header\"><code>EmailImporter.get_content</code><a href=\"__main__.py#L44\" class=\"source_link\" style=\"float:right\">[source]</a></h4>\n",
       "\n",
       "> <code>EmailImporter.get_content</code>(**`message`**)\n",
       "\n",
       "Extracts content from a python email message"
      ],
      "text/plain": [
       "<IPython.core.display.Markdown object>"
      ]
     },
     "metadata": {},
     "output_type": "display_data"
    }
   ],
   "source": [
    "show_doc(EmailImporter.get_content)"
   ]
  },
  {
   "cell_type": "code",
   "execution_count": null,
   "metadata": {},
   "outputs": [
    {
     "data": {
      "text/markdown": [
       "<h4 id=\"EmailImporter.create_item_from_mail\" class=\"doc_header\"><code>EmailImporter.create_item_from_mail</code><a href=\"__main__.py#L67\" class=\"source_link\" style=\"float:right\">[source]</a></h4>\n",
       "\n",
       "> <code>EmailImporter.create_item_from_mail</code>(**`mail`**, **`thread_id`**=*`None`*)\n",
       "\n",
       "Creates a schema-item from an existing mail"
      ],
      "text/plain": [
       "<IPython.core.display.Markdown object>"
      ]
     },
     "metadata": {},
     "output_type": "display_data"
    }
   ],
   "source": [
    "show_doc(EmailImporter.create_item_from_mail)"
   ]
  },
  {
   "cell_type": "code",
   "execution_count": null,
   "metadata": {},
   "outputs": [
    {
     "data": {
      "text/markdown": [
       "<h4 id=\"EmailImporter.run\" class=\"doc_header\"><code>EmailImporter.run</code><a href=\"__main__.py#L110\" class=\"source_link\" style=\"float:right\">[source]</a></h4>\n",
       "\n",
       "> <code>EmailImporter.run</code>(**`importer_run`**, **`pod_client`**=*`None`*, **`verbose`**=*`True`*)\n",
       "\n",
       "This is the main function of the Email importer. It runs the importer given information\n",
       "provided in the importer run. if you pass a pod client it will add the new items to the graph."
      ],
      "text/plain": [
       "<IPython.core.display.Markdown object>"
      ]
     },
     "metadata": {},
     "output_type": "display_data"
    }
   ],
   "source": [
    "show_doc(EmailImporter.run)"
   ]
  },
  {
   "cell_type": "markdown",
   "metadata": {},
   "source": [
    "## Usage"
   ]
  },
  {
   "cell_type": "markdown",
   "metadata": {},
   "source": [
    "### Download all mails from your account"
   ]
  },
  {
   "cell_type": "code",
   "execution_count": null,
   "metadata": {},
   "outputs": [],
   "source": [
    "# hide\n",
    "def get_importer_run(imap_user, imap_pw):\n",
    "    importer_run = ImporterRun.from_data(progress=0, username=imap_user, password=imap_pw)\n",
    "    importer_run.add_edge('genericAttribute', GenericAttribute(name='host', stringValue=DEFAULT_GMAIL_HOST))\n",
    "    importer_run.add_edge('genericAttribute', GenericAttribute(name='port', intValue=993))\n",
    "    importer_run.add_edge('genericAttribute', GenericAttribute(name='max_number', intValue=10))\n",
    "    return importer_run"
   ]
  },
  {
   "cell_type": "code",
   "execution_count": null,
   "metadata": {},
   "outputs": [],
   "source": [
    "pod_client = PodClient()"
   ]
  },
  {
   "cell_type": "code",
   "execution_count": null,
   "metadata": {},
   "outputs": [
    {
     "name": "stdout",
     "output_type": "stream",
     "text": [
      "Using, HOST: imap.gmail.com, PORT: 993\n",
      "RUN STATUS: running\n",
      "PROGRESS MESSAGE: downloading emails\n",
      "PROGRESS: Importing 50.0% of 10 \n",
      "PROGRESS: Importing 100.0% of 10 \n",
      "PROGRESS MESSAGE: merging duplicate items\n",
      "PROGRESS MESSAGE: creating accounts\n",
      "PROGRESS MESSAGE: creating threads\n",
      "Finished running EmailImporter (#None)\n",
      "RUN STATUS: done\n"
     ]
    }
   ],
   "source": [
    "# slow\n",
    "# This cell is meant to be able to test the importer locally\n",
    "def get_gmail_creds():\n",
    "    return read_file(HOME_DIR / '.memri' / 'credentials_gmail.txt').split(\"\\n\")[:2]\n",
    "\n",
    "imap_user, imap_pw = get_gmail_creds()\n",
    "importer           = EmailImporter.from_data()\n",
    "importer_run       = get_importer_run(imap_user, imap_pw)\n",
    "importer_run.add_edge('importer', importer)\n",
    "pod_client.create(importer_run)\n",
    "\n",
    "importer.run(importer_run=importer_run, pod_client=pod_client)\n",
    "\n",
    "assert importer_run.progress == 1.0\n",
    "assert importer_run.runStatus == \"done\"\n",
    "pod_client.delete_all()"
   ]
  },
  {
   "cell_type": "code",
   "execution_count": null,
   "metadata": {},
   "outputs": [],
   "source": [
    "# hide\n",
    "# TODO: Test incremental updates"
   ]
  },
  {
   "cell_type": "markdown",
   "metadata": {},
   "source": [
    "### Parse emails"
   ]
  },
  {
   "cell_type": "code",
   "execution_count": null,
   "metadata": {},
   "outputs": [],
   "source": [
    "test = b\"\"\"\\\n",
    "Message-id: 1234\\r\n",
    "From: user1 <a@gmail.com>\\r\n",
    "To: user1 <b@gmail.com>\\r\n",
    "Reply-to: user1 <c@gmail.com>\\r\n",
    "Subject: the subject\\r\n",
    "Date: Mon, 04 May 2020 00:37:44 -0700\\r\n",
    "\n",
    "This is content\"\"\"\n",
    "\n",
    "email_importer = EmailImporter()\n",
    "mail_item = email_importer.create_item_from_mail(test, 'message_channel_id')\n",
    "\n",
    "assert mail_item.externalId == '1234'\n",
    "assert mail_item.sender[0].externalId == 'a@gmail.com'\n",
    "assert mail_item.receiver[0].externalId == 'b@gmail.com'\n",
    "assert mail_item.replyTo[0].externalId == 'c@gmail.com'\n",
    "assert mail_item.subject == 'the subject'\n",
    "assert mail_item.content == 'This is content'\n",
    "assert mail_item.dateSent == email_importer.get_timestamp_from_message(email.message_from_bytes(test))\n",
    "assert mail_item.messageChannel[0].externalId == 'message_channel_id'"
   ]
  },
  {
   "cell_type": "markdown",
   "metadata": {},
   "source": [
    "### Attachments"
   ]
  },
  {
   "cell_type": "code",
   "execution_count": null,
   "metadata": {},
   "outputs": [],
   "source": [
    "# Test attachment parsing (basic support)\n",
    "email_importer = EmailImporter()\n",
    "message = email.message.EmailMessage()\n",
    "message.set_content('aa')\n",
    "message.add_attachment(b'bb', maintype='image', subtype='jpeg', filename='sample.jpg')\n",
    "message.add_attachment(b'cc', maintype='image', subtype='jpeg', filename='sample2.jpg')\n",
    "content = email_importer.get_content(message)\n",
    "attachments = email_importer.get_attachments(message)\n",
    "\n",
    "assert content == 'aa\\n'\n",
    "assert attachments[0].get_content() == b'bb'\n",
    "assert attachments[1].get_content() == b'cc'"
   ]
  },
  {
   "cell_type": "code",
   "execution_count": null,
   "metadata": {},
   "outputs": [],
   "source": [
    "# hide\n",
    "### Calling the importer from the pod"
   ]
  },
  {
   "cell_type": "code",
   "execution_count": null,
   "metadata": {},
   "outputs": [],
   "source": [
    "# hide\n",
    "#importer"
   ]
  },
  {
   "cell_type": "code",
   "execution_count": null,
   "metadata": {},
   "outputs": [],
   "source": [
    "# hide\n",
    "# slow\n",
    "\n",
    "# This cell is meant to be able to call the importer locally (simulating the front-end)\n",
    "\n",
    "# pod_client = PodClient(url='http://0.0.0.0:3030')\n",
    "# pod_client.create(importer_run)\n",
    "# pod_client.create(importer)\n",
    "# pod_client.create(host_item)\n",
    "# pod_client.create(port_item)\n",
    "# pod_client.create(max_number_item)\n",
    "# pod_client.create_edges(importer_run.get_all_edges())\n",
    "\n",
    "# json = {\n",
    "#             'databaseKey':pod_client.database_key,\n",
    "#             'payload':{\n",
    "#                  'uid':importer_run.uid,\n",
    "#                  'servicePayload': {\n",
    "#                      'databaseKey': pod_client.database_key,\n",
    "#                      'ownerKey': pod_client.owner_key\n",
    "#                  }\n",
    "#             }\n",
    "#        }\n",
    "# print(importer_run.uid)\n",
    "# print(requests.post(f'http://0.0.0.0:3030/v2/{pod_client.owner_key}/run_importer',\n",
    "#                    json=json).content)"
   ]
  },
  {
   "cell_type": "code",
   "execution_count": null,
   "metadata": {},
   "outputs": [
    {
     "name": "stdout",
     "output_type": "stream",
     "text": [
      "Converted basic.ipynb.\n",
      "Converted importers.EmailImporter.ipynb.\n",
      "Converted importers.Importer.ipynb.\n",
      "Converted importers.util.ipynb.\n",
      "Converted index.ipynb.\n",
      "Converted indexers.FaceClusteringIndexer.Models.ipynb.\n",
      "Converted indexers.FaceClusteringIndexer.Utils.ipynb.\n",
      "Converted indexers.FaceClusteringIndexer.indexer.ipynb.\n",
      "Converted indexers.FaceRecognitionModel.ipynb.\n",
      "Converted indexers.FacerecognitionIndexer.Photo.ipynb.\n",
      "Converted indexers.GeoIndexer.ipynb.\n",
      "Converted indexers.NoteListIndexer.NoteList.ipynb.\n",
      "Converted indexers.NoteListIndexer.Parser.ipynb.\n",
      "Converted indexers.NoteListIndexer.ipynb.\n",
      "Converted indexers.NoteListIndexer.util.ipynb.\n",
      "Converted indexers.indexer.ipynb.\n",
      "Converted itembase.ipynb.\n",
      "Converted pod.client.ipynb.\n"
     ]
    }
   ],
   "source": [
    "# hide\n",
    "from nbdev.export import *\n",
    "notebook2script()"
   ]
  },
  {
   "cell_type": "code",
   "execution_count": null,
   "metadata": {},
   "outputs": [],
   "source": []
  }
 ],
 "metadata": {
  "kernelspec": {
   "display_name": "Python [conda env:memri] *",
   "language": "python",
   "name": "conda-env-memri-py"
  }
 },
 "nbformat": 4,
 "nbformat_minor": 4
}

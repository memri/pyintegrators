{
 "cells": [
  {
   "cell_type": "code",
   "execution_count": null,
   "metadata": {},
   "outputs": [],
   "source": [
    "%load_ext autoreload\n",
    "%autoreload 2"
   ]
  },
  {
   "cell_type": "code",
   "execution_count": null,
   "metadata": {},
   "outputs": [],
   "source": [
    "from integrators.pod.client import PodClient\n",
    "from integrators.data.basic import *\n",
    "from integrators.importers.email import EmailImporter, DEFAULT_GMAIL_HOST\n",
    "from integrators.importers.util import *\n",
    "from integrators.imports import *\n",
    "from integrators.data.schema import *\n",
    "from io import BufferedReader, BytesIO\n",
    "from time import sleep\n",
    "\n",
    "import os\n",
    "import signal\n",
    "import subprocess"
   ]
  },
  {
   "cell_type": "code",
   "execution_count": null,
   "metadata": {},
   "outputs": [],
   "source": [
    "def get_importer_run(imap_user, imap_pw):\n",
    "    importer_run = ImporterRun.from_data(progress=0, username=imap_user, password=imap_pw)\n",
    "    importer_run.add_edge('genericAttribute', GenericAttribute(name='host', stringValue=DEFAULT_GMAIL_HOST))\n",
    "    importer_run.add_edge('genericAttribute', GenericAttribute(name='port', intValue=993))\n",
    "    importer_run.add_edge('genericAttribute', GenericAttribute(name='max_number', intValue=10))\n",
    "    return importer_run"
   ]
  },
  {
   "cell_type": "code",
   "execution_count": null,
   "metadata": {},
   "outputs": [],
   "source": [
    "# This cell is meant to be able to test the importer locally\n",
    "def get_gmail_creds():\n",
    "    return read_file(HOME_DIR / '.memri' / 'credentials_gmail.txt').split(\"\\n\")[:2]"
   ]
  },
  {
   "cell_type": "code",
   "execution_count": null,
   "metadata": {},
   "outputs": [],
   "source": [
    "pod_client = PodClient(database_key=\"4611381926941334880159360851454586449609479987074865708625425195\",\n",
    "                       owner_key=\"5778183340629856722841524962349989924776547454184070224457769328\")"
   ]
  },
  {
   "cell_type": "code",
   "execution_count": null,
   "metadata": {},
   "outputs": [],
   "source": [
    "pod_client = PodClient()"
   ]
  },
  {
   "cell_type": "markdown",
   "metadata": {},
   "source": [
    "# Import data"
   ]
  },
  {
   "cell_type": "code",
   "execution_count": null,
   "metadata": {},
   "outputs": [
    {
     "name": "stdout",
     "output_type": "stream",
     "text": [
      "Using, HOST: imap.gmail.com, PORT: 993\n",
      "RUN STATUS: running\n",
      "PROGRESS MESSAGE: downloading emails\n",
      "PROGRESS: Importing 50.0% of 10 \n",
      "PROGRESS: Importing 100.0% of 10 \n",
      "PROGRESS MESSAGE: merging duplicate items\n",
      "PROGRESS MESSAGE: creating accounts\n",
      "PROGRESS MESSAGE: creating threads\n",
      "Finished running EmailImporter (#None)\n",
      "RUN STATUS: done\n"
     ]
    }
   ],
   "source": [
    "imap_user, imap_pw = get_gmail_creds()\n",
    "importer           = EmailImporter.from_data()\n",
    "importer_run       = get_importer_run(imap_user, imap_pw)\n",
    "importer_run.add_edge('importer', importer)\n",
    "pod_client.create(importer_run)\n",
    "importer.run(importer_run=importer_run, pod_client=pod_client)"
   ]
  },
  {
   "cell_type": "code",
   "execution_count": null,
   "metadata": {},
   "outputs": [],
   "source": [
    "# assert importer_run.progress == 1.0\n",
    "# assert importer_run.runStatus == \"done\""
   ]
  },
  {
   "cell_type": "markdown",
   "metadata": {},
   "source": [
    "# Query data from pod"
   ]
  },
  {
   "cell_type": "code",
   "execution_count": null,
   "metadata": {},
   "outputs": [],
   "source": [
    "emails = pod_client.search_by_fields({\"_type\": 'EmailMessage'})"
   ]
  },
  {
   "cell_type": "code",
   "execution_count": null,
   "metadata": {},
   "outputs": [
    {
     "data": {
      "text/plain": [
       "10"
      ]
     },
     "execution_count": null,
     "metadata": {},
     "output_type": "execute_result"
    }
   ],
   "source": [
    "len(emails)"
   ]
  },
  {
   "cell_type": "markdown",
   "metadata": {},
   "source": [
    "# Configure annotation UI"
   ]
  },
  {
   "cell_type": "markdown",
   "metadata": {},
   "source": [
    "## Prepare data"
   ]
  },
  {
   "cell_type": "markdown",
   "metadata": {},
   "source": [
    "A function to clean html of messages, we will use this later"
   ]
  },
  {
   "cell_type": "code",
   "execution_count": null,
   "metadata": {},
   "outputs": [],
   "source": [
    "def clean_html(html):\n",
    "    res = strip_html(html)\n",
    "    res = replace_urls(res)\n",
    "    res = replace_emails(res)\n",
    "    res = re.sub(r'\\xa0', \"\\n\", res)\n",
    "    res = re.sub(r'[\\n]{2,}', '\\n\\n', res.strip())\n",
    "    res = re.sub(r'\\n ', r'\\n', res)\n",
    "    res = re.sub(r' \\n ', r'\\n', res)\n",
    "    return res"
   ]
  },
  {
   "cell_type": "markdown",
   "metadata": {},
   "source": [
    "## Prepare Labels"
   ]
  },
  {
   "cell_type": "code",
   "execution_count": null,
   "metadata": {},
   "outputs": [],
   "source": [
    "labels = [\n",
    "    {\"text\": \"Primary\", \"suffix_key\": \"i\", \"background_color\": \"#F9B9F2\", \"text_color\": \"#ffffff\"},\n",
    "    {\"text\": \"Promotions\", \"suffix_key\": \"o\", \"background_color\": \"#B8B8F3\", \"text_color\": \"#ffffff\"},\n",
    "    {\"text\": \"Social & Updates\", \"suffix_key\": \"s\", \"background_color\": \"#BAF2BB\", \"text_color\": \"#ffffff\"},\n",
    "]"
   ]
  },
  {
   "cell_type": "markdown",
   "metadata": {},
   "source": [
    "## Start docanno"
   ]
  },
  {
   "cell_type": "code",
   "execution_count": null,
   "metadata": {},
   "outputs": [],
   "source": [
    "def start_docanno():\n",
    "    process = subprocess.Popen('doccano', stdout=subprocess.PIPE, shell=True, preexec_fn=os.setsid)\n",
    "    # wait untill doccano is started, so we can start using the API's\n",
    "    sleep(8)\n",
    "    return process"
   ]
  },
  {
   "cell_type": "code",
   "execution_count": null,
   "metadata": {},
   "outputs": [],
   "source": [
    "def stop_docanno(process): os.killpg(os.getpgid(process.pid), signal.SIGTERM)"
   ]
  },
  {
   "cell_type": "code",
   "execution_count": null,
   "metadata": {},
   "outputs": [],
   "source": [
    "docanno_process = start_docanno()"
   ]
  },
  {
   "cell_type": "markdown",
   "metadata": {},
   "source": [
    "## Doccanno client"
   ]
  },
  {
   "cell_type": "code",
   "execution_count": null,
   "metadata": {},
   "outputs": [],
   "source": [
    "def get_project_json(name, description=\"empty\", project_type=\"DocumentClassification\",\n",
    "                     guideline=\"Please write annotation guideline.\", resourcetype=\"TextClassificationProject\",\n",
    "                     randomize_document_order=False, collaborative_annotation=False):\n",
    "    return {\"name\":name, \"description\":\"empty\",\"project_type\":project_type,\"guideline\": guideline,\n",
    "            \"resourcetype\": resourcetype,\"randomize_document_order\": randomize_document_order,\n",
    "            \"collaborative_annotation\": collaborative_annotation}"
   ]
  },
  {
   "cell_type": "code",
   "execution_count": null,
   "metadata": {},
   "outputs": [],
   "source": [
    "\n",
    "class DoccanoClient():\n",
    "    \"\"\"Client for Doccano NLP Annotation UI\"\"\"\n",
    "    def __init__(self, baseurl=\"http://0.0.0.0:8000\", username=\"admin\", password=\"password\", version=\"v1\"):\n",
    "        self.url=f\"{baseurl}/{version}\"\n",
    "        self.username=username\n",
    "        self.password=password\n",
    "        self.login(self.username, self.password)\n",
    "   \n",
    "    def login(self, username, password):\n",
    "        r = requests.post(f'{self.url}/auth-token',\n",
    "                          json={\"username\": username, \"password\": password})\n",
    "        self.token = r.json()[\"token\"]\n",
    "        self.session = requests.Session()   \n",
    "        self.session.headers.update({\"Authorization\": f\"Token {self.token}\",\n",
    "                                     \"Accept\": \"application/json\"})\n",
    "        \n",
    "    def create_task(self, task_name):\n",
    "        project_json = get_project_json(task_name)\n",
    "        \n",
    "        r = self.session.post(f'{self.url}/projects', json=project_json)\n",
    "        assert r.status_code == 201\n",
    "        project_id = r.json()[\"id\"]\n",
    "        return project_id \n",
    "    \n",
    "    def upload_dataset(self, project_id, items):\n",
    "        jsonl = \"\\n\".join([json.dumps(i) for i in items])\n",
    "        filebuffer = BufferedReader(BytesIO(str.encode(jsonl)))\n",
    "        r = self.session.post(f\"{self.url}/projects/{project_id}/docs/upload\",\n",
    "                              data={\"format\": \"json\"},\n",
    "                              files={'file': filebuffer})\n",
    "        assert r.status_code == 201\n",
    "        \n",
    "    def upload_labels(self, project_id, labels):\n",
    "        labels_json = json.dumps(labels)\n",
    "        filebuffer = BufferedReader(BytesIO(str.encode(labels_json)))\n",
    "        r = self.session.post(f\"{self.url}/projects/{project_id}/label-upload\",\n",
    "                              data={\"format\": \"json\"},\n",
    "                              files={'file': filebuffer})\n",
    "        assert r.status_code == 201\n",
    "        \n",
    "    def download_dataset(self, project_id):\n",
    "        r = self.session.get(f\"{self.url}/projects/{project_id}/docs/download?q=json\")\n",
    "        r.encoding = 'utf-8'\n",
    "        assert r.status_code == 200\n",
    "        return [json.loads(jline) for jline in r.text.splitlines()]\n",
    "    \n",
    "    def get_labels(self, project_id):\n",
    "        r = self.session.get(f\"{self.url}/projects/{project_id}/labels\")\n",
    "        return r.json()"
   ]
  },
  {
   "cell_type": "markdown",
   "metadata": {},
   "source": [
    "## Get authentication token"
   ]
  },
  {
   "cell_type": "code",
   "execution_count": null,
   "metadata": {},
   "outputs": [],
   "source": [
    "d_client = DoccanoClient()"
   ]
  },
  {
   "cell_type": "markdown",
   "metadata": {},
   "source": [
    "## Create a new task"
   ]
  },
  {
   "cell_type": "code",
   "execution_count": null,
   "metadata": {},
   "outputs": [],
   "source": [
    "# TODO, check if task exist (by name), if so fetch that task"
   ]
  },
  {
   "cell_type": "code",
   "execution_count": null,
   "metadata": {},
   "outputs": [],
   "source": [
    "project_id = d_client.create_task(\"Test2\")"
   ]
  },
  {
   "cell_type": "markdown",
   "metadata": {},
   "source": [
    "## Upload data"
   ]
  },
  {
   "cell_type": "code",
   "execution_count": null,
   "metadata": {},
   "outputs": [],
   "source": [
    "items = [{\"text\": clean_html(m.content), \"meta\": {\"uid\": m.uid}} for m in emails]"
   ]
  },
  {
   "cell_type": "code",
   "execution_count": null,
   "metadata": {},
   "outputs": [],
   "source": [
    "d_client.upload_dataset(project_id, items)"
   ]
  },
  {
   "cell_type": "markdown",
   "metadata": {},
   "source": [
    "## Upload Labels"
   ]
  },
  {
   "cell_type": "code",
   "execution_count": null,
   "metadata": {},
   "outputs": [
    {
     "data": {
      "text/plain": [
       "[{'text': 'Primary',\n",
       "  'suffix_key': 'i',\n",
       "  'background_color': '#F9B9F2',\n",
       "  'text_color': '#ffffff'},\n",
       " {'text': 'Promotions',\n",
       "  'suffix_key': 'o',\n",
       "  'background_color': '#B8B8F3',\n",
       "  'text_color': '#ffffff'},\n",
       " {'text': 'Social & Updates',\n",
       "  'suffix_key': 's',\n",
       "  'background_color': '#BAF2BB',\n",
       "  'text_color': '#ffffff'}]"
      ]
     },
     "execution_count": null,
     "metadata": {},
     "output_type": "execute_result"
    }
   ],
   "source": [
    "labels"
   ]
  },
  {
   "cell_type": "code",
   "execution_count": null,
   "metadata": {},
   "outputs": [],
   "source": [
    "d_client.upload_labels(project_id, labels)"
   ]
  },
  {
   "cell_type": "markdown",
   "metadata": {},
   "source": [
    "## Open annotation window"
   ]
  },
  {
   "cell_type": "code",
   "execution_count": null,
   "metadata": {},
   "outputs": [],
   "source": [
    "from selenium.webdriver import Chrome, ChromeOptions\n",
    "from webdriver_manager.chrome import ChromeDriverManager\n",
    "import time"
   ]
  },
  {
   "cell_type": "code",
   "execution_count": null,
   "metadata": {},
   "outputs": [],
   "source": [
    "def selenium_navigate_to_annotation_doccano(project_id):\n",
    "    options = ChromeOptions()\n",
    "    options.add_argument(\"--kiosk\")\n",
    "    driver = Chrome(ChromeDriverManager().install())\n",
    "    driver.maximize_window()\n",
    "    driver.get(f\"http://localhost:8000/projects/{project_id}\")\n",
    "    time.sleep(0.5)\n",
    "    username = driver.find_element_by_name(\"username\")\n",
    "    pas = driver.find_element_by_name(\"password\")\n",
    "    button = driver.find_element_by_class_name(\"text-none\")\n",
    "    username.send_keys(\"admin\")\n",
    "    pas.send_keys(\"password\")\n",
    "    button.click()\n",
    "    time.sleep(0.5)\n",
    "    driver.get(f\"http://localhost:8000/projects/{project_id}/text-classification?page=1\")"
   ]
  },
  {
   "cell_type": "code",
   "execution_count": null,
   "metadata": {},
   "outputs": [
    {
     "name": "stderr",
     "output_type": "stream",
     "text": [
      "[WDM] - Current google-chrome version is 88.0.4324\n",
      "[WDM] - Get LATEST driver version for 88.0.4324\n",
      "[WDM] - Driver [/Users/koen/.wdm/drivers/chromedriver/mac64/88.0.4324.96/chromedriver] found in cache\n"
     ]
    },
    {
     "name": "stdout",
     "output_type": "stream",
     "text": [
      " \n"
     ]
    }
   ],
   "source": [
    "selenium_navigate_to_annotation_doccano(project_id)"
   ]
  },
  {
   "cell_type": "markdown",
   "metadata": {},
   "source": [
    "## Download data"
   ]
  },
  {
   "cell_type": "code",
   "execution_count": null,
   "metadata": {},
   "outputs": [],
   "source": [
    "json_items = d_client.download_dataset(project_id)"
   ]
  },
  {
   "cell_type": "markdown",
   "metadata": {},
   "source": [
    "## Write back to pod"
   ]
  },
  {
   "cell_type": "code",
   "execution_count": null,
   "metadata": {},
   "outputs": [],
   "source": [
    "def get_from_uid(items, id_):\n",
    "    return next((i for i in items if i.uid == id_), None)"
   ]
  },
  {
   "cell_type": "code",
   "execution_count": null,
   "metadata": {},
   "outputs": [
    {
     "data": {
      "text/plain": [
       "{4: 'Primary', 5: 'Promotions', 6: 'Social & Updates'}"
      ]
     },
     "execution_count": null,
     "metadata": {},
     "output_type": "execute_result"
    }
   ],
   "source": [
    "labelid2text = {label[\"id\"]: label[\"text\"] for label in d_client.get_labels(project_id)}\n",
    "labelid2text"
   ]
  },
  {
   "cell_type": "code",
   "execution_count": null,
   "metadata": {},
   "outputs": [],
   "source": [
    "for json_item in json_items:\n",
    "    mail = get_from_uid(emails, json_item[\"meta\"][\"uid\"])\n",
    "    annotations = json_item[\"annotations\"]\n",
    "    annotation = next(iter(annotations), None)\n",
    "    if annotation:\n",
    "        label_name = labelid2text[annotation[\"label\"]]\n",
    "        mail.add_edge(\"label\", Label.from_data(name=label_name))"
   ]
  },
  {
   "cell_type": "code",
   "execution_count": null,
   "metadata": {},
   "outputs": [
    {
     "name": "stdout",
     "output_type": "stream",
     "text": [
      "400 Edge already exists\n",
      "400 Edge already exists\n",
      "400 Edge already exists\n",
      "400 Edge already exists\n",
      "400 Edge already exists\n",
      "400 Edge already exists\n",
      "400 Edge already exists\n",
      "400 Edge already exists\n",
      "400 Edge already exists\n",
      "400 Edge already exists\n"
     ]
    }
   ],
   "source": [
    "for mail in emails:\n",
    "    if len(mail.label) > 0: pod_client.create(mail.label[0])\n",
    "    pod_client.create_edges(mail.get_all_edges())"
   ]
  },
  {
   "cell_type": "markdown",
   "metadata": {},
   "source": [
    "Show labels"
   ]
  },
  {
   "cell_type": "code",
   "execution_count": null,
   "metadata": {},
   "outputs": [
    {
     "data": {
      "text/plain": [
       "[('Microsoft-account\\nBevestig je account\\nEr is ongewo', 'Primary'),\n",
       " ('Welkom bij Gmail. Je kunt inloggen op je account o', 'Promotions'),\n",
       " ('This event has been changed. more details »Detecti', 'Social & Updates')]"
      ]
     },
     "execution_count": null,
     "metadata": {},
     "output_type": "execute_result"
    }
   ],
   "source": [
    "[(clean_html(e.content)[:50], e.label[0].name) for e in emails if len(e.label) > 0]"
   ]
  },
  {
   "cell_type": "markdown",
   "metadata": {},
   "source": [
    "## Stop Doccano"
   ]
  },
  {
   "cell_type": "code",
   "execution_count": null,
   "metadata": {},
   "outputs": [
    {
     "ename": "ProcessLookupError",
     "evalue": "[Errno 3] No such process",
     "output_type": "error",
     "traceback": [
      "\u001b[0;31m---------------------------------------------------------------------------\u001b[0m",
      "\u001b[0;31mProcessLookupError\u001b[0m                        Traceback (most recent call last)",
      "\u001b[0;32m<ipython-input-40-8117af9fbc50>\u001b[0m in \u001b[0;36m<module>\u001b[0;34m\u001b[0m\n\u001b[0;32m----> 1\u001b[0;31m \u001b[0mstop_docanno\u001b[0m\u001b[0;34m(\u001b[0m\u001b[0mdocanno_process\u001b[0m\u001b[0;34m)\u001b[0m\u001b[0;34m\u001b[0m\u001b[0;34m\u001b[0m\u001b[0m\n\u001b[0m",
      "\u001b[0;32m<ipython-input-15-b3b25a0d6633>\u001b[0m in \u001b[0;36mstop_docanno\u001b[0;34m(process)\u001b[0m\n\u001b[0;32m----> 1\u001b[0;31m \u001b[0;32mdef\u001b[0m \u001b[0mstop_docanno\u001b[0m\u001b[0;34m(\u001b[0m\u001b[0mprocess\u001b[0m\u001b[0;34m)\u001b[0m\u001b[0;34m:\u001b[0m \u001b[0mos\u001b[0m\u001b[0;34m.\u001b[0m\u001b[0mkillpg\u001b[0m\u001b[0;34m(\u001b[0m\u001b[0mos\u001b[0m\u001b[0;34m.\u001b[0m\u001b[0mgetpgid\u001b[0m\u001b[0;34m(\u001b[0m\u001b[0mprocess\u001b[0m\u001b[0;34m.\u001b[0m\u001b[0mpid\u001b[0m\u001b[0;34m)\u001b[0m\u001b[0;34m,\u001b[0m \u001b[0msignal\u001b[0m\u001b[0;34m.\u001b[0m\u001b[0mSIGTERM\u001b[0m\u001b[0;34m)\u001b[0m\u001b[0;34m\u001b[0m\u001b[0;34m\u001b[0m\u001b[0m\n\u001b[0m",
      "\u001b[0;31mProcessLookupError\u001b[0m: [Errno 3] No such process"
     ]
    }
   ],
   "source": [
    "stop_docanno(docanno_process)"
   ]
  },
  {
   "cell_type": "markdown",
   "metadata": {},
   "source": [
    "## Remove Database"
   ]
  },
  {
   "cell_type": "markdown",
   "metadata": {},
   "source": [
    "Optional, do not execute if you did not write back to pod"
   ]
  },
  {
   "cell_type": "code",
   "execution_count": null,
   "metadata": {},
   "outputs": [],
   "source": [
    "doccano_path = Path(\"doccano.db\")"
   ]
  },
  {
   "cell_type": "code",
   "execution_count": null,
   "metadata": {},
   "outputs": [],
   "source": [
    "if doccano_path.exists(): doccano_path.unlink()"
   ]
  },
  {
   "cell_type": "code",
   "execution_count": null,
   "metadata": {},
   "outputs": [],
   "source": []
  }
 ],
 "metadata": {
  "kernelspec": {
   "display_name": "Python 3",
   "language": "python",
   "name": "python3"
  }
 },
 "nbformat": 4,
 "nbformat_minor": 4
}

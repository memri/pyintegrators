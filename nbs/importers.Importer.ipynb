{
 "cells": [
  {
   "cell_type": "code",
   "execution_count": null,
   "metadata": {},
   "outputs": [],
   "source": [
    "%load_ext autoreload\n",
    "%autoreload 2\n",
    "# default_exp importers.importer"
   ]
  },
  {
   "cell_type": "markdown",
   "metadata": {},
   "source": [
    "# Importer"
   ]
  },
  {
   "cell_type": "markdown",
   "metadata": {},
   "source": [
    "Importers download your data from other sources. For retrieving the data from other sources importers rely on downloaders."
   ]
  },
  {
   "cell_type": "code",
   "execution_count": null,
   "metadata": {},
   "outputs": [],
   "source": [
    "# export\n",
    "from integrators.data.schema import *\n",
    "class ImporterBase(Importer):\n",
    "    def __init__(self, importerClass=None, *args, **kwargs):\n",
    "        super().__init__(*args, **kwargs)\n",
    "        \n",
    "    @staticmethod\n",
    "    def update_progress(pod_client, importer_run, progress, total=\"total\", verbose=True):\n",
    "        if pod_client is not None:\n",
    "            importer_run.progress = progress\n",
    "            pod_client.update_item(importer_run)\n",
    "        if verbose:\n",
    "            print(f'PROGRESS: Importing {progress}% of {total} ')\n",
    "            \n",
    "    @staticmethod\n",
    "    def update_run_status(pod_client, importer_run, status, verbose=True):\n",
    "        if pod_client is not None:\n",
    "            importer_run.runStatus = status\n",
    "            pod_client.update_item(importer_run)\n",
    "        if verbose:\n",
    "            print(f\"RUN STATUS: {status}\")\n",
    "            \n",
    "    @staticmethod\n",
    "    def update_progress_message(pod_client, importer_run, message, verbose=True):\n",
    "        if pod_client is not None:\n",
    "            importer_run.progressMessage = message\n",
    "            pod_client.update_item(importer_run)\n",
    "        if verbose:\n",
    "            print(f\"PROGRESS MESSAGE: {message}\")  "
   ]
  },
  {
   "cell_type": "code",
   "execution_count": null,
   "metadata": {},
   "outputs": [
    {
     "name": "stdout",
     "output_type": "stream",
     "text": [
      "Converted basic.ipynb.\n",
      "Converted importers.GmailImporter.ipynb.\n",
      "Converted importers.Importer.ipynb.\n",
      "Converted importers.util.ipynb.\n",
      "Converted index.ipynb.\n",
      "Converted indexers.FaceRecognitionIndexer.ipynb.\n",
      "Converted indexers.FacerecognitionIndexer.Photo.ipynb.\n",
      "Converted indexers.GeoIndexer.ipynb.\n",
      "Converted indexers.NoteListIndexer.NoteList.ipynb.\n",
      "Converted indexers.NoteListIndexer.Parser.ipynb.\n",
      "Converted indexers.NoteListIndexer.ipynb.\n",
      "Converted indexers.NoteListIndexer.util.ipynb.\n",
      "Converted indexers.indexer.ipynb.\n",
      "Converted itembase.ipynb.\n",
      "Converted pod.client.ipynb.\n"
     ]
    }
   ],
   "source": [
    "# hide\n",
    "from nbdev.export import *\n",
    "notebook2script()"
   ]
  }
 ],
 "metadata": {
  "kernelspec": {
   "display_name": "Python 3",
   "language": "python",
   "name": "python3"
  }
 },
 "nbformat": 4,
 "nbformat_minor": 4
}

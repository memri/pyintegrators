{
 "cells": [
  {
   "cell_type": "code",
   "execution_count": null,
   "metadata": {},
   "outputs": [],
   "source": [
    "%load_ext autoreload\n",
    "%autoreload 2\n",
    "# default_exp pod.client"
   ]
  },
  {
   "cell_type": "markdown",
   "metadata": {},
   "source": [
    "# Pod Client"
   ]
  },
  {
   "cell_type": "code",
   "execution_count": null,
   "metadata": {},
   "outputs": [],
   "source": [
    "# export\n",
    "from integrators.data.itembase import Edge, ItemBase\n",
    "from integrators.data.schema import *\n",
    "from integrators.imports import *"
   ]
  },
  {
   "cell_type": "code",
   "execution_count": null,
   "metadata": {},
   "outputs": [],
   "source": [
    "# export\n",
    "DEFAULT_POD_ADDRESS = \"http://localhost:3030/v2\""
   ]
  },
  {
   "cell_type": "code",
   "execution_count": null,
   "metadata": {},
   "outputs": [],
   "source": [
    "# export\n",
    "class PodClient:\n",
    "\n",
    "    def __init__(self, url=DEFAULT_POD_ADDRESS, database_key=None, owner_key=None):\n",
    "        self.url = url\n",
    "        self.test_connection(verbose=False)\n",
    "        self.database_key=database_key if database_key is not None else self.generate_random_key()\n",
    "        self.owner_key=owner_key if owner_key is not None else self.generate_random_key()\n",
    "        self.base_url = f\"{url}/{self.owner_key}\"\n",
    "    \n",
    "    @staticmethod\n",
    "    def generate_random_key():\n",
    "        return \"\".join([str(random.randint(0, 9)) for i in range(64)])        \n",
    "\n",
    "    def test_connection(self, verbose=True):\n",
    "        try:\n",
    "            res = requests.get(self.url)\n",
    "            if verbose: print(\"Succesfully connected to pod\")\n",
    "            return True\n",
    "        except requests.exceptions.RequestException as e:\n",
    "            print(\"Could no connect to backend\")\n",
    "            return False\n",
    "    \n",
    "    def create(self, node):\n",
    "        try:\n",
    "            body = {  \"databaseKey\": self.database_key, \"payload\":self.get_properties_json(node) }\n",
    "\n",
    "            result = requests.post(f\"{self.base_url}/create_item\",\n",
    "                                   json=body)\n",
    "            if result.status_code != 200:\n",
    "                print(result, result.content)\n",
    "                return False\n",
    "            else:\n",
    "                uid = int(result.json())\n",
    "                node.uid = uid\n",
    "                ItemBase.add_to_db(node)\n",
    "                return True\n",
    "        except requests.exceptions.RequestException as e:\n",
    "            print(e)\n",
    "            return False\n",
    "    \n",
    "    def create_edges(self, edges):\n",
    "        \"\"\"Create edges between nodes, edges should be of format [{\"_type\": \"friend\", \"_source\": 1, \"_target\": 2}]\"\"\"\n",
    "        create_edges = []\n",
    "        for e in edges:\n",
    "            src, target = e.source.uid, e.target.uid\n",
    "            \n",
    "            if src is None or target is None:\n",
    "                print(f\"Could not create edge {e} missing source or target uid\")\n",
    "                return False\n",
    "            data = {\"_source\": src, \"_target\": target, \"_type\": e._type}\n",
    "            if e.label is not None: data[LABEL] = e.label\n",
    "            if e.sequence is not None: data[SEQUENCE] = e.sequence\n",
    "\n",
    "            if e.reverse:\n",
    "                data2 = copy(data)\n",
    "                data2[\"_source\"] = target\n",
    "                data2[\"_target\"] = src\n",
    "                data2[\"_type\"] = \"~\" + data2[\"_type\"]\n",
    "                create_edges.append(data2)\n",
    "\n",
    "            create_edges.append(data)\n",
    "\n",
    "        return self.bulk_action(create_items=[], update_items=[],create_edges=create_edges)\n",
    "        \n",
    "    def delete_items(self, items):\n",
    "        uids = [i.uid for i in items]\n",
    "        return self.bulk_action(delete_items=uids)\n",
    "    \n",
    "    def delete_all(self):\n",
    "        items = self.get_all_items()\n",
    "        self.delete_items(items)\n",
    "        \n",
    "    def bulk_action(self, create_items=None, update_items=None, create_edges=None, delete_items=None):\n",
    "        create_items = create_items if create_items is not None else []\n",
    "        update_items = update_items if update_items is not None else []\n",
    "        create_edges = create_edges if create_edges is not None else []\n",
    "        delete_items = delete_items if delete_items is not None else []\n",
    "        edges_data = {\"databaseKey\": self.database_key, \"payload\": {\n",
    "                    \"createItems\": create_items, \"updateItems\": update_items,\n",
    "                    \"createEdges\": create_edges, \"deleteItems\": delete_items}}\n",
    "        try:\n",
    "            result = requests.post(f\"{self.base_url}/bulk_action\",\n",
    "                                   json=edges_data)\n",
    "            if result.status_code != 200:\n",
    "                if \"UNIQUE constraint failed\" in str(result.content):\n",
    "                    print(result.status_code, \"Edge already exists\")\n",
    "                else:\n",
    "                    print(result, result.content)\n",
    "                return False\n",
    "            else:\n",
    "                return True\n",
    "        except requests.exceptions.RequestException as e:\n",
    "            print(e)\n",
    "            return False\n",
    "        \n",
    "    def create_edge(self, edge):\n",
    "        return self.create_edges([edge])\n",
    "    \n",
    "    def get(self, uid, expanded=True):\n",
    "        if not expanded:\n",
    "            res = self._get_item_with_properties(uid)\n",
    "        else:\n",
    "            res = self._get_item_expanded(uid)\n",
    "        if res is None:\n",
    "            return None\n",
    "        \n",
    "        elif res.deleted == True:\n",
    "            print(f\"Item with uid {uid} does not exist anymore\")\n",
    "            return None\n",
    "        else:\n",
    "            return res\n",
    "        \n",
    "    def get_all_items(self):        \n",
    "        try:\n",
    "            body = {  \"databaseKey\": self.database_key, \"payload\":None}\n",
    "            result = requests.post(f\"{self.base_url}/get_all_items\", json=body)\n",
    "            if result.status_code != 200:\n",
    "                print(result, result.content)\n",
    "                return None\n",
    "            else:\n",
    "                json = result.json()\n",
    "                res =  [self.item_from_json(x) for x in json]\n",
    "                return self.filter_deleted(res)\n",
    "\n",
    "        except requests.exceptions.RequestException as e:\n",
    "            print(e)\n",
    "            return None\n",
    "        \n",
    "    def filter_deleted(self, items):\n",
    "        return [i for i in items if not i.deleted == True]\n",
    "    \n",
    "    def _get_item_expanded(self, uid):\n",
    "        body = {\"payload\": [uid],\n",
    "                \"databaseKey\": self.database_key}\n",
    "        try:\n",
    "            result = requests.post(f\"{self.base_url}/get_items_with_edges\",\n",
    "                                    json=body)\n",
    "            if result.status_code != 200:\n",
    "                print(result, result.content)\n",
    "                return None\n",
    "            else:\n",
    "                json = result.json()[0]\n",
    "                res =  self.item_from_json(json)\n",
    "                return res\n",
    "            \n",
    "        except requests.exceptions.RequestException as e:\n",
    "            print(e)\n",
    "            return None\n",
    "\n",
    "    def _get_item_with_properties(uid):\n",
    "        try:\n",
    "            result = requests.get(f\"{self.base_url}/items/{uid}\")\n",
    "            if result.status_code != 200:\n",
    "                print(result, result.content)\n",
    "                return None\n",
    "            else:\n",
    "                json = result.json()\n",
    "                if json == []:\n",
    "                    return None\n",
    "                else:\n",
    "                    return json\n",
    "        except requests.exceptions.RequestException as e:\n",
    "            print(e)\n",
    "            return None\n",
    "\n",
    "    def get_properties_json(self, node):\n",
    "        res = dict()\n",
    "        for k,v in node.__dict__.items():\n",
    "            if k[:1] != '_' and not (isinstance(v, list) and len(v)>0 and isinstance(v[0], Edge)) and v is not None:\n",
    "                res[k] = v\n",
    "        res[\"_type\"] = self._get_schema_type(node)\n",
    "        return res\n",
    "    \n",
    "    @staticmethod\n",
    "    def _get_schema_type(node):\n",
    "        for cls in node.__class__.mro():\n",
    "            if cls.__module__ == \"integrators.data.schema\" and cls.__name__ != \"ItemBase\":\n",
    "                return cls.__name__\n",
    "        raise ValueError\n",
    "\n",
    "    def update_item(self, node):\n",
    "        data = self.get_properties_json(node)\n",
    "        uid = data[\"uid\"]\n",
    "        body = {\"payload\": data,\n",
    "                \"databaseKey\": self.database_key}\n",
    "\n",
    "        try:\n",
    "            result = requests.post(f\"{self.base_url}/update_item\",\n",
    "                                  json=body)\n",
    "            if result.status_code != 200:\n",
    "                print(result, result.content)\n",
    "        except requests.exceptions.RequestException as e:\n",
    "            print(e)\n",
    "\n",
    "    def search_by_fields(self, fields_data):\n",
    "\n",
    "        body = {\"payload\": fields_data,\n",
    "                \"databaseKey\": self.database_key}\n",
    "        try:\n",
    "            result = requests.post(f\"{self.base_url}/search_by_fields\",\n",
    "                                   json=body)\n",
    "            json =  result.json()\n",
    "            res = [self.item_from_json(item) for item in json]\n",
    "            return self.filter_deleted(res)\n",
    "        except requests.exceptions.RequestException as e:\n",
    "            return None\n",
    "\n",
    "    def item_from_json(self, json):\n",
    "        indexer_class = json.get(\"indexerClass\", None)\n",
    "        constructor = get_constructor(json[\"_type\"], indexer_class)\n",
    "        new_item = constructor.from_json(json)\n",
    "        existing = ItemBase.global_db.get(new_item.uid)\n",
    "        # TODO: cleanup\n",
    "        if existing is not None:\n",
    "            if not existing.is_expanded() and new_item.is_expanded():\n",
    "                for edge_name in new_item.get_all_edge_names():\n",
    "                    edges = new_item.get_edges(edge_name)\n",
    "                    for e in edges:\n",
    "                        e.source = existing\n",
    "                    existing.__setattr__(edge_name, edges)\n",
    "                \n",
    "            for prop_name in new_item.get_property_names():\n",
    "                existing.__setattr__(prop_name, new_item.__getattribute__(prop_name))                    \n",
    "            return existing\n",
    "        else:\n",
    "            return new_item\n",
    "\n",
    "    def get_properties(self, expanded):\n",
    "        properties = copy(expanded)\n",
    "        if ALL_EDGES in properties: del properties[ALL_EDGES]\n",
    "        return properties\n",
    "\n",
    "    def run_importer(self, uid, servicePayload):\n",
    "\n",
    "        body = dict()\n",
    "        body[\"databaseKey\"] = servicePayload[\"databaseKey\"]\n",
    "        body[\"payload\"] = {\"uid\": uid, \"servicePayload\": servicePayload}\n",
    "\n",
    "        print(body)\n",
    "\n",
    "        try:\n",
    "            res = requests.post(f\"{self.base_url}/run_importer\", json=body)\n",
    "            # res = requests.post(self.url)\n",
    "            if res.status_code != 200:\n",
    "                print(f\"Failed to start importer on {url}:\\n{res.status_code}: {res.text}\")\n",
    "            else:\n",
    "                print(\"Starting importer\")\n",
    "        except requests.exceptions.RequestException as e:\n",
    "            print(\"Error with calling importer {e}\")"
   ]
  },
  {
   "cell_type": "markdown",
   "metadata": {},
   "source": [
    "We communicate with the pod with the PodClient. The PodClient requires us to provide a [database key](https://gitlab.memri.io/memri/pod/-/blob/dev/docs/HTTP_API.md#user-content-api-authentication-credentials) and an [owner key](https://gitlab.memri.io/memri/pod/-/blob/dev/docs/HTTP_API.md#user-content-api-authentication-credentials). You don't have to worry about these keys: when you run an Integrator from a memri client, this goes via the pod, which provides these keys for you. For testing purposes, we can just not specify the keys, which creates a new user by defining random keys."
   ]
  },
  {
   "cell_type": "code",
   "execution_count": null,
   "metadata": {},
   "outputs": [
    {
     "name": "stdout",
     "output_type": "stream",
     "text": [
      "Succesfully connected to pod\n"
     ]
    }
   ],
   "source": [
    "client = PodClient()\n",
    "\n",
    "success = client.test_connection()\n",
    "assert success"
   ]
  },
  {
   "cell_type": "markdown",
   "metadata": {},
   "source": [
    "## Creating Items and Edges"
   ]
  },
  {
   "cell_type": "markdown",
   "metadata": {},
   "source": [
    "Now that we have access to the pod, we can create items here and upload them to the pod. All items are defined in the memri [schema](https://gitlab.memri.io/memri/schema). When the schema is changed it automatically generates all the class definitions for the different languages used in memri, the python schema file lives in [schema.py](https://gitlab.memri.io/memri/pyintegrators/-/blob/master/integrators/schema.py) in the integrators package. When Initializing an Item, always make sure to use the from_data classmethod to initialize."
   ]
  },
  {
   "cell_type": "code",
   "execution_count": null,
   "metadata": {},
   "outputs": [
    {
     "data": {
      "text/plain": [
       "EmailMessage (#None)"
      ]
     },
     "execution_count": null,
     "metadata": {},
     "output_type": "execute_result"
    }
   ],
   "source": [
    "email_item = EmailMessage.from_data(content=\"example content field\")\n",
    "email_item"
   ]
  },
  {
   "cell_type": "code",
   "execution_count": null,
   "metadata": {},
   "outputs": [
    {
     "data": {
      "text/plain": [
       "EmailMessage (#1)"
      ]
     },
     "execution_count": null,
     "metadata": {},
     "output_type": "execute_result"
    }
   ],
   "source": [
    "success = client.create(email_item)\n",
    "assert success\n",
    "email_item"
   ]
  },
  {
   "cell_type": "markdown",
   "metadata": {},
   "source": [
    "We can connect items using edges. Let's create another item, a person, and connect the email and the person."
   ]
  },
  {
   "cell_type": "code",
   "execution_count": null,
   "metadata": {},
   "outputs": [
    {
     "data": {
      "text/plain": [
       "Person (#2) --author-> EmailMessage (#1)"
      ]
     },
     "execution_count": null,
     "metadata": {},
     "output_type": "execute_result"
    }
   ],
   "source": [
    "person_item = Person.from_data(firstName=\"Alice\")\n",
    "item_succes = client.create(person_item)\n",
    "\n",
    "edge = Edge(person_item, email_item, \"author\")\n",
    "edge_succes = client.create_edge(edge)\n",
    "\n",
    "assert item_succes and edge_succes\n",
    "edge"
   ]
  },
  {
   "cell_type": "markdown",
   "metadata": {},
   "source": [
    "# Fetching and updating Items"
   ]
  },
  {
   "cell_type": "markdown",
   "metadata": {},
   "source": [
    "We can use the client to fetch data from the database. This is in particular usefull for indexers, which often use data in the database as input for their models. The simplest form  of querying the database is by querying items in the pod by their uid (unique identifier)."
   ]
  },
  {
   "cell_type": "code",
   "execution_count": null,
   "metadata": {},
   "outputs": [
    {
     "data": {
      "text/plain": [
       "Person (#3)"
      ]
     },
     "execution_count": null,
     "metadata": {},
     "output_type": "execute_result"
    }
   ],
   "source": [
    "person_item = Person.from_data(firstName=\"Alice\")\n",
    "client.create(person_item)\n",
    "person_from_db = client.get(person_item.uid)\n",
    "assert person_from_db is not None\n",
    "assert person_from_db == person_item\n",
    "person_from_db"
   ]
  },
  {
   "cell_type": "markdown",
   "metadata": {},
   "source": [
    "Appart from creating, we might want to update existing items:"
   ]
  },
  {
   "cell_type": "code",
   "execution_count": null,
   "metadata": {},
   "outputs": [
    {
     "data": {
      "text/plain": [
       "Person (#3)"
      ]
     },
     "execution_count": null,
     "metadata": {},
     "output_type": "execute_result"
    }
   ],
   "source": [
    "person_item.lastName = \"Awesome\"\n",
    "client.update_item(person_item)\n",
    "\n",
    "person_from_db = client.get(person_item.uid)\n",
    "assert person_from_db.lastName == \"Awesome\"\n",
    "person_from_db"
   ]
  },
  {
   "cell_type": "markdown",
   "metadata": {},
   "source": [
    "Sometimes, we might not know the uids of the items we want to fetch. We can also search by a certain property. We can use this for instance when we want to query all items from a particular type to perform some indexing on."
   ]
  },
  {
   "cell_type": "code",
   "execution_count": null,
   "metadata": {},
   "outputs": [
    {
     "data": {
      "text/plain": [
       "[Person (#2), Person (#3), Person (#4)]"
      ]
     },
     "execution_count": null,
     "metadata": {},
     "output_type": "execute_result"
    }
   ],
   "source": [
    "person_item2 = Person.from_data(firstName=\"Bob\")\n",
    "client.create(person_item2);\n",
    "all_people = client.search_by_fields({\"_type\": \"Person\"})\n",
    "\n",
    "assert all([isinstance(p, Person) for p in all_people]) and len(all_people) > 0\n",
    "\n",
    "all_people[:3]"
   ]
  },
  {
   "cell_type": "markdown",
   "metadata": {},
   "source": [
    "# Resetting the db"
   ]
  },
  {
   "cell_type": "code",
   "execution_count": null,
   "metadata": {},
   "outputs": [],
   "source": [
    "client.delete_all()"
   ]
  },
  {
   "cell_type": "markdown",
   "source": [
    "# Export -"
   ],
   "metadata": {
    "collapsed": false
   }
  },
  {
   "cell_type": "code",
   "execution_count": null,
   "outputs": [],
   "source": [
    "# hide\n",
    "from nbdev.export import *\n",
    "notebook2script()"
   ],
   "metadata": {
    "collapsed": false,
    "pycharm": {
     "name": "#%%\n"
    }
   }
  },
  {
   "cell_type": "code",
   "execution_count": null,
   "outputs": [],
   "source": [],
   "metadata": {
    "collapsed": false,
    "pycharm": {
     "name": "#%%\n"
    }
   }
  },
  {
   "cell_type": "markdown",
   "metadata": {},
   "source": []
  },
  {
   "cell_type": "code",
   "execution_count": null,
   "metadata": {},
   "outputs": [
    {
     "name": "stdout",
     "output_type": "stream",
     "text": [
      "Converted basic.ipynb.\n",
      "Converted index.ipynb.\n",
      "Converted indexers.GeoIndexer.ipynb.\n",
      "Converted indexers.NoteListIndexer.NoteList.ipynb.\n",
      "Converted indexers.NoteListIndexer.Parser.ipynb.\n",
      "Converted indexers.NoteListIndexer.ipynb.\n",
      "Converted indexers.NoteListIndexer.util.ipynb.\n",
      "Converted indexers.indexer.ipynb.\n",
      "Converted itembase.ipynb.\n",
      "Converted pod.client.ipynb.\n"
     ]
    }
   ],
   "source": [
    "# hide\n",
    "from nbdev.export import *\n",
    "notebook2script()"
   ]
  },
  {
   "cell_type": "code",
   "execution_count": null,
   "metadata": {},
   "outputs": [],
   "source": []
  }
 ],
 "metadata": {
  "kernelspec": {
   "display_name": "Python 3",
   "language": "python",
   "name": "python3"
  }
 },
 "nbformat": 4,
 "nbformat_minor": 4
}
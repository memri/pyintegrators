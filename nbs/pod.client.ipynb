{
 "cells": [
  {
   "cell_type": "code",
   "execution_count": null,
   "metadata": {},
   "outputs": [],
   "source": [
    "%load_ext autoreload\n",
    "%autoreload 2\n",
    "# default_exp pod.client"
   ]
  },
  {
   "cell_type": "markdown",
   "metadata": {},
   "source": [
    "# Pod Client"
   ]
  },
  {
   "cell_type": "code",
   "execution_count": null,
   "metadata": {},
   "outputs": [],
   "source": [
    "# export\n",
    "from integrators.itembase import Edge\n",
    "from integrators.schema import *\n",
    "from integrators.imports import *"
   ]
  },
  {
   "cell_type": "code",
   "execution_count": null,
   "metadata": {},
   "outputs": [],
   "source": [
    "# export\n",
    "API_URL = \"http://localhost:3030/v2\""
   ]
  },
  {
   "cell_type": "code",
   "execution_count": null,
   "metadata": {},
   "outputs": [],
   "source": [
    "# export\n",
    "class podClient:\n",
    "\n",
    "    def __init__(self, url=API_URL, database_key=None, owner_key=None):\n",
    "        self.url = url\n",
    "        self.base_url = f\"{url}/{owner_key}\"\n",
    "        self.test_connection()\n",
    "        self.database_key=database_key\n",
    "        self.owner_key=owner_key\n",
    "        # self.local_db = DB()\n",
    "\n",
    "    def test_connection(self):\n",
    "        try:\n",
    "            res = requests.get(self.url)\n",
    "            return True\n",
    "        except requests.exceptions.RequestException as e:\n",
    "            print(\"Could no connect to backend\")\n",
    "            return False\n",
    "\n",
    "#     def uid(self):\n",
    "#         # TODO: REFACTOR\n",
    "#         return int(1e5 + random.randint(0, 1e5))\n",
    "    \n",
    "    def create(self, node):\n",
    "        if node.uid is None:\n",
    "            print(f\"Error, node {node} has no uid, not creating\")\n",
    "        try:\n",
    "            body = {  \"databaseKey\": self.database_key, \"payload\":self.get_properties_json(node) }\n",
    "\n",
    "            result = requests.post(f\"{self.base_url}/create_item\",\n",
    "                                   json=body)\n",
    "            if result.status_code != 200:\n",
    "                print(result, result.content)\n",
    "                return False\n",
    "            else:\n",
    "                return True\n",
    "        except requests.exceptions.RequestException as e:\n",
    "            print(e)\n",
    "            return False\n",
    "    \n",
    "    def create_edges(self, edges):\n",
    "        \"\"\"Create edges between nodes, edges should be of format [{\"_type\": \"friend\", \"_source\": 1, \"_target\": 2}]\"\"\"\n",
    "        edges_data = []\n",
    "        for e in edges:\n",
    "            src, target = e.source.uid, e.target.uid\n",
    "            data = {\"_source\": src, \"_target\": target, \"_type\": e._type}\n",
    "            if e.label is not None: data[LABEL] = e.label\n",
    "            if e.sequence is not None: data[SEQUENCE] = e.sequence\n",
    "\n",
    "            if e.reverse:\n",
    "                data2 = copy(data)\n",
    "                data2[\"_source\"] = target\n",
    "                data2[\"_target\"] = src\n",
    "                data2[\"_type\"] = \"~\" + data2[\"_type\"]\n",
    "                edges_data.append(data2)\n",
    "\n",
    "            edges_data.append(data)\n",
    "\n",
    "        edges_data = {\"databaseKey\": self.database_key, \"payload\": {\n",
    "                            \"createItems\": [], \"updateItems\": [], \"createEdges\": edges_data}}\n",
    "\n",
    "        try:\n",
    "            result = requests.post(f\"{self.base_url}/bulk_action\",\n",
    "                                   json=edges_data)\n",
    "            if result.status_code != 200:\n",
    "                if \"UNIQUE constraint failed\" in str(result.content):\n",
    "                    print(result.status_code, \"Edge already exists\")\n",
    "                else:\n",
    "                    print(result, result.content)\n",
    "                return False\n",
    "            else:\n",
    "                return True\n",
    "        except requests.exceptions.RequestException as e:\n",
    "            print(e)\n",
    "            return False\n",
    "        \n",
    "    def create_edge(self, edge):\n",
    "        return self.create_edges([edge])\n",
    "    \n",
    "    def get(self, uid, expanded=True):\n",
    "        if not expanded:\n",
    "            return self._get_item_with_properties(uid)\n",
    "        else:\n",
    "            return self._get_item_expanded(uid)\n",
    "    \n",
    "    def _get_item_expanded(self, uid):\n",
    "        body = {\"payload\": [uid],\n",
    "                \"databaseKey\": self.database_key}\n",
    "        try:\n",
    "            result = requests.post(f\"{self.base_url}/get_items_with_edges\",\n",
    "                                    json=body)\n",
    "            if result.status_code != 200:\n",
    "                print(result, result.content)\n",
    "                return None\n",
    "            else:\n",
    "                json = result.json()[0]\n",
    "                res =  self.item_from_json(json)\n",
    "                return res\n",
    "\n",
    "        except requests.exceptions.RequestException as e:\n",
    "            print(e)\n",
    "            return None\n",
    "\n",
    "    def _get_item_with_properties(uid):\n",
    "        try:\n",
    "            result = requests.get(f\"{self.base_url}/items/{uid}\")\n",
    "            if result.status_code != 200:\n",
    "                print(result, result.content)\n",
    "                return None\n",
    "            else:\n",
    "                json = result.json()\n",
    "                if json == []:\n",
    "                    return None\n",
    "                else:\n",
    "                    return json\n",
    "        except requests.exceptions.RequestException as e:\n",
    "            print(e)\n",
    "            return None\n",
    "\n",
    "    def get_properties_json(self, node):\n",
    "        res = dict()\n",
    "        for k,v in node.__dict__.items():\n",
    "            if k[:1] != '_' and not (isinstance(v, list) and len(v)>0 and isinstance(v[0], Edge)) and v is not None:\n",
    "                res[k] = v\n",
    "        res[\"_type\"] = node.__class__.__name__\n",
    "        return res\n",
    "\n",
    "    def update_item(self, node):\n",
    "        data = self.get_properties_json(node)\n",
    "        uid = data[\"uid\"]\n",
    "        body = {\"payload\": data,\n",
    "                \"databaseKey\": self.database_key}\n",
    "\n",
    "        try:\n",
    "            result = requests.post(f\"{self.base_url}/update_item\",\n",
    "                                  json=body)\n",
    "            if result.status_code != 200:\n",
    "                print(result, result.content)\n",
    "        except requests.exceptions.RequestException as e:\n",
    "            print(e)\n",
    "\n",
    "    def search_by_fields(self, fields_data):\n",
    "\n",
    "        body = {\"payload\": fields_data,\n",
    "                \"databaseKey\": self.database_key}\n",
    "        try:\n",
    "            result = requests.post(f\"{self.base_url}/search_by_fields\",\n",
    "                                   json=body)\n",
    "            json =  result.json()\n",
    "            return [self.item_from_json(item) for item in json]\n",
    "        except requests.exceptions.RequestException as e:\n",
    "            return None\n",
    "\n",
    "    def item_from_json(self, json):\n",
    "        indexer_class = json.get(\"indexerClass\", None)\n",
    "        constructor = get_constructor(json[\"_type\"], indexer_class)\n",
    "        return constructor.from_json(json)\n",
    "\n",
    "    def get_properties(self, expanded):\n",
    "        properties = copy(expanded)\n",
    "        if ALL_EDGES in properties: del properties[ALL_EDGES]\n",
    "        return properties\n",
    "\n",
    "    def run_importer(self, uid, servicePayload):\n",
    "\n",
    "        body = dict()\n",
    "        body[\"databaseKey\"] = servicePayload[\"databaseKey\"]\n",
    "        body[\"payload\"] = {\"uid\": uid, \"servicePayload\": servicePayload}\n",
    "\n",
    "        print(body)\n",
    "\n",
    "        try:\n",
    "            res = requests.post(f\"{self.base_url}/run_importer\", json=body)\n",
    "            # res = requests.post(self.url)\n",
    "            if res.status_code != 200:\n",
    "                print(f\"Failed to start importer on {url}:\\n{res.status_code}: {res.text}\")\n",
    "            else:\n",
    "                print(\"Starting importer\")\n",
    "        except requests.exceptions.RequestException as e:\n",
    "            print(\"Error with calling importer {e}\")"
   ]
  },
  {
   "cell_type": "markdown",
   "metadata": {},
   "source": [
    "We communicate with the pod with the PodClient. The PodClient requires us to provide a database key and an owner key. The database Key should be generated by the client once and kept there. The owner key is the full client's public ED25519 key. When you run an integrator, you don't have to worry about these keys, because they are provided by the pod. For testing purposes, we can make our own keys."
   ]
  },
  {
   "cell_type": "code",
   "execution_count": null,
   "metadata": {},
   "outputs": [],
   "source": [
    "client = podClient(database_key=\"0\" * 64, owner_key=\"1\" * 64)\n",
    "success = client.test_connection()\n",
    "assert success"
   ]
  },
  {
   "cell_type": "markdown",
   "metadata": {},
   "source": [
    "## Creating Items and Edges"
   ]
  },
  {
   "cell_type": "markdown",
   "metadata": {},
   "source": [
    "Now that we have access to the pod, we can create items here and upload them to the pod."
   ]
  },
  {
   "cell_type": "code",
   "execution_count": null,
   "metadata": {},
   "outputs": [
    {
     "data": {
      "text/plain": [
       "EmailMessage (#542001)"
      ]
     },
     "execution_count": null,
     "metadata": {},
     "output_type": "execute_result"
    }
   ],
   "source": [
    "email_item = EmailMessage.from_data(content=\"example content field\")\n",
    "success = client.create(email_item)\n",
    "assert success\n",
    "email_item"
   ]
  },
  {
   "cell_type": "markdown",
   "metadata": {},
   "source": [
    "We can connect items using edges. Let's create another item, a person, and connect the email and the person."
   ]
  },
  {
   "cell_type": "code",
   "execution_count": null,
   "metadata": {},
   "outputs": [],
   "source": [
    "person_item = Person.from_data(firstName=\"Alice\")\n",
    "item_succes = client.create(person_item)\n",
    "\n",
    "edge = Edge(person_item, email_item, \"author\")\n",
    "edge_succes = client.create_edge(edge)\n",
    "\n",
    "assert item_succes and edge_succes"
   ]
  },
  {
   "cell_type": "markdown",
   "metadata": {},
   "source": [
    "# Fetching and updating Items"
   ]
  },
  {
   "cell_type": "markdown",
   "metadata": {},
   "source": [
    "We can use the client to fetch data from the database. This is in particular usefull for indexers, which often use data in the database as input for their models. The simplest form  of querying the database is by querying items in the pod by their uid (unique identifier)."
   ]
  },
  {
   "cell_type": "code",
   "execution_count": null,
   "metadata": {},
   "outputs": [
    {
     "data": {
      "text/plain": [
       "Person (#542003)"
      ]
     },
     "execution_count": null,
     "metadata": {},
     "output_type": "execute_result"
    }
   ],
   "source": [
    "person_item = Person.from_data(firstName=\"Alice\")\n",
    "client.create(person_item)\n",
    "person_from_db = client.get(person_item.uid)\n",
    "assert person_from_db is not None\n",
    "person_from_db"
   ]
  },
  {
   "cell_type": "markdown",
   "metadata": {},
   "source": [
    "Appart from creating, we might want to update existing items:"
   ]
  },
  {
   "cell_type": "code",
   "execution_count": null,
   "metadata": {},
   "outputs": [
    {
     "data": {
      "text/plain": [
       "Person (#542003)"
      ]
     },
     "execution_count": null,
     "metadata": {},
     "output_type": "execute_result"
    }
   ],
   "source": [
    "person_item.lastName = \"Awesome\"\n",
    "client.update_item(person_item)\n",
    "\n",
    "person_from_db = client.get(person_item.uid)\n",
    "assert person_from_db.lastName == \"Awesome\"\n",
    "person_from_db"
   ]
  },
  {
   "cell_type": "markdown",
   "metadata": {},
   "source": [
    "Sometimes, we might not know the uids of the items we want to fetch. We can also search by a certain property. A usage examples is when we want to query all items from a particular type"
   ]
  },
  {
   "cell_type": "code",
   "execution_count": null,
   "metadata": {},
   "outputs": [
    {
     "data": {
      "text/plain": [
       "[Person (#32002), Person (#32004), Person (#32005)]"
      ]
     },
     "execution_count": null,
     "metadata": {},
     "output_type": "execute_result"
    }
   ],
   "source": [
    "person_item2 = Person.from_data(firstName=\"Bob\")\n",
    "client.create(person_item2);\n",
    "all_people = client.search_by_fields({\"_type\": \"Person\"})\n",
    "\n",
    "assert all([isinstance(p, Person) for p in all_people]) and len(all_people) > 0\n",
    "\n",
    "all_people[:3]"
   ]
  },
  {
   "cell_type": "markdown",
   "metadata": {},
   "source": [
    "# Export -"
   ]
  },
  {
   "cell_type": "code",
   "execution_count": null,
   "metadata": {},
   "outputs": [
    {
     "name": "stdout",
     "output_type": "stream",
     "text": [
      "Converted basic.ipynb.\n",
      "Converted index.ipynb.\n",
      "Converted itembase.ipynb.\n",
      "Converted pod.client.ipynb.\n"
     ]
    }
   ],
   "source": [
    "# hide\n",
    "from nbdev.export import *\n",
    "notebook2script()"
   ]
  },
  {
   "cell_type": "code",
   "execution_count": null,
   "metadata": {},
   "outputs": [],
   "source": []
  }
 ],
 "metadata": {
  "kernelspec": {
   "display_name": "Python 3",
   "language": "python",
   "name": "python3"
  }
 },
 "nbformat": 4,
 "nbformat_minor": 4
}

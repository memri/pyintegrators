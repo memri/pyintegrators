{
 "cells": [
  {
   "cell_type": "code",
   "execution_count": null,
   "metadata": {},
   "outputs": [
    {
     "name": "stdout",
     "output_type": "stream",
     "text": [
      "The autoreload extension is already loaded. To reload it, use:\n",
      "  %reload_ext autoreload\n"
     ]
    }
   ],
   "source": [
    "%load_ext autoreload\n",
    "%autoreload 2\n",
    "# default_exp pod.client"
   ]
  },
  {
   "cell_type": "markdown",
   "metadata": {},
   "source": [
    "# Pod Client"
   ]
  },
  {
   "cell_type": "code",
   "execution_count": null,
   "metadata": {},
   "outputs": [],
   "source": [
    "# export\n",
    "from integrators.itembase import Edge, ItemBase\n",
    "from integrators.schema import *\n",
    "from integrators.imports import *\n",
    "import hashlib"
   ]
  },
  {
   "cell_type": "code",
   "execution_count": null,
   "metadata": {},
   "outputs": [],
   "source": [
    "# export\n",
    "API_URL = \"http://localhost:3030/v2\""
   ]
  },
  {
   "cell_type": "code",
   "execution_count": null,
   "metadata": {},
   "outputs": [],
   "source": [
    "# export\n",
    "\n",
    "class PodClient:\n",
    "\n",
    "    def __init__(self, url=API_URL, database_key=None, owner_key=None):\n",
    "        self.url = url\n",
    "        self.base_url = f\"{url}/{owner_key}\"\n",
    "        self.test_connection(verbose=False)\n",
    "        self.database_key=database_key\n",
    "        self.owner_key=owner_key\n",
    "        \n",
    "    # PRIMITIVE FUNCTIONS\n",
    "    def version(self):\n",
    "        result = requests.get(f'{self.url}/version',\n",
    "                      verify=False)\n",
    "        print(result.content)\n",
    "    \n",
    "    def get_item(self, uid):\n",
    "        wrapped_item = {\n",
    "            'databaseKey': self.database_key,\n",
    "            'payload': uid,\n",
    "        }\n",
    "        result = requests.post(f'{self.base_url}/get_item',\n",
    "                      json=wrapped_item,\n",
    "                      verify=False)\n",
    "\n",
    "        if result.ok:\n",
    "            # TODO: get_item actually returns a list\n",
    "            return result.json()\n",
    "        else:\n",
    "            # TODO: better exception handling\n",
    "            raise Exception(result.status_code, result.text)\n",
    "\n",
    "    def get_all_items(self):\n",
    "        NotImplementedError()\n",
    "    \n",
    "    def create_item(self, item, item_type=None):\n",
    "        # TODO: unify with create_item once https/http difference is resolved\n",
    "        if item_type != None:\n",
    "            item['_type'] = item_type\n",
    "\n",
    "        wrapped_item = {\n",
    "            'databaseKey': self.database_key,\n",
    "            'payload': item,\n",
    "        }\n",
    "        result = requests.post(f'{self.base_url}/create_item',\n",
    "                      json=wrapped_item,\n",
    "                      verify=False)\n",
    "\n",
    "        if result.ok:\n",
    "            return result.json()\n",
    "        else:\n",
    "            # TODO: better exception handling\n",
    "            raise Exception(result.status_code, result.text)\n",
    "            \n",
    "    def update_item(self, item):\n",
    "        wrapped_item = {\"databaseKey\": self.database_key,\n",
    "                        \"payload\": item}\n",
    "\n",
    "        try:\n",
    "            result = requests.post(f\"{self.base_url}/update_item\",\n",
    "                                  json=wrapped_item)\n",
    "            if result.status_code != 200:\n",
    "                print(result, result.content)\n",
    "        except requests.exceptions.RequestException as e:\n",
    "            print(e)\n",
    "        \n",
    "    def delete_item(self, item):\n",
    "        NotImplementedError()\n",
    "        \n",
    "    def bulk_action(self, create_items, update_items, delete_items, create_edges, delete_edges):\n",
    "        edges_data = {\"databaseKey\": self.database_key, \n",
    "                      \"payload\": {\n",
    "                          \"createItems\": create_items, \n",
    "                          \"updateItems\": update_items, \n",
    "                          \"deleteItems\": delete_items, \n",
    "                          \"createEdges\": create_edges,\n",
    "                          \"deleteEdges\": delete_edges\n",
    "                      }}\n",
    "        \n",
    "        try:\n",
    "            result = requests.post(f\"{self.base_url}/bulk_action\",\n",
    "                                   json=edges_data,\n",
    "                                   verify=False)\n",
    "            if result.status_code != 200:\n",
    "                if \"UNIQUE constraint failed\" in str(result.content):\n",
    "                    print(result.status_code, \"Edge already exists\")\n",
    "                else:\n",
    "                    print(result, result.content)\n",
    "                return False\n",
    "            else:\n",
    "                return True\n",
    "        except requests.exceptions.RequestException as e:\n",
    "            print(e)\n",
    "            return False\n",
    "        \n",
    "    def search_by_fields(self, fields_data):\n",
    "        body = {\"databaseKey\": self.database_key,\n",
    "                \"payload\": fields_data}\n",
    "        try:\n",
    "            result = requests.post(f\"{self.base_url}/search_by_fields\",\n",
    "                                   json=body)\n",
    "            json =  result.json()\n",
    "            return [self.item_from_json(item) for item in json]\n",
    "        except requests.exceptions.RequestException as e:\n",
    "            return None\n",
    "        \n",
    "    def get_items_with_edges(self, item_uids):\n",
    "        body = {\"databaseKey\": self.database_key,\n",
    "                \"payload\": item_uids,}\n",
    "        \n",
    "        try:\n",
    "            result = requests.post(f\"{self.base_url}/get_items_with_edges\",\n",
    "                                    json=body,\n",
    "                                    verify=False)\n",
    "            if result.status_code != 200:\n",
    "                print(result, result.content)\n",
    "                return None\n",
    "            else:\n",
    "                print(result.json())\n",
    "                json = result.json()[0]\n",
    "                res =  self.item_from_json(json)\n",
    "                return res\n",
    "\n",
    "        except requests.exceptions.RequestException as e:\n",
    "            print(e)\n",
    "            return None\n",
    "    \n",
    "    def upload_file(self, file, hash):\n",
    "        result = requests.post(f'{self.base_url}/upload_file/{self.database_key}/{hash}',\n",
    "                               file,\n",
    "                               verify=False)\n",
    "        print(result.status_code)\n",
    "\n",
    "        if result.ok:\n",
    "            return True\n",
    "        else:\n",
    "            if result.status_code == 409:\n",
    "                return False\n",
    "            raise Exception(result.status_code, result.text)\n",
    "            \n",
    "    def get_file(self, hash):\n",
    "        wrapped_item = {\n",
    "            'databaseKey': self.database_key,\n",
    "            'payload': {\n",
    "                'sha256': hash,\n",
    "            }\n",
    "        }\n",
    "\n",
    "        result = requests.post(f'{self.base_url}/get_file',\n",
    "                               json=wrapped_item,\n",
    "                               verify=False)\n",
    "\n",
    "        if result.ok:\n",
    "            return result.content\n",
    "        else:\n",
    "            raise Exception(result.status_code, result.text)\n",
    "            \n",
    "    # END OF PRIMITIVE FUNCTIONS\n",
    "    \n",
    "    def test_connection(self, verbose=True):\n",
    "        # TODO: change this function, remove get-request\n",
    "        try:\n",
    "            res = requests.get(self.url, verify=False)\n",
    "            if verbose: print(\"Succesfully connected to pod\")\n",
    "            return True\n",
    "        except requests.exceptions.RequestException as e:\n",
    "            print(\"Could no connect to backend\")\n",
    "            return False\n",
    "    \n",
    "    def create(self, node):\n",
    "        self.create_item(node.to_dict())\n",
    "        \n",
    "        # todo: ItemBase.add_to_db(node) if succesful\n",
    "    \n",
    "    def create_edges(self, edges):\n",
    "        \"\"\"Create edges between nodes, edges should be of format [{\"_type\": \"friend\", \"_source\": 1, \"_target\": 2}]\"\"\"\n",
    "        edges_data = []\n",
    "        for e in edges:\n",
    "            src, target = e.source.uid, e.target.uid\n",
    "            data = {\"_source\": src, \"_target\": target, \"_type\": e._type}\n",
    "            if e.label is not None: data[LABEL] = e.label\n",
    "            if e.sequence is not None: data[SEQUENCE] = e.sequence\n",
    "\n",
    "            edges_data.append(data)\n",
    "            \n",
    "            if e.reverse:\n",
    "                data2 = copy(data)\n",
    "                data2[\"_source\"] = target\n",
    "                data2[\"_target\"] = src\n",
    "                data2[\"_type\"] = \"~\" + data2[\"_type\"]\n",
    "                edges_data.append(data2)\n",
    "\n",
    "        self.bulk_action([], [], [], edges_data, [])\n",
    "        \n",
    "    def create_edge(self, edge):\n",
    "        return self.create_edges([edge])\n",
    "    \n",
    "    def get(self, uid, expanded=True):\n",
    "        if not expanded:\n",
    "            return self.get_item(uid)\n",
    "        else:\n",
    "            return self.get_items_with_edges([uid])\n",
    "\n",
    "    def item_from_json(self, json):\n",
    "        indexer_class = json.get(\"indexerClass\", None)\n",
    "        constructor = get_constructor(json[\"_type\"], indexer_class)\n",
    "        new_item = constructor.from_json(json)\n",
    "        existing = ItemBase.global_db.get(new_item.uid)\n",
    "        # TODO: cleanup\n",
    "        if existing is not None:\n",
    "            if not existing.is_expanded() and new_item.is_expanded():\n",
    "                existing.edges = new_item.edges\n",
    "            return existing\n",
    "        else:\n",
    "            return item\n",
    "\n",
    "    def get_properties(self, expanded):\n",
    "        properties = copy(expanded)\n",
    "        if ALL_EDGES in properties: del properties[ALL_EDGES]\n",
    "        return properties\n",
    "\n",
    "    def run_importer(self, uid, servicePayload):\n",
    "\n",
    "        body = dict()\n",
    "        body[\"databaseKey\"] = servicePayload[\"databaseKey\"]\n",
    "        body[\"payload\"] = {\"uid\": uid, \"servicePayload\": servicePayload}\n",
    "\n",
    "        print(body)\n",
    "\n",
    "        try:\n",
    "            res = requests.post(f\"{self.base_url}/run_importer\", json=body)\n",
    "            # res = requests.post(self.url)\n",
    "            if res.status_code != 200:\n",
    "                print(f\"Failed to start importer on {url}:\\n{res.status_code}: {res.text}\")\n",
    "            else:\n",
    "                print(\"Starting importer\")\n",
    "        except requests.exceptions.RequestException as e:\n",
    "            print(\"Error with calling importer {e}\")\n",
    "            \n",
    "    def upload_and_create_file(self, file):\n",
    "        hash = hashlib.sha256(file).hexdigest()\n",
    "        \n",
    "        # TODO: check if creation was succesful\n",
    "        file_item = {\n",
    "            'sha256': hash\n",
    "        }\n",
    "        self.create_item(file_item, item_type='File')\n",
    "#         file_item = Item()\n",
    "#         file_item.sha256 = hash\n",
    "#         self.create(file_item)\n",
    "\n",
    "        self.upload_file(file, hash)\n",
    "        \n",
    "        return file_item"
   ]
  },
  {
   "cell_type": "code",
   "execution_count": null,
   "metadata": {},
   "outputs": [
    {
     "name": "stderr",
     "output_type": "stream",
     "text": [
      "/Users/user/Desktop/Work/Polis/Repositories/pyintegrators/venv/lib/python3.7/site-packages/urllib3/connectionpool.py:988: InsecureRequestWarning: Unverified HTTPS request is being made to host 'localhost'. Adding certificate verification is strongly advised. See: https://urllib3.readthedocs.io/en/latest/advanced-usage.html#ssl-warnings\n",
      "  InsecureRequestWarning,\n",
      "test_create_item (__main__.PodPrimitivesTestCase) ... ok\n",
      "test_get_file (__main__.PodPrimitivesTestCase) ... ok\n",
      "test_upload_file (__main__.PodPrimitivesTestCase) ... ok\n",
      "test_upload_file_exception (__main__.PodPrimitivesTestCase) ... ok\n",
      "test_upload_file_existing (__main__.PodPrimitivesTestCase) ... "
     ]
    },
    {
     "name": "stdout",
     "output_type": "stream",
     "text": [
      "200\n",
      "408\n",
      "409\n",
      "<unittest.runner.TextTestResult run=5 errors=0 failures=0>\n"
     ]
    },
    {
     "name": "stderr",
     "output_type": "stream",
     "text": [
      "ok\n",
      "\n",
      "----------------------------------------------------------------------\n",
      "Ran 5 tests in 0.007s\n",
      "\n",
      "OK\n"
     ]
    }
   ],
   "source": [
    "from unittest import mock\n",
    "import unittest\n",
    "\n",
    "def MockRequest(status_code=200, json_object=None, text=''):\n",
    "    response = requests.Response()\n",
    "    response.status_code = status_code\n",
    "    if json_object != None:\n",
    "        response._content = bytes(json.dumps(json_object), 'utf-8')\n",
    "    else:\n",
    "        response._content = bytes(text, 'utf-8')\n",
    "    return response\n",
    "\n",
    "# @mock.patch('requests.post', mock.Mock(side_effect = mocked_requests_post))\n",
    "# # @mock.patch('requests.post', MagicMock(name='method'))\n",
    "# def test_fetch():\n",
    "#     pod_client.create_item({\"aa\": \"bb\"})\n",
    "    \n",
    "# test_fetch()\n",
    "\n",
    "url = 'https://localhost:3030/v2'\n",
    "database_key = \"0\" * 64\n",
    "owner_key = \"1\" * 64\n",
    "pod_client = PodClient(url=url, database_key=database_key, owner_key=owner_key)\n",
    "\n",
    "class PodPrimitivesTestCase(unittest.TestCase):\n",
    "    @mock.patch('requests.post', mock.Mock())\n",
    "    def test_create_item(self):\n",
    "        #with mock.patch('requests.post') as request_mock:\n",
    "        pod_client.create_item({\"aa\": \"bb\"})\n",
    "\n",
    "        expected_json = {'databaseKey': database_key, \n",
    "                         'payload': {'aa': 'bb'}}\n",
    "        requests.post.assert_called_once_with(f'{url}/{owner_key}/create_item', json=expected_json, verify=False)\n",
    "\n",
    "    @mock.patch('requests.post', mock.Mock(return_value = MockRequest()))\n",
    "    def test_upload_file(self):\n",
    "        file = b'aa'\n",
    "        file_hash = 'bb'\n",
    "        result = pod_client.upload_file(file, file_hash)\n",
    "        assert result == True\n",
    "        requests.post.assert_called_once_with(f'{url}/{owner_key}/upload_file/{database_key}/{file_hash}', file, verify=False)\n",
    "\n",
    "    # Test the file upload primitive (file already exists)\n",
    "    @mock.patch('requests.post', mock.Mock())\n",
    "    def test_upload_file_existing(self):\n",
    "        file = b'aa'\n",
    "        file_hash = 'bb'\n",
    "        requests.post.return_value = MockRequest(status_code=409, json_object={'a':'b'})\n",
    "        result = pod_client.upload_file(file, file_hash)\n",
    "        assert result == False\n",
    "        requests.post.assert_called_once_with(f'{url}/{owner_key}/upload_file/{database_key}/{file_hash}', file, verify=False)\n",
    "\n",
    "    # Test the file upload primitive (General error)\n",
    "    @mock.patch('requests.post', mock.Mock())\n",
    "    def test_upload_file_exception(self):\n",
    "        file = b'aa'\n",
    "        file_hash = 'bb'\n",
    "        requests.post.return_value = MockRequest(status_code=408)\n",
    "\n",
    "        self.assertRaises(Exception, pod_client.upload_file, file, file_hash)\n",
    "        requests.post.assert_called_once_with(f'{url}/{owner_key}/upload_file/{database_key}/{file_hash}', file, verify=False)\n",
    "        \n",
    "    # Test the file downloading primitive\n",
    "    @mock.patch('requests.post', mock.Mock())\n",
    "    def test_get_file(self):\n",
    "        file = b'aa'\n",
    "        file_hash = 'bb'\n",
    "        requests.post.return_value = MockRequest()\n",
    "\n",
    "        result = pod_client.get_file(file_hash)\n",
    "        # TODO: test that the result is the file\n",
    "        expected_json = {'databaseKey': database_key, \n",
    "                         'payload': {'sha256':file_hash}}\n",
    "        requests.post.assert_called_once_with(f'{url}/{owner_key}/get_file', json=expected_json, verify=False)\n",
    "\n",
    "        \n",
    "\n",
    "suite = unittest.TestLoader().loadTestsFromTestCase(PodPrimitivesTestCase)\n",
    "result = unittest.TextTestRunner(verbosity=3).run(suite)\n",
    "\n",
    "print(result)"
   ]
  },
  {
   "cell_type": "code",
   "execution_count": null,
   "metadata": {},
   "outputs": [
    {
     "name": "stderr",
     "output_type": "stream",
     "text": [
      "/Users/user/Desktop/Work/Polis/Repositories/pyintegrators/venv/lib/python3.7/site-packages/urllib3/connectionpool.py:988: InsecureRequestWarning: Unverified HTTPS request is being made to host 'localhost'. Adding certificate verification is strongly advised. See: https://urllib3.readthedocs.io/en/latest/advanced-usage.html#ssl-warnings\n",
      "  InsecureRequestWarning,\n"
     ]
    }
   ],
   "source": [
    "from unittest.mock import MagicMock\n",
    "\n",
    "# This is the pod_client, but mocking all http-using functions\n",
    "def create_mocked_pod_client():\n",
    "    pod_client = PodClient(url='https://localhost:3030/v2', database_key=\"0\" * 64, owner_key=\"1\" * 64)\n",
    "    \n",
    "    pod_client.get_item = MagicMock(name='method')\n",
    "    # get_all_items\n",
    "    \n",
    "    pod_client.create_item = MagicMock(name='method')\n",
    "    pod_client.update_item = MagicMock(name='method')\n",
    "    pod_client.bulk_action = MagicMock(name='method')\n",
    "    pod_client.delete_item = MagicMock(name='method')\n",
    "    \n",
    "    # search_by_fields\n",
    "    pod_client.get_items_with_edges = MagicMock(name='method')\n",
    "    \n",
    "    pod_client.upload_file = MagicMock(name='method')\n",
    "    pod_client.get_file = MagicMock(name='method')\n",
    "    \n",
    "    return pod_client"
   ]
  },
  {
   "cell_type": "code",
   "execution_count": null,
   "metadata": {},
   "outputs": [
    {
     "name": "stderr",
     "output_type": "stream",
     "text": [
      "/Users/user/Desktop/Work/Polis/Repositories/pyintegrators/venv/lib/python3.7/site-packages/urllib3/connectionpool.py:988: InsecureRequestWarning: Unverified HTTPS request is being made to host 'localhost'. Adding certificate verification is strongly advised. See: https://urllib3.readthedocs.io/en/latest/advanced-usage.html#ssl-warnings\n",
      "  InsecureRequestWarning,\n"
     ]
    }
   ],
   "source": [
    "# Test the creation of edges\n",
    "\n",
    "pod_client = create_mocked_pod_client()\n",
    "\n",
    "alice = Person.from_data(firstName=\"Alice\", uid=1)\n",
    "bob = Person.from_data(firstName=\"Bob\", uid=2)\n",
    "\n",
    "# Test both normal and bidirectional edges\n",
    "edge1 = Edge(alice, bob, \"friend\", reverse=True)\n",
    "edge2 = Edge(alice, bob, \"secretly_admires\", reverse=False)\n",
    "pod_client.create_edges([edge1, edge2])\n",
    "\n",
    "expected_edges = [{'_source': 1, '_target': 2, '_type': 'friend'},\n",
    "                  {'_source': 2, '_target': 1, '_type': '~friend'},\n",
    "                  {'_source': 1, '_target': 2, '_type': 'secretly_admires'},]\n",
    "pod_client.bulk_action.assert_called_once_with([], [], [], expected_edges, [])"
   ]
  },
  {
   "cell_type": "code",
   "execution_count": null,
   "metadata": {},
   "outputs": [
    {
     "name": "stderr",
     "output_type": "stream",
     "text": [
      "/Users/user/Desktop/Work/Polis/Repositories/pyintegrators/venv/lib/python3.7/site-packages/urllib3/connectionpool.py:988: InsecureRequestWarning: Unverified HTTPS request is being made to host 'localhost'. Adding certificate verification is strongly advised. See: https://urllib3.readthedocs.io/en/latest/advanced-usage.html#ssl-warnings\n",
      "  InsecureRequestWarning,\n",
      "/Users/user/Desktop/Work/Polis/Repositories/pyintegrators/venv/lib/python3.7/site-packages/urllib3/connectionpool.py:988: InsecureRequestWarning: Unverified HTTPS request is being made to host 'localhost'. Adding certificate verification is strongly advised. See: https://urllib3.readthedocs.io/en/latest/advanced-usage.html#ssl-warnings\n",
      "  InsecureRequestWarning,\n"
     ]
    }
   ],
   "source": [
    "# Test the retrievel of items, both with and without expanded\n",
    "\n",
    "pod_client = create_mocked_pod_client()\n",
    "pod_client.get(1, expanded=True)\n",
    "pod_client.get_items_with_edges.assert_called_once_with([1])\n",
    "\n",
    "pod_client = create_mocked_pod_client()\n",
    "pod_client.get(1, expanded=False)\n",
    "pod_client.get_item.assert_called_once_with(1)"
   ]
  },
  {
   "cell_type": "code",
   "execution_count": null,
   "metadata": {},
   "outputs": [
    {
     "name": "stderr",
     "output_type": "stream",
     "text": [
      "/Users/user/Desktop/Work/Polis/Repositories/pyintegrators/venv/lib/python3.7/site-packages/urllib3/connectionpool.py:988: InsecureRequestWarning: Unverified HTTPS request is being made to host 'localhost'. Adding certificate verification is strongly advised. See: https://urllib3.readthedocs.io/en/latest/advanced-usage.html#ssl-warnings\n",
      "  InsecureRequestWarning,\n"
     ]
    }
   ],
   "source": [
    "# Test the create function\n",
    "\n",
    "pod_client = create_mocked_pod_client()\n",
    "\n",
    "alice = Person.from_data(firstName=\"Alice\")\n",
    "pod_client.create(alice)\n",
    "pod_client.create_item.assert_called_once_with(alice.to_dict())"
   ]
  },
  {
   "cell_type": "code",
   "execution_count": null,
   "metadata": {},
   "outputs": [],
   "source": [
    "# Test the uploading of a file, and the related helper function\n",
    "\n",
    "pod_client = create_mocked_pod_client()\n",
    "\n",
    "file = b'aa'\n",
    "file_hash = hashlib.sha256(file).hexdigest()\n",
    "expected_file_item = {'sha256': file_hash}\n",
    "\n",
    "pod_client.upload_and_create_file(file)\n",
    "pod_client.create_item.assert_called_once_with(expected_file_item, item_type='File')\n",
    "pod_client.upload_file.assert_called_once_with(file, file_hash)"
   ]
  },
  {
   "cell_type": "markdown",
   "metadata": {},
   "source": [
    "We communicate with the pod with the PodClient. The PodClient requires us to provide a [database key](https://gitlab.memri.io/memri/pod/-/blob/dev/docs/HTTP_API.md#user-content-api-authentication-credentials) and an [owner key](https://gitlab.memri.io/memri/pod/-/blob/dev/docs/HTTP_API.md#user-content-api-authentication-credentials). You don't have to worry about these keys: when you run an Integrator from a memri client, this goes via the pod, which provides these keys for you. For testing purposes, we can make our own keys."
   ]
  },
  {
   "cell_type": "code",
   "execution_count": null,
   "metadata": {},
   "outputs": [
    {
     "name": "stdout",
     "output_type": "stream",
     "text": [
      "Succesfully connected to pod\n"
     ]
    }
   ],
   "source": [
    "client = PodClient(database_key=\"0\" * 64, owner_key=\"1\" * 64)\n",
    "success = client.test_connection()\n",
    "assert success"
   ]
  },
  {
   "cell_type": "markdown",
   "metadata": {},
   "source": [
    "## Creating Items and Edges"
   ]
  },
  {
   "cell_type": "markdown",
   "metadata": {},
   "source": [
    "Now that we have access to the pod, we can create items here and upload them to the pod. All items are defined in the memri [schema](https://gitlab.memri.io/memri/schema). When the schema is changed it automatically generates all the class definitions for the different languages used in memri, the python schema file lives in [schema.py](https://gitlab.memri.io/memri/pyintegrators/-/blob/master/integrators/schema.py) in the integrators package. When Initializing an Item, always make sure to use the from_data classmethod to initialize."
   ]
  },
  {
   "cell_type": "code",
   "execution_count": null,
   "metadata": {},
   "outputs": [
    {
     "data": {
      "text/plain": [
       "EmailMessage (#None)"
      ]
     },
     "execution_count": null,
     "metadata": {},
     "output_type": "execute_result"
    }
   ],
   "source": [
    "email_item = EmailMessage.from_data(content=\"example content field\")\n",
    "email_item"
   ]
  },
  {
   "cell_type": "code",
   "execution_count": null,
   "metadata": {},
   "outputs": [
    {
     "data": {
      "text/plain": [
       "EmailMessage (#917040)"
      ]
     },
     "execution_count": null,
     "metadata": {},
     "output_type": "execute_result"
    }
   ],
   "source": [
    "success = client.create(email_item)\n",
    "assert success\n",
    "email_item"
   ]
  },
  {
   "cell_type": "markdown",
   "metadata": {},
   "source": [
    "We can connect items using edges. Let's create another item, a person, and connect the email and the person."
   ]
  },
  {
   "cell_type": "code",
   "execution_count": null,
   "metadata": {},
   "outputs": [
    {
     "data": {
      "text/plain": [
       "Person (#917041) --author-> EmailMessage (#917040)"
      ]
     },
     "execution_count": null,
     "metadata": {},
     "output_type": "execute_result"
    }
   ],
   "source": [
    "person_item = Person.from_data(firstName=\"Alice\")\n",
    "item_succes = client.create(person_item)\n",
    "\n",
    "edge = Edge(person_item, email_item, \"author\")\n",
    "edge_succes = client.create_edge(edge)\n",
    "\n",
    "assert item_succes and edge_succes\n",
    "edge"
   ]
  },
  {
   "cell_type": "markdown",
   "metadata": {},
   "source": [
    "# Fetching and updating Items"
   ]
  },
  {
   "cell_type": "markdown",
   "metadata": {},
   "source": [
    "We can use the client to fetch data from the database. This is in particular usefull for indexers, which often use data in the database as input for their models. The simplest form  of querying the database is by querying items in the pod by their uid (unique identifier)."
   ]
  },
  {
   "cell_type": "code",
   "execution_count": null,
   "metadata": {},
   "outputs": [
    {
     "data": {
      "text/plain": [
       "Person (#917042)"
      ]
     },
     "execution_count": null,
     "metadata": {},
     "output_type": "execute_result"
    }
   ],
   "source": [
    "person_item = Person.from_data(firstName=\"Alice\")\n",
    "client.create(person_item)\n",
    "person_from_db = client.get(person_item.uid)\n",
    "assert person_from_db is not None\n",
    "assert person_from_db == person_item\n",
    "person_from_db"
   ]
  },
  {
   "cell_type": "markdown",
   "metadata": {},
   "source": [
    "Appart from creating, we might want to update existing items:"
   ]
  },
  {
   "cell_type": "code",
   "execution_count": null,
   "metadata": {},
   "outputs": [
    {
     "data": {
      "text/plain": [
       "Person (#917042)"
      ]
     },
     "execution_count": null,
     "metadata": {},
     "output_type": "execute_result"
    }
   ],
   "source": [
    "person_item.lastName = \"Awesome\"\n",
    "client.update_item(person_item)\n",
    "\n",
    "person_from_db = client.get(person_item.uid)\n",
    "assert person_from_db.lastName == \"Awesome\"\n",
    "person_from_db"
   ]
  },
  {
   "cell_type": "markdown",
   "metadata": {},
   "source": [
    "Sometimes, we might not know the uids of the items we want to fetch. We can also search by a certain property. We can use this for instance when we want to query all items from a particular type to perform some indexing on."
   ]
  },
  {
   "cell_type": "code",
   "execution_count": null,
   "metadata": {},
   "outputs": [
    {
     "data": {
      "text/plain": [
       "[Person (#32002), Person (#32004), Person (#32005)]"
      ]
     },
     "execution_count": null,
     "metadata": {},
     "output_type": "execute_result"
    }
   ],
   "source": [
    "person_item2 = Person.from_data(firstName=\"Bob\")\n",
    "client.create(person_item2);\n",
    "all_people = client.search_by_fields({\"_type\": \"Person\"})\n",
    "\n",
    "assert all([isinstance(p, Person) for p in all_people]) and len(all_people) > 0\n",
    "\n",
    "all_people[:3]"
   ]
  },
  {
   "cell_type": "markdown",
   "metadata": {},
   "source": [
    "# Export -"
   ]
  },
  {
   "cell_type": "code",
   "execution_count": null,
   "metadata": {},
   "outputs": [
    {
     "name": "stdout",
     "output_type": "stream",
     "text": [
      "Converted basic.ipynb.\n",
      "Converted index.ipynb.\n",
      "Converted indexers.indexer.ipynb.\n",
      "Converted itembase.ipynb.\n",
      "Converted pod.client.ipynb.\n"
     ]
    }
   ],
   "source": [
    "# hide\n",
    "from nbdev.export import *\n",
    "notebook2script()"
   ]
  }
 ],
 "metadata": {
  "kernelspec": {
   "display_name": "Python 3",
   "language": "python",
   "name": "python3"
  }
 },
 "nbformat": 4,
 "nbformat_minor": 4
}

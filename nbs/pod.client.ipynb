{
 "cells": [
  {
   "cell_type": "code",
   "execution_count": null,
   "metadata": {},
   "outputs": [],
   "source": [
    "%load_ext autoreload\n",
    "%autoreload 2\n",
    "# default_exp pod.client"
   ]
  },
  {
   "cell_type": "markdown",
   "metadata": {},
   "source": [
    "# Pod Client"
   ]
  },
  {
   "cell_type": "code",
   "execution_count": null,
   "metadata": {},
   "outputs": [],
   "source": [
    "# export\n",
    "from pyintegrators.data.itembase import Edge, ItemBase\n",
    "from pyintegrators.indexers.facerecognition.photo import resize\n",
    "from pyintegrators.data.schema import *\n",
    "from pyintegrators.imports import *\n",
    "from hashlib import sha256"
   ]
  },
  {
   "cell_type": "code",
   "execution_count": null,
   "metadata": {},
   "outputs": [],
   "source": [
    "# export\n",
    "DEFAULT_POD_ADDRESS = \"http://localhost:3030\"\n",
    "POD_VERSION = \"v3\""
   ]
  },
  {
   "cell_type": "code",
   "execution_count": null,
   "metadata": {},
   "outputs": [],
   "source": [
    "# export\n",
    "class PodClient:\n",
    "\n",
    "    def __init__(self, url=DEFAULT_POD_ADDRESS, version=POD_VERSION, database_key=None, owner_key=None):\n",
    "        self.url = url\n",
    "        self.version = POD_VERSION\n",
    "        self.test_connection(verbose=False)\n",
    "        self.database_key=database_key if database_key is not None else self.generate_random_key()\n",
    "        self.owner_key=owner_key if owner_key is not None else self.generate_random_key()\n",
    "        self.base_url = f\"{url}/{version}/{self.owner_key}\"\n",
    "        self.auth_json = {\"type\":\"ClientAuth\", \"databaseKey\": self.database_key}\n",
    "    \n",
    "    @staticmethod\n",
    "    def generate_random_key():\n",
    "        return \"\".join([str(random.randint(0, 9)) for i in range(64)])        \n",
    "\n",
    "    def test_connection(self, verbose=True):\n",
    "        try:\n",
    "            res = requests.get(self.url)\n",
    "            if verbose: print(\"Succesfully connected to pod\")\n",
    "            return True\n",
    "        except requests.exceptions.RequestException as e:\n",
    "            print(\"Could no connect to backend\")\n",
    "            return False\n",
    "    \n",
    "    def create(self, node):\n",
    "        if isinstance(node, Photo) and not self.create_photo_file(node): return False\n",
    "\n",
    "        try:\n",
    "            properties = self.get_properties_json(node)\n",
    "            properties = {k:v for k, v in properties.items() if v != []}\n",
    "            body = {\"auth\": self.auth_json, \"payload\":properties}\n",
    "\n",
    "            result = requests.post(f\"{self.base_url}/create_item\", json=body)\n",
    "            if result.status_code != 200:\n",
    "                print(result, result.content)\n",
    "                return False\n",
    "            else:\n",
    "                id = result.json()\n",
    "                node.id = id\n",
    "                ItemBase.add_to_db(node)\n",
    "                return True\n",
    "        except requests.exceptions.RequestException as e:\n",
    "            print(e)\n",
    "            return False   \n",
    "        \n",
    "    def add_to_schema(self, node):\n",
    "        attributes = self.get_properties_json(node)\n",
    "        for k, v in attributes.items():\n",
    "            if not isinstance(v, list) and k != \"type\":\n",
    "                if isinstance(v, str):\n",
    "                    value_type = \"Text\"\n",
    "                elif isinstance(v, int):\n",
    "                    value_type = \"Integer\"\n",
    "                \n",
    "                payload = {\"type\": \"ItemPropertySchema\", \"itemType\": attributes[\"type\"],\n",
    "                           \"propertyName\": k, \"valueType\": value_type}\n",
    "\n",
    "                body = {\"auth\": self.auth_json, \"payload\": payload }\n",
    "\n",
    "                try:\n",
    "                    result = requests.post(f\"{self.base_url}/create_item\", json=body)\n",
    "\n",
    "                    if result.status_code != 200:\n",
    "                        print(result, result.content)\n",
    "                        return False\n",
    "                    else:\n",
    "                        id = result.json()\n",
    "                        node.id = id\n",
    "                        ItemBase.add_to_db(node)\n",
    "\n",
    "                except requests.exceptions.RequestException as e:\n",
    "                    print(e)\n",
    "                    return False  \n",
    "        return True\n",
    "    \n",
    "    def create_photo_file(self, photo):\n",
    "        file = photo.file[0]\n",
    "        self.create(file)\n",
    "        return self.upload_photo(photo.data)\n",
    "        \n",
    "    def upload_photo(self, arr):\n",
    "        return self.upload_file(arr.tobytes())\n",
    "        \n",
    "    def upload_file(self, file):\n",
    "        # TODO: currently this only works for numpy images\n",
    "        try:\n",
    "            sha = sha256(file).hexdigest()\n",
    "            result = requests.post(f\"{self.base_url}/upload_file/{self.database_key}/{sha}\", data=file)\n",
    "            if result.status_code != 200:\n",
    "                print(result, result.content)\n",
    "                return False\n",
    "            else:\n",
    "                return True\n",
    "        except requests.exceptions.RequestException as e:\n",
    "            print(e)\n",
    "            return False\n",
    "        \n",
    "    def get_file(self, sha):\n",
    "        # TODO: currently this only works for numpy images\n",
    "        try:\n",
    "            body= {\"auth\": self.auth_json,\n",
    "                   \"payload\": {\"sha256\": sha}}\n",
    "            result = requests.post(f\"{self.base_url}/get_file\", json=body)\n",
    "            if result.status_code != 200:\n",
    "                print(result, result.content)\n",
    "                return None\n",
    "            else:\n",
    "                return result.content\n",
    "        except requests.exceptions.RequestException as e:\n",
    "            print(e)\n",
    "            return None\n",
    "        \n",
    "    def get_photo(self, id, size=640):\n",
    "        photo = self.get(id)\n",
    "        self._load_photo_data(photo, size=size)\n",
    "        return photo\n",
    "        \n",
    "    def _load_photo_data(self, photo, size=None):\n",
    "        if len(photo.file) > 0 and photo.data is None:\n",
    "            file = self.get_file(photo.file[0].sha256)\n",
    "            if file is None:\n",
    "                print(f\"Could not load data of {photo} attached file item does not have data in pod\")\n",
    "                return\n",
    "            data = np.frombuffer(file, dtype=np.uint8)\n",
    "            c = photo.channels\n",
    "            shape = (photo.height,photo.width, c) if c is not None and c > 1 else (photo.height, photo.width)\n",
    "            data = data.reshape(shape)\n",
    "            if size is not None: data = resize(data, size) \n",
    "            photo.data = data\n",
    "            return\n",
    "        print(f\"could not load data of {photo}, no file attached\")\n",
    "        \n",
    "    def create_if_external_id_not_exists(self, node):\n",
    "        if not self.external_id_exists(node):\n",
    "            self.create(node)\n",
    "            \n",
    "    def external_id_exists(self, node):\n",
    "        if node.externalId is None: return False\n",
    "        existing = self.search({\"externalId\": node.externalId})\n",
    "        return len(existing) > 0 \n",
    "    \n",
    "    def create_edges(self, edges):\n",
    "        \"\"\"Create edges between nodes, edges should be of format [{\"_type\": \"friend\", \"_source\": 1, \"_target\": 2}]\"\"\"\n",
    "        create_edges = []\n",
    "        for e in edges:\n",
    "            src, target = e.source.id, e.target.id\n",
    "            \n",
    "            if src is None or target is None:\n",
    "                print(f\"Could not create edge {e} missing source or target id\")\n",
    "                return False\n",
    "            data = {\"_source\": src, \"_target\": target, \"_type\": e._type}\n",
    "            if e.label is not None: data[LABEL] = e.label\n",
    "            if e.sequence is not None: data[SEQUENCE] = e.sequence\n",
    "\n",
    "            if e.reverse:\n",
    "                data2 = copy(data)\n",
    "                data2[\"_source\"] = target\n",
    "                data2[\"_target\"] = src\n",
    "                data2[\"_type\"] = \"~\" + data2[\"_type\"]\n",
    "                create_edges.append(data2)\n",
    "\n",
    "            create_edges.append(data)\n",
    "\n",
    "        return self.bulk_action(create_items=[], update_items=[],create_edges=create_edges)\n",
    "        \n",
    "    def delete_items(self, items):\n",
    "        ids = [i.id for i in items]\n",
    "        return self.bulk_action(delete_items=ids)\n",
    "    \n",
    "    def delete_all(self):\n",
    "        items = self.get_all_items()\n",
    "        self.delete_items(items)\n",
    "        \n",
    "    def bulk_action(self, create_items=None, update_items=None, create_edges=None, delete_items=None):\n",
    "        create_items = create_items if create_items is not None else []\n",
    "        update_items = update_items if update_items is not None else []\n",
    "        create_edges = create_edges if create_edges is not None else []\n",
    "        delete_items = delete_items if delete_items is not None else []\n",
    "        edges_data = {\"databaseKey\": self.database_key, \"payload\": {\n",
    "                    \"createItems\": create_items, \"updateItems\": update_items,\n",
    "                    \"createEdges\": create_edges, \"deleteItems\": delete_items}}\n",
    "        try:\n",
    "            result = requests.post(f\"{self.base_url}/bulk_action\",\n",
    "                                   json=edges_data)\n",
    "            if result.status_code != 200:\n",
    "                if \"UNIQUE constraint failed\" in str(result.content):\n",
    "                    print(result.status_code, \"Edge already exists\")\n",
    "                else:\n",
    "                    print(result, result.content)\n",
    "                return False\n",
    "            else:\n",
    "                return True\n",
    "        except requests.exceptions.RequestException as e:\n",
    "            print(e)\n",
    "            return False\n",
    "        \n",
    "    def create_edge(self, edge):\n",
    "        payload = {\"_source\": edge.source.id, \"_target\": edge.target.id, \"_name\": edge._type}\n",
    "        body = {\"auth\": self.auth_json,\n",
    "                \"payload\": payload}\n",
    "        \n",
    "        try:\n",
    "            result = requests.post(f\"{self.base_url}/create_edge\", json=body)\n",
    "            if result.status_code != 200:\n",
    "                print(result, result.content)\n",
    "                return False\n",
    "            else:\n",
    "                return True\n",
    "        except requests.exceptions.RequestException as e:\n",
    "            print(e)\n",
    "            return False \n",
    "        \n",
    "        \n",
    "        return self.create_edges([edge])\n",
    "    \n",
    "    def get(self, id, expanded=True):\n",
    "        if not expanded:\n",
    "            res = self._get_item_with_properties(id)\n",
    "        else:\n",
    "            res = self._get_item_expanded(id)\n",
    "        if res is None:\n",
    "            return None\n",
    "        \n",
    "        elif res.deleted == True:\n",
    "            print(f\"Item with id {id} does not exist anymore\")\n",
    "            return None\n",
    "        else:\n",
    "            return res\n",
    "        \n",
    "    def get_all_items(self):        \n",
    "        try:\n",
    "            body = {  \"databaseKey\": self.database_key, \"payload\":None}\n",
    "            result = requests.post(f\"{self.base_url}/get_all_items\", json=body)\n",
    "            if result.status_code != 200:\n",
    "                print(result, result.content)\n",
    "                return None\n",
    "            else:\n",
    "                json = result.json()\n",
    "                res =  [self.item_from_json(x) for x in json]\n",
    "                return self.filter_deleted(res)\n",
    "\n",
    "        except requests.exceptions.RequestException as e:\n",
    "            print(e)\n",
    "            return None\n",
    "        \n",
    "    def filter_deleted(self, items):\n",
    "        return [i for i in items if not i.deleted == True]\n",
    "    \n",
    "    def _get_item_expanded(self, id):\n",
    "        item = self.get(id, expanded=False)\n",
    "        edges = self.get_edges(id)\n",
    "        for e in edges:\n",
    "            item.add_edge(e[\"name\"], e[\"item\"])\n",
    "        return item\n",
    "\n",
    "        \n",
    "#         body = {\"payload\": [id],\n",
    "#                 \"databaseKey\": self.database_key}\n",
    "#         try:\n",
    "#             result = requests.post(f\"{self.base_url}/get_items_with_edges\",\n",
    "#                                     json=body)\n",
    "#             if result.status_code != 200:\n",
    "#                 print(result, result.content)\n",
    "#                 return None\n",
    "#             else:\n",
    "#                 json = result.json()[0]\n",
    "#                 res =  self.item_from_json(json)\n",
    "#                 return res\n",
    "            \n",
    "#         except requests.exceptions.RequestException as e:\n",
    "#             print(e)\n",
    "#             return None\n",
    "        \n",
    "    def get_edges(self, id):\n",
    "        body = {\"payload\": {\"item\": str(id),\n",
    "                            \"direction\": \"Outgoing\",\n",
    "                            \"expandItems\": True},\n",
    "                \"auth\": self.auth_json}\n",
    "        \n",
    "        try:\n",
    "            result = requests.post(f\"{self.base_url}/get_edges\", json=body)\n",
    "            if result.status_code != 200:\n",
    "                print(result, result.content)\n",
    "                return None\n",
    "            else:\n",
    "                json = result.json()\n",
    "                if json == []:\n",
    "                    return None\n",
    "                else:\n",
    "                    for d in json:\n",
    "                        d[\"item\"] = self.item_from_json(d[\"item\"])\n",
    "#                     res =  self.item_from_json(json[0])\n",
    "                    return json\n",
    "        except requests.exceptions.RequestException as e:\n",
    "            print(e)\n",
    "            return None\n",
    "\n",
    "    def _get_item_with_properties(self, id):        \n",
    "        try:\n",
    "            body = {\"auth\": self.auth_json,\n",
    "                    \"payload\": str(id)}\n",
    "            result = requests.post(f\"{self.base_url}/get_item\", json=body)\n",
    "            if result.status_code != 200:\n",
    "                print(result, result.content)\n",
    "                return None\n",
    "            else:\n",
    "                json = result.json()\n",
    "                if json == []:\n",
    "                    return None\n",
    "                else:\n",
    "                    res =  self.item_from_json(json[0])\n",
    "                    return res\n",
    "        except requests.exceptions.RequestException as e:\n",
    "            print(e)\n",
    "            return None\n",
    "\n",
    "    def get_properties_json(self, node, dates=True):\n",
    "        DATE_KEYS = ['dateCreated', 'dateModified', 'dateServerModified']\n",
    "        res = dict()\n",
    "        private = getattr(node, \"private\", []) \n",
    "        for k, v in node.__dict__.items():\n",
    "#             if k[:1] != '_' and k != \"private\" and k not in private and not (isinstance(v, list)\\\n",
    "#                             and len(v)>0 and isinstance(v[0], Edge)) and v is not None:\n",
    "#             if k[:1] != '_' and k != \"private\" and k != \"id\" and k not in private and not (isinstance(v, list)) \\\n",
    "#                             and v is not None:\n",
    "            if k[:1] != '_' and k != \"private\" and k not in private and not (isinstance(v, list)) \\\n",
    "                            and v is not None and (not (dates == False and k in DATE_KEYS)):\n",
    "\n",
    "                res[k] = v\n",
    "        res[\"type\"] = self._get_schema_type(node)\n",
    "        return res\n",
    "    \n",
    "    @staticmethod\n",
    "    def _get_schema_type(node):\n",
    "        for cls in node.__class__.mro():\n",
    "            if cls.__module__ == \"pyintegrators.data.schema\" and cls.__name__ != \"ItemBase\":\n",
    "                return cls.__name__\n",
    "        raise ValueError\n",
    "\n",
    "    def update_item(self, node):\n",
    "        data = self.get_properties_json(node, dates=False)\n",
    "        if \"type\" in data:\n",
    "            del data[\"type\"]\n",
    "        if \"deleted\" in data:\n",
    "            del data[\"deleted\"]\n",
    "        id = data[\"id\"]\n",
    "        body = {\"payload\": data,\n",
    "                \"auth\": self.auth_json}\n",
    "\n",
    "        try:\n",
    "            result = requests.post(f\"{self.base_url}/update_item\",\n",
    "                                  json=body)\n",
    "            if result.status_code != 200:\n",
    "                print(result, result.content)\n",
    "        except requests.exceptions.RequestException as e:\n",
    "            print(e)\n",
    "\n",
    "    def search(self, fields_data):\n",
    "\n",
    "        body = {\"payload\": fields_data,\n",
    "                \"auth\": self.auth_json}\n",
    "        try:\n",
    "            result = requests.post(f\"{self.base_url}/search\", json=body)\n",
    "            json =  result.json()\n",
    "            res = [self.item_from_json(item) for item in json]\n",
    "            return self.filter_deleted(res)\n",
    "        except requests.exceptions.RequestException as e:\n",
    "            return None\n",
    "        \n",
    "    def item_from_json(self, json):\n",
    "        indexer_class = json.get(\"indexerClass\", None)\n",
    "        constructor = get_constructor(json[\"itemType\"], indexer_class)\n",
    "        new_item = constructor.from_json(json)\n",
    "        existing = ItemBase.global_db.get(new_item.id)\n",
    "        import ipdb\n",
    "        ipdb.set_trace()\n",
    "        # TODO: cleanup\n",
    "        if existing is not None:\n",
    "            if not existing.is_expanded() and new_item.is_expanded():\n",
    "                for edge_name in new_item.get_all_edge_names():\n",
    "                    edges = new_item.get_edges(edge_name)\n",
    "                    for e in edges:\n",
    "                        e.source = existing\n",
    "                    existing.__setattr__(edge_name, edges)\n",
    "                \n",
    "            for prop_name in new_item.get_property_names():\n",
    "                existing.__setattr__(prop_name, new_item.__getattribute__(prop_name))                    \n",
    "            return existing\n",
    "        else:\n",
    "            return new_item\n",
    "\n",
    "    def get_properties(self, expanded):\n",
    "        properties = copy(expanded)\n",
    "        if ALL_EDGES in properties: del properties[ALL_EDGES]\n",
    "        return properties\n",
    "\n",
    "    def run_importer(self, id, servicePayload):\n",
    "\n",
    "        body = dict()\n",
    "        body[\"databaseKey\"] = servicePayload[\"databaseKey\"]\n",
    "        body[\"payload\"] = {\"id\": id, \"servicePayload\": servicePayload}\n",
    "        print(body)\n",
    "\n",
    "        try:\n",
    "            res = requests.post(f\"{self.base_url}/run_importer\", json=body)\n",
    "            if res.status_code != 200:\n",
    "                print(f\"Failed to start importer on {url}:\\n{res.status_code}: {res.text}\")\n",
    "            else:\n",
    "                print(\"Starting importer\")\n",
    "        except requests.exceptions.RequestException as e:\n",
    "            print(\"Error with calling importer {e}\")"
   ]
  },
  {
   "cell_type": "markdown",
   "metadata": {},
   "source": [
    "Pyintegrators communicate with the pod via the PodClient. The PodClient requires you to provide a [database key](https://gitlab.memri.io/memri/pod/-/blob/dev/docs/HTTP_API.md#user-content-api-authentication-credentials) and an [owner key](https://gitlab.memri.io/memri/pod/-/blob/dev/docs/HTTP_API.md#user-content-api-authentication-credentials). During development, you don't have to worry about these keys, you can just omit the keys when initializing the PodClient, which creates a new user by defining random keys. When you are using the app, setting the keys in the pod, and passing them when calling an integrator is handled for you by the app itself."
   ]
  },
  {
   "cell_type": "code",
   "execution_count": null,
   "metadata": {},
   "outputs": [
    {
     "name": "stdout",
     "output_type": "stream",
     "text": [
      "Succesfully connected to pod\n"
     ]
    }
   ],
   "source": [
    "client = PodClient()\n",
    "success = client.test_connection()\n",
    "assert success"
   ]
  },
  {
   "cell_type": "markdown",
   "metadata": {},
   "source": [
    "## Creating Items and Edges"
   ]
  },
  {
   "cell_type": "markdown",
   "metadata": {},
   "source": [
    "Now that we have access to the pod, we can create items here and upload them to the pod. All items are defined in the memri [schema](https://gitlab.memri.io/memri/schema). When the schema is changed it automatically generates all the class definitions for the different languages used in memri, the python schema file lives in [schema.py](https://gitlab.memri.io/memri/pyintegrators/-/blob/master/integrators/schema.py) in the integrators package. When Initializing an Item, always make sure to use the from_data classmethod to initialize."
   ]
  },
  {
   "cell_type": "code",
   "execution_count": null,
   "metadata": {},
   "outputs": [
    {
     "data": {
      "text/plain": [
       "EmailMessage (#None)"
      ]
     },
     "execution_count": null,
     "metadata": {},
     "output_type": "execute_result"
    }
   ],
   "source": [
    "email_item = EmailMessage.from_data(content=\"example content field\")\n",
    "email_item"
   ]
  },
  {
   "cell_type": "code",
   "execution_count": null,
   "metadata": {},
   "outputs": [],
   "source": [
    "succes = client.add_to_schema(email_item)\n",
    "assert succes"
   ]
  },
  {
   "cell_type": "markdown",
   "metadata": {},
   "source": [
    "<!-- [08:09:30 vasya@vn971 pod] curl -X POST -H \"Content-Type: application/json\" --insecure \"http://localhost:3030/v3/03170a2e7597b7b7e3d84c05391d139a62b157e78786d8c082f29dcf4c111314/create_item\" -d '{\"databaseKey\": \"2DD29CA851E7B56E4697B0E1F08507293D761A05CE4D1B628663F411A8086D99\", \"payload\": {\"type\": \"ItemPropertySchema\", \"itemType\": \"Person\", \"propertyName\": \"age\", \"valueType\": \"integer\"}}'\n",
    "16[08:09:31 vasya@vn971 pod] \n",
    "[08:09:32 vasya@vn971 pod] \n",
    "[08:09:32 vasya@vn971 pod] \n",
    "[08:09:33 vasya@vn971 pod] curl -X POST -H \"Content-Type: application/json\" --insecure \"http://localhost:3030/v3/03170a2e7597b7b7e3d84c05391d139a62b157e78786d8c082f29dcf4c111314/create_item\" -d '{\"databaseKey\": \"2DD29CA851E7B56E4697B0E1F08507293D761A05CE4D1B628663F411A8086D99\", \"payload\": {\"type\": \"Person\", \"age\": 20}}'\n",
    "17[08:10:02 vasya@vn971 pod] \n",
    "[08:10:04 vasya@vn971 pod] \n",
    "[08:10:04 vasya@vn971 pod] \n",
    "[08:10:05 vasya@vn971 pod] curl -X POST -H \"Content-Type: application/json\" --insecure \"http://localhost:3030/v3/03170a2e7597b7b7e3d84c05391d139a62b157e78786d8c082f29dcf4c111314/create_item\" -d '{\"databaseKey\": \"2DD29CA851E7B56E4697B0E1F08507293D761A05CE4D1B628663F411A8086D99\", \"payload\": {\"type\": \"Person\", \"myAge\": 20}}'\n",
    "Property myAge not defined in Schema (attempted to use it for json value 20) -->"
   ]
  },
  {
   "cell_type": "markdown",
   "metadata": {},
   "source": [
    "We can connect items using edges. Let's create another item, a person, and connect the email and the person."
   ]
  },
  {
   "cell_type": "code",
   "execution_count": null,
   "metadata": {},
   "outputs": [],
   "source": [
    "person_item = Person.from_data(firstName=\"Alice\", lastName=\"X\")\n",
    "succes = client.add_to_schema(person_item)\n",
    "assert succes"
   ]
  },
  {
   "cell_type": "code",
   "execution_count": null,
   "metadata": {},
   "outputs": [],
   "source": [
    "person_item = Person.from_data(firstName=\"Alice\", lastName=\"X\")\n",
    "item_succes = client.create(person_item)\n",
    "edge = Edge(person_item, email_item, \"author\")\n",
    "edge_succes = client.create_edge(edge)\n",
    "assert item_succes and edge_succes"
   ]
  },
  {
   "cell_type": "code",
   "execution_count": null,
   "metadata": {},
   "outputs": [
    {
     "name": "stdout",
     "output_type": "stream",
     "text": [
      "> \u001b[0;32m<ipython-input-4-8bec0dac8dc6>\u001b[0m(379)\u001b[0;36mitem_from_json\u001b[0;34m()\u001b[0m\n",
      "\u001b[0;32m    378 \u001b[0;31m        \u001b[0;31m# TODO: cleanup\u001b[0m\u001b[0;34m\u001b[0m\u001b[0;34m\u001b[0m\u001b[0;34m\u001b[0m\u001b[0m\n",
      "\u001b[0m\u001b[0;32m--> 379 \u001b[0;31m        \u001b[0;32mif\u001b[0m \u001b[0mexisting\u001b[0m \u001b[0;32mis\u001b[0m \u001b[0;32mnot\u001b[0m \u001b[0;32mNone\u001b[0m\u001b[0;34m:\u001b[0m\u001b[0;34m\u001b[0m\u001b[0;34m\u001b[0m\u001b[0m\n",
      "\u001b[0m\u001b[0;32m    380 \u001b[0;31m            \u001b[0;32mif\u001b[0m \u001b[0;32mnot\u001b[0m \u001b[0mexisting\u001b[0m\u001b[0;34m.\u001b[0m\u001b[0mis_expanded\u001b[0m\u001b[0;34m(\u001b[0m\u001b[0;34m)\u001b[0m \u001b[0;32mand\u001b[0m \u001b[0mnew_item\u001b[0m\u001b[0;34m.\u001b[0m\u001b[0mis_expanded\u001b[0m\u001b[0;34m(\u001b[0m\u001b[0;34m)\u001b[0m\u001b[0;34m:\u001b[0m\u001b[0;34m\u001b[0m\u001b[0;34m\u001b[0m\u001b[0m\n",
      "\u001b[0m\n"
     ]
    }
   ],
   "source": [
    "client.get_edges(person_item.id)"
   ]
  },
  {
   "cell_type": "code",
   "execution_count": null,
   "metadata": {},
   "outputs": [],
   "source": [
    "client.get(person_item.id)"
   ]
  },
  {
   "cell_type": "code",
   "execution_count": null,
   "metadata": {},
   "outputs": [
    {
     "name": "stdout",
     "output_type": "stream",
     "text": [
      "> \u001b[0;32m<ipython-input-4-8bec0dac8dc6>\u001b[0m(373)\u001b[0;36mitem_from_json\u001b[0;34m()\u001b[0m\n",
      "\u001b[0;32m    371 \u001b[0;31m    \u001b[0;32mdef\u001b[0m \u001b[0mitem_from_json\u001b[0m\u001b[0;34m(\u001b[0m\u001b[0mself\u001b[0m\u001b[0;34m,\u001b[0m \u001b[0mjson\u001b[0m\u001b[0;34m)\u001b[0m\u001b[0;34m:\u001b[0m\u001b[0;34m\u001b[0m\u001b[0;34m\u001b[0m\u001b[0m\n",
      "\u001b[0m\u001b[0;32m    372 \u001b[0;31m        \u001b[0mindexer_class\u001b[0m \u001b[0;34m=\u001b[0m \u001b[0mjson\u001b[0m\u001b[0;34m.\u001b[0m\u001b[0mget\u001b[0m\u001b[0;34m(\u001b[0m\u001b[0;34m\"indexerClass\"\u001b[0m\u001b[0;34m,\u001b[0m \u001b[0;32mNone\u001b[0m\u001b[0;34m)\u001b[0m\u001b[0;34m\u001b[0m\u001b[0;34m\u001b[0m\u001b[0m\n",
      "\u001b[0m\u001b[0;32m--> 373 \u001b[0;31m        \u001b[0mconstructor\u001b[0m \u001b[0;34m=\u001b[0m \u001b[0mget_constructor\u001b[0m\u001b[0;34m(\u001b[0m\u001b[0mjson\u001b[0m\u001b[0;34m[\u001b[0m\u001b[0;34m\"itemType\"\u001b[0m\u001b[0;34m]\u001b[0m\u001b[0;34m,\u001b[0m \u001b[0mindexer_class\u001b[0m\u001b[0;34m)\u001b[0m\u001b[0;34m\u001b[0m\u001b[0;34m\u001b[0m\u001b[0m\n",
      "\u001b[0m\u001b[0;32m    374 \u001b[0;31m        \u001b[0mnew_item\u001b[0m \u001b[0;34m=\u001b[0m \u001b[0mconstructor\u001b[0m\u001b[0;34m.\u001b[0m\u001b[0mfrom_json\u001b[0m\u001b[0;34m(\u001b[0m\u001b[0mjson\u001b[0m\u001b[0;34m)\u001b[0m\u001b[0;34m\u001b[0m\u001b[0;34m\u001b[0m\u001b[0m\n",
      "\u001b[0m\u001b[0;32m    375 \u001b[0;31m        \u001b[0mexisting\u001b[0m \u001b[0;34m=\u001b[0m \u001b[0mItemBase\u001b[0m\u001b[0;34m.\u001b[0m\u001b[0mglobal_db\u001b[0m\u001b[0;34m.\u001b[0m\u001b[0mget\u001b[0m\u001b[0;34m(\u001b[0m\u001b[0mnew_item\u001b[0m\u001b[0;34m.\u001b[0m\u001b[0mid\u001b[0m\u001b[0;34m)\u001b[0m\u001b[0;34m\u001b[0m\u001b[0;34m\u001b[0m\u001b[0m\n",
      "\u001b[0m\n",
      "ipdb> u\n",
      "> \u001b[0;32m<ipython-input-4-8bec0dac8dc6>\u001b[0m(312)\u001b[0;36m_get_item_with_properties\u001b[0;34m()\u001b[0m\n",
      "\u001b[0;32m    310 \u001b[0;31m                    \u001b[0;32mreturn\u001b[0m \u001b[0;32mNone\u001b[0m\u001b[0;34m\u001b[0m\u001b[0;34m\u001b[0m\u001b[0m\n",
      "\u001b[0m\u001b[0;32m    311 \u001b[0;31m                \u001b[0;32melse\u001b[0m\u001b[0;34m:\u001b[0m\u001b[0;34m\u001b[0m\u001b[0;34m\u001b[0m\u001b[0m\n",
      "\u001b[0m\u001b[0;32m--> 312 \u001b[0;31m                    \u001b[0mres\u001b[0m \u001b[0;34m=\u001b[0m  \u001b[0mself\u001b[0m\u001b[0;34m.\u001b[0m\u001b[0mitem_from_json\u001b[0m\u001b[0;34m(\u001b[0m\u001b[0mjson\u001b[0m\u001b[0;34m[\u001b[0m\u001b[0;36m0\u001b[0m\u001b[0;34m]\u001b[0m\u001b[0;34m)\u001b[0m\u001b[0;34m\u001b[0m\u001b[0;34m\u001b[0m\u001b[0m\n",
      "\u001b[0m\u001b[0;32m    313 \u001b[0;31m                    \u001b[0;32mreturn\u001b[0m \u001b[0mres\u001b[0m\u001b[0;34m\u001b[0m\u001b[0;34m\u001b[0m\u001b[0m\n",
      "\u001b[0m\u001b[0;32m    314 \u001b[0;31m        \u001b[0;32mexcept\u001b[0m \u001b[0mrequests\u001b[0m\u001b[0;34m.\u001b[0m\u001b[0mexceptions\u001b[0m\u001b[0;34m.\u001b[0m\u001b[0mRequestException\u001b[0m \u001b[0;32mas\u001b[0m \u001b[0me\u001b[0m\u001b[0;34m:\u001b[0m\u001b[0;34m\u001b[0m\u001b[0;34m\u001b[0m\u001b[0m\n",
      "\u001b[0m\n",
      "ipdb> json\n",
      "[{'dateCreated': 1620386610759, 'dateModified': 1620386610759, 'dateServerModified': 1620386610759, 'deleted': False, 'firstName': 'Alice', 'id': '34b5ad4c025980ba05642d1cb53f7481', 'lastName': 'X', 'type': 'Person'}]\n"
     ]
    }
   ],
   "source": [
    "%debug"
   ]
  },
  {
   "cell_type": "markdown",
   "metadata": {},
   "source": [
    "# Fetching and updating Items"
   ]
  },
  {
   "cell_type": "markdown",
   "metadata": {},
   "source": [
    "## Normal Items"
   ]
  },
  {
   "cell_type": "markdown",
   "metadata": {},
   "source": [
    "We can use the client to fetch data from the database. This is in particular usefull for indexers, which often use data in the database as input for their models. The simplest form  of querying the database is by querying items in the pod by their id (unique identifier)."
   ]
  },
  {
   "cell_type": "code",
   "execution_count": null,
   "metadata": {},
   "outputs": [
    {
     "data": {
      "text/plain": [
       "True"
      ]
     },
     "execution_count": null,
     "metadata": {},
     "output_type": "execute_result"
    }
   ],
   "source": [
    "person_item = Person.from_data(firstName=\"Alice\")\n",
    "client.create(person_item)"
   ]
  },
  {
   "cell_type": "code",
   "execution_count": null,
   "metadata": {},
   "outputs": [],
   "source": [
    "person_from_db = client.get(person_item.id, expanded=False)\n",
    "assert person_from_db is not None\n",
    "assert person_from_db == person_item\n",
    "assert person_from_db.id is not None"
   ]
  },
  {
   "cell_type": "markdown",
   "metadata": {},
   "source": [
    "Appart from creating, we might want to update existing items:"
   ]
  },
  {
   "cell_type": "code",
   "execution_count": null,
   "metadata": {},
   "outputs": [],
   "source": [
    "person_item.lastName = \"Awesome\"\n",
    "client.update_item(person_item)\n",
    "person_from_db = client.get(person_item.id, expanded=False)\n",
    "assert person_from_db.lastName == \"Awesome\""
   ]
  },
  {
   "cell_type": "markdown",
   "metadata": {},
   "source": [
    "Sometimes, we might not know the ids of the items we want to fetch. We can also search by a certain property. We can use this for instance when we want to query all items from a particular type to perform some indexing on."
   ]
  },
  {
   "cell_type": "code",
   "execution_count": null,
   "metadata": {},
   "outputs": [
    {
     "data": {
      "text/plain": [
       "[Person (#0620a379e62f92d8301dde8f58749e2b),\n",
       " Person (#22af3e04f98f24f03472b9bd3fadcadf),\n",
       " Person (#28dd71ab968c4b33eec4a84f9370ab7a)]"
      ]
     },
     "execution_count": null,
     "metadata": {},
     "output_type": "execute_result"
    }
   ],
   "source": [
    "person_item2 = Person.from_data(firstName=\"Bob\")\n",
    "client.create(person_item2);\n",
    "all_people = client.search({\"type\": \"Person\"})\n",
    "\n",
    "assert all([isinstance(p, Person) for p in all_people]) and len(all_people) > 0\n",
    "\n",
    "all_people[:3]"
   ]
  },
  {
   "cell_type": "markdown",
   "metadata": {},
   "source": [
    "## Uploading & downloading files"
   ]
  },
  {
   "cell_type": "markdown",
   "metadata": {},
   "source": [
    "### File API"
   ]
  },
  {
   "cell_type": "code",
   "execution_count": null,
   "metadata": {},
   "outputs": [],
   "source": [
    "from pyintegrators.indexers.facerecognition.photo import *"
   ]
  },
  {
   "cell_type": "code",
   "execution_count": null,
   "metadata": {},
   "outputs": [],
   "source": [
    "x = np.random.randint(0, 255+1, size=(640, 640), dtype=np.uint8)\n",
    "photo = IPhoto.from_np(x)\n",
    "file = photo.file[0]\n",
    "succes = client.create(file)\n",
    "succes2 = client.upload_photo(x)\n",
    "assert succes\n",
    "assert succes2"
   ]
  },
  {
   "cell_type": "code",
   "execution_count": null,
   "metadata": {},
   "outputs": [],
   "source": [
    "data = client.get_file(file.sha256)\n",
    "arr = np.frombuffer(data, dtype=np.uint8)\n",
    "assert (arr.reshape(640,640) == x).all()"
   ]
  },
  {
   "cell_type": "markdown",
   "metadata": {},
   "source": [
    "### Photo API"
   ]
  },
  {
   "cell_type": "markdown",
   "metadata": {},
   "source": [
    "The file API is currently only tested for images."
   ]
  },
  {
   "cell_type": "code",
   "execution_count": null,
   "metadata": {},
   "outputs": [],
   "source": [
    "from pyintegrators.indexers.facerecognition.photo import *"
   ]
  },
  {
   "cell_type": "code",
   "execution_count": null,
   "metadata": {},
   "outputs": [],
   "source": [
    "x = np.random.randint(0, 255+1, size=(640, 640), dtype=np.uint8)\n",
    "photo = IPhoto.from_np(x)"
   ]
  },
  {
   "cell_type": "code",
   "execution_count": null,
   "metadata": {},
   "outputs": [],
   "source": [
    "succes = client.add_to_schema(IPhoto.from_np(x))"
   ]
  },
  {
   "cell_type": "code",
   "execution_count": null,
   "metadata": {},
   "outputs": [],
   "source": [
    "assert client.create(photo)"
   ]
  },
  {
   "cell_type": "code",
   "execution_count": null,
   "metadata": {},
   "outputs": [
    {
     "name": "stdout",
     "output_type": "stream",
     "text": [
      "<Response [404]> b'Endpoint not found'\n"
     ]
    },
    {
     "ename": "AttributeError",
     "evalue": "'NoneType' object has no attribute 'file'",
     "output_type": "error",
     "traceback": [
      "\u001b[0;31m---------------------------------------------------------------------------\u001b[0m",
      "\u001b[0;31mAttributeError\u001b[0m                            Traceback (most recent call last)",
      "\u001b[0;32m<ipython-input-41-f05b32db8bb1>\u001b[0m in \u001b[0;36m<module>\u001b[0;34m\u001b[0m\n\u001b[0;32m----> 1\u001b[0;31m \u001b[0mres\u001b[0m \u001b[0;34m=\u001b[0m \u001b[0mclient\u001b[0m\u001b[0;34m.\u001b[0m\u001b[0mget_photo\u001b[0m\u001b[0;34m(\u001b[0m\u001b[0mphoto\u001b[0m\u001b[0;34m.\u001b[0m\u001b[0mid\u001b[0m\u001b[0;34m,\u001b[0m \u001b[0msize\u001b[0m\u001b[0;34m=\u001b[0m\u001b[0;36m640\u001b[0m\u001b[0;34m)\u001b[0m\u001b[0;34m\u001b[0m\u001b[0;34m\u001b[0m\u001b[0m\n\u001b[0m",
      "\u001b[0;32m<ipython-input-12-0933dafd80dd>\u001b[0m in \u001b[0;36mget_photo\u001b[0;34m(self, id, size)\u001b[0m\n\u001b[1;32m    115\u001b[0m     \u001b[0;32mdef\u001b[0m \u001b[0mget_photo\u001b[0m\u001b[0;34m(\u001b[0m\u001b[0mself\u001b[0m\u001b[0;34m,\u001b[0m \u001b[0mid\u001b[0m\u001b[0;34m,\u001b[0m \u001b[0msize\u001b[0m\u001b[0;34m=\u001b[0m\u001b[0;36m640\u001b[0m\u001b[0;34m)\u001b[0m\u001b[0;34m:\u001b[0m\u001b[0;34m\u001b[0m\u001b[0;34m\u001b[0m\u001b[0m\n\u001b[1;32m    116\u001b[0m         \u001b[0mphoto\u001b[0m \u001b[0;34m=\u001b[0m \u001b[0mself\u001b[0m\u001b[0;34m.\u001b[0m\u001b[0mget\u001b[0m\u001b[0;34m(\u001b[0m\u001b[0mid\u001b[0m\u001b[0;34m)\u001b[0m\u001b[0;34m\u001b[0m\u001b[0;34m\u001b[0m\u001b[0m\n\u001b[0;32m--> 117\u001b[0;31m         \u001b[0mself\u001b[0m\u001b[0;34m.\u001b[0m\u001b[0m_load_photo_data\u001b[0m\u001b[0;34m(\u001b[0m\u001b[0mphoto\u001b[0m\u001b[0;34m,\u001b[0m \u001b[0msize\u001b[0m\u001b[0;34m=\u001b[0m\u001b[0msize\u001b[0m\u001b[0;34m)\u001b[0m\u001b[0;34m\u001b[0m\u001b[0;34m\u001b[0m\u001b[0m\n\u001b[0m\u001b[1;32m    118\u001b[0m         \u001b[0;32mreturn\u001b[0m \u001b[0mphoto\u001b[0m\u001b[0;34m\u001b[0m\u001b[0;34m\u001b[0m\u001b[0m\n\u001b[1;32m    119\u001b[0m \u001b[0;34m\u001b[0m\u001b[0m\n",
      "\u001b[0;32m<ipython-input-12-0933dafd80dd>\u001b[0m in \u001b[0;36m_load_photo_data\u001b[0;34m(self, photo, size)\u001b[0m\n\u001b[1;32m    119\u001b[0m \u001b[0;34m\u001b[0m\u001b[0m\n\u001b[1;32m    120\u001b[0m     \u001b[0;32mdef\u001b[0m \u001b[0m_load_photo_data\u001b[0m\u001b[0;34m(\u001b[0m\u001b[0mself\u001b[0m\u001b[0;34m,\u001b[0m \u001b[0mphoto\u001b[0m\u001b[0;34m,\u001b[0m \u001b[0msize\u001b[0m\u001b[0;34m=\u001b[0m\u001b[0;32mNone\u001b[0m\u001b[0;34m)\u001b[0m\u001b[0;34m:\u001b[0m\u001b[0;34m\u001b[0m\u001b[0;34m\u001b[0m\u001b[0m\n\u001b[0;32m--> 121\u001b[0;31m         \u001b[0;32mif\u001b[0m \u001b[0mlen\u001b[0m\u001b[0;34m(\u001b[0m\u001b[0mphoto\u001b[0m\u001b[0;34m.\u001b[0m\u001b[0mfile\u001b[0m\u001b[0;34m)\u001b[0m \u001b[0;34m>\u001b[0m \u001b[0;36m0\u001b[0m \u001b[0;32mand\u001b[0m \u001b[0mphoto\u001b[0m\u001b[0;34m.\u001b[0m\u001b[0mdata\u001b[0m \u001b[0;32mis\u001b[0m \u001b[0;32mNone\u001b[0m\u001b[0;34m:\u001b[0m\u001b[0;34m\u001b[0m\u001b[0;34m\u001b[0m\u001b[0m\n\u001b[0m\u001b[1;32m    122\u001b[0m             \u001b[0mfile\u001b[0m \u001b[0;34m=\u001b[0m \u001b[0mself\u001b[0m\u001b[0;34m.\u001b[0m\u001b[0mget_file\u001b[0m\u001b[0;34m(\u001b[0m\u001b[0mphoto\u001b[0m\u001b[0;34m.\u001b[0m\u001b[0mfile\u001b[0m\u001b[0;34m[\u001b[0m\u001b[0;36m0\u001b[0m\u001b[0;34m]\u001b[0m\u001b[0;34m.\u001b[0m\u001b[0msha256\u001b[0m\u001b[0;34m)\u001b[0m\u001b[0;34m\u001b[0m\u001b[0;34m\u001b[0m\u001b[0m\n\u001b[1;32m    123\u001b[0m             \u001b[0;32mif\u001b[0m \u001b[0mfile\u001b[0m \u001b[0;32mis\u001b[0m \u001b[0;32mNone\u001b[0m\u001b[0;34m:\u001b[0m\u001b[0;34m\u001b[0m\u001b[0;34m\u001b[0m\u001b[0m\n",
      "\u001b[0;31mAttributeError\u001b[0m: 'NoneType' object has no attribute 'file'"
     ]
    }
   ],
   "source": [
    "res = client.get_photo(photo.id, size=640)"
   ]
  },
  {
   "cell_type": "code",
   "execution_count": null,
   "metadata": {},
   "outputs": [
    {
     "name": "stdout",
     "output_type": "stream",
     "text": [
      "> \u001b[0;32m<ipython-input-12-0933dafd80dd>\u001b[0m(121)\u001b[0;36m_load_photo_data\u001b[0;34m()\u001b[0m\n",
      "\u001b[0;32m    119 \u001b[0;31m\u001b[0;34m\u001b[0m\u001b[0m\n",
      "\u001b[0m\u001b[0;32m    120 \u001b[0;31m    \u001b[0;32mdef\u001b[0m \u001b[0m_load_photo_data\u001b[0m\u001b[0;34m(\u001b[0m\u001b[0mself\u001b[0m\u001b[0;34m,\u001b[0m \u001b[0mphoto\u001b[0m\u001b[0;34m,\u001b[0m \u001b[0msize\u001b[0m\u001b[0;34m=\u001b[0m\u001b[0;32mNone\u001b[0m\u001b[0;34m)\u001b[0m\u001b[0;34m:\u001b[0m\u001b[0;34m\u001b[0m\u001b[0;34m\u001b[0m\u001b[0m\n",
      "\u001b[0m\u001b[0;32m--> 121 \u001b[0;31m        \u001b[0;32mif\u001b[0m \u001b[0mlen\u001b[0m\u001b[0;34m(\u001b[0m\u001b[0mphoto\u001b[0m\u001b[0;34m.\u001b[0m\u001b[0mfile\u001b[0m\u001b[0;34m)\u001b[0m \u001b[0;34m>\u001b[0m \u001b[0;36m0\u001b[0m \u001b[0;32mand\u001b[0m \u001b[0mphoto\u001b[0m\u001b[0;34m.\u001b[0m\u001b[0mdata\u001b[0m \u001b[0;32mis\u001b[0m \u001b[0;32mNone\u001b[0m\u001b[0;34m:\u001b[0m\u001b[0;34m\u001b[0m\u001b[0;34m\u001b[0m\u001b[0m\n",
      "\u001b[0m\u001b[0;32m    122 \u001b[0;31m            \u001b[0mfile\u001b[0m \u001b[0;34m=\u001b[0m \u001b[0mself\u001b[0m\u001b[0;34m.\u001b[0m\u001b[0mget_file\u001b[0m\u001b[0;34m(\u001b[0m\u001b[0mphoto\u001b[0m\u001b[0;34m.\u001b[0m\u001b[0mfile\u001b[0m\u001b[0;34m[\u001b[0m\u001b[0;36m0\u001b[0m\u001b[0;34m]\u001b[0m\u001b[0;34m.\u001b[0m\u001b[0msha256\u001b[0m\u001b[0;34m)\u001b[0m\u001b[0;34m\u001b[0m\u001b[0;34m\u001b[0m\u001b[0m\n",
      "\u001b[0m\u001b[0;32m    123 \u001b[0;31m            \u001b[0;32mif\u001b[0m \u001b[0mfile\u001b[0m \u001b[0;32mis\u001b[0m \u001b[0;32mNone\u001b[0m\u001b[0;34m:\u001b[0m\u001b[0;34m\u001b[0m\u001b[0;34m\u001b[0m\u001b[0m\n",
      "\u001b[0m\n",
      "ipdb> u\n",
      "> \u001b[0;32m<ipython-input-12-0933dafd80dd>\u001b[0m(117)\u001b[0;36mget_photo\u001b[0;34m()\u001b[0m\n",
      "\u001b[0;32m    115 \u001b[0;31m    \u001b[0;32mdef\u001b[0m \u001b[0mget_photo\u001b[0m\u001b[0;34m(\u001b[0m\u001b[0mself\u001b[0m\u001b[0;34m,\u001b[0m \u001b[0mid\u001b[0m\u001b[0;34m,\u001b[0m \u001b[0msize\u001b[0m\u001b[0;34m=\u001b[0m\u001b[0;36m640\u001b[0m\u001b[0;34m)\u001b[0m\u001b[0;34m:\u001b[0m\u001b[0;34m\u001b[0m\u001b[0;34m\u001b[0m\u001b[0m\n",
      "\u001b[0m\u001b[0;32m    116 \u001b[0;31m        \u001b[0mphoto\u001b[0m \u001b[0;34m=\u001b[0m \u001b[0mself\u001b[0m\u001b[0;34m.\u001b[0m\u001b[0mget\u001b[0m\u001b[0;34m(\u001b[0m\u001b[0mid\u001b[0m\u001b[0;34m)\u001b[0m\u001b[0;34m\u001b[0m\u001b[0;34m\u001b[0m\u001b[0m\n",
      "\u001b[0m\u001b[0;32m--> 117 \u001b[0;31m        \u001b[0mself\u001b[0m\u001b[0;34m.\u001b[0m\u001b[0m_load_photo_data\u001b[0m\u001b[0;34m(\u001b[0m\u001b[0mphoto\u001b[0m\u001b[0;34m,\u001b[0m \u001b[0msize\u001b[0m\u001b[0;34m=\u001b[0m\u001b[0msize\u001b[0m\u001b[0;34m)\u001b[0m\u001b[0;34m\u001b[0m\u001b[0;34m\u001b[0m\u001b[0m\n",
      "\u001b[0m\u001b[0;32m    118 \u001b[0;31m        \u001b[0;32mreturn\u001b[0m \u001b[0mphoto\u001b[0m\u001b[0;34m\u001b[0m\u001b[0;34m\u001b[0m\u001b[0m\n",
      "\u001b[0m\u001b[0;32m    119 \u001b[0;31m\u001b[0;34m\u001b[0m\u001b[0m\n",
      "\u001b[0m\n",
      "ipdb> photo\n",
      "ipdb> q\n"
     ]
    }
   ],
   "source": [
    "%debug"
   ]
  },
  {
   "cell_type": "code",
   "execution_count": null,
   "metadata": {},
   "outputs": [],
   "source": [
    "# assert (res.data == x).all()"
   ]
  },
  {
   "cell_type": "markdown",
   "metadata": {},
   "source": [
    "# Check if an item exists"
   ]
  },
  {
   "cell_type": "code",
   "execution_count": null,
   "metadata": {},
   "outputs": [
    {
     "ename": "JSONDecodeError",
     "evalue": "Expecting value: line 1 column 1 (char 0)",
     "output_type": "error",
     "traceback": [
      "\u001b[0;31m---------------------------------------------------------------------------\u001b[0m",
      "\u001b[0;31mJSONDecodeError\u001b[0m                           Traceback (most recent call last)",
      "\u001b[0;32m<ipython-input-53-1a7744e96964>\u001b[0m in \u001b[0;36m<module>\u001b[0;34m\u001b[0m\n\u001b[1;32m      2\u001b[0m \u001b[0mperson_item2\u001b[0m \u001b[0;34m=\u001b[0m \u001b[0mPerson\u001b[0m\u001b[0;34m.\u001b[0m\u001b[0mfrom_data\u001b[0m\u001b[0;34m(\u001b[0m\u001b[0mfirstName\u001b[0m\u001b[0;34m=\u001b[0m\u001b[0;34m\"Eve2\"\u001b[0m\u001b[0;34m,\u001b[0m \u001b[0mexternalId\u001b[0m\u001b[0;34m=\u001b[0m\u001b[0;34m\"gmail_1\"\u001b[0m\u001b[0;34m)\u001b[0m\u001b[0;34m\u001b[0m\u001b[0;34m\u001b[0m\u001b[0m\n\u001b[1;32m      3\u001b[0m \u001b[0;34m\u001b[0m\u001b[0m\n\u001b[0;32m----> 4\u001b[0;31m \u001b[0mclient\u001b[0m\u001b[0;34m.\u001b[0m\u001b[0mcreate_if_external_id_not_exists\u001b[0m\u001b[0;34m(\u001b[0m\u001b[0mperson_item\u001b[0m\u001b[0;34m)\u001b[0m\u001b[0;34m\u001b[0m\u001b[0;34m\u001b[0m\u001b[0m\n\u001b[0m\u001b[1;32m      5\u001b[0m \u001b[0mclient\u001b[0m\u001b[0;34m.\u001b[0m\u001b[0mcreate_if_external_id_not_exists\u001b[0m\u001b[0;34m(\u001b[0m\u001b[0mperson_item2\u001b[0m\u001b[0;34m)\u001b[0m\u001b[0;34m\u001b[0m\u001b[0;34m\u001b[0m\u001b[0m\n\u001b[1;32m      6\u001b[0m \u001b[0;34m\u001b[0m\u001b[0m\n",
      "\u001b[0;32m<ipython-input-4-2eb4deafcd10>\u001b[0m in \u001b[0;36mcreate_if_external_id_not_exists\u001b[0;34m(self, node)\u001b[0m\n\u001b[1;32m    136\u001b[0m \u001b[0;34m\u001b[0m\u001b[0m\n\u001b[1;32m    137\u001b[0m     \u001b[0;32mdef\u001b[0m \u001b[0mcreate_if_external_id_not_exists\u001b[0m\u001b[0;34m(\u001b[0m\u001b[0mself\u001b[0m\u001b[0;34m,\u001b[0m \u001b[0mnode\u001b[0m\u001b[0;34m)\u001b[0m\u001b[0;34m:\u001b[0m\u001b[0;34m\u001b[0m\u001b[0;34m\u001b[0m\u001b[0m\n\u001b[0;32m--> 138\u001b[0;31m         \u001b[0;32mif\u001b[0m \u001b[0;32mnot\u001b[0m \u001b[0mself\u001b[0m\u001b[0;34m.\u001b[0m\u001b[0mexternal_id_exists\u001b[0m\u001b[0;34m(\u001b[0m\u001b[0mnode\u001b[0m\u001b[0;34m)\u001b[0m\u001b[0;34m:\u001b[0m\u001b[0;34m\u001b[0m\u001b[0;34m\u001b[0m\u001b[0m\n\u001b[0m\u001b[1;32m    139\u001b[0m             \u001b[0mself\u001b[0m\u001b[0;34m.\u001b[0m\u001b[0mcreate\u001b[0m\u001b[0;34m(\u001b[0m\u001b[0mnode\u001b[0m\u001b[0;34m)\u001b[0m\u001b[0;34m\u001b[0m\u001b[0;34m\u001b[0m\u001b[0m\n\u001b[1;32m    140\u001b[0m \u001b[0;34m\u001b[0m\u001b[0m\n",
      "\u001b[0;32m<ipython-input-4-2eb4deafcd10>\u001b[0m in \u001b[0;36mexternal_id_exists\u001b[0;34m(self, node)\u001b[0m\n\u001b[1;32m    141\u001b[0m     \u001b[0;32mdef\u001b[0m \u001b[0mexternal_id_exists\u001b[0m\u001b[0;34m(\u001b[0m\u001b[0mself\u001b[0m\u001b[0;34m,\u001b[0m \u001b[0mnode\u001b[0m\u001b[0;34m)\u001b[0m\u001b[0;34m:\u001b[0m\u001b[0;34m\u001b[0m\u001b[0;34m\u001b[0m\u001b[0m\n\u001b[1;32m    142\u001b[0m         \u001b[0;32mif\u001b[0m \u001b[0mnode\u001b[0m\u001b[0;34m.\u001b[0m\u001b[0mexternalId\u001b[0m \u001b[0;32mis\u001b[0m \u001b[0;32mNone\u001b[0m\u001b[0;34m:\u001b[0m \u001b[0;32mreturn\u001b[0m \u001b[0;32mFalse\u001b[0m\u001b[0;34m\u001b[0m\u001b[0;34m\u001b[0m\u001b[0m\n\u001b[0;32m--> 143\u001b[0;31m         \u001b[0mexisting\u001b[0m \u001b[0;34m=\u001b[0m \u001b[0mself\u001b[0m\u001b[0;34m.\u001b[0m\u001b[0msearch\u001b[0m\u001b[0;34m(\u001b[0m\u001b[0;34m{\u001b[0m\u001b[0;34m\"externalId\"\u001b[0m\u001b[0;34m:\u001b[0m \u001b[0mnode\u001b[0m\u001b[0;34m.\u001b[0m\u001b[0mexternalId\u001b[0m\u001b[0;34m}\u001b[0m\u001b[0;34m)\u001b[0m\u001b[0;34m\u001b[0m\u001b[0;34m\u001b[0m\u001b[0m\n\u001b[0m\u001b[1;32m    144\u001b[0m         \u001b[0;32mreturn\u001b[0m \u001b[0mlen\u001b[0m\u001b[0;34m(\u001b[0m\u001b[0mexisting\u001b[0m\u001b[0;34m)\u001b[0m \u001b[0;34m>\u001b[0m \u001b[0;36m0\u001b[0m\u001b[0;34m\u001b[0m\u001b[0;34m\u001b[0m\u001b[0m\n\u001b[1;32m    145\u001b[0m \u001b[0;34m\u001b[0m\u001b[0m\n",
      "\u001b[0;32m<ipython-input-4-2eb4deafcd10>\u001b[0m in \u001b[0;36msearch\u001b[0;34m(self, fields_data)\u001b[0m\n\u001b[1;32m    323\u001b[0m         \u001b[0;32mtry\u001b[0m\u001b[0;34m:\u001b[0m\u001b[0;34m\u001b[0m\u001b[0;34m\u001b[0m\u001b[0m\n\u001b[1;32m    324\u001b[0m             \u001b[0mresult\u001b[0m \u001b[0;34m=\u001b[0m \u001b[0mrequests\u001b[0m\u001b[0;34m.\u001b[0m\u001b[0mpost\u001b[0m\u001b[0;34m(\u001b[0m\u001b[0;34mf\"{self.base_url}/search\"\u001b[0m\u001b[0;34m,\u001b[0m \u001b[0mjson\u001b[0m\u001b[0;34m=\u001b[0m\u001b[0mbody\u001b[0m\u001b[0;34m)\u001b[0m\u001b[0;34m\u001b[0m\u001b[0;34m\u001b[0m\u001b[0m\n\u001b[0;32m--> 325\u001b[0;31m             \u001b[0mjson\u001b[0m \u001b[0;34m=\u001b[0m  \u001b[0mresult\u001b[0m\u001b[0;34m.\u001b[0m\u001b[0mjson\u001b[0m\u001b[0;34m(\u001b[0m\u001b[0;34m)\u001b[0m\u001b[0;34m\u001b[0m\u001b[0;34m\u001b[0m\u001b[0m\n\u001b[0m\u001b[1;32m    326\u001b[0m             \u001b[0mres\u001b[0m \u001b[0;34m=\u001b[0m \u001b[0;34m[\u001b[0m\u001b[0mself\u001b[0m\u001b[0;34m.\u001b[0m\u001b[0mitem_from_json\u001b[0m\u001b[0;34m(\u001b[0m\u001b[0mitem\u001b[0m\u001b[0;34m)\u001b[0m \u001b[0;32mfor\u001b[0m \u001b[0mitem\u001b[0m \u001b[0;32min\u001b[0m \u001b[0mjson\u001b[0m\u001b[0;34m]\u001b[0m\u001b[0;34m\u001b[0m\u001b[0;34m\u001b[0m\u001b[0m\n\u001b[1;32m    327\u001b[0m             \u001b[0;32mreturn\u001b[0m \u001b[0mself\u001b[0m\u001b[0;34m.\u001b[0m\u001b[0mfilter_deleted\u001b[0m\u001b[0;34m(\u001b[0m\u001b[0mres\u001b[0m\u001b[0;34m)\u001b[0m\u001b[0;34m\u001b[0m\u001b[0;34m\u001b[0m\u001b[0m\n",
      "\u001b[0;32m/opt/anaconda3/envs/memri/lib/python3.7/site-packages/requests/models.py\u001b[0m in \u001b[0;36mjson\u001b[0;34m(self, **kwargs)\u001b[0m\n\u001b[1;32m    896\u001b[0m                     \u001b[0;31m# used.\u001b[0m\u001b[0;34m\u001b[0m\u001b[0;34m\u001b[0m\u001b[0;34m\u001b[0m\u001b[0m\n\u001b[1;32m    897\u001b[0m                     \u001b[0;32mpass\u001b[0m\u001b[0;34m\u001b[0m\u001b[0;34m\u001b[0m\u001b[0m\n\u001b[0;32m--> 898\u001b[0;31m         \u001b[0;32mreturn\u001b[0m \u001b[0mcomplexjson\u001b[0m\u001b[0;34m.\u001b[0m\u001b[0mloads\u001b[0m\u001b[0;34m(\u001b[0m\u001b[0mself\u001b[0m\u001b[0;34m.\u001b[0m\u001b[0mtext\u001b[0m\u001b[0;34m,\u001b[0m \u001b[0;34m**\u001b[0m\u001b[0mkwargs\u001b[0m\u001b[0;34m)\u001b[0m\u001b[0;34m\u001b[0m\u001b[0;34m\u001b[0m\u001b[0m\n\u001b[0m\u001b[1;32m    899\u001b[0m \u001b[0;34m\u001b[0m\u001b[0m\n\u001b[1;32m    900\u001b[0m     \u001b[0;34m@\u001b[0m\u001b[0mproperty\u001b[0m\u001b[0;34m\u001b[0m\u001b[0;34m\u001b[0m\u001b[0m\n",
      "\u001b[0;32m/opt/anaconda3/envs/memri/lib/python3.7/json/__init__.py\u001b[0m in \u001b[0;36mloads\u001b[0;34m(s, encoding, cls, object_hook, parse_float, parse_int, parse_constant, object_pairs_hook, **kw)\u001b[0m\n\u001b[1;32m    346\u001b[0m             \u001b[0mparse_int\u001b[0m \u001b[0;32mis\u001b[0m \u001b[0;32mNone\u001b[0m \u001b[0;32mand\u001b[0m \u001b[0mparse_float\u001b[0m \u001b[0;32mis\u001b[0m \u001b[0;32mNone\u001b[0m \u001b[0;32mand\u001b[0m\u001b[0;34m\u001b[0m\u001b[0;34m\u001b[0m\u001b[0m\n\u001b[1;32m    347\u001b[0m             parse_constant is None and object_pairs_hook is None and not kw):\n\u001b[0;32m--> 348\u001b[0;31m         \u001b[0;32mreturn\u001b[0m \u001b[0m_default_decoder\u001b[0m\u001b[0;34m.\u001b[0m\u001b[0mdecode\u001b[0m\u001b[0;34m(\u001b[0m\u001b[0ms\u001b[0m\u001b[0;34m)\u001b[0m\u001b[0;34m\u001b[0m\u001b[0;34m\u001b[0m\u001b[0m\n\u001b[0m\u001b[1;32m    349\u001b[0m     \u001b[0;32mif\u001b[0m \u001b[0mcls\u001b[0m \u001b[0;32mis\u001b[0m \u001b[0;32mNone\u001b[0m\u001b[0;34m:\u001b[0m\u001b[0;34m\u001b[0m\u001b[0;34m\u001b[0m\u001b[0m\n\u001b[1;32m    350\u001b[0m         \u001b[0mcls\u001b[0m \u001b[0;34m=\u001b[0m \u001b[0mJSONDecoder\u001b[0m\u001b[0;34m\u001b[0m\u001b[0;34m\u001b[0m\u001b[0m\n",
      "\u001b[0;32m/opt/anaconda3/envs/memri/lib/python3.7/json/decoder.py\u001b[0m in \u001b[0;36mdecode\u001b[0;34m(self, s, _w)\u001b[0m\n\u001b[1;32m    335\u001b[0m \u001b[0;34m\u001b[0m\u001b[0m\n\u001b[1;32m    336\u001b[0m         \"\"\"\n\u001b[0;32m--> 337\u001b[0;31m         \u001b[0mobj\u001b[0m\u001b[0;34m,\u001b[0m \u001b[0mend\u001b[0m \u001b[0;34m=\u001b[0m \u001b[0mself\u001b[0m\u001b[0;34m.\u001b[0m\u001b[0mraw_decode\u001b[0m\u001b[0;34m(\u001b[0m\u001b[0ms\u001b[0m\u001b[0;34m,\u001b[0m \u001b[0midx\u001b[0m\u001b[0;34m=\u001b[0m\u001b[0m_w\u001b[0m\u001b[0;34m(\u001b[0m\u001b[0ms\u001b[0m\u001b[0;34m,\u001b[0m \u001b[0;36m0\u001b[0m\u001b[0;34m)\u001b[0m\u001b[0;34m.\u001b[0m\u001b[0mend\u001b[0m\u001b[0;34m(\u001b[0m\u001b[0;34m)\u001b[0m\u001b[0;34m)\u001b[0m\u001b[0;34m\u001b[0m\u001b[0;34m\u001b[0m\u001b[0m\n\u001b[0m\u001b[1;32m    338\u001b[0m         \u001b[0mend\u001b[0m \u001b[0;34m=\u001b[0m \u001b[0m_w\u001b[0m\u001b[0;34m(\u001b[0m\u001b[0ms\u001b[0m\u001b[0;34m,\u001b[0m \u001b[0mend\u001b[0m\u001b[0;34m)\u001b[0m\u001b[0;34m.\u001b[0m\u001b[0mend\u001b[0m\u001b[0;34m(\u001b[0m\u001b[0;34m)\u001b[0m\u001b[0;34m\u001b[0m\u001b[0;34m\u001b[0m\u001b[0m\n\u001b[1;32m    339\u001b[0m         \u001b[0;32mif\u001b[0m \u001b[0mend\u001b[0m \u001b[0;34m!=\u001b[0m \u001b[0mlen\u001b[0m\u001b[0;34m(\u001b[0m\u001b[0ms\u001b[0m\u001b[0;34m)\u001b[0m\u001b[0;34m:\u001b[0m\u001b[0;34m\u001b[0m\u001b[0;34m\u001b[0m\u001b[0m\n",
      "\u001b[0;32m/opt/anaconda3/envs/memri/lib/python3.7/json/decoder.py\u001b[0m in \u001b[0;36mraw_decode\u001b[0;34m(self, s, idx)\u001b[0m\n\u001b[1;32m    353\u001b[0m             \u001b[0mobj\u001b[0m\u001b[0;34m,\u001b[0m \u001b[0mend\u001b[0m \u001b[0;34m=\u001b[0m \u001b[0mself\u001b[0m\u001b[0;34m.\u001b[0m\u001b[0mscan_once\u001b[0m\u001b[0;34m(\u001b[0m\u001b[0ms\u001b[0m\u001b[0;34m,\u001b[0m \u001b[0midx\u001b[0m\u001b[0;34m)\u001b[0m\u001b[0;34m\u001b[0m\u001b[0;34m\u001b[0m\u001b[0m\n\u001b[1;32m    354\u001b[0m         \u001b[0;32mexcept\u001b[0m \u001b[0mStopIteration\u001b[0m \u001b[0;32mas\u001b[0m \u001b[0merr\u001b[0m\u001b[0;34m:\u001b[0m\u001b[0;34m\u001b[0m\u001b[0;34m\u001b[0m\u001b[0m\n\u001b[0;32m--> 355\u001b[0;31m             \u001b[0;32mraise\u001b[0m \u001b[0mJSONDecodeError\u001b[0m\u001b[0;34m(\u001b[0m\u001b[0;34m\"Expecting value\"\u001b[0m\u001b[0;34m,\u001b[0m \u001b[0ms\u001b[0m\u001b[0;34m,\u001b[0m \u001b[0merr\u001b[0m\u001b[0;34m.\u001b[0m\u001b[0mvalue\u001b[0m\u001b[0;34m)\u001b[0m \u001b[0;32mfrom\u001b[0m \u001b[0;32mNone\u001b[0m\u001b[0;34m\u001b[0m\u001b[0;34m\u001b[0m\u001b[0m\n\u001b[0m\u001b[1;32m    356\u001b[0m         \u001b[0;32mreturn\u001b[0m \u001b[0mobj\u001b[0m\u001b[0;34m,\u001b[0m \u001b[0mend\u001b[0m\u001b[0;34m\u001b[0m\u001b[0;34m\u001b[0m\u001b[0m\n",
      "\u001b[0;31mJSONDecodeError\u001b[0m: Expecting value: line 1 column 1 (char 0)"
     ]
    }
   ],
   "source": [
    "person_item = Person.from_data(firstName=\"Eve\",   externalId=\"gmail_1\")\n",
    "person_item2 = Person.from_data(firstName=\"Eve2\", externalId=\"gmail_1\")\n",
    "\n",
    "client.create_if_external_id_not_exists(person_item)\n",
    "client.create_if_external_id_not_exists(person_item2)\n",
    "\n",
    "existing = client.search({\"externalId\": \"gmail_1\"})\n",
    "assert len(existing) == 1\n",
    "client.delete_all()"
   ]
  },
  {
   "cell_type": "markdown",
   "metadata": {},
   "source": [
    "# Resetting the db"
   ]
  },
  {
   "cell_type": "code",
   "execution_count": null,
   "metadata": {},
   "outputs": [],
   "source": [
    "client.delete_all()"
   ]
  },
  {
   "cell_type": "markdown",
   "metadata": {},
   "source": [
    "# Export -"
   ]
  },
  {
   "cell_type": "code",
   "execution_count": null,
   "metadata": {},
   "outputs": [
    {
     "name": "stdout",
     "output_type": "stream",
     "text": [
      "Converted basic.ipynb.\n",
      "Converted importers.EmailImporter.ipynb.\n",
      "Converted importers.Importer.ipynb.\n",
      "Converted importers.util.ipynb.\n",
      "Converted index.ipynb.\n",
      "Converted indexers.FaceClusteringIndexer.Models.ipynb.\n",
      "Converted indexers.FaceClusteringIndexer.Utils.ipynb.\n",
      "Converted indexers.FaceClusteringIndexer.indexer.ipynb.\n",
      "Converted indexers.FaceRecognitionModel.ipynb.\n",
      "Converted indexers.FacerecognitionIndexer.Photo.ipynb.\n",
      "Converted indexers.GeoIndexer.ipynb.\n",
      "Converted indexers.NoteListIndexer.NoteList.ipynb.\n",
      "Converted indexers.NoteListIndexer.Parser.ipynb.\n",
      "Converted indexers.NoteListIndexer.ipynb.\n",
      "Converted indexers.NoteListIndexer.util.ipynb.\n",
      "Converted indexers.indexer.ipynb.\n",
      "Converted itembase.ipynb.\n",
      "Converted pod.client.ipynb.\n"
     ]
    }
   ],
   "source": [
    "# hide\n",
    "from nbdev.export import *\n",
    "notebook2script()"
   ]
  },
  {
   "cell_type": "code",
   "execution_count": null,
   "metadata": {},
   "outputs": [],
   "source": []
  }
 ],
 "metadata": {
  "kernelspec": {
   "display_name": "Python 3",
   "language": "python",
   "name": "python3"
  }
 },
 "nbformat": 4,
 "nbformat_minor": 4
}
